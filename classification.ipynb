{
 "cells": [
  {
   "cell_type": "code",
   "execution_count": 1,
   "id": "8e82a41e",
   "metadata": {},
   "outputs": [],
   "source": [
    "from sklearn.metrics import roc_auc_score, average_precision_score\n",
    "\n",
    "\n",
    "def auc_roc(y_true, y_pred):\n",
    "    \"\"\" Compute the area under the ROC curve\n",
    "    Parameters\n",
    "    ----------\n",
    "    y_true: array\n",
    "        true scores\n",
    "    y_pred: array\n",
    "        target scores\n",
    "    Returns\n",
    "    -------\n",
    "    float\n",
    "        the area under the ROC curve score\n",
    "    \"\"\"\n",
    "    return roc_auc_score(y_true, y_pred)\n",
    "\n",
    "\n",
    "def auc_pr(y_true, y_pred):\n",
    "    \"\"\" Compute the area under the precision-recall curve. The outcome summarizes a precision-recall curve as the\n",
    "    weighted mean of precisions achieved at each threshold.\n",
    "    Parameters\n",
    "    ----------\n",
    "    y_true: array\n",
    "        true scores\n",
    "    y_pred: array\n",
    "        target scores\n",
    "    Returns\n",
    "    -------\n",
    "    float\n",
    "        the area under the ROC curve score\n",
    "    \"\"\"\n",
    "    return average_precision_score(y_true, y_pred)"
   ]
  },
  {
   "cell_type": "code",
   "execution_count": null,
   "id": "0404651c",
   "metadata": {},
   "outputs": [],
   "source": []
  }
 ],
 "metadata": {
  "kernelspec": {
   "display_name": "Python 3",
   "language": "python",
   "name": "python3"
  },
  "language_info": {
   "codemirror_mode": {
    "name": "ipython",
    "version": 3
   },
   "file_extension": ".py",
   "mimetype": "text/x-python",
   "name": "python",
   "nbconvert_exporter": "python",
   "pygments_lexer": "ipython3",
   "version": "3.8.11"
  }
 },
 "nbformat": 4,
 "nbformat_minor": 5
}
