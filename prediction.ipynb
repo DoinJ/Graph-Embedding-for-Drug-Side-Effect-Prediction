{
 "cells": [
  {
   "cell_type": "code",
   "execution_count": 2,
   "id": "23cfff21",
   "metadata": {
    "scrolled": true
   },
   "outputs": [
    {
     "name": "stdout",
     "output_type": "stream",
     "text": [
      "importing Jupyter notebook from EmbeddingModel.ipynb\n",
      "importing Jupyter notebook from losses.ipynb\n",
      "importing Jupyter notebook from constraints.ipynb\n",
      "importing Jupyter notebook from base_model.ipynb\n",
      "importing Jupyter notebook from train.ipynb\n",
      "importing Jupyter notebook from KgData.ipynb\n",
      "importing Jupyter notebook from classification.ipynb\n",
      "importing Jupyter notebook from rank.ipynb\n"
     ]
    }
   ],
   "source": [
    "import os\n",
    "import itertools\n",
    "import gzip\n",
    "import numpy as np\n",
    "from sklearn.pipeline import Pipeline\n",
    "from tqdm import tqdm\n",
    "import Ipynb_importer\n",
    "from EmbeddingModel import Cnmsb\n",
    "from KgData import KgDataset\n",
    "from classification import auc_roc, auc_pr\n",
    "from rank import precision_at_k, average_precision\n",
    "\n"
   ]
  },
  {
   "cell_type": "code",
   "execution_count": 3,
   "id": "16614157",
   "metadata": {},
   "outputs": [
    {
     "name": "stdout",
     "output_type": "stream",
     "text": [
      "Importing dataset files ... \n"
     ]
    }
   ],
   "source": [
    "# Construct a knowledge\n",
    "    seed = 1234\n",
    "    nb_epochs_then_check = None\n",
    "    data_name = \"pse\"\n",
    "    kg_dp_path = \".../cxj973/data/pse\"\n",
    "    \n",
    "#change \"...\" to your own path of the side effect data file\n",
    "    \n",
    "    se_map_raw = [l.strip().split(\"\\t\") for l in open(os.path.join(kg_dp_path, \"se_maps.txt\")).readlines()]\n",
    "    se_mapping = {k: v for k, v in se_map_raw}\n",
    "\n",
    "    print(\"Importing dataset files ... \")\n",
    "    benchmark_train_fd = gzip.open(os.path.join(kg_dp_path, \"ploypharmacy_facts_train.txt.gz\"), \"rt\")\n",
    "    benchmark_valid_fd = gzip.open(os.path.join(kg_dp_path, \"ploypharmacy_facts_valid.txt.gz\"), \"rt\")\n",
    "    benchmark_test_fd = gzip.open(os.path.join(kg_dp_path, \"ploypharmacy_facts_test.txt.gz\"), \"rt\")\n",
    "\n",
    "    benchmark_train = np.array([l.strip().split() for l in benchmark_train_fd.readlines()])\n",
    "    benchmark_valid = np.array([l.strip().split() for l in benchmark_valid_fd.readlines()])\n",
    "    benchmark_test = np.array([l.strip().split() for l in benchmark_test_fd.readlines()])\n",
    "\n",
    "    benchmark_triples = np.array([[d1, se, d2] for d1, se, d2 in\n",
    "                                  np.concatenate([benchmark_train, benchmark_valid, benchmark_test])])\n",
    "\n",
    "    pse_drugs = list(set(list(np.concatenate([benchmark_triples[:, 0], benchmark_triples[:, 2]]))))\n",
    "    pse_list = set(list(benchmark_triples[:, 1]))\n",
    "\n",
    "    rel_dict = dict()\n",
    "    for s, p, o in benchmark_triples:\n",
    "        if p not in rel_dict:\n",
    "            rel_dict[p] = 1\n",
    "        else:\n",
    "            rel_dict[p] += 1\n",
    "\n",
    "    pair_dict = dict()\n",
    "    for s, p, o in benchmark_triples:\n",
    "        if s > o:\n",
    "            pair = (s, o)\n",
    "        else:\n",
    "            pair = (o, s)\n",
    "        if pair not in rel_dict:\n",
    "            pair_dict[pair] = 1\n",
    "        else:\n",
    "            pair_dict[pair] += 1\n",
    "\n",
    "    drug_combinations = np.array([[d1, d2] for d1, d2 in list(itertools.product(pse_drugs, pse_drugs)) if d1 != d2])\n"
   ]
  },
  {
   "cell_type": "code",
   "execution_count": 4,
   "id": "a35504a5",
   "metadata": {},
   "outputs": [
    {
     "name": "stdout",
     "output_type": "stream",
     "text": [
      "Processing dataset files to generate a knowledge graph ... \n"
     ]
    }
   ],
   "source": [
    "\n",
    "    print(\"Processing dataset files to generate a knowledge graph ... \")\n",
    "    # delete raw polypharmacy data\n",
    "    del benchmark_triples\n",
    "    dataset = KgDataset(name=data_name)\n",
    "    dataset.load_triples(benchmark_train, tag=\"bench_train\")\n",
    "    dataset.load_triples(benchmark_valid, tag=\"bench_valid\")\n",
    "    dataset.load_triples(benchmark_test, tag=\"bench_test\")\n",
    "\n",
    "    del benchmark_train\n",
    "    del benchmark_valid\n",
    "    del benchmark_test\n",
    "\n",
    "    nb_entities = dataset.get_ents_count()\n",
    "    nb_relations = dataset.get_rels_count()\n",
    "    pse_indices = dataset.get_rel_indices(list(pse_list))\n",
    "\n",
    "    d1 = np.array(dataset.get_ent_indices(list(drug_combinations[:, 0]))).reshape([-1, 1])\n",
    "    d2 = np.array(dataset.get_ent_indices(list(drug_combinations[:, 1]))).reshape([-1, 1])\n",
    "    drug_combinations = np.concatenate([d1, d2], axis=1)\n",
    "    del d1\n",
    "    del d2\n",
    "\n",
    "    # grouping side effect information by the side effect type\n",
    "    train_data = dataset.data[\"bench_train\"]\n",
    "    valid_data = dataset.data[\"bench_valid\"]\n",
    "    test_data = dataset.data[\"bench_test\"]\n",
    "\n",
    "    bench_idx_data = np.concatenate([train_data, valid_data, test_data])\n",
    "    se_facts_full_dict = {se: set() for se in pse_indices}\n",
    "\n",
    "    for s, p, o in bench_idx_data:\n",
    "        se_facts_full_dict[p].add((s, p, o))"
   ]
  },
  {
   "cell_type": "code",
   "execution_count": 36,
   "id": "e402f54a",
   "metadata": {},
   "outputs": [
    {
     "name": "stdout",
     "output_type": "stream",
     "text": [
      "[[  0   1]\n",
      " [  2   3]\n",
      " [  4   5]\n",
      " ...\n",
      " [ 49  29]\n",
      " [ 16 436]\n",
      " [128 371]]\n"
     ]
    }
   ],
   "source": [
    "ddi = np.array([[d1,d2] for d1, se, d2 in train_data])\n",
    "print(ddi) "
   ]
  },
  {
   "cell_type": "code",
   "execution_count": 5,
   "id": "c9bfea58",
   "metadata": {},
   "outputs": [
    {
     "name": "stdout",
     "output_type": "stream",
     "text": [
      "Initializing the knowledge graph embedding model... \n",
      "Training ... \n",
      "2021-08-29 12:54:54,401 - Cnmsb - DEBUG - Logging model parameters ...\n",
      "2021-08-29 12:54:54,402 - Cnmsb - DEBUG - [Parameter] _predict_pipeline_on: False\n",
      "2021-08-29 12:54:54,403 - Cnmsb - DEBUG - [Parameter] batch_size          : 5000\n",
      "2021-08-29 12:54:54,404 - Cnmsb - DEBUG - [Parameter] em_size             : 100\n",
      "2021-08-29 12:54:54,405 - Cnmsb - DEBUG - [Parameter] initialiser         : xavier_uniform\n",
      "2021-08-29 12:54:54,406 - Cnmsb - DEBUG - [Parameter] log_interval        : 10\n",
      "2021-08-29 12:54:54,407 - Cnmsb - DEBUG - [Parameter] loss                : default\n",
      "2021-08-29 12:54:54,409 - Cnmsb - DEBUG - [Parameter] lr                  : 0.01\n",
      "2021-08-29 12:54:54,411 - Cnmsb - DEBUG - [Parameter] nb_ents             : 645\n",
      "2021-08-29 12:54:54,411 - Cnmsb - DEBUG - [Parameter] nb_epochs           : 50\n",
      "2021-08-29 12:54:54,413 - Cnmsb - DEBUG - [Parameter] nb_negs             : 6\n",
      "2021-08-29 12:54:54,415 - Cnmsb - DEBUG - [Parameter] nb_rels             : 963\n",
      "2021-08-29 12:54:54,418 - Cnmsb - DEBUG - [Parameter] optimiser           : AMSgrad\n",
      "2021-08-29 12:54:54,419 - Cnmsb - DEBUG - [Parameter] predict_batch_size  : 40000\n",
      "2021-08-29 12:54:54,420 - Cnmsb - DEBUG - [Parameter] reg_wt              : 0.01\n",
      "2021-08-29 12:54:54,420 - Cnmsb - DEBUG - [Parameter] seed                : 1234\n",
      "2021-08-29 12:54:54,421 - Cnmsb - DEBUG - [Parameter] verbose             : 2\n",
      "2021-08-29 12:54:54,423 - Cnmsb - DEBUG - Model training started ...\n",
      "2021-08-29 12:54:54,424 - Cnmsb - DEBUG - Training model [ 3661895 #Instances - 645 #Entities - 963 #Relations ]\n",
      "2021-08-29 12:54:57,568 - Cnmsb - DEBUG - Initialising tensorflow session\n",
      "2021-08-29 12:54:57,655 - Cnmsb - DEBUG - Executing tensorflow global variable initialiser\n",
      "2021-08-29 12:57:26,579 - Cnmsb - DEBUG - [Training] Epoch # 1    - Speed: 24.799 (k. record/sec) - Loss: 0.5344 - Avg(Loss): 0.5344 - Std(Loss): 0.0568\n",
      "2021-08-29 13:19:43,828 - Cnmsb - DEBUG - [Training] Epoch # 10   - Speed: 26.456 (k. record/sec) - Loss: 0.4570 - Avg(Loss): 0.4704 - Std(Loss): 0.0288\n",
      "2021-08-29 13:42:19,175 - Cnmsb - DEBUG - [Training] Epoch # 20   - Speed: 27.655 (k. record/sec) - Loss: 0.4533 - Avg(Loss): 0.4625 - Std(Loss): 0.0220\n",
      "2021-08-29 14:09:04,844 - Cnmsb - DEBUG - [Training] Epoch # 30   - Speed: 26.086 (k. record/sec) - Loss: 0.4518 - Avg(Loss): 0.4591 - Std(Loss): 0.0187\n",
      "2021-08-29 14:32:07,757 - Cnmsb - DEBUG - [Training] Epoch # 40   - Speed: 26.743 (k. record/sec) - Loss: 0.4507 - Avg(Loss): 0.4571 - Std(Loss): 0.0167\n",
      "2021-08-29 14:54:58,737 - Cnmsb - DEBUG - [Training] Epoch # 50   - Speed: 26.673 (k. record/sec) - Loss: 0.4499 - Avg(Loss): 0.4558 - Std(Loss): 0.0152\n",
      "2021-08-29 14:54:58,743 - Cnmsb - DEBUG - [Reporting] Finished (50 Epochs) - Avg(Speed): 25.691 (k. record/sec) - Avg(Loss): 0.4558 - Std(Loss): 0.0152\n"
     ]
    },
    {
     "data": {
      "text/plain": [
       "Pipeline(steps=[('kge_model',\n",
       "                 Cnmsb(batch_size=5000, log_interval=10, nb_ents=645,\n",
       "                       nb_epochs=50, nb_negs=6, nb_rels=963,\n",
       "                       optimiser='AMSgrad', verbose=2))])"
      ]
     },
     "execution_count": 5,
     "metadata": {},
     "output_type": "execute_result"
    }
   ],
   "source": [
    "# Train the model on the training set\n",
    "\n",
    "    print(\"Initializing the knowledge graph embedding model... \")\n",
    "    # model pipeline definition\n",
    "    model = Cnmsb(seed=seed, verbose=2)\n",
    "    pipe_model = Pipeline([('kge_model', model)])\n",
    "\n",
    "    # set model parameters\n",
    "    model_params = {\n",
    "        'kge_model__em_size': 100,\n",
    "        'kge_model__lr': 0.01,\n",
    "        'kge_model__optimiser': \"AMSgrad\",\n",
    "        'kge_model__log_interval': 10,\n",
    "        'kge_model__nb_epochs': 50,\n",
    "        'kge_model__nb_negs': 6,\n",
    "        'kge_model__batch_size': 5000,\n",
    "        'kge_model__initialiser': 'xavier_uniform',\n",
    "        'kge_model__nb_ents': nb_entities,\n",
    "        'kge_model__nb_rels': nb_relations\n",
    "    }\n",
    "\n",
    "    # add parameters to the model then call fit method\n",
    "    pipe_model.set_params(**model_params)\n",
    "\n",
    "    print(\"Training ... \")\n",
    "    pipe_model.fit(X=train_data, y=None)\n",
    "    \n",
    "\n"
   ]
  },
  {
   "cell_type": "code",
   "execution_count": 6,
   "id": "33e0e792",
   "metadata": {},
   "outputs": [
    {
     "name": "stdout",
     "output_type": "stream",
     "text": [
      "================================================================================\n"
     ]
    },
    {
     "name": "stderr",
     "output_type": "stream",
     "text": [
      "\r",
      "Evaluating test data for each side-effect:   0%|                                               | 0/963 [00:00<?, ?it/s]"
     ]
    },
    {
     "name": "stdout",
     "output_type": "stream",
     "text": [
      "AP: 0.9493 - AUC-ROC: 0.9778 - AUC-PR: 0.9493 - P@50: 0.9600 > C0019294: Hernia Inguinal\n"
     ]
    },
    {
     "name": "stderr",
     "output_type": "stream",
     "text": [
      "\r",
      "Evaluating test data for each side-effect:   0%|                                     | 1/963 [00:04<1:08:17,  4.26s/it]"
     ]
    },
    {
     "name": "stdout",
     "output_type": "stream",
     "text": [
      "AP: 0.8801 - AUC-ROC: 0.9295 - AUC-PR: 0.8801 - P@50: 0.8000 > C0040822: tremor\n"
     ]
    },
    {
     "name": "stderr",
     "output_type": "stream",
     "text": [
      "\r",
      "Evaluating test data for each side-effect:   0%|                                     | 2/963 [00:07<1:01:25,  3.83s/it]"
     ]
    },
    {
     "name": "stdout",
     "output_type": "stream",
     "text": [
      "AP: 0.9023 - AUC-ROC: 0.9364 - AUC-PR: 0.9023 - P@50: 0.9400 > C0018799: cardiac disease\n"
     ]
    },
    {
     "name": "stderr",
     "output_type": "stream",
     "text": [
      "\r",
      "Evaluating test data for each side-effect:   0%|                                       | 3/963 [00:11<58:07,  3.63s/it]"
     ]
    },
    {
     "name": "stdout",
     "output_type": "stream",
     "text": [
      "AP: 0.9117 - AUC-ROC: 0.9470 - AUC-PR: 0.9117 - P@50: 0.8000 > C0030193: Pain\n"
     ]
    },
    {
     "name": "stderr",
     "output_type": "stream",
     "text": [
      "\r",
      "Evaluating test data for each side-effect:   0%|▏                                      | 4/963 [00:14<58:29,  3.66s/it]"
     ]
    },
    {
     "name": "stdout",
     "output_type": "stream",
     "text": [
      "AP: 0.8690 - AUC-ROC: 0.9184 - AUC-PR: 0.8690 - P@50: 0.8800 > C0242379: lung neoplasm malignant\n"
     ]
    },
    {
     "name": "stderr",
     "output_type": "stream",
     "text": [
      "\r",
      "Evaluating test data for each side-effect:   1%|▏                                      | 5/963 [00:17<53:56,  3.38s/it]"
     ]
    },
    {
     "name": "stdout",
     "output_type": "stream",
     "text": [
      "AP: 0.9829 - AUC-ROC: 0.9814 - AUC-PR: 0.9829 - P@50: 1.0000 > C0040425: tonsillitis\n"
     ]
    },
    {
     "name": "stderr",
     "output_type": "stream",
     "text": [
      "\r",
      "Evaluating test data for each side-effect:   1%|▏                                      | 6/963 [00:20<51:44,  3.24s/it]"
     ]
    },
    {
     "name": "stdout",
     "output_type": "stream",
     "text": [
      "AP: 0.8749 - AUC-ROC: 0.9224 - AUC-PR: 0.8749 - P@50: 0.9200 > C0018989: hemiparesis\n"
     ]
    },
    {
     "name": "stderr",
     "output_type": "stream",
     "text": [
      "\r",
      "Evaluating test data for each side-effect:   1%|▎                                      | 7/963 [00:24<52:52,  3.32s/it]"
     ]
    },
    {
     "name": "stdout",
     "output_type": "stream",
     "text": [
      "AP: 0.9250 - AUC-ROC: 0.9580 - AUC-PR: 0.9250 - P@50: 0.9400 > C0040997: trigeminal neuralgia\n"
     ]
    },
    {
     "name": "stderr",
     "output_type": "stream",
     "text": [
      "\r",
      "Evaluating test data for each side-effect:   1%|▎                                      | 8/963 [00:26<49:24,  3.10s/it]"
     ]
    },
    {
     "name": "stdout",
     "output_type": "stream",
     "text": [
      "AP: 0.9150 - AUC-ROC: 0.9399 - AUC-PR: 0.9150 - P@50: 0.9600 > C0000833: abscess\n"
     ]
    },
    {
     "name": "stderr",
     "output_type": "stream",
     "text": [
      "\r",
      "Evaluating test data for each side-effect:   1%|▎                                      | 9/963 [00:29<49:06,  3.09s/it]"
     ]
    },
    {
     "name": "stdout",
     "output_type": "stream",
     "text": [
      "AP: 0.9837 - AUC-ROC: 0.9854 - AUC-PR: 0.9837 - P@50: 0.9800 > C0023646: lichen planus\n"
     ]
    },
    {
     "name": "stderr",
     "output_type": "stream",
     "text": [
      "\r",
      "Evaluating test data for each side-effect:   1%|▍                                     | 10/963 [00:32<48:30,  3.05s/it]"
     ]
    },
    {
     "name": "stdout",
     "output_type": "stream",
     "text": [
      "AP: 0.8896 - AUC-ROC: 0.9273 - AUC-PR: 0.8896 - P@50: 0.9200 > C0151786: muscle weakness\n"
     ]
    },
    {
     "name": "stderr",
     "output_type": "stream",
     "text": [
      "\r",
      "Evaluating test data for each side-effect:   1%|▍                                     | 11/963 [00:35<48:14,  3.04s/it]"
     ]
    },
    {
     "name": "stdout",
     "output_type": "stream",
     "text": [
      "AP: 0.9117 - AUC-ROC: 0.9363 - AUC-PR: 0.9117 - P@50: 0.9200 > C0151436: allergic vasculitis\n"
     ]
    },
    {
     "name": "stderr",
     "output_type": "stream",
     "text": [
      "\r",
      "Evaluating test data for each side-effect:   1%|▍                                     | 12/963 [00:38<47:19,  2.99s/it]"
     ]
    },
    {
     "name": "stdout",
     "output_type": "stream",
     "text": [
      "AP: 0.9385 - AUC-ROC: 0.9585 - AUC-PR: 0.9385 - P@50: 0.9600 > C0031350: pharyngeal inflammation\n"
     ]
    },
    {
     "name": "stderr",
     "output_type": "stream",
     "text": [
      "\r",
      "Evaluating test data for each side-effect:   1%|▌                                     | 13/963 [00:41<45:14,  2.86s/it]"
     ]
    },
    {
     "name": "stdout",
     "output_type": "stream",
     "text": [
      "AP: 0.9879 - AUC-ROC: 0.9879 - AUC-PR: 0.9879 - P@50: 0.9800 > C0155540: ear discharge\n"
     ]
    },
    {
     "name": "stderr",
     "output_type": "stream",
     "text": [
      "\r",
      "Evaluating test data for each side-effect:   1%|▌                                     | 14/963 [00:44<46:34,  2.94s/it]"
     ]
    },
    {
     "name": "stdout",
     "output_type": "stream",
     "text": [
      "AP: 0.9448 - AUC-ROC: 0.9529 - AUC-PR: 0.9448 - P@50: 0.9800 > C0010055: coronary artery bypass graft\n"
     ]
    },
    {
     "name": "stderr",
     "output_type": "stream",
     "text": [
      "\r",
      "Evaluating test data for each side-effect:   2%|▌                                     | 15/963 [00:47<44:36,  2.82s/it]"
     ]
    },
    {
     "name": "stdout",
     "output_type": "stream",
     "text": [
      "AP: 0.8844 - AUC-ROC: 0.9319 - AUC-PR: 0.8844 - P@50: 0.9000 > C0020651: Hypotension Orthostatic\n"
     ]
    },
    {
     "name": "stderr",
     "output_type": "stream",
     "text": [
      "\r",
      "Evaluating test data for each side-effect:   2%|▋                                     | 16/963 [00:50<46:25,  2.94s/it]"
     ]
    },
    {
     "name": "stdout",
     "output_type": "stream",
     "text": [
      "AP: 0.9505 - AUC-ROC: 0.9664 - AUC-PR: 0.9505 - P@50: 0.9400 > C0220983: metabolic alkalosis\n"
     ]
    },
    {
     "name": "stderr",
     "output_type": "stream",
     "text": [
      "\r",
      "Evaluating test data for each side-effect:   2%|▋                                     | 17/963 [00:52<44:34,  2.83s/it]"
     ]
    },
    {
     "name": "stdout",
     "output_type": "stream",
     "text": [
      "AP: 0.8988 - AUC-ROC: 0.9278 - AUC-PR: 0.8988 - P@50: 0.9400 > C0022346: icterus\n"
     ]
    },
    {
     "name": "stderr",
     "output_type": "stream",
     "text": [
      "\r",
      "Evaluating test data for each side-effect:   2%|▋                                     | 18/963 [00:55<44:54,  2.85s/it]"
     ]
    },
    {
     "name": "stdout",
     "output_type": "stream",
     "text": [
      "AP: 0.9543 - AUC-ROC: 0.9691 - AUC-PR: 0.9543 - P@50: 0.9600 > C0152018: esophageal cancer\n"
     ]
    },
    {
     "name": "stderr",
     "output_type": "stream",
     "text": [
      "\r",
      "Evaluating test data for each side-effect:   2%|▋                                     | 19/963 [00:58<43:27,  2.76s/it]"
     ]
    },
    {
     "name": "stdout",
     "output_type": "stream",
     "text": [
      "AP: 0.9778 - AUC-ROC: 0.9826 - AUC-PR: 0.9778 - P@50: 0.9800 > C0006852: candidiasis of vagina\n"
     ]
    },
    {
     "name": "stderr",
     "output_type": "stream",
     "text": [
      "\r",
      "Evaluating test data for each side-effect:   2%|▊                                     | 20/963 [01:01<44:00,  2.80s/it]"
     ]
    },
    {
     "name": "stdout",
     "output_type": "stream",
     "text": [
      "AP: 0.9140 - AUC-ROC: 0.9433 - AUC-PR: 0.9140 - P@50: 0.9400 > C0020453: hyperaesthesia\n"
     ]
    },
    {
     "name": "stderr",
     "output_type": "stream",
     "text": [
      "\r",
      "Evaluating test data for each side-effect:   2%|▊                                     | 21/963 [01:04<44:19,  2.82s/it]"
     ]
    },
    {
     "name": "stdout",
     "output_type": "stream",
     "text": [
      "AP: 0.9381 - AUC-ROC: 0.9531 - AUC-PR: 0.9381 - P@50: 0.9800 > C0235329: Small intestinal obstruction\n"
     ]
    },
    {
     "name": "stderr",
     "output_type": "stream",
     "text": [
      "\r",
      "Evaluating test data for each side-effect:   2%|▊                                     | 22/963 [01:06<43:03,  2.75s/it]"
     ]
    },
    {
     "name": "stdout",
     "output_type": "stream",
     "text": [
      "AP: 0.8910 - AUC-ROC: 0.9332 - AUC-PR: 0.8910 - P@50: 0.9200 > C0040586: Tracheobronchitis\n"
     ]
    },
    {
     "name": "stderr",
     "output_type": "stream",
     "text": [
      "\r",
      "Evaluating test data for each side-effect:   2%|▉                                     | 23/963 [01:09<43:36,  2.78s/it]"
     ]
    },
    {
     "name": "stdout",
     "output_type": "stream",
     "text": [
      "AP: 0.9130 - AUC-ROC: 0.9393 - AUC-PR: 0.9130 - P@50: 0.9400 > C0030353: optic disc edema\n"
     ]
    },
    {
     "name": "stderr",
     "output_type": "stream",
     "text": [
      "\r",
      "Evaluating test data for each side-effect:   2%|▉                                     | 24/963 [01:12<43:51,  2.80s/it]"
     ]
    },
    {
     "name": "stdout",
     "output_type": "stream",
     "text": [
      "AP: 0.9153 - AUC-ROC: 0.9415 - AUC-PR: 0.9153 - P@50: 0.9200 > C0005779: Clotting\n"
     ]
    },
    {
     "name": "stderr",
     "output_type": "stream",
     "text": [
      "\r",
      "Evaluating test data for each side-effect:   3%|▉                                     | 25/963 [01:15<44:08,  2.82s/it]"
     ]
    },
    {
     "name": "stdout",
     "output_type": "stream",
     "text": [
      "AP: 0.8559 - AUC-ROC: 0.9121 - AUC-PR: 0.8559 - P@50: 0.8800 > C0041657: loss of consciousness\n"
     ]
    },
    {
     "name": "stderr",
     "output_type": "stream",
     "text": [
      "\r",
      "Evaluating test data for each side-effect:   3%|█                                     | 26/963 [01:18<45:18,  2.90s/it]"
     ]
    },
    {
     "name": "stdout",
     "output_type": "stream",
     "text": [
      "AP: 0.8672 - AUC-ROC: 0.9224 - AUC-PR: 0.8672 - P@50: 0.8000 > C0042963: emesis\n"
     ]
    },
    {
     "name": "stderr",
     "output_type": "stream",
     "text": [
      "\r",
      "Evaluating test data for each side-effect:   3%|█                                     | 27/963 [01:21<46:36,  2.99s/it]"
     ]
    },
    {
     "name": "stdout",
     "output_type": "stream",
     "text": [
      "AP: 0.9656 - AUC-ROC: 0.9755 - AUC-PR: 0.9656 - P@50: 0.9800 > C0006444: bursitis\n"
     ]
    },
    {
     "name": "stderr",
     "output_type": "stream",
     "text": [
      "\r",
      "Evaluating test data for each side-effect:   3%|█                                     | 28/963 [01:24<46:02,  2.95s/it]"
     ]
    },
    {
     "name": "stdout",
     "output_type": "stream",
     "text": [
      "AP: 0.9044 - AUC-ROC: 0.9374 - AUC-PR: 0.9044 - P@50: 0.9200 > C0005758: bleb\n"
     ]
    },
    {
     "name": "stderr",
     "output_type": "stream",
     "text": [
      "\r",
      "Evaluating test data for each side-effect:   3%|█▏                                    | 29/963 [01:26<44:17,  2.84s/it]"
     ]
    },
    {
     "name": "stdout",
     "output_type": "stream",
     "text": [
      "AP: 0.9113 - AUC-ROC: 0.9201 - AUC-PR: 0.9113 - P@50: 0.9200 > C0010034: corneal disorder\n"
     ]
    },
    {
     "name": "stderr",
     "output_type": "stream",
     "text": [
      "\r",
      "Evaluating test data for each side-effect:   3%|█▏                                    | 30/963 [01:29<44:27,  2.86s/it]"
     ]
    },
    {
     "name": "stdout",
     "output_type": "stream",
     "text": [
      "AP: 0.9902 - AUC-ROC: 0.9906 - AUC-PR: 0.9902 - P@50: 0.9800 > C0031538: phimosis\n"
     ]
    },
    {
     "name": "stderr",
     "output_type": "stream",
     "text": [
      "\r",
      "Evaluating test data for each side-effect:   3%|█▏                                    | 31/963 [01:32<43:10,  2.78s/it]"
     ]
    },
    {
     "name": "stdout",
     "output_type": "stream",
     "text": [
      "AP: 0.9470 - AUC-ROC: 0.9516 - AUC-PR: 0.9470 - P@50: 1.0000 > C0027059: myocarditis\n"
     ]
    },
    {
     "name": "stderr",
     "output_type": "stream",
     "text": [
      "\r",
      "Evaluating test data for each side-effect:   3%|█▎                                    | 32/963 [01:35<43:34,  2.81s/it]"
     ]
    },
    {
     "name": "stdout",
     "output_type": "stream",
     "text": [
      "AP: 0.9574 - AUC-ROC: 0.9655 - AUC-PR: 0.9574 - P@50: 1.0000 > C0024103: Breast Lump\n"
     ]
    },
    {
     "name": "stderr",
     "output_type": "stream",
     "text": [
      "\r",
      "Evaluating test data for each side-effect:   3%|█▎                                    | 33/963 [01:38<43:45,  2.82s/it]"
     ]
    },
    {
     "name": "stdout",
     "output_type": "stream",
     "text": [
      "AP: 0.9185 - AUC-ROC: 0.9518 - AUC-PR: 0.9185 - P@50: 0.9200 > C0149721: left ventricular hypertrophy\n"
     ]
    },
    {
     "name": "stderr",
     "output_type": "stream",
     "text": [
      "\r",
      "Evaluating test data for each side-effect:   4%|█▎                                    | 34/963 [01:40<42:24,  2.74s/it]"
     ]
    },
    {
     "name": "stdout",
     "output_type": "stream",
     "text": [
      "AP: 0.8702 - AUC-ROC: 0.9230 - AUC-PR: 0.8702 - P@50: 0.8800 > C0235527: right heart failure\n"
     ]
    },
    {
     "name": "stderr",
     "output_type": "stream",
     "text": [
      "\r",
      "Evaluating test data for each side-effect:   4%|█▍                                    | 35/963 [01:43<42:46,  2.77s/it]"
     ]
    },
    {
     "name": "stdout",
     "output_type": "stream",
     "text": [
      "AP: 0.9380 - AUC-ROC: 0.9509 - AUC-PR: 0.9380 - P@50: 0.9800 > C0028081: night sweat\n"
     ]
    },
    {
     "name": "stderr",
     "output_type": "stream",
     "text": [
      "\r",
      "Evaluating test data for each side-effect:   4%|█▍                                    | 36/963 [01:46<43:16,  2.80s/it]"
     ]
    },
    {
     "name": "stdout",
     "output_type": "stream",
     "text": [
      "AP: 0.9618 - AUC-ROC: 0.9792 - AUC-PR: 0.9618 - P@50: 0.9600 > C0032776: postmenopausal bleeding\n"
     ]
    },
    {
     "name": "stderr",
     "output_type": "stream",
     "text": [
      "\r",
      "Evaluating test data for each side-effect:   4%|█▍                                    | 37/963 [01:49<43:27,  2.82s/it]"
     ]
    },
    {
     "name": "stdout",
     "output_type": "stream",
     "text": [
      "AP: 0.8943 - AUC-ROC: 0.9342 - AUC-PR: 0.8943 - P@50: 0.9000 > C0085584: encephalopathy\n"
     ]
    },
    {
     "name": "stderr",
     "output_type": "stream",
     "text": [
      "\r",
      "Evaluating test data for each side-effect:   4%|█▍                                    | 38/963 [01:52<43:42,  2.84s/it]"
     ]
    },
    {
     "name": "stdout",
     "output_type": "stream",
     "text": [
      "AP: 0.9507 - AUC-ROC: 0.9585 - AUC-PR: 0.9507 - P@50: 0.9800 > C0006118: brain neoplasm\n"
     ]
    },
    {
     "name": "stderr",
     "output_type": "stream",
     "text": [
      "\r",
      "Evaluating test data for each side-effect:   4%|█▌                                    | 39/963 [01:54<42:16,  2.75s/it]"
     ]
    },
    {
     "name": "stdout",
     "output_type": "stream",
     "text": [
      "AP: 0.9589 - AUC-ROC: 0.9616 - AUC-PR: 0.9589 - P@50: 0.9600 > C0221166: paraparesis\n"
     ]
    },
    {
     "name": "stderr",
     "output_type": "stream",
     "text": [
      "\r",
      "Evaluating test data for each side-effect:   4%|█▌                                    | 40/963 [01:57<44:04,  2.87s/it]"
     ]
    },
    {
     "name": "stdout",
     "output_type": "stream",
     "text": [
      "AP: 0.8651 - AUC-ROC: 0.9216 - AUC-PR: 0.8651 - P@50: 0.8000 > C0020615: hypoglycaemia\n"
     ]
    },
    {
     "name": "stderr",
     "output_type": "stream",
     "text": [
      "\r",
      "Evaluating test data for each side-effect:   4%|█▌                                    | 41/963 [02:00<43:16,  2.82s/it]"
     ]
    },
    {
     "name": "stdout",
     "output_type": "stream",
     "text": [
      "AP: 0.9040 - AUC-ROC: 0.9350 - AUC-PR: 0.9040 - P@50: 0.9000 > C0042510: ventricular fibrillation\n"
     ]
    },
    {
     "name": "stderr",
     "output_type": "stream",
     "text": [
      "\r",
      "Evaluating test data for each side-effect:   4%|█▋                                    | 42/963 [02:03<43:27,  2.83s/it]"
     ]
    },
    {
     "name": "stdout",
     "output_type": "stream",
     "text": [
      "AP: 0.8919 - AUC-ROC: 0.9437 - AUC-PR: 0.8919 - P@50: 0.9200 > C0003564: Aphonia\n"
     ]
    },
    {
     "name": "stderr",
     "output_type": "stream",
     "text": [
      "\r",
      "Evaluating test data for each side-effect:   4%|█▋                                    | 43/963 [02:05<42:04,  2.74s/it]"
     ]
    },
    {
     "name": "stdout",
     "output_type": "stream",
     "text": [
      "AP: 0.9154 - AUC-ROC: 0.9430 - AUC-PR: 0.9154 - P@50: 0.9600 > C0016199: flank pain\n"
     ]
    },
    {
     "name": "stderr",
     "output_type": "stream",
     "text": [
      "\r",
      "Evaluating test data for each side-effect:   5%|█▋                                    | 44/963 [02:08<42:51,  2.80s/it]"
     ]
    },
    {
     "name": "stdout",
     "output_type": "stream",
     "text": [
      "AP: 0.9191 - AUC-ROC: 0.9472 - AUC-PR: 0.9191 - P@50: 0.9400 > C0022408: arthropathy\n"
     ]
    },
    {
     "name": "stderr",
     "output_type": "stream",
     "text": [
      "\r",
      "Evaluating test data for each side-effect:   5%|█▊                                    | 45/963 [02:11<43:23,  2.84s/it]"
     ]
    },
    {
     "name": "stdout",
     "output_type": "stream",
     "text": [
      "AP: 0.9415 - AUC-ROC: 0.9503 - AUC-PR: 0.9415 - P@50: 0.9800 > C0015806: femoral neck fracture\n"
     ]
    },
    {
     "name": "stderr",
     "output_type": "stream",
     "text": [
      "\r",
      "Evaluating test data for each side-effect:   5%|█▊                                    | 46/963 [02:14<43:28,  2.84s/it]"
     ]
    },
    {
     "name": "stdout",
     "output_type": "stream",
     "text": [
      "AP: 0.9347 - AUC-ROC: 0.9555 - AUC-PR: 0.9347 - P@50: 0.9400 > C0035317: retinal bleeding\n"
     ]
    },
    {
     "name": "stderr",
     "output_type": "stream",
     "text": [
      "\r",
      "Evaluating test data for each side-effect:   5%|█▊                                    | 47/963 [02:17<43:23,  2.84s/it]"
     ]
    },
    {
     "name": "stdout",
     "output_type": "stream",
     "text": [
      "AP: 0.9378 - AUC-ROC: 0.9569 - AUC-PR: 0.9378 - P@50: 0.9400 > C0016436: folliculitis\n"
     ]
    },
    {
     "name": "stderr",
     "output_type": "stream",
     "text": [
      "\r",
      "Evaluating test data for each side-effect:   5%|█▉                                    | 48/963 [02:20<42:03,  2.76s/it]"
     ]
    },
    {
     "name": "stdout",
     "output_type": "stream",
     "text": [
      "AP: 0.9805 - AUC-ROC: 0.9786 - AUC-PR: 0.9805 - P@50: 1.0000 > C0156404: irregular menstrual cycle\n"
     ]
    },
    {
     "name": "stderr",
     "output_type": "stream",
     "text": [
      "\r",
      "Evaluating test data for each side-effect:   5%|█▉                                    | 49/963 [02:22<42:26,  2.79s/it]"
     ]
    },
    {
     "name": "stdout",
     "output_type": "stream",
     "text": [
      "AP: 0.9128 - AUC-ROC: 0.9521 - AUC-PR: 0.9128 - P@50: 0.9200 > C0014863: esophageal spasm\n"
     ]
    },
    {
     "name": "stderr",
     "output_type": "stream",
     "text": [
      "\r",
      "Evaluating test data for each side-effect:   5%|█▉                                    | 50/963 [02:25<42:34,  2.80s/it]"
     ]
    },
    {
     "name": "stdout",
     "output_type": "stream",
     "text": [
      "AP: 0.9792 - AUC-ROC: 0.9814 - AUC-PR: 0.9792 - P@50: 0.9800 > C0242172: Pelvic Inflammatory Disease\n"
     ]
    },
    {
     "name": "stderr",
     "output_type": "stream",
     "text": [
      "\r",
      "Evaluating test data for each side-effect:   5%|██                                    | 51/963 [02:28<42:48,  2.82s/it]"
     ]
    },
    {
     "name": "stdout",
     "output_type": "stream",
     "text": [
      "AP: 0.9129 - AUC-ROC: 0.9485 - AUC-PR: 0.9129 - P@50: 0.9400 > C0031046: pericarditis\n"
     ]
    },
    {
     "name": "stderr",
     "output_type": "stream",
     "text": [
      "\r",
      "Evaluating test data for each side-effect:   5%|██                                    | 52/963 [02:31<42:51,  2.82s/it]"
     ]
    },
    {
     "name": "stdout",
     "output_type": "stream",
     "text": [
      "AP: 0.8656 - AUC-ROC: 0.9182 - AUC-PR: 0.8656 - P@50: 0.8800 > C0003123: Anorexia\n"
     ]
    },
    {
     "name": "stderr",
     "output_type": "stream",
     "text": [
      "\r",
      "Evaluating test data for each side-effect:   6%|██                                    | 53/963 [02:34<44:29,  2.93s/it]"
     ]
    },
    {
     "name": "stdout",
     "output_type": "stream",
     "text": [
      "AP: 0.9209 - AUC-ROC: 0.9529 - AUC-PR: 0.9209 - P@50: 0.9200 > C0242362: Intervertebral Disc Herniation\n"
     ]
    },
    {
     "name": "stderr",
     "output_type": "stream",
     "text": [
      "\r",
      "Evaluating test data for each side-effect:   6%|██▏                                   | 54/963 [02:37<42:58,  2.84s/it]"
     ]
    },
    {
     "name": "stdout",
     "output_type": "stream",
     "text": [
      "AP: 0.9197 - AUC-ROC: 0.9526 - AUC-PR: 0.9197 - P@50: 0.9200 > C0007282: carotid artery stenosis\n"
     ]
    },
    {
     "name": "stderr",
     "output_type": "stream",
     "text": [
      "\r",
      "Evaluating test data for each side-effect:   6%|██▏                                   | 55/963 [02:40<43:08,  2.85s/it]"
     ]
    },
    {
     "name": "stdout",
     "output_type": "stream",
     "text": [
      "AP: 0.8969 - AUC-ROC: 0.9374 - AUC-PR: 0.8969 - P@50: 0.8600 > C0026848: muscle disorder\n"
     ]
    },
    {
     "name": "stderr",
     "output_type": "stream",
     "text": [
      "\r",
      "Evaluating test data for each side-effect:   6%|██▏                                   | 56/963 [02:42<43:12,  2.86s/it]"
     ]
    },
    {
     "name": "stdout",
     "output_type": "stream",
     "text": [
      "AP: 0.9320 - AUC-ROC: 0.9556 - AUC-PR: 0.9320 - P@50: 0.9400 > C0006325: bruxism\n"
     ]
    },
    {
     "name": "stderr",
     "output_type": "stream",
     "text": [
      "\r",
      "Evaluating test data for each side-effect:   6%|██▏                                   | 57/963 [02:45<43:34,  2.89s/it]"
     ]
    },
    {
     "name": "stdout",
     "output_type": "stream",
     "text": [
      "AP: 0.9518 - AUC-ROC: 0.9622 - AUC-PR: 0.9518 - P@50: 0.9800 > C1456784: paranoia\n"
     ]
    },
    {
     "name": "stderr",
     "output_type": "stream",
     "text": [
      "\r",
      "Evaluating test data for each side-effect:   6%|██▎                                   | 58/963 [02:48<42:07,  2.79s/it]"
     ]
    },
    {
     "name": "stdout",
     "output_type": "stream",
     "text": [
      "AP: 0.9621 - AUC-ROC: 0.9737 - AUC-PR: 0.9621 - P@50: 0.9800 > C0018520: bad breath\n"
     ]
    },
    {
     "name": "stderr",
     "output_type": "stream",
     "text": [
      "\r",
      "Evaluating test data for each side-effect:   6%|██▎                                   | 59/963 [02:51<42:27,  2.82s/it]"
     ]
    },
    {
     "name": "stdout",
     "output_type": "stream",
     "text": [
      "AP: 0.9338 - AUC-ROC: 0.9538 - AUC-PR: 0.9338 - P@50: 0.9400 > C0005745: blepharoptosis\n"
     ]
    },
    {
     "name": "stderr",
     "output_type": "stream",
     "text": [
      "\r",
      "Evaluating test data for each side-effect:   6%|██▎                                   | 60/963 [02:53<41:07,  2.73s/it]"
     ]
    },
    {
     "name": "stdout",
     "output_type": "stream",
     "text": [
      "AP: 0.8700 - AUC-ROC: 0.9166 - AUC-PR: 0.8700 - P@50: 0.9000 > C0015230: eruption\n"
     ]
    },
    {
     "name": "stderr",
     "output_type": "stream",
     "text": [
      "\r",
      "Evaluating test data for each side-effect:   6%|██▍                                   | 61/963 [02:56<42:33,  2.83s/it]"
     ]
    },
    {
     "name": "stdout",
     "output_type": "stream",
     "text": [
      "AP: 0.8790 - AUC-ROC: 0.9218 - AUC-PR: 0.8790 - P@50: 0.9000 > C0042487: phlebothrombosis\n"
     ]
    },
    {
     "name": "stderr",
     "output_type": "stream",
     "text": [
      "\r",
      "Evaluating test data for each side-effect:   6%|██▍                                   | 62/963 [02:59<42:48,  2.85s/it]"
     ]
    },
    {
     "name": "stdout",
     "output_type": "stream",
     "text": [
      "AP: 0.9060 - AUC-ROC: 0.9396 - AUC-PR: 0.9060 - P@50: 0.9400 > C0004096: asthma\n"
     ]
    },
    {
     "name": "stderr",
     "output_type": "stream",
     "text": [
      "\r",
      "Evaluating test data for each side-effect:   7%|██▍                                   | 63/963 [03:02<43:17,  2.89s/it]"
     ]
    },
    {
     "name": "stdout",
     "output_type": "stream",
     "text": [
      "AP: 0.8913 - AUC-ROC: 0.9260 - AUC-PR: 0.8913 - P@50: 0.9000 > C0151766: Abnormal LFTs\n"
     ]
    },
    {
     "name": "stderr",
     "output_type": "stream",
     "text": [
      "\r",
      "Evaluating test data for each side-effect:   7%|██▌                                   | 64/963 [03:05<42:13,  2.82s/it]"
     ]
    },
    {
     "name": "stdout",
     "output_type": "stream",
     "text": [
      "AP: 0.9242 - AUC-ROC: 0.9695 - AUC-PR: 0.9242 - P@50: 0.9600 > C0079102: Cerebral thrombosis\n"
     ]
    },
    {
     "name": "stderr",
     "output_type": "stream",
     "text": [
      "\r",
      "Evaluating test data for each side-effect:   7%|██▌                                   | 65/963 [03:08<43:37,  2.91s/it]"
     ]
    },
    {
     "name": "stdout",
     "output_type": "stream",
     "text": [
      "AP: 0.9399 - AUC-ROC: 0.9552 - AUC-PR: 0.9399 - P@50: 0.9600 > C0016663: Bone Fracture Spontaneous\n"
     ]
    },
    {
     "name": "stderr",
     "output_type": "stream",
     "text": [
      "\r",
      "Evaluating test data for each side-effect:   7%|██▌                                   | 66/963 [03:11<41:58,  2.81s/it]"
     ]
    },
    {
     "name": "stdout",
     "output_type": "stream",
     "text": [
      "AP: 0.9050 - AUC-ROC: 0.9301 - AUC-PR: 0.9050 - P@50: 0.9400 > C0007820: cerebral vascular disorder\n"
     ]
    },
    {
     "name": "stderr",
     "output_type": "stream",
     "text": [
      "\r",
      "Evaluating test data for each side-effect:   7%|██▋                                   | 67/963 [03:14<42:35,  2.85s/it]"
     ]
    },
    {
     "name": "stdout",
     "output_type": "stream",
     "text": [
      "AP: 0.8938 - AUC-ROC: 0.9332 - AUC-PR: 0.8938 - P@50: 0.9000 > C0004604: Back Ache\n"
     ]
    },
    {
     "name": "stderr",
     "output_type": "stream",
     "text": [
      "\r",
      "Evaluating test data for each side-effect:   7%|██▋                                   | 68/963 [03:17<43:24,  2.91s/it]"
     ]
    },
    {
     "name": "stdout",
     "output_type": "stream",
     "text": [
      "AP: 0.9329 - AUC-ROC: 0.9578 - AUC-PR: 0.9329 - P@50: 0.9200 > C0156369: Uterine polyp\n"
     ]
    },
    {
     "name": "stderr",
     "output_type": "stream",
     "text": [
      "\r",
      "Evaluating test data for each side-effect:   7%|██▋                                   | 69/963 [03:19<41:45,  2.80s/it]"
     ]
    },
    {
     "name": "stdout",
     "output_type": "stream",
     "text": [
      "AP: 0.9386 - AUC-ROC: 0.9520 - AUC-PR: 0.9386 - P@50: 0.9800 > C0026986: myelodysplasia\n"
     ]
    },
    {
     "name": "stderr",
     "output_type": "stream",
     "text": [
      "\r",
      "Evaluating test data for each side-effect:   7%|██▊                                   | 70/963 [03:22<43:18,  2.91s/it]"
     ]
    },
    {
     "name": "stdout",
     "output_type": "stream",
     "text": [
      "AP: 0.9163 - AUC-ROC: 0.9446 - AUC-PR: 0.9163 - P@50: 0.9400 > C0005826: blood pressure abnormal\n"
     ]
    },
    {
     "name": "stderr",
     "output_type": "stream",
     "text": [
      "\r",
      "Evaluating test data for each side-effect:   7%|██▊                                   | 71/963 [03:25<41:41,  2.80s/it]"
     ]
    },
    {
     "name": "stdout",
     "output_type": "stream",
     "text": [
      "AP: 0.9185 - AUC-ROC: 0.9605 - AUC-PR: 0.9185 - P@50: 0.9800 > C0282005: swollen scrotum\n"
     ]
    },
    {
     "name": "stderr",
     "output_type": "stream",
     "text": [
      "\r",
      "Evaluating test data for each side-effect:   7%|██▊                                   | 72/963 [03:28<41:41,  2.81s/it]"
     ]
    },
    {
     "name": "stdout",
     "output_type": "stream",
     "text": [
      "AP: 0.9846 - AUC-ROC: 0.9856 - AUC-PR: 0.9846 - P@50: 0.9600 > C0009326: Collagen disease\n"
     ]
    },
    {
     "name": "stderr",
     "output_type": "stream",
     "text": [
      "\r",
      "Evaluating test data for each side-effect:   8%|██▉                                   | 73/963 [03:31<41:47,  2.82s/it]"
     ]
    },
    {
     "name": "stdout",
     "output_type": "stream",
     "text": [
      "AP: 0.9857 - AUC-ROC: 0.9856 - AUC-PR: 0.9857 - P@50: 0.9400 > C0007078: carbuncle\n"
     ]
    },
    {
     "name": "stderr",
     "output_type": "stream",
     "text": [
      "\r",
      "Evaluating test data for each side-effect:   8%|██▉                                   | 74/963 [03:33<41:45,  2.82s/it]"
     ]
    },
    {
     "name": "stdout",
     "output_type": "stream",
     "text": [
      "AP: 0.8743 - AUC-ROC: 0.9211 - AUC-PR: 0.8743 - P@50: 0.8600 > C0152031: joint swelling\n"
     ]
    },
    {
     "name": "stderr",
     "output_type": "stream",
     "text": [
      "\r",
      "Evaluating test data for each side-effect:   8%|██▉                                   | 75/963 [03:36<42:03,  2.84s/it]"
     ]
    },
    {
     "name": "stdout",
     "output_type": "stream",
     "text": [
      "AP: 0.8808 - AUC-ROC: 0.9236 - AUC-PR: 0.8808 - P@50: 0.9000 > C0022660: acute kidney failure\n"
     ]
    },
    {
     "name": "stderr",
     "output_type": "stream",
     "text": [
      "\r",
      "Evaluating test data for each side-effect:   8%|██▉                                   | 76/963 [03:40<43:33,  2.95s/it]"
     ]
    },
    {
     "name": "stdout",
     "output_type": "stream",
     "text": [
      "AP: 0.9056 - AUC-ROC: 0.9462 - AUC-PR: 0.9056 - P@50: 0.9000 > C0027769: nervous tension\n"
     ]
    },
    {
     "name": "stderr",
     "output_type": "stream",
     "text": [
      "\r",
      "Evaluating test data for each side-effect:   8%|███                                   | 77/963 [03:42<43:26,  2.94s/it]"
     ]
    },
    {
     "name": "stdout",
     "output_type": "stream",
     "text": [
      "AP: 0.8805 - AUC-ROC: 0.9281 - AUC-PR: 0.8805 - P@50: 0.8800 > C0000731: abdominal distension\n"
     ]
    },
    {
     "name": "stderr",
     "output_type": "stream",
     "text": [
      "\r",
      "Evaluating test data for each side-effect:   8%|███                                   | 78/963 [03:45<43:43,  2.96s/it]"
     ]
    },
    {
     "name": "stdout",
     "output_type": "stream",
     "text": [
      "AP: 0.8848 - AUC-ROC: 0.9213 - AUC-PR: 0.8848 - P@50: 0.9200 > C0019360: herpes zoster\n"
     ]
    },
    {
     "name": "stderr",
     "output_type": "stream",
     "text": [
      "\r",
      "Evaluating test data for each side-effect:   8%|███                                   | 79/963 [03:49<44:31,  3.02s/it]"
     ]
    },
    {
     "name": "stdout",
     "output_type": "stream",
     "text": [
      "AP: 0.9639 - AUC-ROC: 0.9672 - AUC-PR: 0.9639 - P@50: 0.9600 > C0029124: optic atrophy\n"
     ]
    },
    {
     "name": "stderr",
     "output_type": "stream",
     "text": [
      "\r",
      "Evaluating test data for each side-effect:   8%|███▏                                  | 80/963 [03:51<42:37,  2.90s/it]"
     ]
    },
    {
     "name": "stdout",
     "output_type": "stream",
     "text": [
      "AP: 0.9840 - AUC-ROC: 0.9868 - AUC-PR: 0.9840 - P@50: 0.9800 > C0040485: retrocollis\n"
     ]
    },
    {
     "name": "stderr",
     "output_type": "stream",
     "text": [
      "\r",
      "Evaluating test data for each side-effect:   8%|███▏                                  | 81/963 [03:54<42:25,  2.89s/it]"
     ]
    },
    {
     "name": "stdout",
     "output_type": "stream",
     "text": [
      "AP: 0.9640 - AUC-ROC: 0.9770 - AUC-PR: 0.9640 - P@50: 0.9800 > C0003874: Arthritis bacterial\n"
     ]
    },
    {
     "name": "stderr",
     "output_type": "stream",
     "text": [
      "\r",
      "Evaluating test data for each side-effect:   9%|███▏                                  | 82/963 [03:57<42:05,  2.87s/it]"
     ]
    },
    {
     "name": "stdout",
     "output_type": "stream",
     "text": [
      "AP: 0.8839 - AUC-ROC: 0.9263 - AUC-PR: 0.8839 - P@50: 0.8800 > C0003811: Arrhythmia\n"
     ]
    },
    {
     "name": "stderr",
     "output_type": "stream",
     "text": [
      "\r",
      "Evaluating test data for each side-effect:   9%|███▎                                  | 83/963 [04:00<42:43,  2.91s/it]"
     ]
    },
    {
     "name": "stdout",
     "output_type": "stream",
     "text": [
      "AP: 0.9196 - AUC-ROC: 0.9523 - AUC-PR: 0.9196 - P@50: 0.9000 > C0000768: birth defect\n"
     ]
    },
    {
     "name": "stderr",
     "output_type": "stream",
     "text": [
      "\r",
      "Evaluating test data for each side-effect:   9%|███▎                                  | 84/963 [04:03<42:28,  2.90s/it]"
     ]
    },
    {
     "name": "stdout",
     "output_type": "stream",
     "text": [
      "AP: 0.9103 - AUC-ROC: 0.9464 - AUC-PR: 0.9103 - P@50: 0.9200 > C0011053: deafness\n"
     ]
    },
    {
     "name": "stderr",
     "output_type": "stream",
     "text": [
      "\r",
      "Evaluating test data for each side-effect:   9%|███▎                                  | 85/963 [04:06<42:33,  2.91s/it]"
     ]
    },
    {
     "name": "stdout",
     "output_type": "stream",
     "text": [
      "AP: 0.9263 - AUC-ROC: 0.9476 - AUC-PR: 0.9263 - P@50: 0.9400 > C0024299: lymphoma\n"
     ]
    },
    {
     "name": "stderr",
     "output_type": "stream",
     "text": [
      "\r",
      "Evaluating test data for each side-effect:   9%|███▍                                  | 86/963 [04:09<42:27,  2.90s/it]"
     ]
    },
    {
     "name": "stdout",
     "output_type": "stream",
     "text": [
      "AP: 0.9149 - AUC-ROC: 0.9417 - AUC-PR: 0.9149 - P@50: 0.9400 > C0162316: iron deficiency anaemia\n"
     ]
    },
    {
     "name": "stderr",
     "output_type": "stream",
     "text": [
      "\r",
      "Evaluating test data for each side-effect:   9%|███▍                                  | 87/963 [04:11<41:18,  2.83s/it]"
     ]
    },
    {
     "name": "stdout",
     "output_type": "stream",
     "text": [
      "AP: 0.9239 - AUC-ROC: 0.9534 - AUC-PR: 0.9239 - P@50: 0.9400 > C0159877: ankle fracture\n"
     ]
    },
    {
     "name": "stderr",
     "output_type": "stream",
     "text": [
      "\r",
      "Evaluating test data for each side-effect:   9%|███▍                                  | 88/963 [04:14<41:27,  2.84s/it]"
     ]
    },
    {
     "name": "stdout",
     "output_type": "stream",
     "text": [
      "AP: 0.9161 - AUC-ROC: 0.9505 - AUC-PR: 0.9161 - P@50: 0.9200 > C0018916: haemangioma\n"
     ]
    },
    {
     "name": "stderr",
     "output_type": "stream",
     "text": [
      "\r",
      "Evaluating test data for each side-effect:   9%|███▌                                  | 89/963 [04:17<41:47,  2.87s/it]"
     ]
    },
    {
     "name": "stdout",
     "output_type": "stream",
     "text": [
      "AP: 0.9327 - AUC-ROC: 0.9616 - AUC-PR: 0.9327 - P@50: 0.9200 > C0027022: MPD\n"
     ]
    },
    {
     "name": "stderr",
     "output_type": "stream",
     "text": [
      "\r",
      "Evaluating test data for each side-effect:   9%|███▌                                  | 90/963 [04:20<41:55,  2.88s/it]"
     ]
    },
    {
     "name": "stdout",
     "output_type": "stream",
     "text": [
      "AP: 0.9051 - AUC-ROC: 0.9465 - AUC-PR: 0.9051 - P@50: 0.8800 > C0221776: mouth pain\n"
     ]
    },
    {
     "name": "stderr",
     "output_type": "stream",
     "text": [
      "\r",
      "Evaluating test data for each side-effect:   9%|███▌                                  | 91/963 [04:23<41:57,  2.89s/it]"
     ]
    },
    {
     "name": "stdout",
     "output_type": "stream",
     "text": [
      "AP: 0.9442 - AUC-ROC: 0.9570 - AUC-PR: 0.9442 - P@50: 0.9800 > C0004626: bacterial pneumonia\n"
     ]
    },
    {
     "name": "stderr",
     "output_type": "stream",
     "text": [
      "\r",
      "Evaluating test data for each side-effect:  10%|███▋                                  | 92/963 [04:26<41:51,  2.88s/it]"
     ]
    },
    {
     "name": "stdout",
     "output_type": "stream",
     "text": [
      "AP: 0.9051 - AUC-ROC: 0.9406 - AUC-PR: 0.9051 - P@50: 0.8800 > C0007785: cerebral infarct\n"
     ]
    },
    {
     "name": "stderr",
     "output_type": "stream",
     "text": [
      "\r",
      "Evaluating test data for each side-effect:  10%|███▋                                  | 93/963 [04:29<41:15,  2.85s/it]"
     ]
    },
    {
     "name": "stdout",
     "output_type": "stream",
     "text": [
      "AP: 0.9681 - AUC-ROC: 0.9754 - AUC-PR: 0.9681 - P@50: 0.9600 > C0031099: periodontitis\n"
     ]
    },
    {
     "name": "stderr",
     "output_type": "stream",
     "text": [
      "\r",
      "Evaluating test data for each side-effect:  10%|███▋                                  | 94/963 [04:32<44:08,  3.05s/it]"
     ]
    },
    {
     "name": "stdout",
     "output_type": "stream",
     "text": [
      "AP: 0.9439 - AUC-ROC: 0.9569 - AUC-PR: 0.9439 - P@50: 0.9200 > C0015423: eyelid diseases\n"
     ]
    },
    {
     "name": "stderr",
     "output_type": "stream",
     "text": [
      "\r",
      "Evaluating test data for each side-effect:  10%|███▋                                  | 95/963 [04:35<43:28,  3.01s/it]"
     ]
    },
    {
     "name": "stdout",
     "output_type": "stream",
     "text": [
      "AP: 0.8916 - AUC-ROC: 0.9295 - AUC-PR: 0.8916 - P@50: 0.8800 > C0038450: stridor\n"
     ]
    },
    {
     "name": "stderr",
     "output_type": "stream",
     "text": [
      "\r",
      "Evaluating test data for each side-effect:  10%|███▊                                  | 96/963 [04:38<42:56,  2.97s/it]"
     ]
    },
    {
     "name": "stdout",
     "output_type": "stream",
     "text": [
      "AP: 0.9299 - AUC-ROC: 0.9447 - AUC-PR: 0.9299 - P@50: 0.9600 > C0029134: OPTIC NEURITIS\n"
     ]
    },
    {
     "name": "stderr",
     "output_type": "stream",
     "text": [
      "\r",
      "Evaluating test data for each side-effect:  10%|███▊                                  | 97/963 [04:41<44:39,  3.09s/it]"
     ]
    },
    {
     "name": "stdout",
     "output_type": "stream",
     "text": [
      "AP: 0.9663 - AUC-ROC: 0.9713 - AUC-PR: 0.9663 - P@50: 0.9800 > C0021390: inflammatory bowel disease\n"
     ]
    },
    {
     "name": "stderr",
     "output_type": "stream",
     "text": [
      "\r",
      "Evaluating test data for each side-effect:  10%|███▊                                  | 98/963 [04:45<47:42,  3.31s/it]"
     ]
    },
    {
     "name": "stdout",
     "output_type": "stream",
     "text": [
      "AP: 0.8545 - AUC-ROC: 0.9138 - AUC-PR: 0.8545 - P@50: 0.8000 > C0033687: proteinuria\n"
     ]
    },
    {
     "name": "stderr",
     "output_type": "stream",
     "text": [
      "\r",
      "Evaluating test data for each side-effect:  10%|███▉                                  | 99/963 [04:49<50:25,  3.50s/it]"
     ]
    },
    {
     "name": "stdout",
     "output_type": "stream",
     "text": [
      "AP: 0.9182 - AUC-ROC: 0.9640 - AUC-PR: 0.9182 - P@50: 0.9200 > C0040259: tinea pedis\n"
     ]
    },
    {
     "name": "stderr",
     "output_type": "stream",
     "text": [
      "\r",
      "Evaluating test data for each side-effect:  10%|███▊                                 | 100/963 [04:53<54:22,  3.78s/it]"
     ]
    },
    {
     "name": "stdout",
     "output_type": "stream",
     "text": [
      "AP: 0.9393 - AUC-ROC: 0.9569 - AUC-PR: 0.9393 - P@50: 0.9400 > C0227791: vaginal discharge\n"
     ]
    },
    {
     "name": "stderr",
     "output_type": "stream",
     "text": [
      "\r",
      "Evaluating test data for each side-effect:  10%|███▉                                 | 101/963 [04:57<51:57,  3.62s/it]"
     ]
    },
    {
     "name": "stdout",
     "output_type": "stream",
     "text": [
      "AP: 0.9022 - AUC-ROC: 0.9296 - AUC-PR: 0.9022 - P@50: 0.9600 > C0018524: Hallucination\n"
     ]
    },
    {
     "name": "stderr",
     "output_type": "stream",
     "text": [
      "\r",
      "Evaluating test data for each side-effect:  11%|███▉                                 | 102/963 [05:01<54:01,  3.76s/it]"
     ]
    },
    {
     "name": "stdout",
     "output_type": "stream",
     "text": [
      "AP: 0.8804 - AUC-ROC: 0.9235 - AUC-PR: 0.8804 - P@50: 0.9000 > C0040034: thrombocytopenia\n"
     ]
    },
    {
     "name": "stderr",
     "output_type": "stream",
     "text": [
      "\r",
      "Evaluating test data for each side-effect:  11%|███▉                                 | 103/963 [05:04<53:49,  3.76s/it]"
     ]
    },
    {
     "name": "stdout",
     "output_type": "stream",
     "text": [
      "AP: 0.9456 - AUC-ROC: 0.9695 - AUC-PR: 0.9456 - P@50: 0.9600 > C0423798: Easy bruisability\n"
     ]
    },
    {
     "name": "stderr",
     "output_type": "stream",
     "text": [
      "\r",
      "Evaluating test data for each side-effect:  11%|███▉                                 | 104/963 [05:08<54:48,  3.83s/it]"
     ]
    },
    {
     "name": "stdout",
     "output_type": "stream",
     "text": [
      "AP: 0.8996 - AUC-ROC: 0.9338 - AUC-PR: 0.8996 - P@50: 0.9200 > C0036421: Scleroderma\n"
     ]
    },
    {
     "name": "stderr",
     "output_type": "stream",
     "text": [
      "\r",
      "Evaluating test data for each side-effect:  11%|████                                 | 105/963 [05:13<56:26,  3.95s/it]"
     ]
    },
    {
     "name": "stdout",
     "output_type": "stream",
     "text": [
      "AP: 0.9302 - AUC-ROC: 0.9484 - AUC-PR: 0.9302 - P@50: 0.9400 > C0005687: distended bladder\n"
     ]
    },
    {
     "name": "stderr",
     "output_type": "stream",
     "text": [
      "\r",
      "Evaluating test data for each side-effect:  11%|████                                 | 106/963 [05:15<51:17,  3.59s/it]"
     ]
    },
    {
     "name": "stdout",
     "output_type": "stream",
     "text": [
      "AP: 0.9676 - AUC-ROC: 0.9752 - AUC-PR: 0.9676 - P@50: 0.9800 > C0033893: tension headache\n"
     ]
    },
    {
     "name": "stderr",
     "output_type": "stream",
     "text": [
      "\r",
      "Evaluating test data for each side-effect:  11%|████                                 | 107/963 [05:19<50:28,  3.54s/it]"
     ]
    },
    {
     "name": "stdout",
     "output_type": "stream",
     "text": [
      "AP: 0.9001 - AUC-ROC: 0.9345 - AUC-PR: 0.9001 - P@50: 0.9200 > C0012569: Diplopia\n"
     ]
    },
    {
     "name": "stderr",
     "output_type": "stream",
     "text": [
      "\r",
      "Evaluating test data for each side-effect:  11%|████▏                                | 108/963 [05:22<47:56,  3.36s/it]"
     ]
    },
    {
     "name": "stdout",
     "output_type": "stream",
     "text": [
      "AP: 0.9678 - AUC-ROC: 0.9732 - AUC-PR: 0.9678 - P@50: 0.9600 > C0003868: gouty arthritis\n"
     ]
    },
    {
     "name": "stderr",
     "output_type": "stream",
     "text": [
      "\r",
      "Evaluating test data for each side-effect:  11%|████▏                                | 109/963 [05:26<49:24,  3.47s/it]"
     ]
    },
    {
     "name": "stdout",
     "output_type": "stream",
     "text": [
      "AP: 0.9887 - AUC-ROC: 0.9889 - AUC-PR: 0.9887 - P@50: 1.0000 > C0038019: spondylosis\n"
     ]
    },
    {
     "name": "stderr",
     "output_type": "stream",
     "text": [
      "\r",
      "Evaluating test data for each side-effect:  11%|████▏                                | 110/963 [05:29<49:02,  3.45s/it]"
     ]
    },
    {
     "name": "stdout",
     "output_type": "stream",
     "text": [
      "AP: 0.9675 - AUC-ROC: 0.9721 - AUC-PR: 0.9675 - P@50: 0.9800 > C0034880: hyperacusia\n"
     ]
    },
    {
     "name": "stderr",
     "output_type": "stream",
     "text": [
      "\r",
      "Evaluating test data for each side-effect:  12%|████▎                                | 111/963 [05:33<50:45,  3.58s/it]"
     ]
    },
    {
     "name": "stdout",
     "output_type": "stream",
     "text": [
      "AP: 0.9852 - AUC-ROC: 0.9856 - AUC-PR: 0.9852 - P@50: 0.9800 > C0009088: cluster headache\n"
     ]
    },
    {
     "name": "stderr",
     "output_type": "stream",
     "text": [
      "\r",
      "Evaluating test data for each side-effect:  12%|████▎                                | 112/963 [05:37<52:01,  3.67s/it]"
     ]
    },
    {
     "name": "stdout",
     "output_type": "stream",
     "text": [
      "AP: 0.9271 - AUC-ROC: 0.9565 - AUC-PR: 0.9271 - P@50: 0.9400 > C0149516: chronic sinusitis\n"
     ]
    },
    {
     "name": "stderr",
     "output_type": "stream",
     "text": [
      "\r",
      "Evaluating test data for each side-effect:  12%|████▎                                | 113/963 [05:41<53:34,  3.78s/it]"
     ]
    },
    {
     "name": "stdout",
     "output_type": "stream",
     "text": [
      "AP: 0.8949 - AUC-ROC: 0.9371 - AUC-PR: 0.8949 - P@50: 0.8800 > C0009763: conjunctivitis\n"
     ]
    },
    {
     "name": "stderr",
     "output_type": "stream",
     "text": [
      "\r",
      "Evaluating test data for each side-effect:  12%|████▍                                | 114/963 [05:45<53:57,  3.81s/it]"
     ]
    },
    {
     "name": "stdout",
     "output_type": "stream",
     "text": [
      "AP: 0.9084 - AUC-ROC: 0.9387 - AUC-PR: 0.9084 - P@50: 0.9200 > C0018991: hemiplegia\n"
     ]
    },
    {
     "name": "stderr",
     "output_type": "stream",
     "text": [
      "\r",
      "Evaluating test data for each side-effect:  12%|████▍                                | 115/963 [05:48<52:57,  3.75s/it]"
     ]
    },
    {
     "name": "stdout",
     "output_type": "stream",
     "text": [
      "AP: 0.9164 - AUC-ROC: 0.9434 - AUC-PR: 0.9164 - P@50: 0.9600 > C0033036: atrial ectopic beats\n"
     ]
    },
    {
     "name": "stderr",
     "output_type": "stream",
     "text": [
      "\r",
      "Evaluating test data for each side-effect:  12%|████▍                                | 116/963 [05:52<53:07,  3.76s/it]"
     ]
    },
    {
     "name": "stdout",
     "output_type": "stream",
     "text": [
      "AP: 0.9221 - AUC-ROC: 0.9452 - AUC-PR: 0.9221 - P@50: 0.9400 > C0014038: encephalitis\n"
     ]
    },
    {
     "name": "stderr",
     "output_type": "stream",
     "text": [
      "\r",
      "Evaluating test data for each side-effect:  12%|████▍                                | 117/963 [05:55<51:29,  3.65s/it]"
     ]
    },
    {
     "name": "stdout",
     "output_type": "stream",
     "text": [
      "AP: 0.9448 - AUC-ROC: 0.9589 - AUC-PR: 0.9448 - P@50: 0.9600 > C0038363: aphthous stomatitis\n"
     ]
    },
    {
     "name": "stderr",
     "output_type": "stream",
     "text": [
      "\r",
      "Evaluating test data for each side-effect:  12%|████▌                                | 118/963 [05:59<49:50,  3.54s/it]"
     ]
    },
    {
     "name": "stdout",
     "output_type": "stream",
     "text": [
      "AP: 0.9863 - AUC-ROC: 0.9869 - AUC-PR: 0.9863 - P@50: 0.9400 > C0008049: chicken pox\n"
     ]
    },
    {
     "name": "stderr",
     "output_type": "stream",
     "text": [
      "\r",
      "Evaluating test data for each side-effect:  12%|████▌                                | 119/963 [06:02<50:34,  3.60s/it]"
     ]
    },
    {
     "name": "stdout",
     "output_type": "stream",
     "text": [
      "AP: 0.9081 - AUC-ROC: 0.9365 - AUC-PR: 0.9081 - P@50: 0.9400 > C0009421: coma\n"
     ]
    },
    {
     "name": "stderr",
     "output_type": "stream",
     "text": [
      "\r",
      "Evaluating test data for each side-effect:  12%|████▌                                | 120/963 [06:06<51:30,  3.67s/it]"
     ]
    },
    {
     "name": "stdout",
     "output_type": "stream",
     "text": [
      "AP: 0.9286 - AUC-ROC: 0.9519 - AUC-PR: 0.9286 - P@50: 0.9600 > C0020255: hydrocephalus\n"
     ]
    },
    {
     "name": "stderr",
     "output_type": "stream",
     "text": [
      "\r",
      "Evaluating test data for each side-effect:  13%|████▋                                | 121/963 [06:10<50:08,  3.57s/it]"
     ]
    },
    {
     "name": "stdout",
     "output_type": "stream",
     "text": [
      "AP: 0.8669 - AUC-ROC: 0.9190 - AUC-PR: 0.8669 - P@50: 0.8400 > C0017181: gastrointestinal bleed\n"
     ]
    },
    {
     "name": "stderr",
     "output_type": "stream",
     "text": [
      "\r",
      "Evaluating test data for each side-effect:  13%|████▋                                | 122/963 [06:14<52:20,  3.73s/it]"
     ]
    },
    {
     "name": "stdout",
     "output_type": "stream",
     "text": [
      "AP: 0.8904 - AUC-ROC: 0.9239 - AUC-PR: 0.8904 - P@50: 0.9200 > C0023895: disease of liver\n"
     ]
    },
    {
     "name": "stderr",
     "output_type": "stream",
     "text": [
      "\r",
      "Evaluating test data for each side-effect:  13%|████▋                                | 123/963 [06:17<51:35,  3.68s/it]"
     ]
    },
    {
     "name": "stdout",
     "output_type": "stream",
     "text": [
      "AP: 0.9649 - AUC-ROC: 0.9694 - AUC-PR: 0.9649 - P@50: 1.0000 > C0001430: adenoma\n"
     ]
    },
    {
     "name": "stderr",
     "output_type": "stream",
     "text": [
      "\r",
      "Evaluating test data for each side-effect:  13%|████▊                                | 124/963 [06:22<54:17,  3.88s/it]"
     ]
    },
    {
     "name": "stdout",
     "output_type": "stream",
     "text": [
      "AP: 0.8960 - AUC-ROC: 0.9312 - AUC-PR: 0.8960 - P@50: 0.9400 > C0030554: Paraesthesia\n"
     ]
    },
    {
     "name": "stderr",
     "output_type": "stream",
     "text": [
      "\r",
      "Evaluating test data for each side-effect:  13%|████▊                                | 125/963 [06:25<53:28,  3.83s/it]"
     ]
    },
    {
     "name": "stdout",
     "output_type": "stream",
     "text": [
      "AP: 0.8912 - AUC-ROC: 0.9311 - AUC-PR: 0.8912 - P@50: 0.9200 > C0034067: emphysema\n"
     ]
    },
    {
     "name": "stderr",
     "output_type": "stream",
     "text": [
      "\r",
      "Evaluating test data for each side-effect:  13%|████▊                                | 126/963 [06:29<53:45,  3.85s/it]"
     ]
    },
    {
     "name": "stdout",
     "output_type": "stream",
     "text": [
      "AP: 0.9575 - AUC-ROC: 0.9544 - AUC-PR: 0.9575 - P@50: 0.9200 > C0033845: benign intracranial hypertension\n"
     ]
    },
    {
     "name": "stderr",
     "output_type": "stream",
     "text": [
      "\r",
      "Evaluating test data for each side-effect:  13%|████▉                                | 127/963 [06:33<52:18,  3.75s/it]"
     ]
    },
    {
     "name": "stdout",
     "output_type": "stream",
     "text": [
      "AP: 0.8610 - AUC-ROC: 0.9062 - AUC-PR: 0.8610 - P@50: 0.9200 > C0151904: Aspartate Aminotransferase Increase\n"
     ]
    },
    {
     "name": "stderr",
     "output_type": "stream",
     "text": [
      "\r",
      "Evaluating test data for each side-effect:  13%|████▉                                | 128/963 [06:37<53:49,  3.87s/it]"
     ]
    },
    {
     "name": "stdout",
     "output_type": "stream",
     "text": [
      "AP: 0.8784 - AUC-ROC: 0.9263 - AUC-PR: 0.8784 - P@50: 0.8600 > C0027404: narcolepsy\n"
     ]
    },
    {
     "name": "stderr",
     "output_type": "stream",
     "text": [
      "\r",
      "Evaluating test data for each side-effect:  13%|████▉                                | 129/963 [06:41<56:01,  4.03s/it]"
     ]
    },
    {
     "name": "stdout",
     "output_type": "stream",
     "text": [
      "AP: 0.9090 - AUC-ROC: 0.9561 - AUC-PR: 0.9090 - P@50: 0.9400 > C0020490: hypermetropia\n"
     ]
    },
    {
     "name": "stderr",
     "output_type": "stream",
     "text": [
      "\r",
      "Evaluating test data for each side-effect:  13%|████▉                                | 130/963 [06:45<56:10,  4.05s/it]"
     ]
    },
    {
     "name": "stdout",
     "output_type": "stream",
     "text": [
      "AP: 0.8679 - AUC-ROC: 0.9187 - AUC-PR: 0.8679 - P@50: 0.8800 > C0242429: pain in throat\n"
     ]
    },
    {
     "name": "stderr",
     "output_type": "stream",
     "text": [
      "\r",
      "Evaluating test data for each side-effect:  14%|█████                                | 131/963 [06:50<56:19,  4.06s/it]"
     ]
    },
    {
     "name": "stdout",
     "output_type": "stream",
     "text": [
      "AP: 0.9754 - AUC-ROC: 0.9746 - AUC-PR: 0.9754 - P@50: 1.0000 > C0206504: tympanic membrane perforation\n"
     ]
    },
    {
     "name": "stderr",
     "output_type": "stream",
     "text": [
      "\r",
      "Evaluating test data for each side-effect:  14%|█████                                | 132/963 [06:53<54:11,  3.91s/it]"
     ]
    },
    {
     "name": "stdout",
     "output_type": "stream",
     "text": [
      "AP: 0.9079 - AUC-ROC: 0.9431 - AUC-PR: 0.9079 - P@50: 0.9200 > C0018817: atrial septal defect\n"
     ]
    },
    {
     "name": "stderr",
     "output_type": "stream",
     "text": [
      "\r",
      "Evaluating test data for each side-effect:  14%|█████                                | 133/963 [06:58<56:29,  4.08s/it]"
     ]
    },
    {
     "name": "stdout",
     "output_type": "stream",
     "text": [
      "AP: 0.9314 - AUC-ROC: 0.9461 - AUC-PR: 0.9314 - P@50: 0.9800 > C0151611: abnormal EEG\n"
     ]
    },
    {
     "name": "stderr",
     "output_type": "stream",
     "text": [
      "\r",
      "Evaluating test data for each side-effect:  14%|█████▏                               | 134/963 [07:01<54:06,  3.92s/it]"
     ]
    },
    {
     "name": "stdout",
     "output_type": "stream",
     "text": [
      "AP: 0.9162 - AUC-ROC: 0.9534 - AUC-PR: 0.9162 - P@50: 0.8800 > C0151632: elevated erythrocyte sedimentation rate\n"
     ]
    },
    {
     "name": "stderr",
     "output_type": "stream",
     "text": [
      "\r",
      "Evaluating test data for each side-effect:  14%|█████▏                               | 135/963 [07:04<50:37,  3.67s/it]"
     ]
    },
    {
     "name": "stdout",
     "output_type": "stream",
     "text": [
      "AP: 0.9274 - AUC-ROC: 0.9531 - AUC-PR: 0.9274 - P@50: 0.9400 > C0005001: benign prostatic hyperplasia\n"
     ]
    },
    {
     "name": "stderr",
     "output_type": "stream",
     "text": [
      "\r",
      "Evaluating test data for each side-effect:  14%|█████▏                               | 136/963 [07:08<49:39,  3.60s/it]"
     ]
    },
    {
     "name": "stdout",
     "output_type": "stream",
     "text": [
      "AP: 0.9470 - AUC-ROC: 0.9622 - AUC-PR: 0.9470 - P@50: 0.9800 > C0027709: nephrocalcinosis\n"
     ]
    },
    {
     "name": "stderr",
     "output_type": "stream",
     "text": [
      "\r",
      "Evaluating test data for each side-effect:  14%|█████▎                               | 137/963 [07:10<46:08,  3.35s/it]"
     ]
    },
    {
     "name": "stdout",
     "output_type": "stream",
     "text": [
      "AP: 0.9534 - AUC-ROC: 0.9572 - AUC-PR: 0.9534 - P@50: 0.9600 > C0002736: als\n"
     ]
    },
    {
     "name": "stderr",
     "output_type": "stream",
     "text": [
      "\r",
      "Evaluating test data for each side-effect:  14%|█████▎                               | 138/963 [07:13<45:01,  3.28s/it]"
     ]
    },
    {
     "name": "stdout",
     "output_type": "stream",
     "text": [
      "AP: 0.9514 - AUC-ROC: 0.9665 - AUC-PR: 0.9514 - P@50: 0.9800 > C0027339: Nail disorder\n"
     ]
    },
    {
     "name": "stderr",
     "output_type": "stream",
     "text": [
      "\r",
      "Evaluating test data for each side-effect:  14%|█████▎                               | 139/963 [07:16<42:46,  3.11s/it]"
     ]
    },
    {
     "name": "stdout",
     "output_type": "stream",
     "text": [
      "AP: 0.8767 - AUC-ROC: 0.9282 - AUC-PR: 0.8767 - P@50: 0.8800 > C0023418: Leukaemia\n"
     ]
    },
    {
     "name": "stderr",
     "output_type": "stream",
     "text": [
      "\r",
      "Evaluating test data for each side-effect:  15%|█████▍                               | 140/963 [07:19<42:37,  3.11s/it]"
     ]
    },
    {
     "name": "stdout",
     "output_type": "stream",
     "text": [
      "AP: 0.9294 - AUC-ROC: 0.9465 - AUC-PR: 0.9294 - P@50: 0.9800 > C0029442: osteomalacia\n"
     ]
    },
    {
     "name": "stderr",
     "output_type": "stream",
     "text": [
      "\r",
      "Evaluating test data for each side-effect:  15%|█████▍                               | 141/963 [07:22<42:35,  3.11s/it]"
     ]
    },
    {
     "name": "stdout",
     "output_type": "stream",
     "text": [
      "AP: 0.9736 - AUC-ROC: 0.9745 - AUC-PR: 0.9736 - P@50: 0.9800 > C0521620: hydroureter\n"
     ]
    },
    {
     "name": "stderr",
     "output_type": "stream",
     "text": [
      "\r",
      "Evaluating test data for each side-effect:  15%|█████▍                               | 142/963 [07:25<41:09,  3.01s/it]"
     ]
    },
    {
     "name": "stdout",
     "output_type": "stream",
     "text": [
      "AP: 0.8849 - AUC-ROC: 0.9313 - AUC-PR: 0.8849 - P@50: 0.8000 > C0038454: apoplexy\n"
     ]
    },
    {
     "name": "stderr",
     "output_type": "stream",
     "text": [
      "\r",
      "Evaluating test data for each side-effect:  15%|█████▍                               | 143/963 [07:29<42:30,  3.11s/it]"
     ]
    },
    {
     "name": "stdout",
     "output_type": "stream",
     "text": [
      "AP: 0.9097 - AUC-ROC: 0.9438 - AUC-PR: 0.9097 - P@50: 0.9400 > C0003864: arthritis\n"
     ]
    },
    {
     "name": "stderr",
     "output_type": "stream",
     "text": [
      "\r",
      "Evaluating test data for each side-effect:  15%|█████▌                               | 144/963 [07:32<42:43,  3.13s/it]"
     ]
    },
    {
     "name": "stdout",
     "output_type": "stream",
     "text": [
      "AP: 0.9185 - AUC-ROC: 0.9582 - AUC-PR: 0.9185 - P@50: 0.9200 > C0036508: dermatitis seborrheic\n"
     ]
    },
    {
     "name": "stderr",
     "output_type": "stream",
     "text": [
      "\r",
      "Evaluating test data for each side-effect:  15%|█████▌                               | 145/963 [07:35<41:13,  3.02s/it]"
     ]
    },
    {
     "name": "stdout",
     "output_type": "stream",
     "text": [
      "AP: 0.9090 - AUC-ROC: 0.9403 - AUC-PR: 0.9090 - P@50: 0.9600 > C0085602: excessive thirst\n"
     ]
    },
    {
     "name": "stderr",
     "output_type": "stream",
     "text": [
      "\r",
      "Evaluating test data for each side-effect:  15%|█████▌                               | 146/963 [07:38<43:07,  3.17s/it]"
     ]
    },
    {
     "name": "stdout",
     "output_type": "stream",
     "text": [
      "AP: 0.9186 - AUC-ROC: 0.9429 - AUC-PR: 0.9186 - P@50: 0.9400 > C0740394: hyperuricaemia\n"
     ]
    },
    {
     "name": "stderr",
     "output_type": "stream",
     "text": [
      "\r",
      "Evaluating test data for each side-effect:  15%|█████▋                               | 147/963 [07:41<41:21,  3.04s/it]"
     ]
    },
    {
     "name": "stdout",
     "output_type": "stream",
     "text": [
      "AP: 0.8849 - AUC-ROC: 0.9341 - AUC-PR: 0.8849 - P@50: 0.8000 > C0042029: Infection Urinary Tract\n"
     ]
    },
    {
     "name": "stderr",
     "output_type": "stream",
     "text": [
      "\r",
      "Evaluating test data for each side-effect:  15%|█████▋                               | 148/963 [07:44<42:57,  3.16s/it]"
     ]
    },
    {
     "name": "stdout",
     "output_type": "stream",
     "text": [
      "AP: 0.9083 - AUC-ROC: 0.9424 - AUC-PR: 0.9083 - P@50: 0.8800 > C0006277: bronchitis\n"
     ]
    },
    {
     "name": "stderr",
     "output_type": "stream",
     "text": [
      "\r",
      "Evaluating test data for each side-effect:  15%|█████▋                               | 149/963 [07:48<43:27,  3.20s/it]"
     ]
    },
    {
     "name": "stdout",
     "output_type": "stream",
     "text": [
      "AP: 0.9473 - AUC-ROC: 0.9595 - AUC-PR: 0.9473 - P@50: 0.9800 > C0037672: sleep walking\n"
     ]
    },
    {
     "name": "stderr",
     "output_type": "stream",
     "text": [
      "\r",
      "Evaluating test data for each side-effect:  16%|█████▊                               | 150/963 [07:50<41:33,  3.07s/it]"
     ]
    },
    {
     "name": "stdout",
     "output_type": "stream",
     "text": [
      "AP: 0.9314 - AUC-ROC: 0.9553 - AUC-PR: 0.9314 - P@50: 0.9800 > C0149931: migraine\n"
     ]
    },
    {
     "name": "stderr",
     "output_type": "stream",
     "text": [
      "\r",
      "Evaluating test data for each side-effect:  16%|█████▊                               | 151/963 [07:53<41:55,  3.10s/it]"
     ]
    },
    {
     "name": "stdout",
     "output_type": "stream",
     "text": [
      "AP: 0.9144 - AUC-ROC: 0.9408 - AUC-PR: 0.9144 - P@50: 0.9600 > C0036983: septic shock\n"
     ]
    },
    {
     "name": "stderr",
     "output_type": "stream",
     "text": [
      "\r",
      "Evaluating test data for each side-effect:  16%|█████▊                               | 152/963 [07:57<42:40,  3.16s/it]"
     ]
    },
    {
     "name": "stdout",
     "output_type": "stream",
     "text": [
      "AP: 0.9492 - AUC-ROC: 0.9708 - AUC-PR: 0.9492 - P@50: 0.9600 > C0149756: fascitis plantar\n"
     ]
    },
    {
     "name": "stderr",
     "output_type": "stream",
     "text": [
      "\r",
      "Evaluating test data for each side-effect:  16%|█████▉                               | 153/963 [08:00<45:02,  3.34s/it]"
     ]
    },
    {
     "name": "stdout",
     "output_type": "stream",
     "text": [
      "AP: 0.9081 - AUC-ROC: 0.9427 - AUC-PR: 0.9081 - P@50: 0.9000 > C0342579: Electrolyte disorder\n"
     ]
    },
    {
     "name": "stderr",
     "output_type": "stream",
     "text": [
      "\r",
      "Evaluating test data for each side-effect:  16%|█████▉                               | 154/963 [08:05<49:50,  3.70s/it]"
     ]
    },
    {
     "name": "stdout",
     "output_type": "stream",
     "text": [
      "AP: 0.9440 - AUC-ROC: 0.9627 - AUC-PR: 0.9440 - P@50: 0.9600 > C0149512: acute sinusitis\n"
     ]
    },
    {
     "name": "stderr",
     "output_type": "stream",
     "text": [
      "\r",
      "Evaluating test data for each side-effect:  16%|█████▉                               | 155/963 [08:08<48:54,  3.63s/it]"
     ]
    },
    {
     "name": "stdout",
     "output_type": "stream",
     "text": [
      "AP: 0.8829 - AUC-ROC: 0.9275 - AUC-PR: 0.8829 - P@50: 0.8800 > C0162297: pulmonary arrest\n"
     ]
    },
    {
     "name": "stderr",
     "output_type": "stream",
     "text": [
      "\r",
      "Evaluating test data for each side-effect:  16%|█████▉                               | 156/963 [08:12<48:36,  3.61s/it]"
     ]
    },
    {
     "name": "stdout",
     "output_type": "stream",
     "text": [
      "AP: 0.8860 - AUC-ROC: 0.9275 - AUC-PR: 0.8860 - P@50: 0.8800 > C0008350: cholelithiasis\n"
     ]
    },
    {
     "name": "stderr",
     "output_type": "stream",
     "text": [
      "\r",
      "Evaluating test data for each side-effect:  16%|██████                               | 157/963 [08:15<47:03,  3.50s/it]"
     ]
    },
    {
     "name": "stdout",
     "output_type": "stream",
     "text": [
      "AP: 0.8869 - AUC-ROC: 0.9297 - AUC-PR: 0.8869 - P@50: 0.9000 > C0086543: cataract\n"
     ]
    },
    {
     "name": "stderr",
     "output_type": "stream",
     "text": [
      "\r",
      "Evaluating test data for each side-effect:  16%|██████                               | 158/963 [08:19<46:02,  3.43s/it]"
     ]
    },
    {
     "name": "stdout",
     "output_type": "stream",
     "text": [
      "AP: 0.9119 - AUC-ROC: 0.9407 - AUC-PR: 0.9119 - P@50: 0.9400 > C0019212: hepatorenal syndrome\n"
     ]
    },
    {
     "name": "stderr",
     "output_type": "stream",
     "text": [
      "\r",
      "Evaluating test data for each side-effect:  17%|██████                               | 159/963 [08:22<44:48,  3.34s/it]"
     ]
    },
    {
     "name": "stdout",
     "output_type": "stream",
     "text": [
      "AP: 0.9427 - AUC-ROC: 0.9504 - AUC-PR: 0.9427 - P@50: 0.9400 > C0243010: encephalitis viral\n"
     ]
    },
    {
     "name": "stderr",
     "output_type": "stream",
     "text": [
      "\r",
      "Evaluating test data for each side-effect:  17%|██████▏                              | 160/963 [08:25<43:57,  3.28s/it]"
     ]
    },
    {
     "name": "stdout",
     "output_type": "stream",
     "text": [
      "AP: 0.8783 - AUC-ROC: 0.9227 - AUC-PR: 0.8783 - P@50: 0.8600 > C0013182: Drug hypersensitivity\n"
     ]
    },
    {
     "name": "stderr",
     "output_type": "stream",
     "text": [
      "\r",
      "Evaluating test data for each side-effect:  17%|██████▏                              | 161/963 [08:28<42:14,  3.16s/it]"
     ]
    },
    {
     "name": "stdout",
     "output_type": "stream",
     "text": [
      "AP: 0.9133 - AUC-ROC: 0.9424 - AUC-PR: 0.9133 - P@50: 0.9000 > C0497327: amentia\n"
     ]
    },
    {
     "name": "stderr",
     "output_type": "stream",
     "text": [
      "\r",
      "Evaluating test data for each side-effect:  17%|██████▏                              | 162/963 [08:31<40:53,  3.06s/it]"
     ]
    },
    {
     "name": "stdout",
     "output_type": "stream",
     "text": [
      "AP: 0.8831 - AUC-ROC: 0.9299 - AUC-PR: 0.8831 - P@50: 0.8800 > C0030578: paronychia\n"
     ]
    },
    {
     "name": "stderr",
     "output_type": "stream",
     "text": [
      "\r",
      "Evaluating test data for each side-effect:  17%|██████▎                              | 163/963 [08:34<42:25,  3.18s/it]"
     ]
    },
    {
     "name": "stdout",
     "output_type": "stream",
     "text": [
      "AP: 0.9289 - AUC-ROC: 0.9495 - AUC-PR: 0.9289 - P@50: 0.9400 > C0017675: Glossitis\n"
     ]
    },
    {
     "name": "stderr",
     "output_type": "stream",
     "text": [
      "\r",
      "Evaluating test data for each side-effect:  17%|██████▎                              | 164/963 [08:37<40:53,  3.07s/it]"
     ]
    },
    {
     "name": "stdout",
     "output_type": "stream",
     "text": [
      "AP: 0.8261 - AUC-ROC: 0.8969 - AUC-PR: 0.8261 - P@50: 0.7800 > C0014742: erythema multiforme\n"
     ]
    },
    {
     "name": "stderr",
     "output_type": "stream",
     "text": [
      "\r",
      "Evaluating test data for each side-effect:  17%|██████▎                              | 165/963 [08:40<41:07,  3.09s/it]"
     ]
    },
    {
     "name": "stdout",
     "output_type": "stream",
     "text": [
      "AP: 0.9672 - AUC-ROC: 0.9720 - AUC-PR: 0.9672 - P@50: 0.9600 > C0085655: polymyositis\n"
     ]
    },
    {
     "name": "stderr",
     "output_type": "stream",
     "text": [
      "\r",
      "Evaluating test data for each side-effect:  17%|██████▍                              | 166/963 [08:43<40:01,  3.01s/it]"
     ]
    },
    {
     "name": "stdout",
     "output_type": "stream",
     "text": [
      "AP: 0.9067 - AUC-ROC: 0.9465 - AUC-PR: 0.9067 - P@50: 0.9200 > C0017086: gangrene\n"
     ]
    },
    {
     "name": "stderr",
     "output_type": "stream",
     "text": [
      "\r",
      "Evaluating test data for each side-effect:  17%|██████▍                              | 167/963 [08:46<40:35,  3.06s/it]"
     ]
    },
    {
     "name": "stdout",
     "output_type": "stream",
     "text": [
      "AP: 0.8895 - AUC-ROC: 0.9425 - AUC-PR: 0.8895 - P@50: 0.9000 > C0035309: Disorder Retinal\n"
     ]
    },
    {
     "name": "stderr",
     "output_type": "stream",
     "text": [
      "\r",
      "Evaluating test data for each side-effect:  17%|██████▍                              | 168/963 [08:49<40:22,  3.05s/it]"
     ]
    },
    {
     "name": "stdout",
     "output_type": "stream",
     "text": [
      "AP: 0.8873 - AUC-ROC: 0.9283 - AUC-PR: 0.8873 - P@50: 0.9000 > C0010692: Bladder inflammation\n"
     ]
    },
    {
     "name": "stderr",
     "output_type": "stream",
     "text": [
      "\r",
      "Evaluating test data for each side-effect:  18%|██████▍                              | 169/963 [08:52<41:59,  3.17s/it]"
     ]
    },
    {
     "name": "stdout",
     "output_type": "stream",
     "text": [
      "AP: 0.9278 - AUC-ROC: 0.9558 - AUC-PR: 0.9278 - P@50: 0.9600 > C0017601: glaucoma\n"
     ]
    },
    {
     "name": "stderr",
     "output_type": "stream",
     "text": [
      "\r",
      "Evaluating test data for each side-effect:  18%|██████▌                              | 170/963 [08:56<45:17,  3.43s/it]"
     ]
    },
    {
     "name": "stdout",
     "output_type": "stream",
     "text": [
      "AP: 0.9466 - AUC-ROC: 0.9600 - AUC-PR: 0.9466 - P@50: 0.9600 > C0013298: duodenitis\n"
     ]
    },
    {
     "name": "stderr",
     "output_type": "stream",
     "text": [
      "\r",
      "Evaluating test data for each side-effect:  18%|██████▌                              | 171/963 [09:00<47:34,  3.60s/it]"
     ]
    },
    {
     "name": "stdout",
     "output_type": "stream",
     "text": [
      "AP: 0.8980 - AUC-ROC: 0.9288 - AUC-PR: 0.8980 - P@50: 0.9000 > C0262385: autonomic instability\n"
     ]
    },
    {
     "name": "stderr",
     "output_type": "stream",
     "text": [
      "\r",
      "Evaluating test data for each side-effect:  18%|██████▌                              | 172/963 [09:04<47:09,  3.58s/it]"
     ]
    },
    {
     "name": "stdout",
     "output_type": "stream",
     "text": [
      "AP: 0.9627 - AUC-ROC: 0.9650 - AUC-PR: 0.9627 - P@50: 1.0000 > C0037928: myelopathy\n"
     ]
    },
    {
     "name": "stderr",
     "output_type": "stream",
     "text": [
      "\r",
      "Evaluating test data for each side-effect:  18%|██████▋                              | 173/963 [09:08<48:46,  3.70s/it]"
     ]
    },
    {
     "name": "stdout",
     "output_type": "stream",
     "text": [
      "AP: 0.9399 - AUC-ROC: 0.9602 - AUC-PR: 0.9399 - P@50: 0.9600 > C0022104: Colon Spastic\n"
     ]
    },
    {
     "name": "stderr",
     "output_type": "stream",
     "text": [
      "\r",
      "Evaluating test data for each side-effect:  18%|██████▋                              | 174/963 [09:12<49:55,  3.80s/it]"
     ]
    },
    {
     "name": "stdout",
     "output_type": "stream",
     "text": [
      "AP: 0.9877 - AUC-ROC: 0.9893 - AUC-PR: 0.9877 - P@50: 0.9800 > C0018500: hair disease\n"
     ]
    },
    {
     "name": "stderr",
     "output_type": "stream",
     "text": [
      "\r",
      "Evaluating test data for each side-effect:  18%|██████▋                              | 175/963 [09:16<49:00,  3.73s/it]"
     ]
    },
    {
     "name": "stdout",
     "output_type": "stream",
     "text": [
      "AP: 0.9714 - AUC-ROC: 0.9800 - AUC-PR: 0.9714 - P@50: 0.9400 > C0026919: atypical mycobacterial infection\n"
     ]
    },
    {
     "name": "stderr",
     "output_type": "stream",
     "text": [
      "\r",
      "Evaluating test data for each side-effect:  18%|██████▊                              | 176/963 [09:20<50:08,  3.82s/it]"
     ]
    },
    {
     "name": "stdout",
     "output_type": "stream",
     "text": [
      "AP: 0.9169 - AUC-ROC: 0.9491 - AUC-PR: 0.9169 - P@50: 0.9400 > C0020672: decreased body temperature\n"
     ]
    },
    {
     "name": "stderr",
     "output_type": "stream",
     "text": [
      "\r",
      "Evaluating test data for each side-effect:  18%|██████▊                              | 177/963 [09:24<50:56,  3.89s/it]"
     ]
    },
    {
     "name": "stdout",
     "output_type": "stream",
     "text": [
      "AP: 0.8715 - AUC-ROC: 0.9211 - AUC-PR: 0.8715 - P@50: 0.8800 > C0004238: AFIB\n"
     ]
    },
    {
     "name": "stderr",
     "output_type": "stream",
     "text": [
      "\r",
      "Evaluating test data for each side-effect:  18%|██████▊                              | 178/963 [09:28<53:02,  4.05s/it]"
     ]
    },
    {
     "name": "stdout",
     "output_type": "stream",
     "text": [
      "AP: 0.9151 - AUC-ROC: 0.9483 - AUC-PR: 0.9151 - P@50: 0.9400 > C0001546: adjustment disorder\n"
     ]
    },
    {
     "name": "stderr",
     "output_type": "stream",
     "text": [
      "\r",
      "Evaluating test data for each side-effect:  19%|██████▉                              | 179/963 [09:32<50:55,  3.90s/it]"
     ]
    },
    {
     "name": "stdout",
     "output_type": "stream",
     "text": [
      "AP: 0.8778 - AUC-ROC: 0.9297 - AUC-PR: 0.8778 - P@50: 0.8800 > C0019348: herpes simplex\n"
     ]
    },
    {
     "name": "stderr",
     "output_type": "stream",
     "text": [
      "\r",
      "Evaluating test data for each side-effect:  19%|██████▉                              | 180/963 [09:36<51:27,  3.94s/it]"
     ]
    },
    {
     "name": "stdout",
     "output_type": "stream",
     "text": [
      "AP: 0.9271 - AUC-ROC: 0.9371 - AUC-PR: 0.9271 - P@50: 0.9600 > C0042909: Vitreous haemorrhage\n"
     ]
    },
    {
     "name": "stderr",
     "output_type": "stream",
     "text": [
      "\r",
      "Evaluating test data for each side-effect:  19%|██████▉                              | 181/963 [09:39<49:38,  3.81s/it]"
     ]
    },
    {
     "name": "stdout",
     "output_type": "stream",
     "text": [
      "AP: 0.8835 - AUC-ROC: 0.9280 - AUC-PR: 0.8835 - P@50: 0.9200 > C0026769: multiple sclerosis\n"
     ]
    },
    {
     "name": "stderr",
     "output_type": "stream",
     "text": [
      "\r",
      "Evaluating test data for each side-effect:  19%|██████▉                              | 182/963 [09:43<48:59,  3.76s/it]"
     ]
    },
    {
     "name": "stdout",
     "output_type": "stream",
     "text": [
      "AP: 0.9282 - AUC-ROC: 0.9545 - AUC-PR: 0.9282 - P@50: 0.9400 > C0033246: proctitis\n"
     ]
    },
    {
     "name": "stderr",
     "output_type": "stream",
     "text": [
      "\r",
      "Evaluating test data for each side-effect:  19%|███████                              | 183/963 [09:46<44:57,  3.46s/it]"
     ]
    },
    {
     "name": "stdout",
     "output_type": "stream",
     "text": [
      "AP: 0.9290 - AUC-ROC: 0.9453 - AUC-PR: 0.9290 - P@50: 0.9800 > C0026821: cramp\n"
     ]
    },
    {
     "name": "stderr",
     "output_type": "stream",
     "text": [
      "\r",
      "Evaluating test data for each side-effect:  19%|███████                              | 184/963 [09:49<43:33,  3.35s/it]"
     ]
    },
    {
     "name": "stdout",
     "output_type": "stream",
     "text": [
      "AP: 0.8914 - AUC-ROC: 0.9329 - AUC-PR: 0.8914 - P@50: 0.9000 > C0032227: Pleural Effusion\n"
     ]
    },
    {
     "name": "stderr",
     "output_type": "stream",
     "text": [
      "\r",
      "Evaluating test data for each side-effect:  19%|███████                              | 185/963 [09:53<45:34,  3.52s/it]"
     ]
    },
    {
     "name": "stdout",
     "output_type": "stream",
     "text": [
      "AP: 0.9085 - AUC-ROC: 0.9403 - AUC-PR: 0.9085 - P@50: 0.9400 > C0235896: lung infiltration\n"
     ]
    },
    {
     "name": "stderr",
     "output_type": "stream",
     "text": [
      "\r",
      "Evaluating test data for each side-effect:  19%|███████▏                             | 186/963 [09:56<46:03,  3.56s/it]"
     ]
    },
    {
     "name": "stdout",
     "output_type": "stream",
     "text": [
      "AP: 0.9830 - AUC-ROC: 0.9852 - AUC-PR: 0.9830 - P@50: 0.9800 > C0271468: Eustachian tube disorder\n"
     ]
    },
    {
     "name": "stderr",
     "output_type": "stream",
     "text": [
      "\r",
      "Evaluating test data for each side-effect:  19%|███████▏                             | 187/963 [09:59<44:03,  3.41s/it]"
     ]
    },
    {
     "name": "stdout",
     "output_type": "stream",
     "text": [
      "AP: 0.8747 - AUC-ROC: 0.9368 - AUC-PR: 0.8747 - P@50: 0.8800 > C0032781: Post nasal drip\n"
     ]
    },
    {
     "name": "stderr",
     "output_type": "stream",
     "text": [
      "\r",
      "Evaluating test data for each side-effect:  20%|███████▏                             | 188/963 [10:02<42:43,  3.31s/it]"
     ]
    },
    {
     "name": "stdout",
     "output_type": "stream",
     "text": [
      "AP: 0.9871 - AUC-ROC: 0.9869 - AUC-PR: 0.9871 - P@50: 0.9800 > C0039446: telangiectases\n"
     ]
    },
    {
     "name": "stderr",
     "output_type": "stream",
     "text": [
      "\r",
      "Evaluating test data for each side-effect:  20%|███████▎                             | 189/963 [10:05<41:48,  3.24s/it]"
     ]
    },
    {
     "name": "stdout",
     "output_type": "stream",
     "text": [
      "AP: 0.9538 - AUC-ROC: 0.9647 - AUC-PR: 0.9538 - P@50: 0.9400 > C0030299: pancreatic pseudocyst\n"
     ]
    },
    {
     "name": "stderr",
     "output_type": "stream",
     "text": [
      "\r",
      "Evaluating test data for each side-effect:  20%|███████▎                             | 190/963 [10:09<43:52,  3.41s/it]"
     ]
    },
    {
     "name": "stdout",
     "output_type": "stream",
     "text": [
      "AP: 0.8912 - AUC-ROC: 0.9297 - AUC-PR: 0.8912 - P@50: 0.9200 > C0043144: wheeze\n"
     ]
    },
    {
     "name": "stderr",
     "output_type": "stream",
     "text": [
      "\r",
      "Evaluating test data for each side-effect:  20%|███████▎                             | 191/963 [10:13<44:28,  3.46s/it]"
     ]
    },
    {
     "name": "stdout",
     "output_type": "stream",
     "text": [
      "AP: 0.9024 - AUC-ROC: 0.9355 - AUC-PR: 0.9024 - P@50: 0.9200 > C0162429: malnourished\n"
     ]
    },
    {
     "name": "stderr",
     "output_type": "stream",
     "text": [
      "\r",
      "Evaluating test data for each side-effect:  20%|███████▍                             | 192/963 [10:18<49:11,  3.83s/it]"
     ]
    },
    {
     "name": "stdout",
     "output_type": "stream",
     "text": [
      "AP: 0.9491 - AUC-ROC: 0.9726 - AUC-PR: 0.9491 - P@50: 0.9600 > C0033953: psychosexual disorder\n"
     ]
    },
    {
     "name": "stderr",
     "output_type": "stream",
     "text": [
      "\r",
      "Evaluating test data for each side-effect:  20%|███████▍                             | 193/963 [10:21<48:22,  3.77s/it]"
     ]
    },
    {
     "name": "stdout",
     "output_type": "stream",
     "text": [
      "AP: 0.8754 - AUC-ROC: 0.9232 - AUC-PR: 0.8754 - P@50: 0.8600 > C0021311: infection\n"
     ]
    },
    {
     "name": "stderr",
     "output_type": "stream",
     "text": [
      "\r",
      "Evaluating test data for each side-effect:  20%|███████▍                             | 194/963 [10:25<47:25,  3.70s/it]"
     ]
    },
    {
     "name": "stdout",
     "output_type": "stream",
     "text": [
      "AP: 0.9143 - AUC-ROC: 0.9363 - AUC-PR: 0.9143 - P@50: 0.9800 > C0030312: bone marrow failure\n"
     ]
    },
    {
     "name": "stderr",
     "output_type": "stream",
     "text": [
      "\r",
      "Evaluating test data for each side-effect:  20%|███████▍                             | 195/963 [10:28<45:47,  3.58s/it]"
     ]
    },
    {
     "name": "stdout",
     "output_type": "stream",
     "text": [
      "AP: 0.9319 - AUC-ROC: 0.9604 - AUC-PR: 0.9319 - P@50: 0.9600 > C0005697: neurogenic bladder\n"
     ]
    },
    {
     "name": "stderr",
     "output_type": "stream",
     "text": [
      "\r",
      "Evaluating test data for each side-effect:  20%|███████▌                             | 196/963 [10:31<42:39,  3.34s/it]"
     ]
    },
    {
     "name": "stdout",
     "output_type": "stream",
     "text": [
      "AP: 0.8931 - AUC-ROC: 0.9326 - AUC-PR: 0.8931 - P@50: 0.9400 > C0037383: sneezing\n"
     ]
    },
    {
     "name": "stderr",
     "output_type": "stream",
     "text": [
      "\r",
      "Evaluating test data for each side-effect:  20%|███████▌                             | 197/963 [10:34<41:44,  3.27s/it]"
     ]
    },
    {
     "name": "stdout",
     "output_type": "stream",
     "text": [
      "AP: 0.9130 - AUC-ROC: 0.9397 - AUC-PR: 0.9130 - P@50: 0.9400 > C0020598: Blood calcium decreased\n"
     ]
    },
    {
     "name": "stderr",
     "output_type": "stream",
     "text": [
      "\r",
      "Evaluating test data for each side-effect:  21%|███████▌                             | 198/963 [10:37<41:33,  3.26s/it]"
     ]
    },
    {
     "name": "stdout",
     "output_type": "stream",
     "text": [
      "AP: 0.9198 - AUC-ROC: 0.9534 - AUC-PR: 0.9198 - P@50: 0.9400 > C0014394: Enuresis\n"
     ]
    },
    {
     "name": "stderr",
     "output_type": "stream",
     "text": [
      "\r",
      "Evaluating test data for each side-effect:  21%|███████▋                             | 199/963 [10:40<40:59,  3.22s/it]"
     ]
    },
    {
     "name": "stdout",
     "output_type": "stream",
     "text": [
      "AP: 0.9728 - AUC-ROC: 0.9760 - AUC-PR: 0.9728 - P@50: 0.9800 > C0086438: hypogammaglobulinaemia\n"
     ]
    },
    {
     "name": "stderr",
     "output_type": "stream",
     "text": [
      "\r",
      "Evaluating test data for each side-effect:  21%|███████▋                             | 200/963 [10:43<39:19,  3.09s/it]"
     ]
    },
    {
     "name": "stdout",
     "output_type": "stream",
     "text": [
      "AP: 0.9127 - AUC-ROC: 0.9458 - AUC-PR: 0.9127 - P@50: 0.8800 > C0149726: pulmonary mass\n"
     ]
    },
    {
     "name": "stderr",
     "output_type": "stream",
     "text": [
      "\r",
      "Evaluating test data for each side-effect:  21%|███████▋                             | 201/963 [10:46<39:25,  3.10s/it]"
     ]
    },
    {
     "name": "stdout",
     "output_type": "stream",
     "text": [
      "AP: 0.9049 - AUC-ROC: 0.9388 - AUC-PR: 0.9049 - P@50: 0.9000 > C0021845: intestinal perforation\n"
     ]
    },
    {
     "name": "stderr",
     "output_type": "stream",
     "text": [
      "\r",
      "Evaluating test data for each side-effect:  21%|███████▊                             | 202/963 [10:49<39:28,  3.11s/it]"
     ]
    },
    {
     "name": "stdout",
     "output_type": "stream",
     "text": [
      "AP: 0.9704 - AUC-ROC: 0.9750 - AUC-PR: 0.9704 - P@50: 0.9800 > C0205929: Anal fistula\n"
     ]
    },
    {
     "name": "stderr",
     "output_type": "stream",
     "text": [
      "\r",
      "Evaluating test data for each side-effect:  21%|███████▊                             | 203/963 [10:53<40:42,  3.21s/it]"
     ]
    },
    {
     "name": "stdout",
     "output_type": "stream",
     "text": [
      "AP: 0.9143 - AUC-ROC: 0.9369 - AUC-PR: 0.9143 - P@50: 0.9400 > C0000786: abortion spontaneous\n"
     ]
    },
    {
     "name": "stderr",
     "output_type": "stream",
     "text": [
      "\r",
      "Evaluating test data for each side-effect:  21%|███████▊                             | 204/963 [10:56<39:15,  3.10s/it]"
     ]
    },
    {
     "name": "stdout",
     "output_type": "stream",
     "text": [
      "AP: 0.9351 - AUC-ROC: 0.9600 - AUC-PR: 0.9351 - P@50: 0.9600 > C0151706: bleeding Vaginal\n"
     ]
    },
    {
     "name": "stderr",
     "output_type": "stream",
     "text": [
      "\r",
      "Evaluating test data for each side-effect:  21%|███████▉                             | 205/963 [10:59<39:14,  3.11s/it]"
     ]
    },
    {
     "name": "stdout",
     "output_type": "stream",
     "text": [
      "AP: 0.9186 - AUC-ROC: 0.9508 - AUC-PR: 0.9186 - P@50: 0.9000 > C0037315: sleep apnea\n"
     ]
    },
    {
     "name": "stderr",
     "output_type": "stream",
     "text": [
      "\r",
      "Evaluating test data for each side-effect:  21%|███████▉                             | 206/963 [11:02<38:13,  3.03s/it]"
     ]
    },
    {
     "name": "stdout",
     "output_type": "stream",
     "text": [
      "AP: 0.9700 - AUC-ROC: 0.9728 - AUC-PR: 0.9700 - P@50: 0.9800 > C0024894: breast inflammation\n"
     ]
    },
    {
     "name": "stderr",
     "output_type": "stream",
     "text": [
      "\r",
      "Evaluating test data for each side-effect:  21%|███████▉                             | 207/963 [11:05<38:33,  3.06s/it]"
     ]
    },
    {
     "name": "stdout",
     "output_type": "stream",
     "text": [
      "AP: 0.9028 - AUC-ROC: 0.9434 - AUC-PR: 0.9028 - P@50: 0.9000 > C0020557: elevated triglycerides\n"
     ]
    },
    {
     "name": "stderr",
     "output_type": "stream",
     "text": [
      "\r",
      "Evaluating test data for each side-effect:  22%|███████▉                             | 208/963 [11:08<41:09,  3.27s/it]"
     ]
    },
    {
     "name": "stdout",
     "output_type": "stream",
     "text": [
      "AP: 0.8923 - AUC-ROC: 0.9238 - AUC-PR: 0.8923 - P@50: 0.9200 > C0038814: sunburn\n"
     ]
    },
    {
     "name": "stderr",
     "output_type": "stream",
     "text": [
      "\r",
      "Evaluating test data for each side-effect:  22%|████████                             | 209/963 [11:12<42:55,  3.42s/it]"
     ]
    },
    {
     "name": "stdout",
     "output_type": "stream",
     "text": [
      "AP: 0.8976 - AUC-ROC: 0.9466 - AUC-PR: 0.8976 - P@50: 0.8800 > C0043246: laceration\n"
     ]
    },
    {
     "name": "stderr",
     "output_type": "stream",
     "text": [
      "\r",
      "Evaluating test data for each side-effect:  22%|████████                             | 210/963 [11:16<42:34,  3.39s/it]"
     ]
    },
    {
     "name": "stdout",
     "output_type": "stream",
     "text": [
      "AP: 0.8957 - AUC-ROC: 0.9279 - AUC-PR: 0.8957 - P@50: 0.9200 > C0750426: increased white blood cell count\n"
     ]
    },
    {
     "name": "stderr",
     "output_type": "stream",
     "text": [
      "\r",
      "Evaluating test data for each side-effect:  22%|████████                             | 211/963 [11:18<40:29,  3.23s/it]"
     ]
    },
    {
     "name": "stdout",
     "output_type": "stream",
     "text": [
      "AP: 0.9443 - AUC-ROC: 0.9695 - AUC-PR: 0.9443 - P@50: 0.9600 > C0020540: malignant hypertension\n"
     ]
    },
    {
     "name": "stderr",
     "output_type": "stream",
     "text": [
      "\r",
      "Evaluating test data for each side-effect:  22%|████████▏                            | 212/963 [11:22<39:57,  3.19s/it]"
     ]
    },
    {
     "name": "stdout",
     "output_type": "stream",
     "text": [
      "AP: 0.9493 - AUC-ROC: 0.9625 - AUC-PR: 0.9493 - P@50: 0.9800 > C0041952: calculus ureteric\n"
     ]
    },
    {
     "name": "stderr",
     "output_type": "stream",
     "text": [
      "\r",
      "Evaluating test data for each side-effect:  22%|████████▏                            | 213/963 [11:25<39:59,  3.20s/it]"
     ]
    },
    {
     "name": "stdout",
     "output_type": "stream",
     "text": [
      "AP: 0.8994 - AUC-ROC: 0.9456 - AUC-PR: 0.8994 - P@50: 0.8400 > C0086769: panic attack\n"
     ]
    },
    {
     "name": "stderr",
     "output_type": "stream",
     "text": [
      "\r",
      "Evaluating test data for each side-effect:  22%|████████▏                            | 214/963 [11:28<38:47,  3.11s/it]"
     ]
    },
    {
     "name": "stdout",
     "output_type": "stream",
     "text": [
      "AP: 0.9303 - AUC-ROC: 0.9557 - AUC-PR: 0.9303 - P@50: 0.9400 > C0036454: scotoma\n"
     ]
    },
    {
     "name": "stderr",
     "output_type": "stream",
     "text": [
      "\r",
      "Evaluating test data for each side-effect:  22%|████████▎                            | 215/963 [11:31<39:26,  3.16s/it]"
     ]
    },
    {
     "name": "stdout",
     "output_type": "stream",
     "text": [
      "AP: 0.9153 - AUC-ROC: 0.9502 - AUC-PR: 0.9153 - P@50: 0.9600 > C0010414: cryptococcosis\n"
     ]
    },
    {
     "name": "stderr",
     "output_type": "stream",
     "text": [
      "\r",
      "Evaluating test data for each side-effect:  22%|████████▎                            | 216/963 [11:33<37:11,  2.99s/it]"
     ]
    },
    {
     "name": "stdout",
     "output_type": "stream",
     "text": [
      "AP: 0.9297 - AUC-ROC: 0.9463 - AUC-PR: 0.9297 - P@50: 0.9600 > C0042420: syncope vasovagal\n"
     ]
    },
    {
     "name": "stderr",
     "output_type": "stream",
     "text": [
      "\r",
      "Evaluating test data for each side-effect:  23%|████████▎                            | 217/963 [11:37<37:18,  3.00s/it]"
     ]
    },
    {
     "name": "stdout",
     "output_type": "stream",
     "text": [
      "AP: 0.9576 - AUC-ROC: 0.9742 - AUC-PR: 0.9576 - P@50: 0.9800 > C0011854: insulin dependent diabetes mellitus\n"
     ]
    },
    {
     "name": "stderr",
     "output_type": "stream",
     "text": [
      "\r",
      "Evaluating test data for each side-effect:  23%|████████▍                            | 218/963 [11:39<37:02,  2.98s/it]"
     ]
    },
    {
     "name": "stdout",
     "output_type": "stream",
     "text": [
      "AP: 0.9880 - AUC-ROC: 0.9888 - AUC-PR: 0.9880 - P@50: 1.0000 > C0003611: appendectomy\n"
     ]
    },
    {
     "name": "stderr",
     "output_type": "stream",
     "text": [
      "\r",
      "Evaluating test data for each side-effect:  23%|████████▍                            | 219/963 [11:43<38:32,  3.11s/it]"
     ]
    },
    {
     "name": "stdout",
     "output_type": "stream",
     "text": [
      "AP: 0.9324 - AUC-ROC: 0.9480 - AUC-PR: 0.9324 - P@50: 0.9600 > C0042345: varicose vein\n"
     ]
    },
    {
     "name": "stderr",
     "output_type": "stream",
     "text": [
      "\r",
      "Evaluating test data for each side-effect:  23%|████████▍                            | 220/963 [11:46<37:09,  3.00s/it]"
     ]
    },
    {
     "name": "stdout",
     "output_type": "stream",
     "text": [
      "AP: 0.9543 - AUC-ROC: 0.9704 - AUC-PR: 0.9543 - P@50: 0.9200 > C0021099: impetigo\n"
     ]
    },
    {
     "name": "stderr",
     "output_type": "stream",
     "text": [
      "\r",
      "Evaluating test data for each side-effect:  23%|████████▍                            | 221/963 [11:49<37:17,  3.02s/it]"
     ]
    },
    {
     "name": "stdout",
     "output_type": "stream",
     "text": [
      "AP: 0.8889 - AUC-ROC: 0.9309 - AUC-PR: 0.8889 - P@50: 0.8800 > C0003578: Apnea\n"
     ]
    },
    {
     "name": "stderr",
     "output_type": "stream",
     "text": [
      "\r",
      "Evaluating test data for each side-effect:  23%|████████▌                            | 222/963 [11:51<36:00,  2.92s/it]"
     ]
    },
    {
     "name": "stdout",
     "output_type": "stream",
     "text": [
      "AP: 0.8962 - AUC-ROC: 0.9293 - AUC-PR: 0.8962 - P@50: 0.9200 > C0018674: head injury\n"
     ]
    },
    {
     "name": "stderr",
     "output_type": "stream",
     "text": [
      "\r",
      "Evaluating test data for each side-effect:  23%|████████▌                            | 223/963 [11:55<36:55,  2.99s/it]"
     ]
    },
    {
     "name": "stdout",
     "output_type": "stream",
     "text": [
      "AP: 0.9094 - AUC-ROC: 0.9410 - AUC-PR: 0.9094 - P@50: 0.9400 > C0151636: Extrasystoles Ventricular\n"
     ]
    },
    {
     "name": "stderr",
     "output_type": "stream",
     "text": [
      "\r",
      "Evaluating test data for each side-effect:  23%|████████▌                            | 224/963 [11:58<37:13,  3.02s/it]"
     ]
    },
    {
     "name": "stdout",
     "output_type": "stream",
     "text": [
      "AP: 0.9603 - AUC-ROC: 0.9636 - AUC-PR: 0.9603 - P@50: 0.9400 > C0027430: nasal polyp\n"
     ]
    },
    {
     "name": "stderr",
     "output_type": "stream",
     "text": [
      "\r",
      "Evaluating test data for each side-effect:  23%|████████▋                            | 225/963 [12:01<38:22,  3.12s/it]"
     ]
    },
    {
     "name": "stdout",
     "output_type": "stream",
     "text": [
      "AP: 0.9011 - AUC-ROC: 0.9484 - AUC-PR: 0.9011 - P@50: 0.9000 > C0024586: carcinoid syndrome\n"
     ]
    },
    {
     "name": "stderr",
     "output_type": "stream",
     "text": [
      "\r",
      "Evaluating test data for each side-effect:  23%|████████▋                            | 226/963 [12:04<38:36,  3.14s/it]"
     ]
    },
    {
     "name": "stdout",
     "output_type": "stream",
     "text": [
      "AP: 0.9059 - AUC-ROC: 0.9279 - AUC-PR: 0.9059 - P@50: 0.9400 > C0014544: epilepsy\n"
     ]
    },
    {
     "name": "stderr",
     "output_type": "stream",
     "text": [
      "\r",
      "Evaluating test data for each side-effect:  24%|████████▋                            | 227/963 [12:07<38:39,  3.15s/it]"
     ]
    },
    {
     "name": "stdout",
     "output_type": "stream",
     "text": [
      "AP: 0.9215 - AUC-ROC: 0.9461 - AUC-PR: 0.9215 - P@50: 0.9600 > C0004030: aspergillosis\n"
     ]
    },
    {
     "name": "stderr",
     "output_type": "stream",
     "text": [
      "\r",
      "Evaluating test data for each side-effect:  24%|████████▊                            | 228/963 [12:11<40:37,  3.32s/it]"
     ]
    },
    {
     "name": "stdout",
     "output_type": "stream",
     "text": [
      "AP: 0.8771 - AUC-ROC: 0.9257 - AUC-PR: 0.8771 - P@50: 0.8600 > C0006826: cancer\n"
     ]
    },
    {
     "name": "stderr",
     "output_type": "stream",
     "text": [
      "\r",
      "Evaluating test data for each side-effect:  24%|████████▊                            | 229/963 [12:14<40:30,  3.31s/it]"
     ]
    },
    {
     "name": "stdout",
     "output_type": "stream",
     "text": [
      "AP: 0.8779 - AUC-ROC: 0.9251 - AUC-PR: 0.8779 - P@50: 0.9000 > C0008031: chest pain\n"
     ]
    },
    {
     "name": "stderr",
     "output_type": "stream",
     "text": [
      "\r",
      "Evaluating test data for each side-effect:  24%|████████▊                            | 230/963 [12:18<42:05,  3.45s/it]"
     ]
    },
    {
     "name": "stdout",
     "output_type": "stream",
     "text": [
      "AP: 0.9190 - AUC-ROC: 0.9475 - AUC-PR: 0.9190 - P@50: 0.9400 > C0018824: cardiac valvulopathy\n"
     ]
    },
    {
     "name": "stderr",
     "output_type": "stream",
     "text": [
      "\r",
      "Evaluating test data for each side-effect:  24%|████████▉                            | 231/963 [12:21<40:02,  3.28s/it]"
     ]
    },
    {
     "name": "stdout",
     "output_type": "stream",
     "text": [
      "AP: 0.9414 - AUC-ROC: 0.9525 - AUC-PR: 0.9414 - P@50: 1.0000 > C0151970: esophageal ulcer\n"
     ]
    },
    {
     "name": "stderr",
     "output_type": "stream",
     "text": [
      "\r",
      "Evaluating test data for each side-effect:  24%|████████▉                            | 232/963 [12:25<41:33,  3.41s/it]"
     ]
    },
    {
     "name": "stdout",
     "output_type": "stream",
     "text": [
      "AP: 0.9492 - AUC-ROC: 0.9631 - AUC-PR: 0.9492 - P@50: 0.9600 > C0014118: endocarditis\n"
     ]
    },
    {
     "name": "stderr",
     "output_type": "stream",
     "text": [
      "\r",
      "Evaluating test data for each side-effect:  24%|████████▉                            | 233/963 [12:28<40:04,  3.29s/it]"
     ]
    },
    {
     "name": "stdout",
     "output_type": "stream",
     "text": [
      "AP: 0.9066 - AUC-ROC: 0.9409 - AUC-PR: 0.9066 - P@50: 0.9400 > C0018944: haematoma\n"
     ]
    },
    {
     "name": "stderr",
     "output_type": "stream",
     "text": [
      "\r",
      "Evaluating test data for each side-effect:  24%|████████▉                            | 234/963 [12:31<40:29,  3.33s/it]"
     ]
    },
    {
     "name": "stdout",
     "output_type": "stream",
     "text": [
      "AP: 0.8903 - AUC-ROC: 0.9359 - AUC-PR: 0.8903 - P@50: 0.8400 > C0032300: lobar pneumonia\n"
     ]
    },
    {
     "name": "stderr",
     "output_type": "stream",
     "text": [
      "\r",
      "Evaluating test data for each side-effect:  24%|█████████                            | 235/963 [12:34<39:19,  3.24s/it]"
     ]
    },
    {
     "name": "stdout",
     "output_type": "stream",
     "text": [
      "AP: 0.9303 - AUC-ROC: 0.9426 - AUC-PR: 0.9303 - P@50: 0.9200 > C0018818: ventricular septal defect\n"
     ]
    },
    {
     "name": "stderr",
     "output_type": "stream",
     "text": [
      "\r",
      "Evaluating test data for each side-effect:  25%|█████████                            | 236/963 [12:37<39:20,  3.25s/it]"
     ]
    },
    {
     "name": "stdout",
     "output_type": "stream",
     "text": [
      "AP: 0.8697 - AUC-ROC: 0.9177 - AUC-PR: 0.8697 - P@50: 0.8600 > C0428977: bradycardia\n"
     ]
    },
    {
     "name": "stderr",
     "output_type": "stream",
     "text": [
      "\r",
      "Evaluating test data for each side-effect:  25%|█████████                            | 237/963 [12:41<40:19,  3.33s/it]"
     ]
    },
    {
     "name": "stdout",
     "output_type": "stream",
     "text": [
      "AP: 0.9580 - AUC-ROC: 0.9693 - AUC-PR: 0.9580 - P@50: 0.9800 > C0152032: hesitancy\n"
     ]
    },
    {
     "name": "stderr",
     "output_type": "stream",
     "text": [
      "\r",
      "Evaluating test data for each side-effect:  25%|█████████▏                           | 238/963 [12:44<40:35,  3.36s/it]"
     ]
    },
    {
     "name": "stdout",
     "output_type": "stream",
     "text": [
      "AP: 0.9426 - AUC-ROC: 0.9619 - AUC-PR: 0.9426 - P@50: 0.9400 > C0040128: thyroid disease\n"
     ]
    },
    {
     "name": "stderr",
     "output_type": "stream",
     "text": [
      "\r",
      "Evaluating test data for each side-effect:  25%|█████████▏                           | 239/963 [12:47<39:29,  3.27s/it]"
     ]
    },
    {
     "name": "stdout",
     "output_type": "stream",
     "text": [
      "AP: 0.8500 - AUC-ROC: 0.9099 - AUC-PR: 0.8500 - P@50: 0.8200 > C0011615: allergic dermatitis\n"
     ]
    },
    {
     "name": "stderr",
     "output_type": "stream",
     "text": [
      "\r",
      "Evaluating test data for each side-effect:  25%|█████████▏                           | 240/963 [12:51<40:45,  3.38s/it]"
     ]
    },
    {
     "name": "stdout",
     "output_type": "stream",
     "text": [
      "AP: 0.8960 - AUC-ROC: 0.9346 - AUC-PR: 0.8960 - P@50: 0.9000 > C0006849: candidiasis of mouth\n"
     ]
    },
    {
     "name": "stderr",
     "output_type": "stream",
     "text": [
      "\r",
      "Evaluating test data for each side-effect:  25%|█████████▎                           | 241/963 [12:55<42:52,  3.56s/it]"
     ]
    },
    {
     "name": "stdout",
     "output_type": "stream",
     "text": [
      "AP: 0.9760 - AUC-ROC: 0.9830 - AUC-PR: 0.9760 - P@50: 0.9600 > C0262578: night cramps\n"
     ]
    },
    {
     "name": "stderr",
     "output_type": "stream",
     "text": [
      "\r",
      "Evaluating test data for each side-effect:  25%|█████████▎                           | 242/963 [12:58<40:35,  3.38s/it]"
     ]
    },
    {
     "name": "stdout",
     "output_type": "stream",
     "text": [
      "AP: 0.9342 - AUC-ROC: 0.9486 - AUC-PR: 0.9342 - P@50: 0.9800 > C0034155: thrombotic microangiopathy\n"
     ]
    },
    {
     "name": "stderr",
     "output_type": "stream",
     "text": [
      "\r",
      "Evaluating test data for each side-effect:  25%|█████████▎                           | 243/963 [13:02<41:05,  3.42s/it]"
     ]
    },
    {
     "name": "stdout",
     "output_type": "stream",
     "text": [
      "AP: 0.9472 - AUC-ROC: 0.9597 - AUC-PR: 0.9472 - P@50: 0.9400 > C0149778: soft tissue infection\n"
     ]
    },
    {
     "name": "stderr",
     "output_type": "stream",
     "text": [
      "\r",
      "Evaluating test data for each side-effect:  25%|█████████▎                           | 244/963 [13:04<39:08,  3.27s/it]"
     ]
    },
    {
     "name": "stdout",
     "output_type": "stream",
     "text": [
      "AP: 0.8945 - AUC-ROC: 0.9338 - AUC-PR: 0.8945 - P@50: 0.9000 > C0038379: Strabismus\n"
     ]
    },
    {
     "name": "stderr",
     "output_type": "stream",
     "text": [
      "\r",
      "Evaluating test data for each side-effect:  25%|█████████▍                           | 245/963 [13:08<39:51,  3.33s/it]"
     ]
    },
    {
     "name": "stdout",
     "output_type": "stream",
     "text": [
      "AP: 0.9656 - AUC-ROC: 0.9735 - AUC-PR: 0.9656 - P@50: 0.9800 > C0332687: Burns Second Degree\n"
     ]
    },
    {
     "name": "stderr",
     "output_type": "stream",
     "text": [
      "\r",
      "Evaluating test data for each side-effect:  26%|█████████▍                           | 246/963 [13:11<39:52,  3.34s/it]"
     ]
    },
    {
     "name": "stdout",
     "output_type": "stream",
     "text": [
      "AP: 0.9298 - AUC-ROC: 0.9610 - AUC-PR: 0.9298 - P@50: 0.9800 > C0282488: Cystitis Interstitial\n"
     ]
    },
    {
     "name": "stderr",
     "output_type": "stream",
     "text": [
      "\r",
      "Evaluating test data for each side-effect:  26%|█████████▍                           | 247/963 [13:15<40:17,  3.38s/it]"
     ]
    },
    {
     "name": "stdout",
     "output_type": "stream",
     "text": [
      "AP: 0.9302 - AUC-ROC: 0.9507 - AUC-PR: 0.9302 - P@50: 0.9800 > C0019291: hernia hiatal\n"
     ]
    },
    {
     "name": "stderr",
     "output_type": "stream",
     "text": [
      "\r",
      "Evaluating test data for each side-effect:  26%|█████████▌                           | 248/963 [13:18<40:38,  3.41s/it]"
     ]
    },
    {
     "name": "stdout",
     "output_type": "stream",
     "text": [
      "AP: 0.9495 - AUC-ROC: 0.9597 - AUC-PR: 0.9495 - P@50: 0.9800 > C1257843: colitis pseudomembranous\n"
     ]
    },
    {
     "name": "stderr",
     "output_type": "stream",
     "text": [
      "\r",
      "Evaluating test data for each side-effect:  26%|█████████▌                           | 249/963 [13:21<39:59,  3.36s/it]"
     ]
    },
    {
     "name": "stdout",
     "output_type": "stream",
     "text": [
      "AP: 0.8730 - AUC-ROC: 0.9243 - AUC-PR: 0.8730 - P@50: 0.8400 > C0011175: dehydration\n"
     ]
    },
    {
     "name": "stderr",
     "output_type": "stream",
     "text": [
      "\r",
      "Evaluating test data for each side-effect:  26%|█████████▌                           | 250/963 [13:25<41:02,  3.45s/it]"
     ]
    },
    {
     "name": "stdout",
     "output_type": "stream",
     "text": [
      "AP: 0.9893 - AUC-ROC: 0.9891 - AUC-PR: 0.9893 - P@50: 0.9800 > C0032633: dyshidrosis\n"
     ]
    },
    {
     "name": "stderr",
     "output_type": "stream",
     "text": [
      "\r",
      "Evaluating test data for each side-effect:  26%|█████████▋                           | 251/963 [13:28<39:07,  3.30s/it]"
     ]
    },
    {
     "name": "stdout",
     "output_type": "stream",
     "text": [
      "AP: 0.9774 - AUC-ROC: 0.9776 - AUC-PR: 0.9774 - P@50: 1.0000 > C0022893: labyrinthitis\n"
     ]
    },
    {
     "name": "stderr",
     "output_type": "stream",
     "text": [
      "\r",
      "Evaluating test data for each side-effect:  26%|█████████▋                           | 252/963 [13:32<40:32,  3.42s/it]"
     ]
    },
    {
     "name": "stdout",
     "output_type": "stream",
     "text": [
      "AP: 0.8606 - AUC-ROC: 0.9123 - AUC-PR: 0.8606 - P@50: 0.8600 > C0231218: Feeling unwell\n"
     ]
    },
    {
     "name": "stderr",
     "output_type": "stream",
     "text": [
      "\r",
      "Evaluating test data for each side-effect:  26%|█████████▋                           | 253/963 [13:35<40:04,  3.39s/it]"
     ]
    },
    {
     "name": "stdout",
     "output_type": "stream",
     "text": [
      "AP: 0.8809 - AUC-ROC: 0.9298 - AUC-PR: 0.8809 - P@50: 0.8600 > C0702166: Acne\n"
     ]
    },
    {
     "name": "stderr",
     "output_type": "stream",
     "text": [
      "\r",
      "Evaluating test data for each side-effect:  26%|█████████▊                           | 254/963 [13:38<39:23,  3.33s/it]"
     ]
    },
    {
     "name": "stdout",
     "output_type": "stream",
     "text": [
      "AP: 0.9242 - AUC-ROC: 0.9536 - AUC-PR: 0.9242 - P@50: 0.9600 > C0008035: Chest wall pain\n"
     ]
    },
    {
     "name": "stderr",
     "output_type": "stream",
     "text": [
      "\r",
      "Evaluating test data for each side-effect:  26%|█████████▊                           | 255/963 [13:42<38:54,  3.30s/it]"
     ]
    },
    {
     "name": "stdout",
     "output_type": "stream",
     "text": [
      "AP: 0.9400 - AUC-ROC: 0.9652 - AUC-PR: 0.9400 - P@50: 0.9400 > C0917799: excessive sleepiness\n"
     ]
    },
    {
     "name": "stderr",
     "output_type": "stream",
     "text": [
      "\r",
      "Evaluating test data for each side-effect:  27%|█████████▊                           | 256/963 [13:45<37:51,  3.21s/it]"
     ]
    },
    {
     "name": "stdout",
     "output_type": "stream",
     "text": [
      "AP: 0.9259 - AUC-ROC: 0.9510 - AUC-PR: 0.9259 - P@50: 0.9200 > C0151825: bone pain\n"
     ]
    },
    {
     "name": "stderr",
     "output_type": "stream",
     "text": [
      "\r",
      "Evaluating test data for each side-effect:  27%|█████████▊                           | 257/963 [13:48<38:19,  3.26s/it]"
     ]
    },
    {
     "name": "stdout",
     "output_type": "stream",
     "text": [
      "AP: 0.8799 - AUC-ROC: 0.9203 - AUC-PR: 0.8799 - P@50: 0.9000 > C0002792: anaphylactic reaction\n"
     ]
    },
    {
     "name": "stderr",
     "output_type": "stream",
     "text": [
      "\r",
      "Evaluating test data for each side-effect:  27%|█████████▉                           | 258/963 [13:51<38:15,  3.26s/it]"
     ]
    },
    {
     "name": "stdout",
     "output_type": "stream",
     "text": [
      "AP: 0.8751 - AUC-ROC: 0.9256 - AUC-PR: 0.8751 - P@50: 0.8600 > C0019151: hepatic encephalopathy\n"
     ]
    },
    {
     "name": "stderr",
     "output_type": "stream",
     "text": [
      "\r",
      "Evaluating test data for each side-effect:  27%|█████████▉                           | 259/963 [13:54<38:03,  3.24s/it]"
     ]
    },
    {
     "name": "stdout",
     "output_type": "stream",
     "text": [
      "AP: 0.8997 - AUC-ROC: 0.9357 - AUC-PR: 0.8997 - P@50: 0.9200 > C0917801: insomnia\n"
     ]
    },
    {
     "name": "stderr",
     "output_type": "stream",
     "text": [
      "\r",
      "Evaluating test data for each side-effect:  27%|█████████▉                           | 260/963 [13:58<40:05,  3.42s/it]"
     ]
    },
    {
     "name": "stdout",
     "output_type": "stream",
     "text": [
      "AP: 0.9207 - AUC-ROC: 0.9496 - AUC-PR: 0.9207 - P@50: 0.9200 > C0149725: Chest infection\n"
     ]
    },
    {
     "name": "stderr",
     "output_type": "stream",
     "text": [
      "\r",
      "Evaluating test data for each side-effect:  27%|██████████                           | 261/963 [14:01<38:03,  3.25s/it]"
     ]
    },
    {
     "name": "stdout",
     "output_type": "stream",
     "text": [
      "AP: 0.9670 - AUC-ROC: 0.9684 - AUC-PR: 0.9670 - P@50: 0.9400 > C0025160: megacolon\n"
     ]
    },
    {
     "name": "stderr",
     "output_type": "stream",
     "text": [
      "\r",
      "Evaluating test data for each side-effect:  27%|██████████                           | 262/963 [14:04<38:23,  3.29s/it]"
     ]
    },
    {
     "name": "stdout",
     "output_type": "stream",
     "text": [
      "AP: 0.8943 - AUC-ROC: 0.9344 - AUC-PR: 0.8943 - P@50: 0.8600 > C0043094: weight gain\n"
     ]
    },
    {
     "name": "stderr",
     "output_type": "stream",
     "text": [
      "\r",
      "Evaluating test data for each side-effect:  27%|██████████                           | 263/963 [14:08<37:50,  3.24s/it]"
     ]
    },
    {
     "name": "stdout",
     "output_type": "stream",
     "text": [
      "AP: 0.8798 - AUC-ROC: 0.9217 - AUC-PR: 0.8798 - P@50: 0.8800 > C0039231: heart rate increased\n"
     ]
    },
    {
     "name": "stderr",
     "output_type": "stream",
     "text": [
      "\r",
      "Evaluating test data for each side-effect:  27%|██████████▏                          | 264/963 [14:11<39:41,  3.41s/it]"
     ]
    },
    {
     "name": "stdout",
     "output_type": "stream",
     "text": [
      "AP: 0.9263 - AUC-ROC: 0.9584 - AUC-PR: 0.9263 - P@50: 0.9400 > C0149531: fractured pelvis NOS\n"
     ]
    },
    {
     "name": "stderr",
     "output_type": "stream",
     "text": [
      "\r",
      "Evaluating test data for each side-effect:  28%|██████████▏                          | 265/963 [14:14<38:18,  3.29s/it]"
     ]
    },
    {
     "name": "stdout",
     "output_type": "stream",
     "text": [
      "AP: 0.8910 - AUC-ROC: 0.9290 - AUC-PR: 0.8910 - P@50: 0.8800 > C0178415: elevated prostate specific antigen\n"
     ]
    },
    {
     "name": "stderr",
     "output_type": "stream",
     "text": [
      "\r",
      "Evaluating test data for each side-effect:  28%|██████████▏                          | 266/963 [14:18<37:36,  3.24s/it]"
     ]
    },
    {
     "name": "stdout",
     "output_type": "stream",
     "text": [
      "AP: 0.9363 - AUC-ROC: 0.9570 - AUC-PR: 0.9363 - P@50: 0.9600 > C0264545: pleural fibrosis\n"
     ]
    },
    {
     "name": "stderr",
     "output_type": "stream",
     "text": [
      "\r",
      "Evaluating test data for each side-effect:  28%|██████████▎                          | 267/963 [14:20<35:07,  3.03s/it]"
     ]
    },
    {
     "name": "stdout",
     "output_type": "stream",
     "text": [
      "AP: 0.8943 - AUC-ROC: 0.9294 - AUC-PR: 0.8943 - P@50: 0.9400 > C0003537: aphasia\n"
     ]
    },
    {
     "name": "stderr",
     "output_type": "stream",
     "text": [
      "\r",
      "Evaluating test data for each side-effect:  28%|██████████▎                          | 268/963 [14:23<35:10,  3.04s/it]"
     ]
    },
    {
     "name": "stdout",
     "output_type": "stream",
     "text": [
      "AP: 0.9243 - AUC-ROC: 0.9644 - AUC-PR: 0.9243 - P@50: 0.9400 > C0037995: splenectomy\n"
     ]
    },
    {
     "name": "stderr",
     "output_type": "stream",
     "text": [
      "\r",
      "Evaluating test data for each side-effect:  28%|██████████▎                          | 269/963 [14:26<35:02,  3.03s/it]"
     ]
    },
    {
     "name": "stdout",
     "output_type": "stream",
     "text": [
      "AP: 0.9027 - AUC-ROC: 0.9375 - AUC-PR: 0.9027 - P@50: 0.9600 > C0002622: Amnesia\n"
     ]
    },
    {
     "name": "stderr",
     "output_type": "stream",
     "text": [
      "\r",
      "Evaluating test data for each side-effect:  28%|██████████▎                          | 270/963 [14:30<37:52,  3.28s/it]"
     ]
    },
    {
     "name": "stdout",
     "output_type": "stream",
     "text": [
      "AP: 0.9241 - AUC-ROC: 0.9457 - AUC-PR: 0.9241 - P@50: 0.9600 > C0023211: bundle branch block left\n"
     ]
    },
    {
     "name": "stderr",
     "output_type": "stream",
     "text": [
      "\r",
      "Evaluating test data for each side-effect:  28%|██████████▍                          | 271/963 [14:33<36:34,  3.17s/it]"
     ]
    },
    {
     "name": "stdout",
     "output_type": "stream",
     "text": [
      "AP: 0.8656 - AUC-ROC: 0.9212 - AUC-PR: 0.8656 - P@50: 0.8400 > C0011991: diarrhea\n"
     ]
    },
    {
     "name": "stderr",
     "output_type": "stream",
     "text": [
      "\r",
      "Evaluating test data for each side-effect:  28%|██████████▍                          | 272/963 [14:36<36:47,  3.20s/it]"
     ]
    },
    {
     "name": "stdout",
     "output_type": "stream",
     "text": [
      "AP: 0.9027 - AUC-ROC: 0.9360 - AUC-PR: 0.9027 - P@50: 0.9200 > C0015695: fatty liver\n"
     ]
    },
    {
     "name": "stderr",
     "output_type": "stream",
     "text": [
      "\r",
      "Evaluating test data for each side-effect:  28%|██████████▍                          | 273/963 [14:39<35:44,  3.11s/it]"
     ]
    },
    {
     "name": "stdout",
     "output_type": "stream",
     "text": [
      "AP: 0.9438 - AUC-ROC: 0.9539 - AUC-PR: 0.9438 - P@50: 0.9800 > C0042847: vitamin B 12 deficiency\n"
     ]
    },
    {
     "name": "stderr",
     "output_type": "stream",
     "text": [
      "\r",
      "Evaluating test data for each side-effect:  28%|██████████▌                          | 274/963 [14:42<34:42,  3.02s/it]"
     ]
    },
    {
     "name": "stdout",
     "output_type": "stream",
     "text": [
      "AP: 0.9000 - AUC-ROC: 0.9406 - AUC-PR: 0.9000 - P@50: 0.9000 > C0019521: hiccough\n"
     ]
    },
    {
     "name": "stderr",
     "output_type": "stream",
     "text": [
      "\r",
      "Evaluating test data for each side-effect:  29%|██████████▌                          | 275/963 [14:45<35:15,  3.08s/it]"
     ]
    },
    {
     "name": "stdout",
     "output_type": "stream",
     "text": [
      "AP: 0.9154 - AUC-ROC: 0.9392 - AUC-PR: 0.9154 - P@50: 0.9600 > C0006840: Candida Infection\n"
     ]
    },
    {
     "name": "stderr",
     "output_type": "stream",
     "text": [
      "\r",
      "Evaluating test data for each side-effect:  29%|██████████▌                          | 276/963 [14:48<33:54,  2.96s/it]"
     ]
    },
    {
     "name": "stdout",
     "output_type": "stream",
     "text": [
      "AP: 0.9954 - AUC-ROC: 0.9950 - AUC-PR: 0.9954 - P@50: 1.0000 > C0026780: Mumps\n"
     ]
    },
    {
     "name": "stderr",
     "output_type": "stream",
     "text": [
      "\r",
      "Evaluating test data for each side-effect:  29%|██████████▋                          | 277/963 [14:51<33:30,  2.93s/it]"
     ]
    },
    {
     "name": "stdout",
     "output_type": "stream",
     "text": [
      "AP: 0.9184 - AUC-ROC: 0.9373 - AUC-PR: 0.9184 - P@50: 0.8800 > C1527407: eosinophilic pneumonia\n"
     ]
    },
    {
     "name": "stderr",
     "output_type": "stream",
     "text": [
      "\r",
      "Evaluating test data for each side-effect:  29%|██████████▋                          | 278/963 [14:53<32:07,  2.81s/it]"
     ]
    },
    {
     "name": "stdout",
     "output_type": "stream",
     "text": [
      "AP: 0.9061 - AUC-ROC: 0.9496 - AUC-PR: 0.9061 - P@50: 0.9600 > C0235974: pancreatic cancer\n"
     ]
    },
    {
     "name": "stderr",
     "output_type": "stream",
     "text": [
      "\r",
      "Evaluating test data for each side-effect:  29%|██████████▋                          | 279/963 [14:56<32:04,  2.81s/it]"
     ]
    },
    {
     "name": "stdout",
     "output_type": "stream",
     "text": [
      "AP: 0.9619 - AUC-ROC: 0.9759 - AUC-PR: 0.9619 - P@50: 0.9600 > C0033581: prostatitis\n"
     ]
    },
    {
     "name": "stderr",
     "output_type": "stream",
     "text": [
      "\r",
      "Evaluating test data for each side-effect:  29%|██████████▊                          | 280/963 [14:59<31:04,  2.73s/it]"
     ]
    },
    {
     "name": "stdout",
     "output_type": "stream",
     "text": [
      "AP: 0.9438 - AUC-ROC: 0.9650 - AUC-PR: 0.9438 - P@50: 0.9600 > C0025323: heavy menstrual period\n"
     ]
    },
    {
     "name": "stderr",
     "output_type": "stream",
     "text": [
      "\r",
      "Evaluating test data for each side-effect:  29%|██████████▊                          | 281/963 [15:01<31:18,  2.75s/it]"
     ]
    },
    {
     "name": "stdout",
     "output_type": "stream",
     "text": [
      "AP: 0.9582 - AUC-ROC: 0.9718 - AUC-PR: 0.9582 - P@50: 0.9800 > C0686347: tardive dyskinesia\n"
     ]
    },
    {
     "name": "stderr",
     "output_type": "stream",
     "text": [
      "\r",
      "Evaluating test data for each side-effect:  29%|██████████▊                          | 282/963 [15:04<31:29,  2.78s/it]"
     ]
    },
    {
     "name": "stdout",
     "output_type": "stream",
     "text": [
      "AP: 0.9102 - AUC-ROC: 0.9348 - AUC-PR: 0.9102 - P@50: 0.9800 > C0001122: Acidosis\n"
     ]
    },
    {
     "name": "stderr",
     "output_type": "stream",
     "text": [
      "\r",
      "Evaluating test data for each side-effect:  29%|██████████▊                          | 283/963 [15:07<31:48,  2.81s/it]"
     ]
    },
    {
     "name": "stdout",
     "output_type": "stream",
     "text": [
      "AP: 0.9247 - AUC-ROC: 0.9486 - AUC-PR: 0.9247 - P@50: 0.9400 > C0013595: eczema\n"
     ]
    },
    {
     "name": "stderr",
     "output_type": "stream",
     "text": [
      "\r",
      "Evaluating test data for each side-effect:  29%|██████████▉                          | 284/963 [15:10<31:58,  2.82s/it]"
     ]
    },
    {
     "name": "stdout",
     "output_type": "stream",
     "text": [
      "AP: 0.8862 - AUC-ROC: 0.9317 - AUC-PR: 0.8862 - P@50: 0.9000 > C0014335: enteritis\n"
     ]
    },
    {
     "name": "stderr",
     "output_type": "stream",
     "text": [
      "\r",
      "Evaluating test data for each side-effect:  30%|██████████▉                          | 285/963 [15:13<32:03,  2.84s/it]"
     ]
    },
    {
     "name": "stdout",
     "output_type": "stream",
     "text": [
      "AP: 0.9256 - AUC-ROC: 0.9526 - AUC-PR: 0.9256 - P@50: 0.9400 > C0018188: granuloma\n"
     ]
    },
    {
     "name": "stderr",
     "output_type": "stream",
     "text": [
      "\r",
      "Evaluating test data for each side-effect:  30%|██████████▉                          | 286/963 [15:15<30:57,  2.74s/it]"
     ]
    },
    {
     "name": "stdout",
     "output_type": "stream",
     "text": [
      "AP: 0.8923 - AUC-ROC: 0.9257 - AUC-PR: 0.8923 - P@50: 0.9200 > C0151699: haemorrhage intracranial\n"
     ]
    },
    {
     "name": "stderr",
     "output_type": "stream",
     "text": [
      "\r",
      "Evaluating test data for each side-effect:  30%|███████████                          | 287/963 [15:18<31:20,  2.78s/it]"
     ]
    },
    {
     "name": "stdout",
     "output_type": "stream",
     "text": [
      "AP: 0.9381 - AUC-ROC: 0.9656 - AUC-PR: 0.9381 - P@50: 0.9000 > C0015645: fasciitis\n"
     ]
    },
    {
     "name": "stderr",
     "output_type": "stream",
     "text": [
      "\r",
      "Evaluating test data for each side-effect:  30%|███████████                          | 288/963 [15:21<32:44,  2.91s/it]"
     ]
    },
    {
     "name": "stdout",
     "output_type": "stream",
     "text": [
      "AP: 0.9092 - AUC-ROC: 0.9434 - AUC-PR: 0.9092 - P@50: 0.9000 > C0025289: meningitides\n"
     ]
    },
    {
     "name": "stderr",
     "output_type": "stream",
     "text": [
      "\r",
      "Evaluating test data for each side-effect:  30%|███████████                          | 289/963 [15:24<31:31,  2.81s/it]"
     ]
    },
    {
     "name": "stdout",
     "output_type": "stream",
     "text": [
      "AP: 0.9008 - AUC-ROC: 0.9326 - AUC-PR: 0.9008 - P@50: 0.9400 > C0243026: sepsis\n"
     ]
    },
    {
     "name": "stderr",
     "output_type": "stream",
     "text": [
      "\r",
      "Evaluating test data for each side-effect:  30%|███████████▏                         | 290/963 [15:27<31:32,  2.81s/it]"
     ]
    },
    {
     "name": "stdout",
     "output_type": "stream",
     "text": [
      "AP: 0.9291 - AUC-ROC: 0.9579 - AUC-PR: 0.9291 - P@50: 0.9200 > C0014724: belching\n"
     ]
    },
    {
     "name": "stderr",
     "output_type": "stream",
     "text": [
      "\r",
      "Evaluating test data for each side-effect:  30%|███████████▏                         | 291/963 [15:30<32:41,  2.92s/it]"
     ]
    },
    {
     "name": "stdout",
     "output_type": "stream",
     "text": [
      "AP: 0.9600 - AUC-ROC: 0.9668 - AUC-PR: 0.9600 - P@50: 1.0000 > C0039503: Tendinitis\n"
     ]
    },
    {
     "name": "stderr",
     "output_type": "stream",
     "text": [
      "\r",
      "Evaluating test data for each side-effect:  30%|███████████▏                         | 292/963 [15:32<31:27,  2.81s/it]"
     ]
    },
    {
     "name": "stdout",
     "output_type": "stream",
     "text": [
      "AP: 0.9005 - AUC-ROC: 0.9410 - AUC-PR: 0.9005 - P@50: 0.8600 > C0032326: pneumothorax\n"
     ]
    },
    {
     "name": "stderr",
     "output_type": "stream",
     "text": [
      "\r",
      "Evaluating test data for each side-effect:  30%|███████████▎                         | 293/963 [15:35<31:31,  2.82s/it]"
     ]
    },
    {
     "name": "stdout",
     "output_type": "stream",
     "text": [
      "AP: 0.9293 - AUC-ROC: 0.9509 - AUC-PR: 0.9293 - P@50: 0.9400 > C0029443: osteomyelitis\n"
     ]
    },
    {
     "name": "stderr",
     "output_type": "stream",
     "text": [
      "\r",
      "Evaluating test data for each side-effect:  31%|███████████▎                         | 294/963 [15:38<30:36,  2.74s/it]"
     ]
    },
    {
     "name": "stdout",
     "output_type": "stream",
     "text": [
      "AP: 0.9445 - AUC-ROC: 0.9584 - AUC-PR: 0.9445 - P@50: 0.9800 > C0029927: Ovarian Cyst\n"
     ]
    },
    {
     "name": "stderr",
     "output_type": "stream",
     "text": [
      "\r",
      "Evaluating test data for each side-effect:  31%|███████████▎                         | 295/963 [15:41<30:53,  2.78s/it]"
     ]
    },
    {
     "name": "stdout",
     "output_type": "stream",
     "text": [
      "AP: 0.9444 - AUC-ROC: 0.9638 - AUC-PR: 0.9444 - P@50: 0.9600 > C0040261: onychomycosis\n"
     ]
    },
    {
     "name": "stderr",
     "output_type": "stream",
     "text": [
      "\r",
      "Evaluating test data for each side-effect:  31%|███████████▎                         | 296/963 [15:44<31:10,  2.80s/it]"
     ]
    },
    {
     "name": "stdout",
     "output_type": "stream",
     "text": [
      "AP: 0.9680 - AUC-ROC: 0.9708 - AUC-PR: 0.9680 - P@50: 1.0000 > C0015408: eye injury\n"
     ]
    },
    {
     "name": "stderr",
     "output_type": "stream",
     "text": [
      "\r",
      "Evaluating test data for each side-effect:  31%|███████████▍                         | 297/963 [15:46<30:18,  2.73s/it]"
     ]
    },
    {
     "name": "stdout",
     "output_type": "stream",
     "text": [
      "AP: 0.9259 - AUC-ROC: 0.9471 - AUC-PR: 0.9259 - P@50: 0.9800 > C0037284: skin lesion\n"
     ]
    },
    {
     "name": "stderr",
     "output_type": "stream",
     "text": [
      "\r",
      "Evaluating test data for each side-effect:  31%|███████████▍                         | 298/963 [15:49<30:53,  2.79s/it]"
     ]
    },
    {
     "name": "stdout",
     "output_type": "stream",
     "text": [
      "AP: 0.9861 - AUC-ROC: 0.9879 - AUC-PR: 0.9861 - P@50: 0.9800 > C0241353: testicular swelling\n"
     ]
    },
    {
     "name": "stderr",
     "output_type": "stream",
     "text": [
      "\r",
      "Evaluating test data for each side-effect:  31%|███████████▍                         | 299/963 [15:52<30:07,  2.72s/it]"
     ]
    },
    {
     "name": "stdout",
     "output_type": "stream",
     "text": [
      "AP: 0.8976 - AUC-ROC: 0.9309 - AUC-PR: 0.8976 - P@50: 0.9600 > C0851578: sleep disorder\n"
     ]
    },
    {
     "name": "stderr",
     "output_type": "stream",
     "text": [
      "\r",
      "Evaluating test data for each side-effect:  31%|███████████▌                         | 300/963 [15:55<30:39,  2.77s/it]"
     ]
    },
    {
     "name": "stdout",
     "output_type": "stream",
     "text": [
      "AP: 0.8976 - AUC-ROC: 0.9396 - AUC-PR: 0.8976 - P@50: 0.8800 > C0015469: facial palsy\n"
     ]
    },
    {
     "name": "stderr",
     "output_type": "stream",
     "text": [
      "\r",
      "Evaluating test data for each side-effect:  31%|███████████▌                         | 301/963 [15:57<30:51,  2.80s/it]"
     ]
    },
    {
     "name": "stdout",
     "output_type": "stream",
     "text": [
      "AP: 0.9442 - AUC-ROC: 0.9641 - AUC-PR: 0.9442 - P@50: 0.9400 > C0024205: adenitis\n"
     ]
    },
    {
     "name": "stderr",
     "output_type": "stream",
     "text": [
      "\r",
      "Evaluating test data for each side-effect:  31%|███████████▌                         | 302/963 [16:00<30:54,  2.80s/it]"
     ]
    },
    {
     "name": "stdout",
     "output_type": "stream",
     "text": [
      "AP: 0.9624 - AUC-ROC: 0.9710 - AUC-PR: 0.9624 - P@50: 1.0000 > C0700594: radiculopathy\n"
     ]
    },
    {
     "name": "stderr",
     "output_type": "stream",
     "text": [
      "\r",
      "Evaluating test data for each side-effect:  31%|███████████▋                         | 303/963 [16:03<31:13,  2.84s/it]"
     ]
    },
    {
     "name": "stdout",
     "output_type": "stream",
     "text": [
      "AP: 0.9252 - AUC-ROC: 0.9526 - AUC-PR: 0.9252 - P@50: 0.9400 > C0022116: ischaemia\n"
     ]
    },
    {
     "name": "stderr",
     "output_type": "stream",
     "text": [
      "\r",
      "Evaluating test data for each side-effect:  32%|███████████▋                         | 304/963 [16:06<30:13,  2.75s/it]"
     ]
    },
    {
     "name": "stdout",
     "output_type": "stream",
     "text": [
      "AP: 0.9295 - AUC-ROC: 0.9430 - AUC-PR: 0.9295 - P@50: 0.9200 > C0151966: duodenal ulcer haemorrhage\n"
     ]
    },
    {
     "name": "stderr",
     "output_type": "stream",
     "text": [
      "\r",
      "Evaluating test data for each side-effect:  32%|███████████▋                         | 305/963 [16:09<30:28,  2.78s/it]"
     ]
    },
    {
     "name": "stdout",
     "output_type": "stream",
     "text": [
      "AP: 0.9155 - AUC-ROC: 0.9443 - AUC-PR: 0.9155 - P@50: 0.9200 > C0019270: hernia\n"
     ]
    },
    {
     "name": "stderr",
     "output_type": "stream",
     "text": [
      "\r",
      "Evaluating test data for each side-effect:  32%|███████████▊                         | 306/963 [16:11<29:35,  2.70s/it]"
     ]
    },
    {
     "name": "stdout",
     "output_type": "stream",
     "text": [
      "AP: 0.9487 - AUC-ROC: 0.9581 - AUC-PR: 0.9487 - P@50: 1.0000 > C0023467: Acute myeloblastic leukemia\n"
     ]
    },
    {
     "name": "stderr",
     "output_type": "stream",
     "text": [
      "\r",
      "Evaluating test data for each side-effect:  32%|███████████▊                         | 307/963 [16:14<29:54,  2.74s/it]"
     ]
    },
    {
     "name": "stdout",
     "output_type": "stream",
     "text": [
      "AP: 0.9143 - AUC-ROC: 0.9443 - AUC-PR: 0.9143 - P@50: 0.9200 > C0015544: failure to thrive\n"
     ]
    },
    {
     "name": "stderr",
     "output_type": "stream",
     "text": [
      "\r",
      "Evaluating test data for each side-effect:  32%|███████████▊                         | 308/963 [16:17<30:11,  2.77s/it]"
     ]
    },
    {
     "name": "stdout",
     "output_type": "stream",
     "text": [
      "AP: 0.8995 - AUC-ROC: 0.9467 - AUC-PR: 0.8995 - P@50: 0.9000 > C0042798: Abnormal vision\n"
     ]
    },
    {
     "name": "stderr",
     "output_type": "stream",
     "text": [
      "\r",
      "Evaluating test data for each side-effect:  32%|███████████▊                         | 309/963 [16:20<31:26,  2.88s/it]"
     ]
    },
    {
     "name": "stdout",
     "output_type": "stream",
     "text": [
      "AP: 0.8594 - AUC-ROC: 0.9200 - AUC-PR: 0.8594 - P@50: 0.8800 > C0018784: Deafness neurosensory\n"
     ]
    },
    {
     "name": "stderr",
     "output_type": "stream",
     "text": [
      "\r",
      "Evaluating test data for each side-effect:  32%|███████████▉                         | 310/963 [16:22<30:19,  2.79s/it]"
     ]
    },
    {
     "name": "stdout",
     "output_type": "stream",
     "text": [
      "AP: 0.8789 - AUC-ROC: 0.9372 - AUC-PR: 0.8789 - P@50: 0.8200 > C0034186: pyelonephritis\n"
     ]
    },
    {
     "name": "stderr",
     "output_type": "stream",
     "text": [
      "\r",
      "Evaluating test data for each side-effect:  32%|███████████▉                         | 311/963 [16:25<30:45,  2.83s/it]"
     ]
    },
    {
     "name": "stdout",
     "output_type": "stream",
     "text": [
      "AP: 0.9732 - AUC-ROC: 0.9774 - AUC-PR: 0.9732 - P@50: 0.9800 > C0040584: tracheitis\n"
     ]
    },
    {
     "name": "stderr",
     "output_type": "stream",
     "text": [
      "\r",
      "Evaluating test data for each side-effect:  32%|███████████▉                         | 312/963 [16:28<29:56,  2.76s/it]"
     ]
    },
    {
     "name": "stdout",
     "output_type": "stream",
     "text": [
      "AP: 0.9397 - AUC-ROC: 0.9794 - AUC-PR: 0.9397 - P@50: 0.9800 > C0152013: lung adenocarcinoma\n"
     ]
    },
    {
     "name": "stderr",
     "output_type": "stream",
     "text": [
      "\r",
      "Evaluating test data for each side-effect:  33%|████████████                         | 313/963 [16:31<30:10,  2.78s/it]"
     ]
    },
    {
     "name": "stdout",
     "output_type": "stream",
     "text": [
      "AP: 0.9284 - AUC-ROC: 0.9467 - AUC-PR: 0.9284 - P@50: 0.9600 > C0024312: Lymphocytes decreased\n"
     ]
    },
    {
     "name": "stderr",
     "output_type": "stream",
     "text": [
      "\r",
      "Evaluating test data for each side-effect:  33%|████████████                         | 314/963 [16:33<29:15,  2.71s/it]"
     ]
    },
    {
     "name": "stdout",
     "output_type": "stream",
     "text": [
      "AP: 0.8714 - AUC-ROC: 0.9256 - AUC-PR: 0.8714 - P@50: 0.8000 > C1145670: respiratory failure\n"
     ]
    },
    {
     "name": "stderr",
     "output_type": "stream",
     "text": [
      "\r",
      "Evaluating test data for each side-effect:  33%|████████████                         | 315/963 [16:36<30:30,  2.83s/it]"
     ]
    },
    {
     "name": "stdout",
     "output_type": "stream",
     "text": [
      "AP: 0.9615 - AUC-ROC: 0.9681 - AUC-PR: 0.9615 - P@50: 0.9800 > C0023067: laryngitis\n"
     ]
    },
    {
     "name": "stderr",
     "output_type": "stream",
     "text": [
      "\r",
      "Evaluating test data for each side-effect:  33%|████████████▏                        | 316/963 [16:39<30:34,  2.83s/it]"
     ]
    },
    {
     "name": "stdout",
     "output_type": "stream",
     "text": [
      "AP: 0.8972 - AUC-ROC: 0.9464 - AUC-PR: 0.8972 - P@50: 0.8800 > C0004601: back injury\n"
     ]
    },
    {
     "name": "stderr",
     "output_type": "stream",
     "text": [
      "\r",
      "Evaluating test data for each side-effect:  33%|████████████▏                        | 317/963 [16:42<29:31,  2.74s/it]"
     ]
    },
    {
     "name": "stdout",
     "output_type": "stream",
     "text": [
      "AP: 0.9031 - AUC-ROC: 0.9390 - AUC-PR: 0.9031 - P@50: 0.9600 > C0028084: nightmare\n"
     ]
    },
    {
     "name": "stderr",
     "output_type": "stream",
     "text": [
      "\r",
      "Evaluating test data for each side-effect:  33%|████████████▏                        | 318/963 [16:45<30:49,  2.87s/it]"
     ]
    },
    {
     "name": "stdout",
     "output_type": "stream",
     "text": [
      "AP: 0.8828 - AUC-ROC: 0.9310 - AUC-PR: 0.8828 - P@50: 0.8200 > C0009806: constipated\n"
     ]
    },
    {
     "name": "stderr",
     "output_type": "stream",
     "text": [
      "\r",
      "Evaluating test data for each side-effect:  33%|████████████▎                        | 319/963 [16:48<30:45,  2.87s/it]"
     ]
    },
    {
     "name": "stdout",
     "output_type": "stream",
     "text": [
      "AP: 0.8804 - AUC-ROC: 0.9288 - AUC-PR: 0.8804 - P@50: 0.8400 > C0004093: asthenia\n"
     ]
    },
    {
     "name": "stderr",
     "output_type": "stream",
     "text": [
      "\r",
      "Evaluating test data for each side-effect:  33%|████████████▎                        | 320/963 [16:51<32:43,  3.05s/it]"
     ]
    },
    {
     "name": "stdout",
     "output_type": "stream",
     "text": [
      "AP: 0.9263 - AUC-ROC: 0.9603 - AUC-PR: 0.9263 - P@50: 0.9400 > C0042485: venous insufficiency\n"
     ]
    },
    {
     "name": "stderr",
     "output_type": "stream",
     "text": [
      "\r",
      "Evaluating test data for each side-effect:  33%|████████████▎                        | 321/963 [16:54<31:01,  2.90s/it]"
     ]
    },
    {
     "name": "stdout",
     "output_type": "stream",
     "text": [
      "AP: 0.9911 - AUC-ROC: 0.9899 - AUC-PR: 0.9911 - P@50: 1.0000 > C0085583: choreoathetosis\n"
     ]
    },
    {
     "name": "stderr",
     "output_type": "stream",
     "text": [
      "\r",
      "Evaluating test data for each side-effect:  33%|████████████▎                        | 322/963 [16:57<30:51,  2.89s/it]"
     ]
    },
    {
     "name": "stdout",
     "output_type": "stream",
     "text": [
      "AP: 0.9728 - AUC-ROC: 0.9775 - AUC-PR: 0.9728 - P@50: 0.9800 > C0013405: Dyspnoea paroxysmal nocturnal\n"
     ]
    },
    {
     "name": "stderr",
     "output_type": "stream",
     "text": [
      "\r",
      "Evaluating test data for each side-effect:  34%|████████████▍                        | 323/963 [17:00<31:42,  2.97s/it]"
     ]
    },
    {
     "name": "stdout",
     "output_type": "stream",
     "text": [
      "AP: 0.8807 - AUC-ROC: 0.9286 - AUC-PR: 0.8807 - P@50: 0.9000 > C0277925: Cold extremities\n"
     ]
    },
    {
     "name": "stderr",
     "output_type": "stream",
     "text": [
      "\r",
      "Evaluating test data for each side-effect:  34%|████████████▍                        | 324/963 [17:02<30:17,  2.84s/it]"
     ]
    },
    {
     "name": "stdout",
     "output_type": "stream",
     "text": [
      "AP: 0.8910 - AUC-ROC: 0.9356 - AUC-PR: 0.8910 - P@50: 0.9000 > C0003504: aortic regurgitation\n"
     ]
    },
    {
     "name": "stderr",
     "output_type": "stream",
     "text": [
      "\r",
      "Evaluating test data for each side-effect:  34%|████████████▍                        | 325/963 [17:05<30:16,  2.85s/it]"
     ]
    },
    {
     "name": "stdout",
     "output_type": "stream",
     "text": [
      "AP: 0.9499 - AUC-ROC: 0.9630 - AUC-PR: 0.9499 - P@50: 0.9600 > C0158986: hypoglycaemia neonatal\n"
     ]
    },
    {
     "name": "stderr",
     "output_type": "stream",
     "text": [
      "\r",
      "Evaluating test data for each side-effect:  34%|████████████▌                        | 326/963 [17:08<30:17,  2.85s/it]"
     ]
    },
    {
     "name": "stdout",
     "output_type": "stream",
     "text": [
      "AP: 0.9105 - AUC-ROC: 0.9338 - AUC-PR: 0.9105 - P@50: 0.9600 > C0003126: anosmia\n"
     ]
    },
    {
     "name": "stderr",
     "output_type": "stream",
     "text": [
      "\r",
      "Evaluating test data for each side-effect:  34%|████████████▌                        | 327/963 [17:11<29:24,  2.77s/it]"
     ]
    },
    {
     "name": "stdout",
     "output_type": "stream",
     "text": [
      "AP: 0.8973 - AUC-ROC: 0.9402 - AUC-PR: 0.8973 - P@50: 0.9200 > C0002874: Anemia aplastic\n"
     ]
    },
    {
     "name": "stderr",
     "output_type": "stream",
     "text": [
      "\r",
      "Evaluating test data for each side-effect:  34%|████████████▌                        | 328/963 [17:14<29:38,  2.80s/it]"
     ]
    },
    {
     "name": "stdout",
     "output_type": "stream",
     "text": [
      "AP: 0.9120 - AUC-ROC: 0.9455 - AUC-PR: 0.9120 - P@50: 0.9200 > C0012813: diverticulitis\n"
     ]
    },
    {
     "name": "stderr",
     "output_type": "stream",
     "text": [
      "\r",
      "Evaluating test data for each side-effect:  34%|████████████▋                        | 329/963 [17:16<28:54,  2.74s/it]"
     ]
    },
    {
     "name": "stdout",
     "output_type": "stream",
     "text": [
      "AP: 0.9860 - AUC-ROC: 0.9863 - AUC-PR: 0.9860 - P@50: 1.0000 > C0003079: Anisocoria\n"
     ]
    },
    {
     "name": "stderr",
     "output_type": "stream",
     "text": [
      "\r",
      "Evaluating test data for each side-effect:  34%|████████████▋                        | 330/963 [17:19<29:18,  2.78s/it]"
     ]
    },
    {
     "name": "stdout",
     "output_type": "stream",
     "text": [
      "AP: 0.8993 - AUC-ROC: 0.9391 - AUC-PR: 0.8993 - P@50: 0.9000 > C0035258: Ekbom Syndrome\n"
     ]
    },
    {
     "name": "stderr",
     "output_type": "stream",
     "text": [
      "\r",
      "Evaluating test data for each side-effect:  34%|████████████▋                        | 331/963 [17:22<28:32,  2.71s/it]"
     ]
    },
    {
     "name": "stdout",
     "output_type": "stream",
     "text": [
      "AP: 0.8652 - AUC-ROC: 0.9170 - AUC-PR: 0.8652 - P@50: 0.8600 > C0027441: nasopharyngitis\n"
     ]
    },
    {
     "name": "stderr",
     "output_type": "stream",
     "text": [
      "\r",
      "Evaluating test data for each side-effect:  34%|████████████▊                        | 332/963 [17:24<28:57,  2.75s/it]"
     ]
    },
    {
     "name": "stdout",
     "output_type": "stream",
     "text": [
      "AP: 0.9421 - AUC-ROC: 0.9627 - AUC-PR: 0.9421 - P@50: 0.9600 > C0002064: respiratory alkalosis\n"
     ]
    },
    {
     "name": "stderr",
     "output_type": "stream",
     "text": [
      "\r",
      "Evaluating test data for each side-effect:  35%|████████████▊                        | 333/963 [17:27<29:11,  2.78s/it]"
     ]
    },
    {
     "name": "stdout",
     "output_type": "stream",
     "text": [
      "AP: 0.9044 - AUC-ROC: 0.9338 - AUC-PR: 0.9044 - P@50: 0.9200 > C0034069: lung fibrosis\n"
     ]
    },
    {
     "name": "stderr",
     "output_type": "stream",
     "text": [
      "\r",
      "Evaluating test data for each side-effect:  35%|████████████▊                        | 334/963 [17:30<29:29,  2.81s/it]"
     ]
    },
    {
     "name": "stdout",
     "output_type": "stream",
     "text": [
      "AP: 0.9290 - AUC-ROC: 0.9551 - AUC-PR: 0.9290 - P@50: 0.9400 > C0085624: burning sensation\n"
     ]
    },
    {
     "name": "stderr",
     "output_type": "stream",
     "text": [
      "\r",
      "Evaluating test data for each side-effect:  35%|████████████▊                        | 335/963 [17:33<29:01,  2.77s/it]"
     ]
    },
    {
     "name": "stdout",
     "output_type": "stream",
     "text": [
      "AP: 0.9779 - AUC-ROC: 0.9796 - AUC-PR: 0.9779 - P@50: 1.0000 > C0027962: melanocytic naevus\n"
     ]
    },
    {
     "name": "stderr",
     "output_type": "stream",
     "text": [
      "\r",
      "Evaluating test data for each side-effect:  35%|████████████▉                        | 336/963 [17:36<29:13,  2.80s/it]"
     ]
    },
    {
     "name": "stdout",
     "output_type": "stream",
     "text": [
      "AP: 0.9286 - AUC-ROC: 0.9493 - AUC-PR: 0.9286 - P@50: 0.9800 > C0018932: haematochezia\n"
     ]
    },
    {
     "name": "stderr",
     "output_type": "stream",
     "text": [
      "\r",
      "Evaluating test data for each side-effect:  35%|████████████▉                        | 337/963 [17:39<29:32,  2.83s/it]"
     ]
    },
    {
     "name": "stdout",
     "output_type": "stream",
     "text": [
      "AP: 0.9151 - AUC-ROC: 0.9453 - AUC-PR: 0.9151 - P@50: 0.9400 > C0003850: arteriosclerosis\n"
     ]
    },
    {
     "name": "stderr",
     "output_type": "stream",
     "text": [
      "\r",
      "Evaluating test data for each side-effect:  35%|████████████▉                        | 338/963 [17:42<29:42,  2.85s/it]"
     ]
    },
    {
     "name": "stdout",
     "output_type": "stream",
     "text": [
      "AP: 0.9685 - AUC-ROC: 0.9772 - AUC-PR: 0.9685 - P@50: 0.9600 > C0158328: trigger finger\n"
     ]
    },
    {
     "name": "stderr",
     "output_type": "stream",
     "text": [
      "\r",
      "Evaluating test data for each side-effect:  35%|█████████████                        | 339/963 [17:44<28:46,  2.77s/it]"
     ]
    },
    {
     "name": "stdout",
     "output_type": "stream",
     "text": [
      "AP: 0.9308 - AUC-ROC: 0.9496 - AUC-PR: 0.9308 - P@50: 0.9400 > C0006625: cachectic\n"
     ]
    },
    {
     "name": "stderr",
     "output_type": "stream",
     "text": [
      "\r",
      "Evaluating test data for each side-effect:  35%|█████████████                        | 340/963 [17:47<28:58,  2.79s/it]"
     ]
    },
    {
     "name": "stdout",
     "output_type": "stream",
     "text": [
      "AP: 0.9531 - AUC-ROC: 0.9691 - AUC-PR: 0.9531 - P@50: 0.9800 > C0005961: bone marrow transplant\n"
     ]
    },
    {
     "name": "stderr",
     "output_type": "stream",
     "text": [
      "\r",
      "Evaluating test data for each side-effect:  35%|█████████████                        | 341/963 [17:50<28:08,  2.71s/it]"
     ]
    },
    {
     "name": "stdout",
     "output_type": "stream",
     "text": [
      "AP: 0.8877 - AUC-ROC: 0.9263 - AUC-PR: 0.8877 - P@50: 0.9200 > C0018790: asystole\n"
     ]
    },
    {
     "name": "stderr",
     "output_type": "stream",
     "text": [
      "\r",
      "Evaluating test data for each side-effect:  36%|█████████████▏                       | 342/963 [17:52<28:56,  2.80s/it]"
     ]
    },
    {
     "name": "stdout",
     "output_type": "stream",
     "text": [
      "AP: 0.9169 - AUC-ROC: 0.9561 - AUC-PR: 0.9169 - P@50: 0.9200 > C0341047: parotid gland enlargement\n"
     ]
    },
    {
     "name": "stderr",
     "output_type": "stream",
     "text": [
      "\r",
      "Evaluating test data for each side-effect:  36%|█████████████▏                       | 343/963 [17:55<29:01,  2.81s/it]"
     ]
    },
    {
     "name": "stdout",
     "output_type": "stream",
     "text": [
      "AP: 0.9281 - AUC-ROC: 0.9537 - AUC-PR: 0.9281 - P@50: 0.9400 > C0027813: Neuritis\n"
     ]
    },
    {
     "name": "stderr",
     "output_type": "stream",
     "text": [
      "\r",
      "Evaluating test data for each side-effect:  36%|█████████████▏                       | 344/963 [17:58<28:02,  2.72s/it]"
     ]
    },
    {
     "name": "stdout",
     "output_type": "stream",
     "text": [
      "AP: 0.9263 - AUC-ROC: 0.9522 - AUC-PR: 0.9263 - P@50: 0.9200 > C0030319: panic disorder\n"
     ]
    },
    {
     "name": "stderr",
     "output_type": "stream",
     "text": [
      "\r",
      "Evaluating test data for each side-effect:  36%|█████████████▎                       | 345/963 [18:01<28:21,  2.75s/it]"
     ]
    },
    {
     "name": "stdout",
     "output_type": "stream",
     "text": [
      "AP: 0.9211 - AUC-ROC: 0.9647 - AUC-PR: 0.9211 - P@50: 0.9400 > C0259817: xerosis\n"
     ]
    },
    {
     "name": "stderr",
     "output_type": "stream",
     "text": [
      "\r",
      "Evaluating test data for each side-effect:  36%|█████████████▎                       | 346/963 [18:04<29:33,  2.87s/it]"
     ]
    },
    {
     "name": "stdout",
     "output_type": "stream",
     "text": [
      "AP: 0.9156 - AUC-ROC: 0.9378 - AUC-PR: 0.9156 - P@50: 0.9800 > C0152027: sensory disturbance\n"
     ]
    },
    {
     "name": "stderr",
     "output_type": "stream",
     "text": [
      "\r",
      "Evaluating test data for each side-effect:  36%|█████████████▎                       | 347/963 [18:06<28:31,  2.78s/it]"
     ]
    },
    {
     "name": "stdout",
     "output_type": "stream",
     "text": [
      "AP: 0.9613 - AUC-ROC: 0.9769 - AUC-PR: 0.9613 - P@50: 0.9800 > C0037195: Sinus headache\n"
     ]
    },
    {
     "name": "stderr",
     "output_type": "stream",
     "text": [
      "\r",
      "Evaluating test data for each side-effect:  36%|█████████████▎                       | 348/963 [18:10<29:36,  2.89s/it]"
     ]
    },
    {
     "name": "stdout",
     "output_type": "stream",
     "text": [
      "AP: 0.9128 - AUC-ROC: 0.9401 - AUC-PR: 0.9128 - P@50: 0.9400 > C0085682: Hypophosphataemia\n"
     ]
    },
    {
     "name": "stderr",
     "output_type": "stream",
     "text": [
      "\r",
      "Evaluating test data for each side-effect:  36%|█████████████▍                       | 349/963 [18:12<28:31,  2.79s/it]"
     ]
    },
    {
     "name": "stdout",
     "output_type": "stream",
     "text": [
      "AP: 0.9738 - AUC-ROC: 0.9797 - AUC-PR: 0.9738 - P@50: 0.9800 > C0018924: haemarthrosis\n"
     ]
    },
    {
     "name": "stderr",
     "output_type": "stream",
     "text": [
      "\r",
      "Evaluating test data for each side-effect:  36%|█████████████▍                       | 350/963 [18:15<28:37,  2.80s/it]"
     ]
    },
    {
     "name": "stdout",
     "output_type": "stream",
     "text": [
      "AP: 0.8913 - AUC-ROC: 0.9269 - AUC-PR: 0.8913 - P@50: 0.9400 > C0231528: aching muscles\n"
     ]
    },
    {
     "name": "stderr",
     "output_type": "stream",
     "text": [
      "\r",
      "Evaluating test data for each side-effect:  36%|█████████████▍                       | 351/963 [18:18<28:19,  2.78s/it]"
     ]
    },
    {
     "name": "stdout",
     "output_type": "stream",
     "text": [
      "AP: 0.8664 - AUC-ROC: 0.9246 - AUC-PR: 0.8664 - P@50: 0.7400 > C0032285: neumonia\n"
     ]
    },
    {
     "name": "stderr",
     "output_type": "stream",
     "text": [
      "\r",
      "Evaluating test data for each side-effect:  37%|█████████████▌                       | 352/963 [18:21<30:31,  3.00s/it]"
     ]
    },
    {
     "name": "stdout",
     "output_type": "stream",
     "text": [
      "AP: 0.9303 - AUC-ROC: 0.9675 - AUC-PR: 0.9303 - P@50: 0.9400 > C0030486: paraplegia\n"
     ]
    },
    {
     "name": "stderr",
     "output_type": "stream",
     "text": [
      "\r",
      "Evaluating test data for each side-effect:  37%|█████████████▌                       | 353/963 [18:24<30:02,  2.96s/it]"
     ]
    },
    {
     "name": "stdout",
     "output_type": "stream",
     "text": [
      "AP: 0.8826 - AUC-ROC: 0.9394 - AUC-PR: 0.8826 - P@50: 0.8800 > C0020502: hyperparathyroidism\n"
     ]
    },
    {
     "name": "stderr",
     "output_type": "stream",
     "text": [
      "\r",
      "Evaluating test data for each side-effect:  37%|█████████████▌                       | 354/963 [18:27<28:43,  2.83s/it]"
     ]
    },
    {
     "name": "stdout",
     "output_type": "stream",
     "text": [
      "AP: 0.9643 - AUC-ROC: 0.9732 - AUC-PR: 0.9643 - P@50: 0.9600 > C0014175: endometriosis\n"
     ]
    },
    {
     "name": "stderr",
     "output_type": "stream",
     "text": [
      "\r",
      "Evaluating test data for each side-effect:  37%|█████████████▋                       | 355/963 [18:29<28:44,  2.84s/it]"
     ]
    },
    {
     "name": "stdout",
     "output_type": "stream",
     "text": [
      "AP: 0.8920 - AUC-ROC: 0.9338 - AUC-PR: 0.8920 - P@50: 0.8800 > C0575090: balance disorder\n"
     ]
    },
    {
     "name": "stderr",
     "output_type": "stream",
     "text": [
      "\r",
      "Evaluating test data for each side-effect:  37%|█████████████▋                       | 356/963 [18:32<28:04,  2.77s/it]"
     ]
    },
    {
     "name": "stdout",
     "output_type": "stream",
     "text": [
      "AP: 0.9487 - AUC-ROC: 0.9579 - AUC-PR: 0.9487 - P@50: 0.9600 > C0149678: EBV infection\n"
     ]
    },
    {
     "name": "stderr",
     "output_type": "stream",
     "text": [
      "\r",
      "Evaluating test data for each side-effect:  37%|█████████████▋                       | 357/963 [18:35<28:17,  2.80s/it]"
     ]
    },
    {
     "name": "stdout",
     "output_type": "stream",
     "text": [
      "AP: 0.9539 - AUC-ROC: 0.9582 - AUC-PR: 0.9539 - P@50: 0.9400 > C0002726: amyloidosis\n"
     ]
    },
    {
     "name": "stderr",
     "output_type": "stream",
     "text": [
      "\r",
      "Evaluating test data for each side-effect:  37%|█████████████▊                       | 358/963 [18:38<28:34,  2.83s/it]"
     ]
    },
    {
     "name": "stdout",
     "output_type": "stream",
     "text": [
      "AP: 0.9504 - AUC-ROC: 0.9663 - AUC-PR: 0.9504 - P@50: 0.9800 > C0020505: hyperalimentation\n"
     ]
    },
    {
     "name": "stderr",
     "output_type": "stream",
     "text": [
      "\r",
      "Evaluating test data for each side-effect:  37%|█████████████▊                       | 359/963 [18:40<27:50,  2.77s/it]"
     ]
    },
    {
     "name": "stdout",
     "output_type": "stream",
     "text": [
      "AP: 0.9374 - AUC-ROC: 0.9567 - AUC-PR: 0.9374 - P@50: 0.9600 > C0152030: Irritation Skin\n"
     ]
    },
    {
     "name": "stderr",
     "output_type": "stream",
     "text": [
      "\r",
      "Evaluating test data for each side-effect:  37%|█████████████▊                       | 360/963 [18:43<28:01,  2.79s/it]"
     ]
    },
    {
     "name": "stdout",
     "output_type": "stream",
     "text": [
      "AP: 0.8972 - AUC-ROC: 0.9422 - AUC-PR: 0.8972 - P@50: 0.8600 > C0392525: Nephrolithiasis\n"
     ]
    },
    {
     "name": "stderr",
     "output_type": "stream",
     "text": [
      "\r",
      "Evaluating test data for each side-effect:  37%|█████████████▊                       | 361/963 [18:46<28:14,  2.81s/it]"
     ]
    },
    {
     "name": "stdout",
     "output_type": "stream",
     "text": [
      "AP: 0.9350 - AUC-ROC: 0.9554 - AUC-PR: 0.9350 - P@50: 0.9800 > C0034735: Raynauds phenomenon\n"
     ]
    },
    {
     "name": "stderr",
     "output_type": "stream",
     "text": [
      "\r",
      "Evaluating test data for each side-effect:  38%|█████████████▉                       | 362/963 [18:49<28:16,  2.82s/it]"
     ]
    },
    {
     "name": "stdout",
     "output_type": "stream",
     "text": [
      "AP: 0.9374 - AUC-ROC: 0.9557 - AUC-PR: 0.9374 - P@50: 0.9400 > C0032310: viral pneumonia\n"
     ]
    },
    {
     "name": "stderr",
     "output_type": "stream",
     "text": [
      "\r",
      "Evaluating test data for each side-effect:  38%|█████████████▉                       | 363/963 [18:52<28:23,  2.84s/it]"
     ]
    },
    {
     "name": "stdout",
     "output_type": "stream",
     "text": [
      "AP: 0.8843 - AUC-ROC: 0.9295 - AUC-PR: 0.8843 - P@50: 0.8800 > C0031256: petechia\n"
     ]
    },
    {
     "name": "stderr",
     "output_type": "stream",
     "text": [
      "\r",
      "Evaluating test data for each side-effect:  38%|█████████████▉                       | 364/963 [18:54<27:29,  2.75s/it]"
     ]
    },
    {
     "name": "stdout",
     "output_type": "stream",
     "text": [
      "AP: 0.9168 - AUC-ROC: 0.9452 - AUC-PR: 0.9168 - P@50: 0.9400 > C0027424: nasal congestion\n"
     ]
    },
    {
     "name": "stderr",
     "output_type": "stream",
     "text": [
      "\r",
      "Evaluating test data for each side-effect:  38%|██████████████                       | 365/963 [18:57<27:46,  2.79s/it]"
     ]
    },
    {
     "name": "stdout",
     "output_type": "stream",
     "text": [
      "AP: 0.9163 - AUC-ROC: 0.9421 - AUC-PR: 0.9163 - P@50: 0.9400 > C1527344: dysphonia\n"
     ]
    },
    {
     "name": "stderr",
     "output_type": "stream",
     "text": [
      "\r",
      "Evaluating test data for each side-effect:  38%|██████████████                       | 366/963 [19:00<27:57,  2.81s/it]"
     ]
    },
    {
     "name": "stdout",
     "output_type": "stream",
     "text": [
      "AP: 0.9686 - AUC-ROC: 0.9714 - AUC-PR: 0.9686 - P@50: 1.0000 > C0003872: psoriatic arthritis\n"
     ]
    },
    {
     "name": "stderr",
     "output_type": "stream",
     "text": [
      "\r",
      "Evaluating test data for each side-effect:  38%|██████████████                       | 367/963 [19:03<28:00,  2.82s/it]"
     ]
    },
    {
     "name": "stdout",
     "output_type": "stream",
     "text": [
      "AP: 0.9143 - AUC-ROC: 0.9512 - AUC-PR: 0.9143 - P@50: 0.9400 > C0700200: Near Syncope\n"
     ]
    },
    {
     "name": "stderr",
     "output_type": "stream",
     "text": [
      "\r",
      "Evaluating test data for each side-effect:  38%|██████████████▏                      | 368/963 [19:06<27:11,  2.74s/it]"
     ]
    },
    {
     "name": "stdout",
     "output_type": "stream",
     "text": [
      "AP: 0.8694 - AUC-ROC: 0.9194 - AUC-PR: 0.8694 - P@50: 0.8600 > C0042769: Infection Viral\n"
     ]
    },
    {
     "name": "stderr",
     "output_type": "stream",
     "text": [
      "\r",
      "Evaluating test data for each side-effect:  38%|██████████████▏                      | 369/963 [19:08<27:41,  2.80s/it]"
     ]
    },
    {
     "name": "stdout",
     "output_type": "stream",
     "text": [
      "AP: 0.9445 - AUC-ROC: 0.9616 - AUC-PR: 0.9445 - P@50: 0.9600 > C0036396: ischias\n"
     ]
    },
    {
     "name": "stderr",
     "output_type": "stream",
     "text": [
      "\r",
      "Evaluating test data for each side-effect:  38%|██████████████▏                      | 370/963 [19:11<27:01,  2.73s/it]"
     ]
    },
    {
     "name": "stdout",
     "output_type": "stream",
     "text": [
      "AP: 0.9537 - AUC-ROC: 0.9629 - AUC-PR: 0.9537 - P@50: 0.9800 > C0007780: cerebral artery embolism\n"
     ]
    },
    {
     "name": "stderr",
     "output_type": "stream",
     "text": [
      "\r",
      "Evaluating test data for each side-effect:  39%|██████████████▎                      | 371/963 [19:14<27:14,  2.76s/it]"
     ]
    },
    {
     "name": "stdout",
     "output_type": "stream",
     "text": [
      "AP: 0.9426 - AUC-ROC: 0.9681 - AUC-PR: 0.9426 - P@50: 0.9400 > C1527336: Sjogrens syndrome\n"
     ]
    },
    {
     "name": "stderr",
     "output_type": "stream",
     "text": [
      "\r",
      "Evaluating test data for each side-effect:  39%|██████████████▎                      | 372/963 [19:17<27:25,  2.78s/it]"
     ]
    },
    {
     "name": "stdout",
     "output_type": "stream",
     "text": [
      "AP: 0.8987 - AUC-ROC: 0.9402 - AUC-PR: 0.8987 - P@50: 0.8800 > C0008767: Scar\n"
     ]
    },
    {
     "name": "stderr",
     "output_type": "stream",
     "text": [
      "\r",
      "Evaluating test data for each side-effect:  39%|██████████████▎                      | 373/963 [19:20<27:36,  2.81s/it]"
     ]
    },
    {
     "name": "stdout",
     "output_type": "stream",
     "text": [
      "AP: 0.9774 - AUC-ROC: 0.9784 - AUC-PR: 0.9774 - P@50: 1.0000 > C0009410: colostomy\n"
     ]
    },
    {
     "name": "stderr",
     "output_type": "stream",
     "text": [
      "\r",
      "Evaluating test data for each side-effect:  39%|██████████████▎                      | 374/963 [19:22<27:35,  2.81s/it]"
     ]
    },
    {
     "name": "stdout",
     "output_type": "stream",
     "text": [
      "AP: 0.9870 - AUC-ROC: 0.9889 - AUC-PR: 0.9870 - P@50: 0.9800 > C1258666: ganglion\n"
     ]
    },
    {
     "name": "stderr",
     "output_type": "stream",
     "text": [
      "\r",
      "Evaluating test data for each side-effect:  39%|██████████████▍                      | 375/963 [19:25<27:38,  2.82s/it]"
     ]
    },
    {
     "name": "stdout",
     "output_type": "stream",
     "text": [
      "AP: 0.9713 - AUC-ROC: 0.9721 - AUC-PR: 0.9713 - P@50: 0.9600 > C0028077: night blindness\n"
     ]
    },
    {
     "name": "stderr",
     "output_type": "stream",
     "text": [
      "\r",
      "Evaluating test data for each side-effect:  39%|██████████████▍                      | 376/963 [19:28<27:42,  2.83s/it]"
     ]
    },
    {
     "name": "stdout",
     "output_type": "stream",
     "text": [
      "AP: 0.9361 - AUC-ROC: 0.9538 - AUC-PR: 0.9361 - P@50: 0.9200 > C0016479: food poisoning\n"
     ]
    },
    {
     "name": "stderr",
     "output_type": "stream",
     "text": [
      "\r",
      "Evaluating test data for each side-effect:  39%|██████████████▍                      | 377/963 [19:31<26:50,  2.75s/it]"
     ]
    },
    {
     "name": "stdout",
     "output_type": "stream",
     "text": [
      "AP: 0.8675 - AUC-ROC: 0.9163 - AUC-PR: 0.8675 - P@50: 0.8400 > C0013221: drug toxicity NOS\n"
     ]
    },
    {
     "name": "stderr",
     "output_type": "stream",
     "text": [
      "\r",
      "Evaluating test data for each side-effect:  39%|██████████████▌                      | 378/963 [19:34<27:28,  2.82s/it]"
     ]
    },
    {
     "name": "stdout",
     "output_type": "stream",
     "text": [
      "AP: 0.9431 - AUC-ROC: 0.9646 - AUC-PR: 0.9431 - P@50: 0.9400 > C0162323: polyarthritis\n"
     ]
    },
    {
     "name": "stderr",
     "output_type": "stream",
     "text": [
      "\r",
      "Evaluating test data for each side-effect:  39%|██████████████▌                      | 379/963 [19:36<26:37,  2.74s/it]"
     ]
    },
    {
     "name": "stdout",
     "output_type": "stream",
     "text": [
      "AP: 0.8832 - AUC-ROC: 0.9386 - AUC-PR: 0.8832 - P@50: 0.8600 > C0037036: excessive salivation\n"
     ]
    },
    {
     "name": "stderr",
     "output_type": "stream",
     "text": [
      "\r",
      "Evaluating test data for each side-effect:  39%|██████████████▌                      | 380/963 [19:39<26:50,  2.76s/it]"
     ]
    },
    {
     "name": "stdout",
     "output_type": "stream",
     "text": [
      "AP: 0.9022 - AUC-ROC: 0.9417 - AUC-PR: 0.9022 - P@50: 0.9200 > C0022671: kidney transplant\n"
     ]
    },
    {
     "name": "stderr",
     "output_type": "stream",
     "text": [
      "\r",
      "Evaluating test data for each side-effect:  40%|██████████████▋                      | 381/963 [19:42<26:21,  2.72s/it]"
     ]
    },
    {
     "name": "stdout",
     "output_type": "stream",
     "text": [
      "AP: 0.8979 - AUC-ROC: 0.9333 - AUC-PR: 0.8979 - P@50: 0.9800 > C0085610: sinus bradycardia\n"
     ]
    },
    {
     "name": "stderr",
     "output_type": "stream",
     "text": [
      "\r",
      "Evaluating test data for each side-effect:  40%|██████████████▋                      | 382/963 [19:45<27:02,  2.79s/it]"
     ]
    },
    {
     "name": "stdout",
     "output_type": "stream",
     "text": [
      "AP: 0.9710 - AUC-ROC: 0.9714 - AUC-PR: 0.9710 - P@50: 0.9800 > C0026948: mycosis fungoides\n"
     ]
    },
    {
     "name": "stderr",
     "output_type": "stream",
     "text": [
      "\r",
      "Evaluating test data for each side-effect:  40%|██████████████▋                      | 383/963 [19:48<28:06,  2.91s/it]"
     ]
    },
    {
     "name": "stdout",
     "output_type": "stream",
     "text": [
      "AP: 0.9621 - AUC-ROC: 0.9710 - AUC-PR: 0.9621 - P@50: 0.9600 > C1621958: glioblastoma multiforme\n"
     ]
    },
    {
     "name": "stderr",
     "output_type": "stream",
     "text": [
      "\r",
      "Evaluating test data for each side-effect:  40%|██████████████▊                      | 384/963 [19:50<26:59,  2.80s/it]"
     ]
    },
    {
     "name": "stdout",
     "output_type": "stream",
     "text": [
      "AP: 0.9160 - AUC-ROC: 0.9423 - AUC-PR: 0.9160 - P@50: 0.9200 > C0004245: atrioventricular block\n"
     ]
    },
    {
     "name": "stderr",
     "output_type": "stream",
     "text": [
      "\r",
      "Evaluating test data for each side-effect:  40%|██████████████▊                      | 385/963 [19:53<27:01,  2.80s/it]"
     ]
    },
    {
     "name": "stdout",
     "output_type": "stream",
     "text": [
      "AP: 0.8608 - AUC-ROC: 0.9157 - AUC-PR: 0.8608 - P@50: 0.8400 > C0010200: Cough\n"
     ]
    },
    {
     "name": "stderr",
     "output_type": "stream",
     "text": [
      "\r",
      "Evaluating test data for each side-effect:  40%|██████████████▊                      | 386/963 [19:56<27:57,  2.91s/it]"
     ]
    },
    {
     "name": "stdout",
     "output_type": "stream",
     "text": [
      "AP: 0.9737 - AUC-ROC: 0.9795 - AUC-PR: 0.9737 - P@50: 1.0000 > C0031090: periodontal disease\n"
     ]
    },
    {
     "name": "stderr",
     "output_type": "stream",
     "text": [
      "\r",
      "Evaluating test data for each side-effect:  40%|██████████████▊                      | 387/963 [19:59<27:36,  2.88s/it]"
     ]
    },
    {
     "name": "stdout",
     "output_type": "stream",
     "text": [
      "AP: 0.9959 - AUC-ROC: 0.9959 - AUC-PR: 0.9959 - P@50: 1.0000 > C0010032: corneal abrasion\n"
     ]
    },
    {
     "name": "stderr",
     "output_type": "stream",
     "text": [
      "\r",
      "Evaluating test data for each side-effect:  40%|██████████████▉                      | 388/963 [20:02<28:17,  2.95s/it]"
     ]
    },
    {
     "name": "stdout",
     "output_type": "stream",
     "text": [
      "AP: 0.9363 - AUC-ROC: 0.9609 - AUC-PR: 0.9363 - P@50: 0.9400 > C0022679: renal cyst\n"
     ]
    },
    {
     "name": "stderr",
     "output_type": "stream",
     "text": [
      "\r",
      "Evaluating test data for each side-effect:  40%|██████████████▉                      | 389/963 [20:05<27:12,  2.84s/it]"
     ]
    },
    {
     "name": "stdout",
     "output_type": "stream",
     "text": [
      "AP: 0.8949 - AUC-ROC: 0.9317 - AUC-PR: 0.8949 - P@50: 0.9000 > C0085605: Hepatic failure\n"
     ]
    },
    {
     "name": "stderr",
     "output_type": "stream",
     "text": [
      "\r",
      "Evaluating test data for each side-effect:  40%|██████████████▉                      | 390/963 [20:08<27:18,  2.86s/it]"
     ]
    },
    {
     "name": "stdout",
     "output_type": "stream",
     "text": [
      "AP: 0.9262 - AUC-ROC: 0.9589 - AUC-PR: 0.9262 - P@50: 0.9200 > C0030920: gastroduodenal ulcer\n"
     ]
    },
    {
     "name": "stderr",
     "output_type": "stream",
     "text": [
      "\r",
      "Evaluating test data for each side-effect:  41%|███████████████                      | 391/963 [20:11<27:11,  2.85s/it]"
     ]
    },
    {
     "name": "stdout",
     "output_type": "stream",
     "text": [
      "AP: 0.9095 - AUC-ROC: 0.9425 - AUC-PR: 0.9095 - P@50: 0.9200 > C0023798: lipoma\n"
     ]
    },
    {
     "name": "stderr",
     "output_type": "stream",
     "text": [
      "\r",
      "Evaluating test data for each side-effect:  41%|███████████████                      | 392/963 [20:13<27:26,  2.88s/it]"
     ]
    },
    {
     "name": "stdout",
     "output_type": "stream",
     "text": [
      "AP: 0.9010 - AUC-ROC: 0.9342 - AUC-PR: 0.9010 - P@50: 0.9400 > C0020621: hypokalaemia\n"
     ]
    },
    {
     "name": "stderr",
     "output_type": "stream",
     "text": [
      "\r",
      "Evaluating test data for each side-effect:  41%|███████████████                      | 393/963 [20:16<27:00,  2.84s/it]"
     ]
    },
    {
     "name": "stdout",
     "output_type": "stream",
     "text": [
      "AP: 0.8576 - AUC-ROC: 0.9111 - AUC-PR: 0.8576 - P@50: 0.8400 > C0036572: convulsion\n"
     ]
    },
    {
     "name": "stderr",
     "output_type": "stream",
     "text": [
      "\r",
      "Evaluating test data for each side-effect:  41%|███████████████▏                     | 394/963 [20:19<27:29,  2.90s/it]"
     ]
    },
    {
     "name": "stdout",
     "output_type": "stream",
     "text": [
      "AP: 0.9395 - AUC-ROC: 0.9698 - AUC-PR: 0.9395 - P@50: 0.9800 > C0011633: dermatomyositis\n"
     ]
    },
    {
     "name": "stderr",
     "output_type": "stream",
     "text": [
      "\r",
      "Evaluating test data for each side-effect:  41%|███████████████▏                     | 395/963 [20:22<26:26,  2.79s/it]"
     ]
    },
    {
     "name": "stdout",
     "output_type": "stream",
     "text": [
      "AP: 0.9356 - AUC-ROC: 0.9558 - AUC-PR: 0.9356 - P@50: 0.9600 > C0025202: malignant melanoma\n"
     ]
    },
    {
     "name": "stderr",
     "output_type": "stream",
     "text": [
      "\r",
      "Evaluating test data for each side-effect:  41%|███████████████▏                     | 396/963 [20:25<27:23,  2.90s/it]"
     ]
    },
    {
     "name": "stdout",
     "output_type": "stream",
     "text": [
      "AP: 0.8954 - AUC-ROC: 0.9460 - AUC-PR: 0.8954 - P@50: 0.8800 > C0038525: subarachnoid haemorrhage\n"
     ]
    },
    {
     "name": "stderr",
     "output_type": "stream",
     "text": [
      "\r",
      "Evaluating test data for each side-effect:  41%|███████████████▎                     | 397/963 [20:27<26:23,  2.80s/it]"
     ]
    },
    {
     "name": "stdout",
     "output_type": "stream",
     "text": [
      "AP: 0.9462 - AUC-ROC: 0.9632 - AUC-PR: 0.9462 - P@50: 0.9800 > C0016053: fibromyalgia\n"
     ]
    },
    {
     "name": "stderr",
     "output_type": "stream",
     "text": [
      "\r",
      "Evaluating test data for each side-effect:  41%|███████████████▎                     | 398/963 [20:30<26:35,  2.82s/it]"
     ]
    },
    {
     "name": "stdout",
     "output_type": "stream",
     "text": [
      "AP: 0.8767 - AUC-ROC: 0.9244 - AUC-PR: 0.8767 - P@50: 0.8800 > C0022568: keratitis\n"
     ]
    },
    {
     "name": "stderr",
     "output_type": "stream",
     "text": [
      "\r",
      "Evaluating test data for each side-effect:  41%|███████████████▎                     | 399/963 [20:33<25:46,  2.74s/it]"
     ]
    },
    {
     "name": "stdout",
     "output_type": "stream",
     "text": [
      "AP: 0.8585 - AUC-ROC: 0.9175 - AUC-PR: 0.8585 - P@50: 0.8400 > C0009676: confusion\n"
     ]
    },
    {
     "name": "stderr",
     "output_type": "stream",
     "text": [
      "\r",
      "Evaluating test data for each side-effect:  42%|███████████████▎                     | 400/963 [20:36<27:10,  2.90s/it]"
     ]
    },
    {
     "name": "stdout",
     "output_type": "stream",
     "text": [
      "AP: 0.9603 - AUC-ROC: 0.9701 - AUC-PR: 0.9603 - P@50: 0.9800 > C0040213: costochondritis\n"
     ]
    },
    {
     "name": "stderr",
     "output_type": "stream",
     "text": [
      "\r",
      "Evaluating test data for each side-effect:  42%|███████████████▍                     | 401/963 [20:39<27:00,  2.88s/it]"
     ]
    },
    {
     "name": "stdout",
     "output_type": "stream",
     "text": [
      "AP: 0.9301 - AUC-ROC: 0.9611 - AUC-PR: 0.9301 - P@50: 0.9400 > C0085648: synovial cyst\n"
     ]
    },
    {
     "name": "stderr",
     "output_type": "stream",
     "text": [
      "\r",
      "Evaluating test data for each side-effect:  42%|███████████████▍                     | 402/963 [20:42<25:59,  2.78s/it]"
     ]
    },
    {
     "name": "stdout",
     "output_type": "stream",
     "text": [
      "AP: 0.9235 - AUC-ROC: 0.9549 - AUC-PR: 0.9235 - P@50: 0.9000 > C0030552: muscle paresis\n"
     ]
    },
    {
     "name": "stderr",
     "output_type": "stream",
     "text": [
      "\r",
      "Evaluating test data for each side-effect:  42%|███████████████▍                     | 403/963 [20:44<26:07,  2.80s/it]"
     ]
    },
    {
     "name": "stdout",
     "output_type": "stream",
     "text": [
      "AP: 0.9145 - AUC-ROC: 0.9435 - AUC-PR: 0.9145 - P@50: 0.9600 > C1510475: diverticulosis\n"
     ]
    },
    {
     "name": "stderr",
     "output_type": "stream",
     "text": [
      "\r",
      "Evaluating test data for each side-effect:  42%|███████████████▌                     | 404/963 [20:47<26:14,  2.82s/it]"
     ]
    },
    {
     "name": "stdout",
     "output_type": "stream",
     "text": [
      "AP: 0.9140 - AUC-ROC: 0.9206 - AUC-PR: 0.9140 - P@50: 0.8800 > C0152169: renal colic\n"
     ]
    },
    {
     "name": "stderr",
     "output_type": "stream",
     "text": [
      "\r",
      "Evaluating test data for each side-effect:  42%|███████████████▌                     | 405/963 [20:50<26:31,  2.85s/it]"
     ]
    },
    {
     "name": "stdout",
     "output_type": "stream",
     "text": [
      "AP: 0.9185 - AUC-ROC: 0.9451 - AUC-PR: 0.9185 - P@50: 0.9400 > C0024236: lymphedema\n"
     ]
    },
    {
     "name": "stderr",
     "output_type": "stream",
     "text": [
      "\r",
      "Evaluating test data for each side-effect:  42%|███████████████▌                     | 406/963 [20:53<26:30,  2.85s/it]"
     ]
    },
    {
     "name": "stdout",
     "output_type": "stream",
     "text": [
      "AP: 0.9142 - AUC-ROC: 0.9418 - AUC-PR: 0.9142 - P@50: 0.9200 > C0026858: musculoskeletal pain\n"
     ]
    },
    {
     "name": "stderr",
     "output_type": "stream",
     "text": [
      "\r",
      "Evaluating test data for each side-effect:  42%|███████████████▋                     | 407/963 [20:56<25:37,  2.77s/it]"
     ]
    },
    {
     "name": "stdout",
     "output_type": "stream",
     "text": [
      "AP: 0.9568 - AUC-ROC: 0.9705 - AUC-PR: 0.9568 - P@50: 0.9800 > C0020565: breast enlargement\n"
     ]
    },
    {
     "name": "stderr",
     "output_type": "stream",
     "text": [
      "\r",
      "Evaluating test data for each side-effect:  42%|███████████████▋                     | 408/963 [20:59<25:54,  2.80s/it]"
     ]
    },
    {
     "name": "stdout",
     "output_type": "stream",
     "text": [
      "AP: 0.8651 - AUC-ROC: 0.9127 - AUC-PR: 0.8651 - P@50: 0.8600 > C0002884: anaemia hypochromic\n"
     ]
    },
    {
     "name": "stderr",
     "output_type": "stream",
     "text": [
      "\r",
      "Evaluating test data for each side-effect:  42%|███████████████▋                     | 409/963 [21:02<26:47,  2.90s/it]"
     ]
    },
    {
     "name": "stdout",
     "output_type": "stream",
     "text": [
      "AP: 0.8600 - AUC-ROC: 0.9157 - AUC-PR: 0.8600 - P@50: 0.7800 > C0085593: chill\n"
     ]
    },
    {
     "name": "stderr",
     "output_type": "stream",
     "text": [
      "\r",
      "Evaluating test data for each side-effect:  43%|███████████████▊                     | 410/963 [21:04<26:13,  2.85s/it]"
     ]
    },
    {
     "name": "stdout",
     "output_type": "stream",
     "text": [
      "AP: 0.9088 - AUC-ROC: 0.9459 - AUC-PR: 0.9088 - P@50: 0.9200 > C0031154: peritonitis\n"
     ]
    },
    {
     "name": "stderr",
     "output_type": "stream",
     "text": [
      "\r",
      "Evaluating test data for each side-effect:  43%|███████████████▊                     | 411/963 [21:07<26:13,  2.85s/it]"
     ]
    },
    {
     "name": "stdout",
     "output_type": "stream",
     "text": [
      "AP: 0.9060 - AUC-ROC: 0.9467 - AUC-PR: 0.9060 - P@50: 0.9400 > C0019189: chronic hepatitis\n"
     ]
    },
    {
     "name": "stderr",
     "output_type": "stream",
     "text": [
      "\r",
      "Evaluating test data for each side-effect:  43%|███████████████▊                     | 412/963 [21:10<26:14,  2.86s/it]"
     ]
    },
    {
     "name": "stdout",
     "output_type": "stream",
     "text": [
      "AP: 0.9239 - AUC-ROC: 0.9551 - AUC-PR: 0.9239 - P@50: 0.9400 > C0031212: Personality disorder\n"
     ]
    },
    {
     "name": "stderr",
     "output_type": "stream",
     "text": [
      "\r",
      "Evaluating test data for each side-effect:  43%|███████████████▊                     | 413/963 [21:13<25:22,  2.77s/it]"
     ]
    },
    {
     "name": "stdout",
     "output_type": "stream",
     "text": [
      "AP: 0.9455 - AUC-ROC: 0.9596 - AUC-PR: 0.9455 - P@50: 0.9800 > C0039591: testes pain\n"
     ]
    },
    {
     "name": "stderr",
     "output_type": "stream",
     "text": [
      "\r",
      "Evaluating test data for each side-effect:  43%|███████████████▉                     | 414/963 [21:15<25:27,  2.78s/it]"
     ]
    },
    {
     "name": "stdout",
     "output_type": "stream",
     "text": [
      "AP: 0.8650 - AUC-ROC: 0.9182 - AUC-PR: 0.8650 - P@50: 0.8000 > C0020458: hyperhidrosis\n"
     ]
    },
    {
     "name": "stderr",
     "output_type": "stream",
     "text": [
      "\r",
      "Evaluating test data for each side-effect:  43%|███████████████▉                     | 415/963 [21:19<26:04,  2.86s/it]"
     ]
    },
    {
     "name": "stdout",
     "output_type": "stream",
     "text": [
      "AP: 0.9467 - AUC-ROC: 0.9495 - AUC-PR: 0.9467 - P@50: 0.9600 > C0013274: patent ductus arteriosis\n"
     ]
    },
    {
     "name": "stderr",
     "output_type": "stream",
     "text": [
      "\r",
      "Evaluating test data for each side-effect:  43%|███████████████▉                     | 416/963 [21:21<26:02,  2.86s/it]"
     ]
    },
    {
     "name": "stdout",
     "output_type": "stream",
     "text": [
      "AP: 0.9128 - AUC-ROC: 0.9428 - AUC-PR: 0.9128 - P@50: 0.9000 > C0029456: osteoporosis\n"
     ]
    },
    {
     "name": "stderr",
     "output_type": "stream",
     "text": [
      "\r",
      "Evaluating test data for each side-effect:  43%|████████████████                     | 417/963 [21:24<26:07,  2.87s/it]"
     ]
    },
    {
     "name": "stdout",
     "output_type": "stream",
     "text": [
      "AP: 0.9154 - AUC-ROC: 0.9460 - AUC-PR: 0.9154 - P@50: 0.9400 > C0020295: hydronephrosis\n"
     ]
    },
    {
     "name": "stderr",
     "output_type": "stream",
     "text": [
      "\r",
      "Evaluating test data for each side-effect:  43%|████████████████                     | 418/963 [21:27<25:08,  2.77s/it]"
     ]
    },
    {
     "name": "stdout",
     "output_type": "stream",
     "text": [
      "AP: 0.9737 - AUC-ROC: 0.9807 - AUC-PR: 0.9737 - P@50: 0.9800 > C0005741: blepharitis\n"
     ]
    },
    {
     "name": "stderr",
     "output_type": "stream",
     "text": [
      "\r",
      "Evaluating test data for each side-effect:  44%|████████████████                     | 419/963 [21:30<26:16,  2.90s/it]"
     ]
    },
    {
     "name": "stdout",
     "output_type": "stream",
     "text": [
      "AP: 0.8809 - AUC-ROC: 0.9203 - AUC-PR: 0.8809 - P@50: 0.9000 > C0007784: cerebral haemorrhage\n"
     ]
    },
    {
     "name": "stderr",
     "output_type": "stream",
     "text": [
      "\r",
      "Evaluating test data for each side-effect:  44%|████████████████▏                    | 420/963 [21:33<25:26,  2.81s/it]"
     ]
    },
    {
     "name": "stdout",
     "output_type": "stream",
     "text": [
      "AP: 0.9072 - AUC-ROC: 0.9451 - AUC-PR: 0.9072 - P@50: 0.8200 > C0398353: Hypoventilation\n"
     ]
    },
    {
     "name": "stderr",
     "output_type": "stream",
     "text": [
      "\r",
      "Evaluating test data for each side-effect:  44%|████████████████▏                    | 421/963 [21:36<26:52,  2.97s/it]"
     ]
    },
    {
     "name": "stdout",
     "output_type": "stream",
     "text": [
      "AP: 0.9800 - AUC-ROC: 0.9798 - AUC-PR: 0.9800 - P@50: 1.0000 > C0002390: allergic alveolitis\n"
     ]
    },
    {
     "name": "stderr",
     "output_type": "stream",
     "text": [
      "\r",
      "Evaluating test data for each side-effect:  44%|████████████████▏                    | 422/963 [21:39<25:42,  2.85s/it]"
     ]
    },
    {
     "name": "stdout",
     "output_type": "stream",
     "text": [
      "AP: 0.8786 - AUC-ROC: 0.9285 - AUC-PR: 0.8786 - P@50: 0.8600 > C0085649: edema extremities\n"
     ]
    },
    {
     "name": "stderr",
     "output_type": "stream",
     "text": [
      "\r",
      "Evaluating test data for each side-effect:  44%|████████████████▎                    | 423/963 [21:42<27:07,  3.01s/it]"
     ]
    },
    {
     "name": "stdout",
     "output_type": "stream",
     "text": [
      "AP: 0.9934 - AUC-ROC: 0.9931 - AUC-PR: 0.9934 - P@50: 1.0000 > C0190211: coronary angioplasty\n"
     ]
    },
    {
     "name": "stderr",
     "output_type": "stream",
     "text": [
      "\r",
      "Evaluating test data for each side-effect:  44%|████████████████▎                    | 424/963 [21:45<26:39,  2.97s/it]"
     ]
    },
    {
     "name": "stdout",
     "output_type": "stream",
     "text": [
      "AP: 0.9343 - AUC-ROC: 0.9519 - AUC-PR: 0.9343 - P@50: 0.9800 > C0024121: lung neoplasms\n"
     ]
    },
    {
     "name": "stderr",
     "output_type": "stream",
     "text": [
      "\r",
      "Evaluating test data for each side-effect:  44%|████████████████▎                    | 425/963 [21:47<25:33,  2.85s/it]"
     ]
    },
    {
     "name": "stdout",
     "output_type": "stream",
     "text": [
      "AP: 0.9689 - AUC-ROC: 0.9731 - AUC-PR: 0.9689 - P@50: 0.9800 > C0029925: Ovarian cancer\n"
     ]
    },
    {
     "name": "stderr",
     "output_type": "stream",
     "text": [
      "\r",
      "Evaluating test data for each side-effect:  44%|████████████████▎                    | 426/963 [21:50<25:29,  2.85s/it]"
     ]
    },
    {
     "name": "stdout",
     "output_type": "stream",
     "text": [
      "AP: 0.9104 - AUC-ROC: 0.9461 - AUC-PR: 0.9104 - P@50: 0.9200 > C0023524: multifocal leukoencephalopathy\n"
     ]
    },
    {
     "name": "stderr",
     "output_type": "stream",
     "text": [
      "\r",
      "Evaluating test data for each side-effect:  44%|████████████████▍                    | 427/963 [21:53<25:26,  2.85s/it]"
     ]
    },
    {
     "name": "stdout",
     "output_type": "stream",
     "text": [
      "AP: 0.8682 - AUC-ROC: 0.9356 - AUC-PR: 0.8682 - P@50: 0.9200 > C0151514: atrophy of skin\n"
     ]
    },
    {
     "name": "stderr",
     "output_type": "stream",
     "text": [
      "\r",
      "Evaluating test data for each side-effect:  44%|████████████████▍                    | 428/963 [21:56<25:34,  2.87s/it]"
     ]
    },
    {
     "name": "stdout",
     "output_type": "stream",
     "text": [
      "AP: 0.9880 - AUC-ROC: 0.9869 - AUC-PR: 0.9880 - P@50: 0.9200 > C0004690: balanitis\n"
     ]
    },
    {
     "name": "stderr",
     "output_type": "stream",
     "text": [
      "\r",
      "Evaluating test data for each side-effect:  45%|████████████████▍                    | 429/963 [21:59<25:34,  2.87s/it]"
     ]
    },
    {
     "name": "stdout",
     "output_type": "stream",
     "text": [
      "AP: 0.9344 - AUC-ROC: 0.9520 - AUC-PR: 0.9344 - P@50: 0.9400 > C0042870: Vitamin D Deficiency\n"
     ]
    },
    {
     "name": "stderr",
     "output_type": "stream",
     "text": [
      "\r",
      "Evaluating test data for each side-effect:  45%|████████████████▌                    | 430/963 [22:02<25:27,  2.87s/it]"
     ]
    },
    {
     "name": "stdout",
     "output_type": "stream",
     "text": [
      "AP: 0.9309 - AUC-ROC: 0.9569 - AUC-PR: 0.9309 - P@50: 0.9600 > C0032308: pneumonia staphylococcal\n"
     ]
    },
    {
     "name": "stderr",
     "output_type": "stream",
     "text": [
      "\r",
      "Evaluating test data for each side-effect:  45%|████████████████▌                    | 431/963 [22:05<25:16,  2.85s/it]"
     ]
    },
    {
     "name": "stdout",
     "output_type": "stream",
     "text": [
      "AP: 0.9641 - AUC-ROC: 0.9705 - AUC-PR: 0.9641 - P@50: 1.0000 > C0011884: Diabetic Retinopathy\n"
     ]
    },
    {
     "name": "stderr",
     "output_type": "stream",
     "text": [
      "\r",
      "Evaluating test data for each side-effect:  45%|████████████████▌                    | 432/963 [22:07<25:11,  2.85s/it]"
     ]
    },
    {
     "name": "stdout",
     "output_type": "stream",
     "text": [
      "AP: 0.9432 - AUC-ROC: 0.9507 - AUC-PR: 0.9432 - P@50: 0.9400 > C0037578: soft tissue injuries\n"
     ]
    },
    {
     "name": "stderr",
     "output_type": "stream",
     "text": [
      "\r",
      "Evaluating test data for each side-effect:  45%|████████████████▋                    | 433/963 [22:10<25:09,  2.85s/it]"
     ]
    },
    {
     "name": "stdout",
     "output_type": "stream",
     "text": [
      "AP: 0.9005 - AUC-ROC: 0.9408 - AUC-PR: 0.9005 - P@50: 0.9200 > C0002871: anaemia\n"
     ]
    },
    {
     "name": "stderr",
     "output_type": "stream",
     "text": [
      "\r",
      "Evaluating test data for each side-effect:  45%|████████████████▋                    | 434/963 [22:14<26:40,  3.03s/it]"
     ]
    },
    {
     "name": "stdout",
     "output_type": "stream",
     "text": [
      "AP: 0.9162 - AUC-ROC: 0.9447 - AUC-PR: 0.9162 - P@50: 0.9400 > C0151517: Atrioventricular block complete\n"
     ]
    },
    {
     "name": "stderr",
     "output_type": "stream",
     "text": [
      "\r",
      "Evaluating test data for each side-effect:  45%|████████████████▋                    | 435/963 [22:16<26:06,  2.97s/it]"
     ]
    },
    {
     "name": "stdout",
     "output_type": "stream",
     "text": [
      "AP: 0.9087 - AUC-ROC: 0.9336 - AUC-PR: 0.9087 - P@50: 0.9200 > C0041296: Mycobacterium tuberculosis infection\n"
     ]
    },
    {
     "name": "stderr",
     "output_type": "stream",
     "text": [
      "\r",
      "Evaluating test data for each side-effect:  45%|████████████████▊                    | 436/963 [22:19<24:53,  2.83s/it]"
     ]
    },
    {
     "name": "stdout",
     "output_type": "stream",
     "text": [
      "AP: 0.9503 - AUC-ROC: 0.9555 - AUC-PR: 0.9503 - P@50: 1.0000 > C0038220: status epilepticus\n"
     ]
    },
    {
     "name": "stderr",
     "output_type": "stream",
     "text": [
      "\r",
      "Evaluating test data for each side-effect:  45%|████████████████▊                    | 437/963 [22:22<25:38,  2.93s/it]"
     ]
    },
    {
     "name": "stdout",
     "output_type": "stream",
     "text": [
      "AP: 0.8626 - AUC-ROC: 0.9125 - AUC-PR: 0.8626 - P@50: 0.8800 > C0018801: cardiac failure\n"
     ]
    },
    {
     "name": "stderr",
     "output_type": "stream",
     "text": [
      "\r",
      "Evaluating test data for each side-effect:  45%|████████████████▊                    | 438/963 [22:25<24:50,  2.84s/it]"
     ]
    },
    {
     "name": "stdout",
     "output_type": "stream",
     "text": [
      "AP: 0.9329 - AUC-ROC: 0.9553 - AUC-PR: 0.9329 - P@50: 0.9400 > C0281774: acute psychosis\n"
     ]
    },
    {
     "name": "stderr",
     "output_type": "stream",
     "text": [
      "\r",
      "Evaluating test data for each side-effect:  46%|████████████████▊                    | 439/963 [22:28<24:52,  2.85s/it]"
     ]
    },
    {
     "name": "stdout",
     "output_type": "stream",
     "text": [
      "AP: 0.9076 - AUC-ROC: 0.9416 - AUC-PR: 0.9076 - P@50: 0.8800 > C0010054: arteriosclerotic heart disease\n"
     ]
    },
    {
     "name": "stderr",
     "output_type": "stream",
     "text": [
      "\r",
      "Evaluating test data for each side-effect:  46%|████████████████▉                    | 440/963 [22:31<25:20,  2.91s/it]"
     ]
    },
    {
     "name": "stdout",
     "output_type": "stream",
     "text": [
      "AP: 0.8713 - AUC-ROC: 0.9232 - AUC-PR: 0.8713 - P@50: 0.8600 > C0020461: Excess potassium\n"
     ]
    },
    {
     "name": "stderr",
     "output_type": "stream",
     "text": [
      "\r",
      "Evaluating test data for each side-effect:  46%|████████████████▉                    | 441/963 [22:33<24:29,  2.82s/it]"
     ]
    },
    {
     "name": "stdout",
     "output_type": "stream",
     "text": [
      "AP: 0.9128 - AUC-ROC: 0.9430 - AUC-PR: 0.9128 - P@50: 0.9600 > C0278008: Altered Bowel Function\n"
     ]
    },
    {
     "name": "stderr",
     "output_type": "stream",
     "text": [
      "\r",
      "Evaluating test data for each side-effect:  46%|████████████████▉                    | 442/963 [22:36<24:25,  2.81s/it]"
     ]
    },
    {
     "name": "stdout",
     "output_type": "stream",
     "text": [
      "AP: 0.9375 - AUC-ROC: 0.9643 - AUC-PR: 0.9375 - P@50: 0.9400 > C0006012: borderline personality disorder\n"
     ]
    },
    {
     "name": "stderr",
     "output_type": "stream",
     "text": [
      "\r",
      "Evaluating test data for each side-effect:  46%|█████████████████                    | 443/963 [22:39<25:13,  2.91s/it]"
     ]
    },
    {
     "name": "stdout",
     "output_type": "stream",
     "text": [
      "AP: 0.8805 - AUC-ROC: 0.9285 - AUC-PR: 0.8805 - P@50: 0.8600 > C0575081: Abnormal Gait\n"
     ]
    },
    {
     "name": "stderr",
     "output_type": "stream",
     "text": [
      "\r",
      "Evaluating test data for each side-effect:  46%|█████████████████                    | 444/963 [22:42<24:44,  2.86s/it]"
     ]
    },
    {
     "name": "stdout",
     "output_type": "stream",
     "text": [
      "AP: 0.9209 - AUC-ROC: 0.9584 - AUC-PR: 0.9209 - P@50: 0.9400 > C0026267: mitral valve prolapse\n"
     ]
    },
    {
     "name": "stderr",
     "output_type": "stream",
     "text": [
      "\r",
      "Evaluating test data for each side-effect:  46%|█████████████████                    | 445/963 [22:45<24:37,  2.85s/it]"
     ]
    },
    {
     "name": "stdout",
     "output_type": "stream",
     "text": [
      "AP: 0.9099 - AUC-ROC: 0.9389 - AUC-PR: 0.9099 - P@50: 0.9200 > C0042384: angiitis\n"
     ]
    },
    {
     "name": "stderr",
     "output_type": "stream",
     "text": [
      "\r",
      "Evaluating test data for each side-effect:  46%|█████████████████▏                   | 446/963 [22:48<24:33,  2.85s/it]"
     ]
    },
    {
     "name": "stdout",
     "output_type": "stream",
     "text": [
      "AP: 0.8667 - AUC-ROC: 0.9271 - AUC-PR: 0.8667 - P@50: 0.8800 > C0178879: obstructive uropathy\n"
     ]
    },
    {
     "name": "stderr",
     "output_type": "stream",
     "text": [
      "\r",
      "Evaluating test data for each side-effect:  46%|█████████████████▏                   | 447/963 [22:50<24:29,  2.85s/it]"
     ]
    },
    {
     "name": "stdout",
     "output_type": "stream",
     "text": [
      "AP: 0.8569 - AUC-ROC: 0.9100 - AUC-PR: 0.8569 - P@50: 0.8600 > C0020517: allergies\n"
     ]
    },
    {
     "name": "stderr",
     "output_type": "stream",
     "text": [
      "\r",
      "Evaluating test data for each side-effect:  47%|█████████████████▏                   | 448/963 [22:53<23:58,  2.79s/it]"
     ]
    },
    {
     "name": "stdout",
     "output_type": "stream",
     "text": [
      "AP: 0.9624 - AUC-ROC: 0.9683 - AUC-PR: 0.9624 - P@50: 0.9400 > C0262414: cervical vertebral fracture\n"
     ]
    },
    {
     "name": "stderr",
     "output_type": "stream",
     "text": [
      "\r",
      "Evaluating test data for each side-effect:  47%|█████████████████▎                   | 449/963 [22:56<24:53,  2.91s/it]"
     ]
    },
    {
     "name": "stdout",
     "output_type": "stream",
     "text": [
      "AP: 0.9644 - AUC-ROC: 0.9688 - AUC-PR: 0.9644 - P@50: 0.9600 > C0005818: platelet disorder\n"
     ]
    },
    {
     "name": "stderr",
     "output_type": "stream",
     "text": [
      "\r",
      "Evaluating test data for each side-effect:  47%|█████████████████▎                   | 450/963 [22:59<23:51,  2.79s/it]"
     ]
    },
    {
     "name": "stdout",
     "output_type": "stream",
     "text": [
      "AP: 0.9355 - AUC-ROC: 0.9583 - AUC-PR: 0.9355 - P@50: 0.9600 > C0011860: Mod\n"
     ]
    },
    {
     "name": "stderr",
     "output_type": "stream",
     "text": [
      "\r",
      "Evaluating test data for each side-effect:  47%|█████████████████▎                   | 451/963 [23:02<24:24,  2.86s/it]"
     ]
    },
    {
     "name": "stdout",
     "output_type": "stream",
     "text": [
      "AP: 0.9298 - AUC-ROC: 0.9483 - AUC-PR: 0.9298 - P@50: 0.9800 > C0973461: dysphasia\n"
     ]
    },
    {
     "name": "stderr",
     "output_type": "stream",
     "text": [
      "\r",
      "Evaluating test data for each side-effect:  47%|█████████████████▎                   | 452/963 [23:05<24:25,  2.87s/it]"
     ]
    },
    {
     "name": "stdout",
     "output_type": "stream",
     "text": [
      "AP: 0.9182 - AUC-ROC: 0.9508 - AUC-PR: 0.9182 - P@50: 0.9400 > C0019159: Hepatitis A\n"
     ]
    },
    {
     "name": "stderr",
     "output_type": "stream",
     "text": [
      "\r",
      "Evaluating test data for each side-effect:  47%|█████████████████▍                   | 453/963 [23:07<23:31,  2.77s/it]"
     ]
    },
    {
     "name": "stdout",
     "output_type": "stream",
     "text": [
      "AP: 0.9533 - AUC-ROC: 0.9595 - AUC-PR: 0.9533 - P@50: 0.9600 > C0008312: primary biliary cirrhosis\n"
     ]
    },
    {
     "name": "stderr",
     "output_type": "stream",
     "text": [
      "\r",
      "Evaluating test data for each side-effect:  47%|█████████████████▍                   | 454/963 [23:10<23:41,  2.79s/it]"
     ]
    },
    {
     "name": "stdout",
     "output_type": "stream",
     "text": [
      "AP: 0.9481 - AUC-ROC: 0.9675 - AUC-PR: 0.9481 - P@50: 0.9400 > C0018621: hay fever\n"
     ]
    },
    {
     "name": "stderr",
     "output_type": "stream",
     "text": [
      "\r",
      "Evaluating test data for each side-effect:  47%|█████████████████▍                   | 455/963 [23:13<23:48,  2.81s/it]"
     ]
    },
    {
     "name": "stdout",
     "output_type": "stream",
     "text": [
      "AP: 0.9263 - AUC-ROC: 0.9447 - AUC-PR: 0.9263 - P@50: 1.0000 > C0520474: aseptic necrosis bone\n"
     ]
    },
    {
     "name": "stderr",
     "output_type": "stream",
     "text": [
      "\r",
      "Evaluating test data for each side-effect:  47%|█████████████████▌                   | 456/963 [23:16<23:59,  2.84s/it]"
     ]
    },
    {
     "name": "stdout",
     "output_type": "stream",
     "text": [
      "AP: 0.9873 - AUC-ROC: 0.9899 - AUC-PR: 0.9873 - P@50: 0.9800 > C0262365: abnormal mammogram\n"
     ]
    },
    {
     "name": "stderr",
     "output_type": "stream",
     "text": [
      "\r",
      "Evaluating test data for each side-effect:  47%|█████████████████▌                   | 457/963 [23:18<23:09,  2.75s/it]"
     ]
    },
    {
     "name": "stdout",
     "output_type": "stream",
     "text": [
      "AP: 0.8930 - AUC-ROC: 0.9502 - AUC-PR: 0.8930 - P@50: 0.9400 > C0341163: Gastric ulcer perforated\n"
     ]
    },
    {
     "name": "stderr",
     "output_type": "stream",
     "text": [
      "\r",
      "Evaluating test data for each side-effect:  48%|█████████████████▌                   | 458/963 [23:22<24:07,  2.87s/it]"
     ]
    },
    {
     "name": "stdout",
     "output_type": "stream",
     "text": [
      "AP: 0.9718 - AUC-ROC: 0.9762 - AUC-PR: 0.9718 - P@50: 0.9800 > C0013146: abuse\n"
     ]
    },
    {
     "name": "stderr",
     "output_type": "stream",
     "text": [
      "\r",
      "Evaluating test data for each side-effect:  48%|█████████████████▋                   | 459/963 [23:24<23:15,  2.77s/it]"
     ]
    },
    {
     "name": "stdout",
     "output_type": "stream",
     "text": [
      "AP: 0.9470 - AUC-ROC: 0.9599 - AUC-PR: 0.9470 - P@50: 0.9800 > C0020550: hyperthyroidism\n"
     ]
    },
    {
     "name": "stderr",
     "output_type": "stream",
     "text": [
      "\r",
      "Evaluating test data for each side-effect:  48%|█████████████████▋                   | 460/963 [23:27<23:29,  2.80s/it]"
     ]
    },
    {
     "name": "stdout",
     "output_type": "stream",
     "text": [
      "AP: 0.8735 - AUC-ROC: 0.9158 - AUC-PR: 0.8735 - P@50: 0.9000 > C0030446: adynamic ileus\n"
     ]
    },
    {
     "name": "stderr",
     "output_type": "stream",
     "text": [
      "\r",
      "Evaluating test data for each side-effect:  48%|█████████████████▋                   | 461/963 [23:30<22:56,  2.74s/it]"
     ]
    },
    {
     "name": "stdout",
     "output_type": "stream",
     "text": [
      "AP: 0.9223 - AUC-ROC: 0.9440 - AUC-PR: 0.9223 - P@50: 0.9800 > C0027796: Neuralgia\n"
     ]
    },
    {
     "name": "stderr",
     "output_type": "stream",
     "text": [
      "\r",
      "Evaluating test data for each side-effect:  48%|█████████████████▊                   | 462/963 [23:32<23:16,  2.79s/it]"
     ]
    },
    {
     "name": "stdout",
     "output_type": "stream",
     "text": [
      "AP: 0.8990 - AUC-ROC: 0.9378 - AUC-PR: 0.8990 - P@50: 0.9200 > C0017152: gastric inflammation\n"
     ]
    },
    {
     "name": "stderr",
     "output_type": "stream",
     "text": [
      "\r",
      "Evaluating test data for each side-effect:  48%|█████████████████▊                   | 463/963 [23:35<23:44,  2.85s/it]"
     ]
    },
    {
     "name": "stdout",
     "output_type": "stream",
     "text": [
      "AP: 0.9192 - AUC-ROC: 0.9428 - AUC-PR: 0.9192 - P@50: 0.8800 > C0016412: folate deficiency\n"
     ]
    },
    {
     "name": "stderr",
     "output_type": "stream",
     "text": [
      "\r",
      "Evaluating test data for each side-effect:  48%|█████████████████▊                   | 464/963 [23:38<22:59,  2.77s/it]"
     ]
    },
    {
     "name": "stdout",
     "output_type": "stream",
     "text": [
      "AP: 0.9251 - AUC-ROC: 0.9554 - AUC-PR: 0.9251 - P@50: 0.9200 > C0009241: cognitive disorder\n"
     ]
    },
    {
     "name": "stderr",
     "output_type": "stream",
     "text": [
      "\r",
      "Evaluating test data for each side-effect:  48%|█████████████████▊                   | 465/963 [23:41<23:07,  2.79s/it]"
     ]
    },
    {
     "name": "stdout",
     "output_type": "stream",
     "text": [
      "AP: 0.9209 - AUC-ROC: 0.9413 - AUC-PR: 0.9209 - P@50: 0.9800 > C0028259: nodule\n"
     ]
    },
    {
     "name": "stderr",
     "output_type": "stream",
     "text": [
      "\r",
      "Evaluating test data for each side-effect:  48%|█████████████████▉                   | 466/963 [23:43<22:29,  2.72s/it]"
     ]
    },
    {
     "name": "stdout",
     "output_type": "stream",
     "text": [
      "AP: 0.9364 - AUC-ROC: 0.9619 - AUC-PR: 0.9364 - P@50: 0.9800 > C0242301: furuncle\n"
     ]
    },
    {
     "name": "stderr",
     "output_type": "stream",
     "text": [
      "\r",
      "Evaluating test data for each side-effect:  48%|█████████████████▉                   | 467/963 [23:46<22:40,  2.74s/it]"
     ]
    },
    {
     "name": "stdout",
     "output_type": "stream",
     "text": [
      "AP: 0.9022 - AUC-ROC: 0.9400 - AUC-PR: 0.9022 - P@50: 0.9200 > C0042024: Incontinence\n"
     ]
    },
    {
     "name": "stderr",
     "output_type": "stream",
     "text": [
      "\r",
      "Evaluating test data for each side-effect:  49%|█████████████████▉                   | 468/963 [23:49<23:51,  2.89s/it]"
     ]
    },
    {
     "name": "stdout",
     "output_type": "stream",
     "text": [
      "AP: 0.9003 - AUC-ROC: 0.9388 - AUC-PR: 0.9003 - P@50: 0.9000 > C0014868: esophagitis\n"
     ]
    },
    {
     "name": "stderr",
     "output_type": "stream",
     "text": [
      "\r",
      "Evaluating test data for each side-effect:  49%|██████████████████                   | 469/963 [23:52<23:07,  2.81s/it]"
     ]
    },
    {
     "name": "stdout",
     "output_type": "stream",
     "text": [
      "AP: 0.9442 - AUC-ROC: 0.9582 - AUC-PR: 0.9442 - P@50: 0.9800 > C0002940: aneurysm\n"
     ]
    },
    {
     "name": "stderr",
     "output_type": "stream",
     "text": [
      "\r",
      "Evaluating test data for each side-effect:  49%|██████████████████                   | 470/963 [23:55<23:13,  2.83s/it]"
     ]
    },
    {
     "name": "stdout",
     "output_type": "stream",
     "text": [
      "AP: 0.8886 - AUC-ROC: 0.9336 - AUC-PR: 0.8886 - P@50: 0.8600 > C0011880: diabetic acidosis\n"
     ]
    },
    {
     "name": "stderr",
     "output_type": "stream",
     "text": [
      "\r",
      "Evaluating test data for each side-effect:  49%|██████████████████                   | 471/963 [23:58<22:26,  2.74s/it]"
     ]
    },
    {
     "name": "stdout",
     "output_type": "stream",
     "text": [
      "AP: 0.9103 - AUC-ROC: 0.9404 - AUC-PR: 0.9103 - P@50: 0.9600 > C0085636: Light sensitivity\n"
     ]
    },
    {
     "name": "stderr",
     "output_type": "stream",
     "text": [
      "\r",
      "Evaluating test data for each side-effect:  49%|██████████████████▏                  | 472/963 [24:01<23:22,  2.86s/it]"
     ]
    },
    {
     "name": "stdout",
     "output_type": "stream",
     "text": [
      "AP: 0.9517 - AUC-ROC: 0.9599 - AUC-PR: 0.9517 - P@50: 1.0000 > C0152025: polyneuropathy\n"
     ]
    },
    {
     "name": "stderr",
     "output_type": "stream",
     "text": [
      "\r",
      "Evaluating test data for each side-effect:  49%|██████████████████▏                  | 473/963 [24:03<22:49,  2.79s/it]"
     ]
    },
    {
     "name": "stdout",
     "output_type": "stream",
     "text": [
      "AP: 0.8706 - AUC-ROC: 0.9207 - AUC-PR: 0.8706 - P@50: 0.8600 > C0018965: blood in urine\n"
     ]
    },
    {
     "name": "stderr",
     "output_type": "stream",
     "text": [
      "\r",
      "Evaluating test data for each side-effect:  49%|██████████████████▏                  | 474/963 [24:06<23:40,  2.91s/it]"
     ]
    },
    {
     "name": "stdout",
     "output_type": "stream",
     "text": [
      "AP: 0.9795 - AUC-ROC: 0.9860 - AUC-PR: 0.9795 - P@50: 0.9800 > C0019284: diaphragmatic hernia\n"
     ]
    },
    {
     "name": "stderr",
     "output_type": "stream",
     "text": [
      "\r",
      "Evaluating test data for each side-effect:  49%|██████████████████▎                  | 475/963 [24:10<24:29,  3.01s/it]"
     ]
    },
    {
     "name": "stdout",
     "output_type": "stream",
     "text": [
      "AP: 0.8835 - AUC-ROC: 0.9321 - AUC-PR: 0.8835 - P@50: 0.8800 > C0020542: pulmonary hypertension\n"
     ]
    },
    {
     "name": "stderr",
     "output_type": "stream",
     "text": [
      "\r",
      "Evaluating test data for each side-effect:  49%|██████████████████▎                  | 476/963 [24:12<23:27,  2.89s/it]"
     ]
    },
    {
     "name": "stdout",
     "output_type": "stream",
     "text": [
      "AP: 0.9147 - AUC-ROC: 0.9456 - AUC-PR: 0.9147 - P@50: 0.9200 > C0016242: floaters\n"
     ]
    },
    {
     "name": "stderr",
     "output_type": "stream",
     "text": [
      "\r",
      "Evaluating test data for each side-effect:  50%|██████████████████▎                  | 477/963 [24:15<22:39,  2.80s/it]"
     ]
    },
    {
     "name": "stdout",
     "output_type": "stream",
     "text": [
      "AP: 0.9796 - AUC-ROC: 0.9817 - AUC-PR: 0.9796 - P@50: 1.0000 > C0022603: seborrhoeic keratosis\n"
     ]
    },
    {
     "name": "stderr",
     "output_type": "stream",
     "text": [
      "\r",
      "Evaluating test data for each side-effect:  50%|██████████████████▎                  | 478/963 [24:18<23:30,  2.91s/it]"
     ]
    },
    {
     "name": "stdout",
     "output_type": "stream",
     "text": [
      "AP: 0.8945 - AUC-ROC: 0.9343 - AUC-PR: 0.8945 - P@50: 0.9200 > C0004239: atrial flutter\n"
     ]
    },
    {
     "name": "stderr",
     "output_type": "stream",
     "text": [
      "\r",
      "Evaluating test data for each side-effect:  50%|██████████████████▍                  | 479/963 [24:21<22:33,  2.80s/it]"
     ]
    },
    {
     "name": "stdout",
     "output_type": "stream",
     "text": [
      "AP: 0.9096 - AUC-ROC: 0.9378 - AUC-PR: 0.9096 - P@50: 0.9600 > C0522224: palsies\n"
     ]
    },
    {
     "name": "stderr",
     "output_type": "stream",
     "text": [
      "\r",
      "Evaluating test data for each side-effect:  50%|██████████████████▍                  | 480/963 [24:23<22:36,  2.81s/it]"
     ]
    },
    {
     "name": "stdout",
     "output_type": "stream",
     "text": [
      "AP: 0.8931 - AUC-ROC: 0.9398 - AUC-PR: 0.8931 - P@50: 0.9200 > C0740401: duodenal ulcer perforation\n"
     ]
    },
    {
     "name": "stderr",
     "output_type": "stream",
     "text": [
      "\r",
      "Evaluating test data for each side-effect:  50%|██████████████████▍                  | 481/963 [24:27<23:21,  2.91s/it]"
     ]
    },
    {
     "name": "stdout",
     "output_type": "stream",
     "text": [
      "AP: 0.8909 - AUC-ROC: 0.9244 - AUC-PR: 0.8909 - P@50: 0.9200 > C0025222: black stools\n"
     ]
    },
    {
     "name": "stderr",
     "output_type": "stream",
     "text": [
      "\r",
      "Evaluating test data for each side-effect:  50%|██████████████████▌                  | 482/963 [24:29<22:28,  2.80s/it]"
     ]
    },
    {
     "name": "stdout",
     "output_type": "stream",
     "text": [
      "AP: 0.9659 - AUC-ROC: 0.9716 - AUC-PR: 0.9659 - P@50: 1.0000 > C0007570: coeliac disease\n"
     ]
    },
    {
     "name": "stderr",
     "output_type": "stream",
     "text": [
      "\r",
      "Evaluating test data for each side-effect:  50%|██████████████████▌                  | 483/963 [24:32<22:30,  2.81s/it]"
     ]
    },
    {
     "name": "stdout",
     "output_type": "stream",
     "text": [
      "AP: 0.9438 - AUC-ROC: 0.9637 - AUC-PR: 0.9438 - P@50: 0.9600 > C0024437: macula lutea degeneration\n"
     ]
    },
    {
     "name": "stderr",
     "output_type": "stream",
     "text": [
      "\r",
      "Evaluating test data for each side-effect:  50%|██████████████████▌                  | 484/963 [24:35<22:40,  2.84s/it]"
     ]
    },
    {
     "name": "stdout",
     "output_type": "stream",
     "text": [
      "AP: 0.8813 - AUC-ROC: 0.9296 - AUC-PR: 0.8813 - P@50: 0.8600 > C0007787: transient ischaemic attack\n"
     ]
    },
    {
     "name": "stderr",
     "output_type": "stream",
     "text": [
      "\r",
      "Evaluating test data for each side-effect:  50%|██████████████████▋                  | 485/963 [24:38<22:08,  2.78s/it]"
     ]
    },
    {
     "name": "stdout",
     "output_type": "stream",
     "text": [
      "AP: 0.9411 - AUC-ROC: 0.9639 - AUC-PR: 0.9411 - P@50: 0.9600 > C0016059: fib\n"
     ]
    },
    {
     "name": "stderr",
     "output_type": "stream",
     "text": [
      "\r",
      "Evaluating test data for each side-effect:  50%|██████████████████▋                  | 486/963 [24:40<22:18,  2.81s/it]"
     ]
    },
    {
     "name": "stdout",
     "output_type": "stream",
     "text": [
      "AP: 0.9279 - AUC-ROC: 0.9494 - AUC-PR: 0.9279 - P@50: 0.9600 > C0040435: tooth disease\n"
     ]
    },
    {
     "name": "stderr",
     "output_type": "stream",
     "text": [
      "\r",
      "Evaluating test data for each side-effect:  51%|██████████████████▋                  | 487/963 [24:43<22:25,  2.83s/it]"
     ]
    },
    {
     "name": "stdout",
     "output_type": "stream",
     "text": [
      "AP: 0.9511 - AUC-ROC: 0.9692 - AUC-PR: 0.9511 - P@50: 0.9600 > C0007280: carotid bruit\n"
     ]
    },
    {
     "name": "stderr",
     "output_type": "stream",
     "text": [
      "\r",
      "Evaluating test data for each side-effect:  51%|██████████████████▋                  | 488/963 [24:46<21:40,  2.74s/it]"
     ]
    },
    {
     "name": "stdout",
     "output_type": "stream",
     "text": [
      "AP: 0.8821 - AUC-ROC: 0.9244 - AUC-PR: 0.8821 - P@50: 0.8600 > C0314719: dry eye\n"
     ]
    },
    {
     "name": "stderr",
     "output_type": "stream",
     "text": [
      "\r",
      "Evaluating test data for each side-effect:  51%|██████████████████▊                  | 489/963 [24:49<22:41,  2.87s/it]"
     ]
    },
    {
     "name": "stdout",
     "output_type": "stream",
     "text": [
      "AP: 0.9183 - AUC-ROC: 0.9513 - AUC-PR: 0.9183 - P@50: 0.9200 > C0435630: wrist fracture\n"
     ]
    },
    {
     "name": "stderr",
     "output_type": "stream",
     "text": [
      "\r",
      "Evaluating test data for each side-effect:  51%|██████████████████▊                  | 490/963 [24:52<22:45,  2.89s/it]"
     ]
    },
    {
     "name": "stdout",
     "output_type": "stream",
     "text": [
      "AP: 0.9026 - AUC-ROC: 0.9407 - AUC-PR: 0.9026 - P@50: 0.9000 > C0041912: Infection Upper Respiratory\n"
     ]
    },
    {
     "name": "stderr",
     "output_type": "stream",
     "text": [
      "\r",
      "Evaluating test data for each side-effect:  51%|██████████████████▊                  | 491/963 [24:55<23:17,  2.96s/it]"
     ]
    },
    {
     "name": "stdout",
     "output_type": "stream",
     "text": [
      "AP: 0.9091 - AUC-ROC: 0.9403 - AUC-PR: 0.9091 - P@50: 0.9000 > C0020443: elevated cholesterol\n"
     ]
    },
    {
     "name": "stderr",
     "output_type": "stream",
     "text": [
      "\r",
      "Evaluating test data for each side-effect:  51%|██████████████████▉                  | 492/963 [24:58<22:44,  2.90s/it]"
     ]
    },
    {
     "name": "stdout",
     "output_type": "stream",
     "text": [
      "AP: 0.9254 - AUC-ROC: 0.9587 - AUC-PR: 0.9254 - P@50: 0.9400 > C0080194: muscle strain\n"
     ]
    },
    {
     "name": "stderr",
     "output_type": "stream",
     "text": [
      "\r",
      "Evaluating test data for each side-effect:  51%|██████████████████▉                  | 493/963 [25:01<22:35,  2.88s/it]"
     ]
    },
    {
     "name": "stdout",
     "output_type": "stream",
     "text": [
      "AP: 0.9406 - AUC-ROC: 0.9546 - AUC-PR: 0.9406 - P@50: 1.0000 > C0085680: hypochloraemia\n"
     ]
    },
    {
     "name": "stderr",
     "output_type": "stream",
     "text": [
      "\r",
      "Evaluating test data for each side-effect:  51%|██████████████████▉                  | 494/963 [25:03<21:49,  2.79s/it]"
     ]
    },
    {
     "name": "stdout",
     "output_type": "stream",
     "text": [
      "AP: 0.9359 - AUC-ROC: 0.9535 - AUC-PR: 0.9359 - P@50: 0.9600 > C0018939: Blood disorder\n"
     ]
    },
    {
     "name": "stderr",
     "output_type": "stream",
     "text": [
      "\r",
      "Evaluating test data for each side-effect:  51%|███████████████████                  | 495/963 [25:06<22:37,  2.90s/it]"
     ]
    },
    {
     "name": "stdout",
     "output_type": "stream",
     "text": [
      "AP: 0.8930 - AUC-ROC: 0.9356 - AUC-PR: 0.8930 - P@50: 0.9000 > C0011127: decubitus ulcer\n"
     ]
    },
    {
     "name": "stderr",
     "output_type": "stream",
     "text": [
      "\r",
      "Evaluating test data for each side-effect:  52%|███████████████████                  | 496/963 [25:09<21:50,  2.81s/it]"
     ]
    },
    {
     "name": "stdout",
     "output_type": "stream",
     "text": [
      "AP: 0.9362 - AUC-ROC: 0.9575 - AUC-PR: 0.9362 - P@50: 0.9800 > C0004153: Atherosclerosis\n"
     ]
    },
    {
     "name": "stderr",
     "output_type": "stream",
     "text": [
      "\r",
      "Evaluating test data for each side-effect:  52%|███████████████████                  | 497/963 [25:12<22:02,  2.84s/it]"
     ]
    },
    {
     "name": "stdout",
     "output_type": "stream",
     "text": [
      "AP: 0.8824 - AUC-ROC: 0.9228 - AUC-PR: 0.8824 - P@50: 0.9200 > C0018418: gynaecomastia\n"
     ]
    },
    {
     "name": "stderr",
     "output_type": "stream",
     "text": [
      "\r",
      "Evaluating test data for each side-effect:  52%|███████████████████▏                 | 498/963 [25:14<21:31,  2.78s/it]"
     ]
    },
    {
     "name": "stdout",
     "output_type": "stream",
     "text": [
      "AP: 0.9570 - AUC-ROC: 0.9642 - AUC-PR: 0.9570 - P@50: 0.9800 > C0009917: contracture\n"
     ]
    },
    {
     "name": "stderr",
     "output_type": "stream",
     "text": [
      "\r",
      "Evaluating test data for each side-effect:  52%|███████████████████▏                 | 499/963 [25:17<21:40,  2.80s/it]"
     ]
    },
    {
     "name": "stdout",
     "output_type": "stream",
     "text": [
      "AP: 0.8783 - AUC-ROC: 0.9341 - AUC-PR: 0.8783 - P@50: 0.8000 > C0038002: enlarged spleen\n"
     ]
    },
    {
     "name": "stderr",
     "output_type": "stream",
     "text": [
      "\r",
      "Evaluating test data for each side-effect:  52%|███████████████████▏                 | 500/963 [25:20<21:44,  2.82s/it]"
     ]
    },
    {
     "name": "stdout",
     "output_type": "stream",
     "text": [
      "AP: 0.9596 - AUC-ROC: 0.9733 - AUC-PR: 0.9596 - P@50: 0.9800 > C0038436: post traumatic stress disorder\n"
     ]
    },
    {
     "name": "stderr",
     "output_type": "stream",
     "text": [
      "\r",
      "Evaluating test data for each side-effect:  52%|███████████████████▏                 | 501/963 [25:23<21:45,  2.83s/it]"
     ]
    },
    {
     "name": "stdout",
     "output_type": "stream",
     "text": [
      "AP: 0.9355 - AUC-ROC: 0.9502 - AUC-PR: 0.9355 - P@50: 1.0000 > C0015256: Excoriation\n"
     ]
    },
    {
     "name": "stderr",
     "output_type": "stream",
     "text": [
      "\r",
      "Evaluating test data for each side-effect:  52%|███████████████████▎                 | 502/963 [25:26<21:46,  2.83s/it]"
     ]
    },
    {
     "name": "stdout",
     "output_type": "stream",
     "text": [
      "AP: 0.9676 - AUC-ROC: 0.9746 - AUC-PR: 0.9676 - P@50: 0.9600 > C0021092: cerumen impaction\n"
     ]
    },
    {
     "name": "stderr",
     "output_type": "stream",
     "text": [
      "\r",
      "Evaluating test data for each side-effect:  52%|███████████████████▎                 | 503/963 [25:29<21:49,  2.85s/it]"
     ]
    },
    {
     "name": "stdout",
     "output_type": "stream",
     "text": [
      "AP: 0.9770 - AUC-ROC: 0.9774 - AUC-PR: 0.9770 - P@50: 1.0000 > C0032302: pneumonia primary atypical\n"
     ]
    },
    {
     "name": "stderr",
     "output_type": "stream",
     "text": [
      "\r",
      "Evaluating test data for each side-effect:  52%|███████████████████▎                 | 504/963 [25:31<21:06,  2.76s/it]"
     ]
    },
    {
     "name": "stdout",
     "output_type": "stream",
     "text": [
      "AP: 0.9310 - AUC-ROC: 0.9452 - AUC-PR: 0.9310 - P@50: 0.9600 > C0014356: enterocolitis\n"
     ]
    },
    {
     "name": "stderr",
     "output_type": "stream",
     "text": [
      "\r",
      "Evaluating test data for each side-effect:  52%|███████████████████▍                 | 505/963 [25:34<21:19,  2.79s/it]"
     ]
    },
    {
     "name": "stdout",
     "output_type": "stream",
     "text": [
      "AP: 0.9024 - AUC-ROC: 0.9362 - AUC-PR: 0.9024 - P@50: 0.9600 > C0080274: bladder retention\n"
     ]
    },
    {
     "name": "stderr",
     "output_type": "stream",
     "text": [
      "\r",
      "Evaluating test data for each side-effect:  53%|███████████████████▍                 | 506/963 [25:37<20:51,  2.74s/it]"
     ]
    },
    {
     "name": "stdout",
     "output_type": "stream",
     "text": [
      "AP: 0.9759 - AUC-ROC: 0.9796 - AUC-PR: 0.9759 - P@50: 0.9800 > C0574960: sacroiliitis\n"
     ]
    },
    {
     "name": "stderr",
     "output_type": "stream",
     "text": [
      "\r",
      "Evaluating test data for each side-effect:  53%|███████████████████▍                 | 507/963 [25:40<21:05,  2.78s/it]"
     ]
    },
    {
     "name": "stdout",
     "output_type": "stream",
     "text": [
      "AP: 0.8860 - AUC-ROC: 0.9303 - AUC-PR: 0.8860 - P@50: 0.8600 > C0001418: adenocarcinoma\n"
     ]
    },
    {
     "name": "stderr",
     "output_type": "stream",
     "text": [
      "\r",
      "Evaluating test data for each side-effect:  53%|███████████████████▌                 | 508/963 [25:42<20:43,  2.73s/it]"
     ]
    },
    {
     "name": "stdout",
     "output_type": "stream",
     "text": [
      "AP: 0.8824 - AUC-ROC: 0.9308 - AUC-PR: 0.8824 - P@50: 0.8600 > C0011206: acute brain syndrome\n"
     ]
    },
    {
     "name": "stderr",
     "output_type": "stream",
     "text": [
      "\r",
      "Evaluating test data for each side-effect:  53%|███████████████████▌                 | 509/963 [25:46<21:48,  2.88s/it]"
     ]
    },
    {
     "name": "stdout",
     "output_type": "stream",
     "text": [
      "AP: 0.9762 - AUC-ROC: 0.9785 - AUC-PR: 0.9762 - P@50: 0.9600 > C0042961: volvulus\n"
     ]
    },
    {
     "name": "stderr",
     "output_type": "stream",
     "text": [
      "\r",
      "Evaluating test data for each side-effect:  53%|███████████████████▌                 | 510/963 [25:48<21:03,  2.79s/it]"
     ]
    },
    {
     "name": "stdout",
     "output_type": "stream",
     "text": [
      "AP: 0.9237 - AUC-ROC: 0.9479 - AUC-PR: 0.9237 - P@50: 0.9400 > C0162298: joint stiffness\n"
     ]
    },
    {
     "name": "stderr",
     "output_type": "stream",
     "text": [
      "\r",
      "Evaluating test data for each side-effect:  53%|███████████████████▋                 | 511/963 [25:51<21:10,  2.81s/it]"
     ]
    },
    {
     "name": "stdout",
     "output_type": "stream",
     "text": [
      "AP: 0.9579 - AUC-ROC: 0.9671 - AUC-PR: 0.9579 - P@50: 0.9800 > C0030794: pain pelvic\n"
     ]
    },
    {
     "name": "stderr",
     "output_type": "stream",
     "text": [
      "\r",
      "Evaluating test data for each side-effect:  53%|███████████████████▋                 | 512/963 [25:54<21:14,  2.83s/it]"
     ]
    },
    {
     "name": "stdout",
     "output_type": "stream",
     "text": [
      "AP: 0.8959 - AUC-ROC: 0.9339 - AUC-PR: 0.8959 - P@50: 0.8600 > C0018800: cardiac enlargement\n"
     ]
    },
    {
     "name": "stderr",
     "output_type": "stream",
     "text": [
      "\r",
      "Evaluating test data for each side-effect:  53%|███████████████████▋                 | 513/963 [25:57<21:30,  2.87s/it]"
     ]
    },
    {
     "name": "stdout",
     "output_type": "stream",
     "text": [
      "AP: 0.9202 - AUC-ROC: 0.9511 - AUC-PR: 0.9202 - P@50: 0.9400 > C0016167: anal fissure\n"
     ]
    },
    {
     "name": "stderr",
     "output_type": "stream",
     "text": [
      "\r",
      "Evaluating test data for each side-effect:  53%|███████████████████▋                 | 514/963 [25:59<20:44,  2.77s/it]"
     ]
    },
    {
     "name": "stdout",
     "output_type": "stream",
     "text": [
      "AP: 0.9027 - AUC-ROC: 0.9342 - AUC-PR: 0.9027 - P@50: 0.9200 > C0438215: Abnormal Laboratory Findings\n"
     ]
    },
    {
     "name": "stderr",
     "output_type": "stream",
     "text": [
      "\r",
      "Evaluating test data for each side-effect:  53%|███████████████████▊                 | 515/963 [26:02<20:52,  2.80s/it]"
     ]
    },
    {
     "name": "stdout",
     "output_type": "stream",
     "text": [
      "AP: 0.8404 - AUC-ROC: 0.9036 - AUC-PR: 0.8404 - P@50: 0.8800 > C0019163: hepatitis B\n"
     ]
    },
    {
     "name": "stderr",
     "output_type": "stream",
     "text": [
      "\r",
      "Evaluating test data for each side-effect:  54%|███████████████████▊                 | 516/963 [26:05<21:39,  2.91s/it]"
     ]
    },
    {
     "name": "stdout",
     "output_type": "stream",
     "text": [
      "AP: 0.8894 - AUC-ROC: 0.9261 - AUC-PR: 0.8894 - P@50: 0.9200 > C0149871: deep vein thromboses\n"
     ]
    },
    {
     "name": "stderr",
     "output_type": "stream",
     "text": [
      "\r",
      "Evaluating test data for each side-effect:  54%|███████████████████▊                 | 517/963 [26:08<21:12,  2.85s/it]"
     ]
    },
    {
     "name": "stdout",
     "output_type": "stream",
     "text": [
      "AP: 0.9032 - AUC-ROC: 0.9395 - AUC-PR: 0.9032 - P@50: 0.9200 > C0042571: spinning sensation\n"
     ]
    },
    {
     "name": "stderr",
     "output_type": "stream",
     "text": [
      "\r",
      "Evaluating test data for each side-effect:  54%|███████████████████▉                 | 518/963 [26:11<21:12,  2.86s/it]"
     ]
    },
    {
     "name": "stdout",
     "output_type": "stream",
     "text": [
      "AP: 0.9631 - AUC-ROC: 0.9647 - AUC-PR: 0.9631 - P@50: 0.9600 > C0024282: lymphocytosis\n"
     ]
    },
    {
     "name": "stderr",
     "output_type": "stream",
     "text": [
      "\r",
      "Evaluating test data for each side-effect:  54%|███████████████████▉                 | 519/963 [26:14<21:08,  2.86s/it]"
     ]
    },
    {
     "name": "stdout",
     "output_type": "stream",
     "text": [
      "AP: 0.9868 - AUC-ROC: 0.9866 - AUC-PR: 0.9868 - P@50: 0.9600 > C0019572: hirsuitism\n"
     ]
    },
    {
     "name": "stderr",
     "output_type": "stream",
     "text": [
      "\r",
      "Evaluating test data for each side-effect:  54%|███████████████████▉                 | 520/963 [26:17<21:04,  2.85s/it]"
     ]
    },
    {
     "name": "stdout",
     "output_type": "stream",
     "text": [
      "AP: 0.9580 - AUC-ROC: 0.9738 - AUC-PR: 0.9580 - P@50: 0.9400 > C0149741: breast discharge\n"
     ]
    },
    {
     "name": "stderr",
     "output_type": "stream",
     "text": [
      "\r",
      "Evaluating test data for each side-effect:  54%|████████████████████                 | 521/963 [26:20<21:10,  2.87s/it]"
     ]
    },
    {
     "name": "stdout",
     "output_type": "stream",
     "text": [
      "AP: 0.9128 - AUC-ROC: 0.9409 - AUC-PR: 0.9128 - P@50: 0.9400 > C0003467: Anxiety\n"
     ]
    },
    {
     "name": "stderr",
     "output_type": "stream",
     "text": [
      "\r",
      "Evaluating test data for each side-effect:  54%|████████████████████                 | 522/963 [26:23<22:01,  3.00s/it]"
     ]
    },
    {
     "name": "stdout",
     "output_type": "stream",
     "text": [
      "AP: 0.8687 - AUC-ROC: 0.9216 - AUC-PR: 0.8687 - P@50: 0.8800 > C0007876: Caesarean Section\n"
     ]
    },
    {
     "name": "stderr",
     "output_type": "stream",
     "text": [
      "\r",
      "Evaluating test data for each side-effect:  54%|████████████████████                 | 523/963 [26:26<21:41,  2.96s/it]"
     ]
    },
    {
     "name": "stdout",
     "output_type": "stream",
     "text": [
      "AP: 0.9316 - AUC-ROC: 0.9597 - AUC-PR: 0.9316 - P@50: 0.9400 > C0267112: erosive gastritis\n"
     ]
    },
    {
     "name": "stderr",
     "output_type": "stream",
     "text": [
      "\r",
      "Evaluating test data for each side-effect:  54%|████████████████████▏                | 524/963 [26:28<20:43,  2.83s/it]"
     ]
    },
    {
     "name": "stdout",
     "output_type": "stream",
     "text": [
      "AP: 0.9675 - AUC-ROC: 0.9695 - AUC-PR: 0.9675 - P@50: 1.0000 > C0220982: ketoacidosis\n"
     ]
    },
    {
     "name": "stderr",
     "output_type": "stream",
     "text": [
      "\r",
      "Evaluating test data for each side-effect:  55%|████████████████████▏                | 525/963 [26:31<20:41,  2.83s/it]"
     ]
    },
    {
     "name": "stdout",
     "output_type": "stream",
     "text": [
      "AP: 0.9338 - AUC-ROC: 0.9479 - AUC-PR: 0.9338 - P@50: 0.9400 > C0600327: toxic shock\n"
     ]
    },
    {
     "name": "stderr",
     "output_type": "stream",
     "text": [
      "\r",
      "Evaluating test data for each side-effect:  55%|████████████████████▏                | 526/963 [26:34<20:43,  2.84s/it]"
     ]
    },
    {
     "name": "stdout",
     "output_type": "stream",
     "text": [
      "AP: 0.9033 - AUC-ROC: 0.9492 - AUC-PR: 0.9033 - P@50: 0.9200 > C0149520: cholecystitis acute\n"
     ]
    },
    {
     "name": "stderr",
     "output_type": "stream",
     "text": [
      "\r",
      "Evaluating test data for each side-effect:  55%|████████████████████▏                | 527/963 [26:37<20:41,  2.85s/it]"
     ]
    },
    {
     "name": "stdout",
     "output_type": "stream",
     "text": [
      "AP: 0.8523 - AUC-ROC: 0.9129 - AUC-PR: 0.8523 - P@50: 0.7600 > C0232492: abdominal pain upper\n"
     ]
    },
    {
     "name": "stderr",
     "output_type": "stream",
     "text": [
      "\r",
      "Evaluating test data for each side-effect:  55%|████████████████████▎                | 528/963 [26:40<20:59,  2.90s/it]"
     ]
    },
    {
     "name": "stdout",
     "output_type": "stream",
     "text": [
      "AP: 0.9187 - AUC-ROC: 0.9439 - AUC-PR: 0.9187 - P@50: 0.9400 > C0026946: fungal disease\n"
     ]
    },
    {
     "name": "stderr",
     "output_type": "stream",
     "text": [
      "\r",
      "Evaluating test data for each side-effect:  55%|████████████████████▎                | 529/963 [26:42<20:17,  2.80s/it]"
     ]
    },
    {
     "name": "stdout",
     "output_type": "stream",
     "text": [
      "AP: 0.9215 - AUC-ROC: 0.9557 - AUC-PR: 0.9215 - P@50: 0.9400 > C0006105: brain abscess\n"
     ]
    },
    {
     "name": "stderr",
     "output_type": "stream",
     "text": [
      "\r",
      "Evaluating test data for each side-effect:  55%|████████████████████▎                | 530/963 [26:45<20:20,  2.82s/it]"
     ]
    },
    {
     "name": "stdout",
     "output_type": "stream",
     "text": [
      "AP: 0.9310 - AUC-ROC: 0.9517 - AUC-PR: 0.9310 - P@50: 0.9600 > C0032617: polyuria\n"
     ]
    },
    {
     "name": "stderr",
     "output_type": "stream",
     "text": [
      "\r",
      "Evaluating test data for each side-effect:  55%|████████████████████▍                | 531/963 [26:48<21:04,  2.93s/it]"
     ]
    },
    {
     "name": "stdout",
     "output_type": "stream",
     "text": [
      "AP: 0.9430 - AUC-ROC: 0.9526 - AUC-PR: 0.9430 - P@50: 0.9200 > C0038012: spondylitis\n"
     ]
    },
    {
     "name": "stderr",
     "output_type": "stream",
     "text": [
      "\r",
      "Evaluating test data for each side-effect:  55%|████████████████████▍                | 532/963 [26:51<20:17,  2.82s/it]"
     ]
    },
    {
     "name": "stdout",
     "output_type": "stream",
     "text": [
      "AP: 0.9272 - AUC-ROC: 0.9640 - AUC-PR: 0.9272 - P@50: 0.9400 > C0006384: bundle branch block\n"
     ]
    },
    {
     "name": "stderr",
     "output_type": "stream",
     "text": [
      "\r",
      "Evaluating test data for each side-effect:  55%|████████████████████▍                | 533/963 [26:54<20:57,  2.93s/it]"
     ]
    },
    {
     "name": "stdout",
     "output_type": "stream",
     "text": [
      "AP: 0.8821 - AUC-ROC: 0.9204 - AUC-PR: 0.8821 - P@50: 0.9200 > C0085631: agitated\n"
     ]
    },
    {
     "name": "stderr",
     "output_type": "stream",
     "text": [
      "\r",
      "Evaluating test data for each side-effect:  55%|████████████████████▌                | 534/963 [26:57<20:31,  2.87s/it]"
     ]
    },
    {
     "name": "stdout",
     "output_type": "stream",
     "text": [
      "AP: 0.8931 - AUC-ROC: 0.9282 - AUC-PR: 0.8931 - P@50: 0.8800 > C0206062: ild\n"
     ]
    },
    {
     "name": "stderr",
     "output_type": "stream",
     "text": [
      "\r",
      "Evaluating test data for each side-effect:  56%|████████████████████▌                | 535/963 [27:00<20:26,  2.87s/it]"
     ]
    },
    {
     "name": "stdout",
     "output_type": "stream",
     "text": [
      "AP: 0.9132 - AUC-ROC: 0.9461 - AUC-PR: 0.9132 - P@50: 0.9200 > C0009376: colonic polyp\n"
     ]
    },
    {
     "name": "stderr",
     "output_type": "stream",
     "text": [
      "\r",
      "Evaluating test data for each side-effect:  56%|████████████████████▌                | 536/963 [27:03<20:22,  2.86s/it]"
     ]
    },
    {
     "name": "stdout",
     "output_type": "stream",
     "text": [
      "AP: 0.8806 - AUC-ROC: 0.9235 - AUC-PR: 0.8806 - P@50: 0.8800 > C0013395: dyspepsia\n"
     ]
    },
    {
     "name": "stderr",
     "output_type": "stream",
     "text": [
      "\r",
      "Evaluating test data for each side-effect:  56%|████████████████████▋                | 537/963 [27:06<20:37,  2.90s/it]"
     ]
    },
    {
     "name": "stdout",
     "output_type": "stream",
     "text": [
      "AP: 0.8791 - AUC-ROC: 0.9211 - AUC-PR: 0.8791 - P@50: 0.8600 > C0001969: Alcoholic intoxication\n"
     ]
    },
    {
     "name": "stderr",
     "output_type": "stream",
     "text": [
      "\r",
      "Evaluating test data for each side-effect:  56%|████████████████████▋                | 538/963 [27:08<20:23,  2.88s/it]"
     ]
    },
    {
     "name": "stdout",
     "output_type": "stream",
     "text": [
      "AP: 0.8972 - AUC-ROC: 0.9370 - AUC-PR: 0.8972 - P@50: 0.9000 > C0019209: enlarged liver\n"
     ]
    },
    {
     "name": "stderr",
     "output_type": "stream",
     "text": [
      "\r",
      "Evaluating test data for each side-effect:  56%|████████████████████▋                | 539/963 [27:11<20:19,  2.88s/it]"
     ]
    },
    {
     "name": "stdout",
     "output_type": "stream",
     "text": [
      "AP: 0.9579 - AUC-ROC: 0.9628 - AUC-PR: 0.9579 - P@50: 0.9200 > C0034372: quadriplegia\n"
     ]
    },
    {
     "name": "stderr",
     "output_type": "stream",
     "text": [
      "\r",
      "Evaluating test data for each side-effect:  56%|████████████████████▋                | 540/963 [27:15<20:49,  2.95s/it]"
     ]
    },
    {
     "name": "stdout",
     "output_type": "stream",
     "text": [
      "AP: 0.9624 - AUC-ROC: 0.9685 - AUC-PR: 0.9624 - P@50: 0.9800 > C0392699: dysaesthesia\n"
     ]
    },
    {
     "name": "stderr",
     "output_type": "stream",
     "text": [
      "\r",
      "Evaluating test data for each side-effect:  56%|████████████████████▊                | 541/963 [27:17<19:53,  2.83s/it]"
     ]
    },
    {
     "name": "stdout",
     "output_type": "stream",
     "text": [
      "AP: 0.8776 - AUC-ROC: 0.9289 - AUC-PR: 0.8776 - P@50: 0.8200 > C0020649: arterial pressure NOS decreased\n"
     ]
    },
    {
     "name": "stderr",
     "output_type": "stream",
     "text": [
      "\r",
      "Evaluating test data for each side-effect:  56%|████████████████████▊                | 542/963 [27:21<21:55,  3.12s/it]"
     ]
    },
    {
     "name": "stdout",
     "output_type": "stream",
     "text": [
      "AP: 0.9487 - AUC-ROC: 0.9707 - AUC-PR: 0.9487 - P@50: 0.9600 > C0085619: orthopnea\n"
     ]
    },
    {
     "name": "stderr",
     "output_type": "stream",
     "text": [
      "\r",
      "Evaluating test data for each side-effect:  56%|████████████████████▊                | 543/963 [27:24<22:11,  3.17s/it]"
     ]
    },
    {
     "name": "stdout",
     "output_type": "stream",
     "text": [
      "AP: 0.9208 - AUC-ROC: 0.9468 - AUC-PR: 0.9208 - P@50: 0.9600 > C0035305: Detached retina\n"
     ]
    },
    {
     "name": "stderr",
     "output_type": "stream",
     "text": [
      "\r",
      "Evaluating test data for each side-effect:  56%|████████████████████▉                | 544/963 [27:27<22:31,  3.23s/it]"
     ]
    },
    {
     "name": "stdout",
     "output_type": "stream",
     "text": [
      "AP: 0.9504 - AUC-ROC: 0.9666 - AUC-PR: 0.9504 - P@50: 0.9600 > C0020541: portal hypertension\n"
     ]
    },
    {
     "name": "stderr",
     "output_type": "stream",
     "text": [
      "\r",
      "Evaluating test data for each side-effect:  57%|████████████████████▉                | 545/963 [27:31<22:04,  3.17s/it]"
     ]
    },
    {
     "name": "stdout",
     "output_type": "stream",
     "text": [
      "AP: 0.9008 - AUC-ROC: 0.9350 - AUC-PR: 0.9008 - P@50: 0.9200 > C0003962: ascites\n"
     ]
    },
    {
     "name": "stderr",
     "output_type": "stream",
     "text": [
      "\r",
      "Evaluating test data for each side-effect:  57%|████████████████████▉                | 546/963 [27:34<21:39,  3.12s/it]"
     ]
    },
    {
     "name": "stdout",
     "output_type": "stream",
     "text": [
      "AP: 0.9114 - AUC-ROC: 0.9399 - AUC-PR: 0.9114 - P@50: 0.9400 > C0041755: ADVERSE DRUG EFFECT\n"
     ]
    },
    {
     "name": "stderr",
     "output_type": "stream",
     "text": [
      "\r",
      "Evaluating test data for each side-effect:  57%|█████████████████████                | 547/963 [27:36<20:44,  2.99s/it]"
     ]
    },
    {
     "name": "stdout",
     "output_type": "stream",
     "text": [
      "AP: 0.9156 - AUC-ROC: 0.9517 - AUC-PR: 0.9156 - P@50: 0.9400 > C0025874: Breakthrough bleeding\n"
     ]
    },
    {
     "name": "stderr",
     "output_type": "stream",
     "text": [
      "\r",
      "Evaluating test data for each side-effect:  57%|█████████████████████                | 548/963 [27:39<21:15,  3.07s/it]"
     ]
    },
    {
     "name": "stdout",
     "output_type": "stream",
     "text": [
      "AP: 0.9743 - AUC-ROC: 0.9757 - AUC-PR: 0.9743 - P@50: 0.9800 > C0009946: conversion disorder\n"
     ]
    },
    {
     "name": "stderr",
     "output_type": "stream",
     "text": [
      "\r",
      "Evaluating test data for each side-effect:  57%|█████████████████████                | 549/963 [27:43<21:10,  3.07s/it]"
     ]
    },
    {
     "name": "stdout",
     "output_type": "stream",
     "text": [
      "AP: 0.9383 - AUC-ROC: 0.9747 - AUC-PR: 0.9383 - P@50: 0.9600 > C0221245: Rhagades\n"
     ]
    },
    {
     "name": "stderr",
     "output_type": "stream",
     "text": [
      "\r",
      "Evaluating test data for each side-effect:  57%|█████████████████████▏               | 550/963 [27:45<20:39,  3.00s/it]"
     ]
    },
    {
     "name": "stdout",
     "output_type": "stream",
     "text": [
      "AP: 0.8589 - AUC-ROC: 0.9127 - AUC-PR: 0.8589 - P@50: 0.8600 > C0034065: Embolism pulmonary\n"
     ]
    },
    {
     "name": "stderr",
     "output_type": "stream",
     "text": [
      "\r",
      "Evaluating test data for each side-effect:  57%|█████████████████████▏               | 551/963 [27:48<20:33,  2.99s/it]"
     ]
    },
    {
     "name": "stdout",
     "output_type": "stream",
     "text": [
      "AP: 0.9817 - AUC-ROC: 0.9824 - AUC-PR: 0.9817 - P@50: 0.9400 > C0009193: coccydynia\n"
     ]
    },
    {
     "name": "stderr",
     "output_type": "stream",
     "text": [
      "\r",
      "Evaluating test data for each side-effect:  57%|█████████████████████▏               | 552/963 [27:51<20:34,  3.00s/it]"
     ]
    },
    {
     "name": "stdout",
     "output_type": "stream",
     "text": [
      "AP: 0.9841 - AUC-ROC: 0.9839 - AUC-PR: 0.9841 - P@50: 0.9800 > C0006152: Breast swelling\n"
     ]
    },
    {
     "name": "stderr",
     "output_type": "stream",
     "text": [
      "\r",
      "Evaluating test data for each side-effect:  57%|█████████████████████▏               | 553/963 [27:54<19:42,  2.89s/it]"
     ]
    },
    {
     "name": "stdout",
     "output_type": "stream",
     "text": [
      "AP: 0.9157 - AUC-ROC: 0.9388 - AUC-PR: 0.9157 - P@50: 0.9600 > C0031117: neuropathy peripheral\n"
     ]
    },
    {
     "name": "stderr",
     "output_type": "stream",
     "text": [
      "\r",
      "Evaluating test data for each side-effect:  58%|█████████████████████▎               | 554/963 [27:57<20:06,  2.95s/it]"
     ]
    },
    {
     "name": "stdout",
     "output_type": "stream",
     "text": [
      "AP: 0.8674 - AUC-ROC: 0.9184 - AUC-PR: 0.8674 - P@50: 0.9200 > C0027719: nephrosclerosis\n"
     ]
    },
    {
     "name": "stderr",
     "output_type": "stream",
     "text": [
      "\r",
      "Evaluating test data for each side-effect:  58%|█████████████████████▎               | 555/963 [28:00<19:56,  2.93s/it]"
     ]
    },
    {
     "name": "stdout",
     "output_type": "stream",
     "text": [
      "AP: 0.9139 - AUC-ROC: 0.9583 - AUC-PR: 0.9139 - P@50: 0.9400 > C0022575: keratitis sicca\n"
     ]
    },
    {
     "name": "stderr",
     "output_type": "stream",
     "text": [
      "\r",
      "Evaluating test data for each side-effect:  58%|█████████████████████▎               | 556/963 [28:04<22:04,  3.25s/it]"
     ]
    },
    {
     "name": "stdout",
     "output_type": "stream",
     "text": [
      "AP: 0.9355 - AUC-ROC: 0.9778 - AUC-PR: 0.9355 - P@50: 0.9800 > C0740858: substance abuse\n"
     ]
    },
    {
     "name": "stderr",
     "output_type": "stream",
     "text": [
      "\r",
      "Evaluating test data for each side-effect:  58%|█████████████████████▍               | 557/963 [28:07<21:00,  3.10s/it]"
     ]
    },
    {
     "name": "stdout",
     "output_type": "stream",
     "text": [
      "AP: 0.9143 - AUC-ROC: 0.9470 - AUC-PR: 0.9143 - P@50: 0.9200 > C0004610: Bacteraemia\n"
     ]
    },
    {
     "name": "stderr",
     "output_type": "stream",
     "text": [
      "\r",
      "Evaluating test data for each side-effect:  58%|█████████████████████▍               | 558/963 [28:10<20:56,  3.10s/it]"
     ]
    },
    {
     "name": "stdout",
     "output_type": "stream",
     "text": [
      "AP: 0.9064 - AUC-ROC: 0.9468 - AUC-PR: 0.9064 - P@50: 0.9200 > C0024902: breast pain\n"
     ]
    },
    {
     "name": "stderr",
     "output_type": "stream",
     "text": [
      "\r",
      "Evaluating test data for each side-effect:  58%|█████████████████████▍               | 559/963 [28:13<20:25,  3.03s/it]"
     ]
    },
    {
     "name": "stdout",
     "output_type": "stream",
     "text": [
      "AP: 0.9630 - AUC-ROC: 0.9721 - AUC-PR: 0.9630 - P@50: 0.9800 > C0042267: Colpitis\n"
     ]
    },
    {
     "name": "stderr",
     "output_type": "stream",
     "text": [
      "\r",
      "Evaluating test data for each side-effect:  58%|█████████████████████▌               | 560/963 [28:16<20:37,  3.07s/it]"
     ]
    },
    {
     "name": "stdout",
     "output_type": "stream",
     "text": [
      "AP: 0.9302 - AUC-ROC: 0.9551 - AUC-PR: 0.9302 - P@50: 0.9200 > C0021141: ADH inappropriate\n"
     ]
    },
    {
     "name": "stderr",
     "output_type": "stream",
     "text": [
      "\r",
      "Evaluating test data for each side-effect:  58%|█████████████████████▌               | 561/963 [28:18<19:29,  2.91s/it]"
     ]
    },
    {
     "name": "stdout",
     "output_type": "stream",
     "text": [
      "AP: 0.9098 - AUC-ROC: 0.9520 - AUC-PR: 0.9098 - P@50: 0.9400 > C0016807: intestinal functional disorder\n"
     ]
    },
    {
     "name": "stderr",
     "output_type": "stream",
     "text": [
      "\r",
      "Evaluating test data for each side-effect:  58%|█████████████████████▌               | 562/963 [28:22<20:22,  3.05s/it]"
     ]
    },
    {
     "name": "stdout",
     "output_type": "stream",
     "text": [
      "AP: 0.9386 - AUC-ROC: 0.9641 - AUC-PR: 0.9386 - P@50: 0.9800 > C0034887: rectal polyp\n"
     ]
    },
    {
     "name": "stderr",
     "output_type": "stream",
     "text": [
      "\r",
      "Evaluating test data for each side-effect:  58%|█████████████████████▋               | 563/963 [28:25<21:11,  3.18s/it]"
     ]
    },
    {
     "name": "stdout",
     "output_type": "stream",
     "text": [
      "AP: 0.9005 - AUC-ROC: 0.9421 - AUC-PR: 0.9005 - P@50: 0.9200 > C0262431: Spinal Compression Fracture\n"
     ]
    },
    {
     "name": "stderr",
     "output_type": "stream",
     "text": [
      "\r",
      "Evaluating test data for each side-effect:  59%|█████████████████████▋               | 564/963 [28:28<20:25,  3.07s/it]"
     ]
    },
    {
     "name": "stdout",
     "output_type": "stream",
     "text": [
      "AP: 0.8854 - AUC-ROC: 0.9288 - AUC-PR: 0.8854 - P@50: 0.9000 > C0001339: acute pancreatitis\n"
     ]
    },
    {
     "name": "stderr",
     "output_type": "stream",
     "text": [
      "\r",
      "Evaluating test data for each side-effect:  59%|█████████████████████▋               | 565/963 [28:31<20:04,  3.03s/it]"
     ]
    },
    {
     "name": "stdout",
     "output_type": "stream",
     "text": [
      "AP: 0.9926 - AUC-ROC: 0.9927 - AUC-PR: 0.9926 - P@50: 1.0000 > C0027822: neurodermatitis\n"
     ]
    },
    {
     "name": "stderr",
     "output_type": "stream",
     "text": [
      "\r",
      "Evaluating test data for each side-effect:  59%|█████████████████████▋               | 566/963 [28:34<20:28,  3.09s/it]"
     ]
    },
    {
     "name": "stdout",
     "output_type": "stream",
     "text": [
      "AP: 0.9424 - AUC-ROC: 0.9695 - AUC-PR: 0.9424 - P@50: 0.9400 > C0042025: Stress incontinence\n"
     ]
    },
    {
     "name": "stderr",
     "output_type": "stream",
     "text": [
      "\r",
      "Evaluating test data for each side-effect:  59%|█████████████████████▊               | 567/963 [28:37<20:06,  3.05s/it]"
     ]
    },
    {
     "name": "stdout",
     "output_type": "stream",
     "text": [
      "AP: 0.9564 - AUC-ROC: 0.9715 - AUC-PR: 0.9564 - P@50: 0.9800 > C0004095: asthenopia\n"
     ]
    },
    {
     "name": "stderr",
     "output_type": "stream",
     "text": [
      "\r",
      "Evaluating test data for each side-effect:  59%|█████████████████████▊               | 568/963 [28:40<20:11,  3.07s/it]"
     ]
    },
    {
     "name": "stdout",
     "output_type": "stream",
     "text": [
      "AP: 0.9298 - AUC-ROC: 0.9483 - AUC-PR: 0.9298 - P@50: 0.9800 > C0026846: amyotrophy\n"
     ]
    },
    {
     "name": "stderr",
     "output_type": "stream",
     "text": [
      "\r",
      "Evaluating test data for each side-effect:  59%|█████████████████████▊               | 569/963 [28:43<20:11,  3.08s/it]"
     ]
    },
    {
     "name": "stdout",
     "output_type": "stream",
     "text": [
      "AP: 0.9699 - AUC-ROC: 0.9776 - AUC-PR: 0.9699 - P@50: 0.9600 > C0020619: hypogonadism\n"
     ]
    },
    {
     "name": "stderr",
     "output_type": "stream",
     "text": [
      "\r",
      "Evaluating test data for each side-effect:  59%|█████████████████████▉               | 570/963 [28:46<19:44,  3.02s/it]"
     ]
    },
    {
     "name": "stdout",
     "output_type": "stream",
     "text": [
      "AP: 0.9995 - AUC-ROC: 0.9994 - AUC-PR: 0.9995 - P@50: 1.0000 > C0016665: fracture nonunion\n"
     ]
    },
    {
     "name": "stderr",
     "output_type": "stream",
     "text": [
      "\r",
      "Evaluating test data for each side-effect:  59%|█████████████████████▉               | 571/963 [28:49<19:54,  3.05s/it]"
     ]
    },
    {
     "name": "stdout",
     "output_type": "stream",
     "text": [
      "AP: 0.9371 - AUC-ROC: 0.9570 - AUC-PR: 0.9371 - P@50: 0.9400 > C0042134: uterine bleeding\n"
     ]
    },
    {
     "name": "stderr",
     "output_type": "stream",
     "text": [
      "\r",
      "Evaluating test data for each side-effect:  59%|█████████████████████▉               | 572/963 [28:53<20:24,  3.13s/it]"
     ]
    },
    {
     "name": "stdout",
     "output_type": "stream",
     "text": [
      "AP: 0.9224 - AUC-ROC: 0.9447 - AUC-PR: 0.9224 - P@50: 0.9800 > C0042373: angiopathy\n"
     ]
    },
    {
     "name": "stderr",
     "output_type": "stream",
     "text": [
      "\r",
      "Evaluating test data for each side-effect:  60%|██████████████████████               | 573/963 [28:56<19:56,  3.07s/it]"
     ]
    },
    {
     "name": "stdout",
     "output_type": "stream",
     "text": [
      "AP: 0.8853 - AUC-ROC: 0.9460 - AUC-PR: 0.8853 - P@50: 0.9000 > C0020162: humerus fracture\n"
     ]
    },
    {
     "name": "stderr",
     "output_type": "stream",
     "text": [
      "\r",
      "Evaluating test data for each side-effect:  60%|██████████████████████               | 574/963 [28:59<20:35,  3.18s/it]"
     ]
    },
    {
     "name": "stdout",
     "output_type": "stream",
     "text": [
      "AP: 0.9137 - AUC-ROC: 0.9458 - AUC-PR: 0.9137 - P@50: 0.9200 > C0002878: haemolytic anaemia\n"
     ]
    },
    {
     "name": "stderr",
     "output_type": "stream",
     "text": [
      "\r",
      "Evaluating test data for each side-effect:  60%|██████████████████████               | 575/963 [29:02<20:04,  3.11s/it]"
     ]
    },
    {
     "name": "stdout",
     "output_type": "stream",
     "text": [
      "AP: 0.9011 - AUC-ROC: 0.9456 - AUC-PR: 0.9011 - P@50: 0.9000 > C0015732: faecal incontinence\n"
     ]
    },
    {
     "name": "stderr",
     "output_type": "stream",
     "text": [
      "\r",
      "Evaluating test data for each side-effect:  60%|██████████████████████▏              | 576/963 [29:05<20:35,  3.19s/it]"
     ]
    },
    {
     "name": "stdout",
     "output_type": "stream",
     "text": [
      "AP: 0.9262 - AUC-ROC: 0.9582 - AUC-PR: 0.9262 - P@50: 0.9400 > C0037052: sick sinus syndrome\n"
     ]
    },
    {
     "name": "stderr",
     "output_type": "stream",
     "text": [
      "\r",
      "Evaluating test data for each side-effect:  60%|██████████████████████▏              | 577/963 [29:09<20:36,  3.20s/it]"
     ]
    },
    {
     "name": "stdout",
     "output_type": "stream",
     "text": [
      "AP: 0.9472 - AUC-ROC: 0.9657 - AUC-PR: 0.9472 - P@50: 0.9800 > C0013456: ear ache\n"
     ]
    },
    {
     "name": "stderr",
     "output_type": "stream",
     "text": [
      "\r",
      "Evaluating test data for each side-effect:  60%|██████████████████████▏              | 578/963 [29:12<19:59,  3.12s/it]"
     ]
    },
    {
     "name": "stdout",
     "output_type": "stream",
     "text": [
      "AP: 0.8961 - AUC-ROC: 0.9367 - AUC-PR: 0.8961 - P@50: 0.8800 > C0019557: hip fracture\n"
     ]
    },
    {
     "name": "stderr",
     "output_type": "stream",
     "text": [
      "\r",
      "Evaluating test data for each side-effect:  60%|██████████████████████▏              | 579/963 [29:14<19:34,  3.06s/it]"
     ]
    },
    {
     "name": "stdout",
     "output_type": "stream",
     "text": [
      "AP: 0.8869 - AUC-ROC: 0.9283 - AUC-PR: 0.8869 - P@50: 0.9000 > C0016977: gall bladder\n"
     ]
    },
    {
     "name": "stderr",
     "output_type": "stream",
     "text": [
      "\r",
      "Evaluating test data for each side-effect:  60%|██████████████████████▎              | 580/963 [29:17<18:38,  2.92s/it]"
     ]
    },
    {
     "name": "stdout",
     "output_type": "stream",
     "text": [
      "AP: 0.8943 - AUC-ROC: 0.9350 - AUC-PR: 0.8943 - P@50: 0.8800 > C0004623: Bacterial infection\n"
     ]
    },
    {
     "name": "stderr",
     "output_type": "stream",
     "text": [
      "\r",
      "Evaluating test data for each side-effect:  60%|██████████████████████▎              | 581/963 [29:20<18:34,  2.92s/it]"
     ]
    },
    {
     "name": "stdout",
     "output_type": "stream",
     "text": [
      "AP: 0.8710 - AUC-ROC: 0.9254 - AUC-PR: 0.8710 - P@50: 0.8000 > C0013404: Difficulty breathing\n"
     ]
    },
    {
     "name": "stderr",
     "output_type": "stream",
     "text": [
      "\r",
      "Evaluating test data for each side-effect:  60%|██████████████████████▎              | 582/963 [29:24<19:56,  3.14s/it]"
     ]
    },
    {
     "name": "stdout",
     "output_type": "stream",
     "text": [
      "AP: 0.9663 - AUC-ROC: 0.9702 - AUC-PR: 0.9663 - P@50: 0.9600 > C0042164: intraocular inflammation\n"
     ]
    },
    {
     "name": "stderr",
     "output_type": "stream",
     "text": [
      "\r",
      "Evaluating test data for each side-effect:  61%|██████████████████████▍              | 583/963 [29:26<18:46,  2.96s/it]"
     ]
    },
    {
     "name": "stdout",
     "output_type": "stream",
     "text": [
      "AP: 0.9390 - AUC-ROC: 0.9516 - AUC-PR: 0.9390 - P@50: 0.9600 > C0023885: liver abscess\n"
     ]
    },
    {
     "name": "stderr",
     "output_type": "stream",
     "text": [
      "\r",
      "Evaluating test data for each side-effect:  61%|██████████████████████▍              | 584/963 [29:29<18:31,  2.93s/it]"
     ]
    },
    {
     "name": "stdout",
     "output_type": "stream",
     "text": [
      "AP: 0.9036 - AUC-ROC: 0.9408 - AUC-PR: 0.9036 - P@50: 0.8400 > C0008325: cholecystitis\n"
     ]
    },
    {
     "name": "stderr",
     "output_type": "stream",
     "text": [
      "\r",
      "Evaluating test data for each side-effect:  61%|██████████████████████▍              | 585/963 [29:32<18:24,  2.92s/it]"
     ]
    },
    {
     "name": "stdout",
     "output_type": "stream",
     "text": [
      "AP: 0.8773 - AUC-ROC: 0.9219 - AUC-PR: 0.8773 - P@50: 0.9000 > C0022658: disorder Renal\n"
     ]
    },
    {
     "name": "stderr",
     "output_type": "stream",
     "text": [
      "\r",
      "Evaluating test data for each side-effect:  61%|██████████████████████▌              | 586/963 [29:35<18:27,  2.94s/it]"
     ]
    },
    {
     "name": "stdout",
     "output_type": "stream",
     "text": [
      "AP: 0.8853 - AUC-ROC: 0.9258 - AUC-PR: 0.8853 - P@50: 0.9200 > C0151798: hepatic necrosis\n"
     ]
    },
    {
     "name": "stderr",
     "output_type": "stream",
     "text": [
      "\r",
      "Evaluating test data for each side-effect:  61%|██████████████████████▌              | 587/963 [29:38<17:48,  2.84s/it]"
     ]
    },
    {
     "name": "stdout",
     "output_type": "stream",
     "text": [
      "AP: 0.9625 - AUC-ROC: 0.9640 - AUC-PR: 0.9625 - P@50: 0.9800 > C0009782: connective tissue disease\n"
     ]
    },
    {
     "name": "stderr",
     "output_type": "stream",
     "text": [
      "\r",
      "Evaluating test data for each side-effect:  61%|██████████████████████▌              | 588/963 [29:40<17:54,  2.87s/it]"
     ]
    },
    {
     "name": "stdout",
     "output_type": "stream",
     "text": [
      "AP: 0.9448 - AUC-ROC: 0.9664 - AUC-PR: 0.9448 - P@50: 0.9400 > C0006144: Breast cyst\n"
     ]
    },
    {
     "name": "stderr",
     "output_type": "stream",
     "text": [
      "\r",
      "Evaluating test data for each side-effect:  61%|██████████████████████▋              | 589/963 [29:43<17:49,  2.86s/it]"
     ]
    },
    {
     "name": "stdout",
     "output_type": "stream",
     "text": [
      "AP: 0.9266 - AUC-ROC: 0.9511 - AUC-PR: 0.9266 - P@50: 0.9400 > C0016658: bone fracture\n"
     ]
    },
    {
     "name": "stderr",
     "output_type": "stream",
     "text": [
      "\r",
      "Evaluating test data for each side-effect:  61%|██████████████████████▋              | 590/963 [29:46<17:48,  2.87s/it]"
     ]
    },
    {
     "name": "stdout",
     "output_type": "stream",
     "text": [
      "AP: 0.9282 - AUC-ROC: 0.9663 - AUC-PR: 0.9282 - P@50: 0.9400 > C1510471: hypovitaminosis\n"
     ]
    },
    {
     "name": "stderr",
     "output_type": "stream",
     "text": [
      "\r",
      "Evaluating test data for each side-effect:  61%|██████████████████████▋              | 591/963 [29:49<17:15,  2.78s/it]"
     ]
    },
    {
     "name": "stdout",
     "output_type": "stream",
     "text": [
      "AP: 0.9126 - AUC-ROC: 0.9375 - AUC-PR: 0.9126 - P@50: 0.9600 > C0041956: ureteral obstruction\n"
     ]
    },
    {
     "name": "stderr",
     "output_type": "stream",
     "text": [
      "\r",
      "Evaluating test data for each side-effect:  61%|██████████████████████▋              | 592/963 [29:52<17:52,  2.89s/it]"
     ]
    },
    {
     "name": "stdout",
     "output_type": "stream",
     "text": [
      "AP: 0.8835 - AUC-ROC: 0.9263 - AUC-PR: 0.8835 - P@50: 0.8600 > C0030252: palpitation\n"
     ]
    },
    {
     "name": "stderr",
     "output_type": "stream",
     "text": [
      "\r",
      "Evaluating test data for each side-effect:  62%|██████████████████████▊              | 593/963 [29:55<17:25,  2.83s/it]"
     ]
    },
    {
     "name": "stdout",
     "output_type": "stream",
     "text": [
      "AP: 0.9117 - AUC-ROC: 0.9280 - AUC-PR: 0.9117 - P@50: 0.9000 > C0026975: myelitis\n"
     ]
    },
    {
     "name": "stderr",
     "output_type": "stream",
     "text": [
      "\r",
      "Evaluating test data for each side-effect:  62%|██████████████████████▊              | 594/963 [29:57<17:26,  2.84s/it]"
     ]
    },
    {
     "name": "stdout",
     "output_type": "stream",
     "text": [
      "AP: 0.9404 - AUC-ROC: 0.9522 - AUC-PR: 0.9404 - P@50: 0.9600 > C0028738: nystagmus\n"
     ]
    },
    {
     "name": "stderr",
     "output_type": "stream",
     "text": [
      "\r",
      "Evaluating test data for each side-effect:  62%|██████████████████████▊              | 595/963 [30:00<17:26,  2.84s/it]"
     ]
    },
    {
     "name": "stdout",
     "output_type": "stream",
     "text": [
      "AP: 0.9662 - AUC-ROC: 0.9665 - AUC-PR: 0.9662 - P@50: 1.0000 > C0011848: diabetes insipidus\n"
     ]
    },
    {
     "name": "stderr",
     "output_type": "stream",
     "text": [
      "\r",
      "Evaluating test data for each side-effect:  62%|██████████████████████▉              | 596/963 [30:03<17:26,  2.85s/it]"
     ]
    },
    {
     "name": "stdout",
     "output_type": "stream",
     "text": [
      "AP: 0.9449 - AUC-ROC: 0.9560 - AUC-PR: 0.9449 - P@50: 0.9600 > C0085694: cholecystitis chronic\n"
     ]
    },
    {
     "name": "stderr",
     "output_type": "stream",
     "text": [
      "\r",
      "Evaluating test data for each side-effect:  62%|██████████████████████▉              | 597/963 [30:06<17:28,  2.86s/it]"
     ]
    },
    {
     "name": "stdout",
     "output_type": "stream",
     "text": [
      "AP: 0.8759 - AUC-ROC: 0.9163 - AUC-PR: 0.8759 - P@50: 0.9000 > C0014549: Convulsions Grand Mal\n"
     ]
    },
    {
     "name": "stderr",
     "output_type": "stream",
     "text": [
      "\r",
      "Evaluating test data for each side-effect:  62%|██████████████████████▉              | 598/963 [30:09<16:59,  2.79s/it]"
     ]
    },
    {
     "name": "stdout",
     "output_type": "stream",
     "text": [
      "AP: 0.8944 - AUC-ROC: 0.9351 - AUC-PR: 0.8944 - P@50: 0.8800 > C0038999: bulging\n"
     ]
    },
    {
     "name": "stderr",
     "output_type": "stream",
     "text": [
      "\r",
      "Evaluating test data for each side-effect:  62%|███████████████████████              | 599/963 [30:12<17:46,  2.93s/it]"
     ]
    },
    {
     "name": "stdout",
     "output_type": "stream",
     "text": [
      "AP: 0.9696 - AUC-ROC: 0.9743 - AUC-PR: 0.9696 - P@50: 0.9800 > C0035302: Retinal artery occlusion\n"
     ]
    },
    {
     "name": "stderr",
     "output_type": "stream",
     "text": [
      "\r",
      "Evaluating test data for each side-effect:  62%|███████████████████████              | 600/963 [30:15<17:33,  2.90s/it]"
     ]
    },
    {
     "name": "stdout",
     "output_type": "stream",
     "text": [
      "AP: 0.9145 - AUC-ROC: 0.9459 - AUC-PR: 0.9145 - P@50: 0.9000 > C0007642: cellulitis\n"
     ]
    },
    {
     "name": "stderr",
     "output_type": "stream",
     "text": [
      "\r",
      "Evaluating test data for each side-effect:  62%|███████████████████████              | 601/963 [30:18<17:48,  2.95s/it]"
     ]
    },
    {
     "name": "stdout",
     "output_type": "stream",
     "text": [
      "AP: 0.8940 - AUC-ROC: 0.9350 - AUC-PR: 0.8940 - P@50: 0.8800 > C0043352: aptyalism\n"
     ]
    },
    {
     "name": "stderr",
     "output_type": "stream",
     "text": [
      "\r",
      "Evaluating test data for each side-effect:  63%|███████████████████████▏             | 602/963 [30:21<18:13,  3.03s/it]"
     ]
    },
    {
     "name": "stdout",
     "output_type": "stream",
     "text": [
      "AP: 0.9645 - AUC-ROC: 0.9695 - AUC-PR: 0.9645 - P@50: 1.0000 > C0031542: Phlebitis\n"
     ]
    },
    {
     "name": "stderr",
     "output_type": "stream",
     "text": [
      "\r",
      "Evaluating test data for each side-effect:  63%|███████████████████████▏             | 603/963 [30:24<18:24,  3.07s/it]"
     ]
    },
    {
     "name": "stdout",
     "output_type": "stream",
     "text": [
      "AP: 0.9203 - AUC-ROC: 0.9461 - AUC-PR: 0.9203 - P@50: 0.9400 > C0040264: tinnitus\n"
     ]
    },
    {
     "name": "stderr",
     "output_type": "stream",
     "text": [
      "\r",
      "Evaluating test data for each side-effect:  63%|███████████████████████▏             | 604/963 [30:27<17:35,  2.94s/it]"
     ]
    },
    {
     "name": "stdout",
     "output_type": "stream",
     "text": [
      "AP: 0.9432 - AUC-ROC: 0.9663 - AUC-PR: 0.9432 - P@50: 0.9400 > C0549567: pigmentation disorder\n"
     ]
    },
    {
     "name": "stderr",
     "output_type": "stream",
     "text": [
      "\r",
      "Evaluating test data for each side-effect:  63%|███████████████████████▏             | 605/963 [30:30<17:26,  2.92s/it]"
     ]
    },
    {
     "name": "stdout",
     "output_type": "stream",
     "text": [
      "AP: 0.8787 - AUC-ROC: 0.9226 - AUC-PR: 0.8787 - P@50: 0.9000 > C0041834: erythema\n"
     ]
    },
    {
     "name": "stderr",
     "output_type": "stream",
     "text": [
      "\r",
      "Evaluating test data for each side-effect:  63%|███████████████████████▎             | 606/963 [30:33<17:05,  2.87s/it]"
     ]
    },
    {
     "name": "stdout",
     "output_type": "stream",
     "text": [
      "AP: 0.8820 - AUC-ROC: 0.9283 - AUC-PR: 0.8820 - P@50: 0.9000 > C0038362: mucositis oral\n"
     ]
    },
    {
     "name": "stderr",
     "output_type": "stream",
     "text": [
      "\r",
      "Evaluating test data for each side-effect:  63%|███████████████████████▎             | 607/963 [30:35<17:07,  2.89s/it]"
     ]
    },
    {
     "name": "stdout",
     "output_type": "stream",
     "text": [
      "AP: 0.9284 - AUC-ROC: 0.9482 - AUC-PR: 0.9284 - P@50: 0.9000 > C0274435: Transfusion reaction\n"
     ]
    },
    {
     "name": "stderr",
     "output_type": "stream",
     "text": [
      "\r",
      "Evaluating test data for each side-effect:  63%|███████████████████████▎             | 608/963 [30:38<16:32,  2.79s/it]"
     ]
    },
    {
     "name": "stdout",
     "output_type": "stream",
     "text": [
      "AP: 0.9617 - AUC-ROC: 0.9699 - AUC-PR: 0.9617 - P@50: 0.9600 > C0003635: apraxia\n"
     ]
    },
    {
     "name": "stderr",
     "output_type": "stream",
     "text": [
      "\r",
      "Evaluating test data for each side-effect:  63%|███████████████████████▍             | 609/963 [30:41<16:35,  2.81s/it]"
     ]
    },
    {
     "name": "stdout",
     "output_type": "stream",
     "text": [
      "AP: 0.9076 - AUC-ROC: 0.9310 - AUC-PR: 0.9076 - P@50: 0.9200 > C0010823: CMV infection\n"
     ]
    },
    {
     "name": "stderr",
     "output_type": "stream",
     "text": [
      "\r",
      "Evaluating test data for each side-effect:  63%|███████████████████████▍             | 610/963 [30:44<17:20,  2.95s/it]"
     ]
    },
    {
     "name": "stdout",
     "output_type": "stream",
     "text": [
      "AP: 0.9030 - AUC-ROC: 0.9325 - AUC-PR: 0.9030 - P@50: 0.9200 > C0029163: mouth bleeding\n"
     ]
    },
    {
     "name": "stderr",
     "output_type": "stream",
     "text": [
      "\r",
      "Evaluating test data for each side-effect:  63%|███████████████████████▍             | 611/963 [30:47<16:43,  2.85s/it]"
     ]
    },
    {
     "name": "stdout",
     "output_type": "stream",
     "text": [
      "AP: 0.9200 - AUC-ROC: 0.9439 - AUC-PR: 0.9200 - P@50: 0.9600 > C0151908: dry skin\n"
     ]
    },
    {
     "name": "stderr",
     "output_type": "stream",
     "text": [
      "\r",
      "Evaluating test data for each side-effect:  64%|███████████████████████▌             | 612/963 [30:50<16:45,  2.86s/it]"
     ]
    },
    {
     "name": "stdout",
     "output_type": "stream",
     "text": [
      "AP: 0.8659 - AUC-ROC: 0.9170 - AUC-PR: 0.8659 - P@50: 0.8800 > C0013604: edema\n"
     ]
    },
    {
     "name": "stderr",
     "output_type": "stream",
     "text": [
      "\r",
      "Evaluating test data for each side-effect:  64%|███████████████████████▌             | 613/963 [30:53<16:49,  2.88s/it]"
     ]
    },
    {
     "name": "stdout",
     "output_type": "stream",
     "text": [
      "AP: 0.8907 - AUC-ROC: 0.9427 - AUC-PR: 0.8907 - P@50: 0.9200 > C0079035: Bradyarrhythmia\n"
     ]
    },
    {
     "name": "stderr",
     "output_type": "stream",
     "text": [
      "\r",
      "Evaluating test data for each side-effect:  64%|███████████████████████▌             | 614/963 [30:56<17:14,  2.96s/it]"
     ]
    },
    {
     "name": "stdout",
     "output_type": "stream",
     "text": [
      "AP: 0.9421 - AUC-ROC: 0.9638 - AUC-PR: 0.9421 - P@50: 0.9800 > C0007117: basal cell carcinoma\n"
     ]
    },
    {
     "name": "stderr",
     "output_type": "stream",
     "text": [
      "\r",
      "Evaluating test data for each side-effect:  64%|███████████████████████▋             | 615/963 [30:59<17:02,  2.94s/it]"
     ]
    },
    {
     "name": "stdout",
     "output_type": "stream",
     "text": [
      "AP: 0.9014 - AUC-ROC: 0.9399 - AUC-PR: 0.9014 - P@50: 0.9000 > C0024117: chronic obstructive airway disease\n"
     ]
    },
    {
     "name": "stderr",
     "output_type": "stream",
     "text": [
      "\r",
      "Evaluating test data for each side-effect:  64%|███████████████████████▋             | 616/963 [31:02<17:34,  3.04s/it]"
     ]
    },
    {
     "name": "stdout",
     "output_type": "stream",
     "text": [
      "AP: 0.8642 - AUC-ROC: 0.9243 - AUC-PR: 0.8642 - P@50: 0.7400 > C0039070: Fainting\n"
     ]
    },
    {
     "name": "stderr",
     "output_type": "stream",
     "text": [
      "\r",
      "Evaluating test data for each side-effect:  64%|███████████████████████▋             | 617/963 [31:05<17:30,  3.04s/it]"
     ]
    },
    {
     "name": "stdout",
     "output_type": "stream",
     "text": [
      "AP: 0.8922 - AUC-ROC: 0.9357 - AUC-PR: 0.8922 - P@50: 0.9200 > C0017565: Bleeding gums\n"
     ]
    },
    {
     "name": "stderr",
     "output_type": "stream",
     "text": [
      "\r",
      "Evaluating test data for each side-effect:  64%|███████████████████████▋             | 618/963 [31:08<17:15,  3.00s/it]"
     ]
    },
    {
     "name": "stdout",
     "output_type": "stream",
     "text": [
      "AP: 0.9142 - AUC-ROC: 0.9455 - AUC-PR: 0.9142 - P@50: 0.9600 > C0231807: Dyspnea exertional\n"
     ]
    },
    {
     "name": "stderr",
     "output_type": "stream",
     "text": [
      "\r",
      "Evaluating test data for each side-effect:  64%|███████████████████████▊             | 619/963 [31:11<17:06,  2.99s/it]"
     ]
    },
    {
     "name": "stdout",
     "output_type": "stream",
     "text": [
      "AP: 0.9427 - AUC-ROC: 0.9646 - AUC-PR: 0.9427 - P@50: 0.9400 > C0149521: pancreatitis relapsing\n"
     ]
    },
    {
     "name": "stderr",
     "output_type": "stream",
     "text": [
      "\r",
      "Evaluating test data for each side-effect:  64%|███████████████████████▊             | 620/963 [31:14<16:57,  2.97s/it]"
     ]
    },
    {
     "name": "stdout",
     "output_type": "stream",
     "text": [
      "AP: 0.9628 - AUC-ROC: 0.9664 - AUC-PR: 0.9628 - P@50: 1.0000 > C0025322: premature menopause\n"
     ]
    },
    {
     "name": "stderr",
     "output_type": "stream",
     "text": [
      "\r",
      "Evaluating test data for each side-effect:  64%|███████████████████████▊             | 621/963 [31:16<16:16,  2.85s/it]"
     ]
    },
    {
     "name": "stdout",
     "output_type": "stream",
     "text": [
      "AP: 0.9422 - AUC-ROC: 0.9637 - AUC-PR: 0.9422 - P@50: 0.9800 > C0015403: eye infection\n"
     ]
    },
    {
     "name": "stderr",
     "output_type": "stream",
     "text": [
      "\r",
      "Evaluating test data for each side-effect:  65%|███████████████████████▉             | 622/963 [31:19<16:16,  2.86s/it]"
     ]
    },
    {
     "name": "stdout",
     "output_type": "stream",
     "text": [
      "AP: 0.8926 - AUC-ROC: 0.9358 - AUC-PR: 0.8926 - P@50: 0.8600 > C0002962: angina\n"
     ]
    },
    {
     "name": "stderr",
     "output_type": "stream",
     "text": [
      "\r",
      "Evaluating test data for each side-effect:  65%|███████████████████████▉             | 623/963 [31:22<16:19,  2.88s/it]"
     ]
    },
    {
     "name": "stdout",
     "output_type": "stream",
     "text": [
      "AP: 0.9309 - AUC-ROC: 0.9482 - AUC-PR: 0.9309 - P@50: 0.9400 > C0027726: nephrotic syndrome\n"
     ]
    },
    {
     "name": "stderr",
     "output_type": "stream",
     "text": [
      "\r",
      "Evaluating test data for each side-effect:  65%|███████████████████████▉             | 624/963 [31:25<16:15,  2.88s/it]"
     ]
    },
    {
     "name": "stdout",
     "output_type": "stream",
     "text": [
      "AP: 0.8205 - AUC-ROC: 0.9070 - AUC-PR: 0.8205 - P@50: 0.8200 > C0242422: Parkinson\n"
     ]
    },
    {
     "name": "stderr",
     "output_type": "stream",
     "text": [
      "\r",
      "Evaluating test data for each side-effect:  65%|████████████████████████             | 625/963 [31:28<16:11,  2.87s/it]"
     ]
    },
    {
     "name": "stdout",
     "output_type": "stream",
     "text": [
      "AP: 0.9725 - AUC-ROC: 0.9752 - AUC-PR: 0.9725 - P@50: 1.0000 > C0001818: agoraphobia\n"
     ]
    },
    {
     "name": "stderr",
     "output_type": "stream",
     "text": [
      "\r",
      "Evaluating test data for each side-effect:  65%|████████████████████████             | 626/963 [31:31<16:08,  2.87s/it]"
     ]
    },
    {
     "name": "stdout",
     "output_type": "stream",
     "text": [
      "AP: 0.9431 - AUC-ROC: 0.9665 - AUC-PR: 0.9431 - P@50: 0.9600 > C0037287: Nodule Skin\n"
     ]
    },
    {
     "name": "stderr",
     "output_type": "stream",
     "text": [
      "\r",
      "Evaluating test data for each side-effect:  65%|████████████████████████             | 627/963 [31:34<16:05,  2.87s/it]"
     ]
    },
    {
     "name": "stdout",
     "output_type": "stream",
     "text": [
      "AP: 0.9332 - AUC-ROC: 0.9725 - AUC-PR: 0.9332 - P@50: 0.9400 > C0006386: Bunion\n"
     ]
    },
    {
     "name": "stderr",
     "output_type": "stream",
     "text": [
      "\r",
      "Evaluating test data for each side-effect:  65%|████████████████████████▏            | 628/963 [31:36<15:32,  2.79s/it]"
     ]
    },
    {
     "name": "stdout",
     "output_type": "stream",
     "text": [
      "AP: 0.9667 - AUC-ROC: 0.9652 - AUC-PR: 0.9667 - P@50: 0.9800 > C0042907: vitreous detachment\n"
     ]
    },
    {
     "name": "stderr",
     "output_type": "stream",
     "text": [
      "\r",
      "Evaluating test data for each side-effect:  65%|████████████████████████▏            | 629/963 [31:39<15:39,  2.81s/it]"
     ]
    },
    {
     "name": "stdout",
     "output_type": "stream",
     "text": [
      "AP: 0.9023 - AUC-ROC: 0.9357 - AUC-PR: 0.9023 - P@50: 0.8800 > C0040046: Thrombophlebitis\n"
     ]
    },
    {
     "name": "stderr",
     "output_type": "stream",
     "text": [
      "\r",
      "Evaluating test data for each side-effect:  65%|████████████████████████▏            | 630/963 [31:42<15:41,  2.83s/it]"
     ]
    },
    {
     "name": "stdout",
     "output_type": "stream",
     "text": [
      "AP: 0.8805 - AUC-ROC: 0.9313 - AUC-PR: 0.8805 - P@50: 0.8600 > C0003507: aortic stenosis\n"
     ]
    },
    {
     "name": "stderr",
     "output_type": "stream",
     "text": [
      "\r",
      "Evaluating test data for each side-effect:  66%|████████████████████████▏            | 631/963 [31:45<15:41,  2.84s/it]"
     ]
    },
    {
     "name": "stdout",
     "output_type": "stream",
     "text": [
      "AP: 0.8720 - AUC-ROC: 0.9213 - AUC-PR: 0.8720 - P@50: 0.8200 > C0013384: abnormal movements\n"
     ]
    },
    {
     "name": "stderr",
     "output_type": "stream",
     "text": [
      "\r",
      "Evaluating test data for each side-effect:  66%|████████████████████████▎            | 632/963 [31:48<15:44,  2.85s/it]"
     ]
    },
    {
     "name": "stdout",
     "output_type": "stream",
     "text": [
      "AP: 0.9011 - AUC-ROC: 0.9378 - AUC-PR: 0.9011 - P@50: 0.8400 > C0030196: Extremity pain\n"
     ]
    },
    {
     "name": "stderr",
     "output_type": "stream",
     "text": [
      "\r",
      "Evaluating test data for each side-effect:  66%|████████████████████████▎            | 633/963 [31:51<16:27,  2.99s/it]"
     ]
    },
    {
     "name": "stdout",
     "output_type": "stream",
     "text": [
      "AP: 0.9497 - AUC-ROC: 0.9586 - AUC-PR: 0.9497 - P@50: 0.9800 > C0025286: meningioma\n"
     ]
    },
    {
     "name": "stderr",
     "output_type": "stream",
     "text": [
      "\r",
      "Evaluating test data for each side-effect:  66%|████████████████████████▎            | 634/963 [31:54<15:45,  2.87s/it]"
     ]
    },
    {
     "name": "stdout",
     "output_type": "stream",
     "text": [
      "AP: 0.8975 - AUC-ROC: 0.9340 - AUC-PR: 0.8975 - P@50: 0.9200 > C0221150: odynophagia\n"
     ]
    },
    {
     "name": "stderr",
     "output_type": "stream",
     "text": [
      "\r",
      "Evaluating test data for each side-effect:  66%|████████████████████████▍            | 635/963 [31:57<16:10,  2.96s/it]"
     ]
    },
    {
     "name": "stdout",
     "output_type": "stream",
     "text": [
      "AP: 0.9740 - AUC-ROC: 0.9775 - AUC-PR: 0.9740 - P@50: 0.9800 > C0152459: Skin Striae\n"
     ]
    },
    {
     "name": "stderr",
     "output_type": "stream",
     "text": [
      "\r",
      "Evaluating test data for each side-effect:  66%|████████████████████████▍            | 636/963 [31:59<15:29,  2.84s/it]"
     ]
    },
    {
     "name": "stdout",
     "output_type": "stream",
     "text": [
      "AP: 0.8724 - AUC-ROC: 0.9140 - AUC-PR: 0.8724 - P@50: 0.8600 > C0007177: Cardiac tamponade\n"
     ]
    },
    {
     "name": "stderr",
     "output_type": "stream",
     "text": [
      "\r",
      "Evaluating test data for each side-effect:  66%|████████████████████████▍            | 637/963 [32:02<15:28,  2.85s/it]"
     ]
    },
    {
     "name": "stdout",
     "output_type": "stream",
     "text": [
      "AP: 0.8990 - AUC-ROC: 0.9541 - AUC-PR: 0.8990 - P@50: 0.9400 > C0020514: Hyperprolactinaemia\n"
     ]
    },
    {
     "name": "stderr",
     "output_type": "stream",
     "text": [
      "\r",
      "Evaluating test data for each side-effect:  66%|████████████████████████▌            | 638/963 [32:05<14:58,  2.76s/it]"
     ]
    },
    {
     "name": "stdout",
     "output_type": "stream",
     "text": [
      "AP: 0.9176 - AUC-ROC: 0.9494 - AUC-PR: 0.9176 - P@50: 0.9200 > C0020488: hypernatraemia\n"
     ]
    },
    {
     "name": "stderr",
     "output_type": "stream",
     "text": [
      "\r",
      "Evaluating test data for each side-effect:  66%|████████████████████████▌            | 639/963 [32:08<15:35,  2.89s/it]"
     ]
    },
    {
     "name": "stdout",
     "output_type": "stream",
     "text": [
      "AP: 0.9816 - AUC-ROC: 0.9876 - AUC-PR: 0.9816 - P@50: 0.9800 > C0267566: perirectal abscess\n"
     ]
    },
    {
     "name": "stderr",
     "output_type": "stream",
     "text": [
      "\r",
      "Evaluating test data for each side-effect:  66%|████████████████████████▌            | 640/963 [32:11<15:32,  2.89s/it]"
     ]
    },
    {
     "name": "stdout",
     "output_type": "stream",
     "text": [
      "AP: 0.8843 - AUC-ROC: 0.9306 - AUC-PR: 0.8843 - P@50: 0.8600 > C0019079: coughing blood\n"
     ]
    },
    {
     "name": "stderr",
     "output_type": "stream",
     "text": [
      "\r",
      "Evaluating test data for each side-effect:  67%|████████████████████████▋            | 641/963 [32:14<15:32,  2.90s/it]"
     ]
    },
    {
     "name": "stdout",
     "output_type": "stream",
     "text": [
      "AP: 0.9293 - AUC-ROC: 0.9475 - AUC-PR: 0.9293 - P@50: 0.9600 > C0027121: muscle inflammation\n"
     ]
    },
    {
     "name": "stderr",
     "output_type": "stream",
     "text": [
      "\r",
      "Evaluating test data for each side-effect:  67%|████████████████████████▋            | 642/963 [32:16<14:55,  2.79s/it]"
     ]
    },
    {
     "name": "stdout",
     "output_type": "stream",
     "text": [
      "AP: 0.9134 - AUC-ROC: 0.9485 - AUC-PR: 0.9134 - P@50: 0.9000 > C0149801: urosepsis\n"
     ]
    },
    {
     "name": "stderr",
     "output_type": "stream",
     "text": [
      "\r",
      "Evaluating test data for each side-effect:  67%|████████████████████████▋            | 643/963 [32:19<15:01,  2.82s/it]"
     ]
    },
    {
     "name": "stdout",
     "output_type": "stream",
     "text": [
      "AP: 0.8734 - AUC-ROC: 0.9220 - AUC-PR: 0.8734 - P@50: 0.8800 > C0042514: tachycardia ventricular\n"
     ]
    },
    {
     "name": "stderr",
     "output_type": "stream",
     "text": [
      "\r",
      "Evaluating test data for each side-effect:  67%|████████████████████████▋            | 644/963 [32:23<16:03,  3.02s/it]"
     ]
    },
    {
     "name": "stdout",
     "output_type": "stream",
     "text": [
      "AP: 0.9227 - AUC-ROC: 0.9507 - AUC-PR: 0.9227 - P@50: 0.9400 > C0020473: hyperlipaemia\n"
     ]
    },
    {
     "name": "stderr",
     "output_type": "stream",
     "text": [
      "\r",
      "Evaluating test data for each side-effect:  67%|████████████████████████▊            | 645/963 [32:25<15:23,  2.91s/it]"
     ]
    },
    {
     "name": "stdout",
     "output_type": "stream",
     "text": [
      "AP: 0.9348 - AUC-ROC: 0.9558 - AUC-PR: 0.9348 - P@50: 0.9600 > C0178282: Abdominal hernia\n"
     ]
    },
    {
     "name": "stderr",
     "output_type": "stream",
     "text": [
      "\r",
      "Evaluating test data for each side-effect:  67%|████████████████████████▊            | 646/963 [32:28<15:17,  2.90s/it]"
     ]
    },
    {
     "name": "stdout",
     "output_type": "stream",
     "text": [
      "AP: 0.9254 - AUC-ROC: 0.9592 - AUC-PR: 0.9254 - P@50: 0.9200 > C0018099: gout\n"
     ]
    },
    {
     "name": "stderr",
     "output_type": "stream",
     "text": [
      "\r",
      "Evaluating test data for each side-effect:  67%|████████████████████████▊            | 647/963 [32:31<15:14,  2.89s/it]"
     ]
    },
    {
     "name": "stdout",
     "output_type": "stream",
     "text": [
      "AP: 0.8688 - AUC-ROC: 0.9189 - AUC-PR: 0.8688 - P@50: 0.8200 > C0030305: pancreatitis\n"
     ]
    },
    {
     "name": "stderr",
     "output_type": "stream",
     "text": [
      "\r",
      "Evaluating test data for each side-effect:  67%|████████████████████████▉            | 648/963 [32:34<15:16,  2.91s/it]"
     ]
    },
    {
     "name": "stdout",
     "output_type": "stream",
     "text": [
      "AP: 0.8950 - AUC-ROC: 0.9309 - AUC-PR: 0.8950 - P@50: 0.9400 > C0027707: Interstitial nephritis\n"
     ]
    },
    {
     "name": "stderr",
     "output_type": "stream",
     "text": [
      "\r",
      "Evaluating test data for each side-effect:  67%|████████████████████████▉            | 649/963 [32:37<15:10,  2.90s/it]"
     ]
    },
    {
     "name": "stdout",
     "output_type": "stream",
     "text": [
      "AP: 0.9426 - AUC-ROC: 0.9584 - AUC-PR: 0.9426 - P@50: 0.9600 > C0042133: fibroids\n"
     ]
    },
    {
     "name": "stderr",
     "output_type": "stream",
     "text": [
      "\r",
      "Evaluating test data for each side-effect:  67%|████████████████████████▉            | 650/963 [32:40<15:05,  2.89s/it]"
     ]
    },
    {
     "name": "stdout",
     "output_type": "stream",
     "text": [
      "AP: 0.9114 - AUC-ROC: 0.9463 - AUC-PR: 0.9114 - P@50: 0.9200 > C0265031: Bleeding hemorrhoids\n"
     ]
    },
    {
     "name": "stderr",
     "output_type": "stream",
     "text": [
      "\r",
      "Evaluating test data for each side-effect:  68%|█████████████████████████            | 651/963 [32:43<15:00,  2.89s/it]"
     ]
    },
    {
     "name": "stdout",
     "output_type": "stream",
     "text": [
      "AP: 0.9222 - AUC-ROC: 0.9475 - AUC-PR: 0.9222 - P@50: 0.9200 > C0013473: eating disorder\n"
     ]
    },
    {
     "name": "stderr",
     "output_type": "stream",
     "text": [
      "\r",
      "Evaluating test data for each side-effect:  68%|█████████████████████████            | 652/963 [32:45<14:29,  2.80s/it]"
     ]
    },
    {
     "name": "stdout",
     "output_type": "stream",
     "text": [
      "AP: 0.9167 - AUC-ROC: 0.9485 - AUC-PR: 0.9167 - P@50: 0.9200 > C1510472: Drug addiction\n"
     ]
    },
    {
     "name": "stderr",
     "output_type": "stream",
     "text": [
      "\r",
      "Evaluating test data for each side-effect:  68%|█████████████████████████            | 653/963 [32:48<14:38,  2.83s/it]"
     ]
    },
    {
     "name": "stdout",
     "output_type": "stream",
     "text": [
      "AP: 0.9045 - AUC-ROC: 0.9430 - AUC-PR: 0.9045 - P@50: 0.9400 > C0033860: psoriasis\n"
     ]
    },
    {
     "name": "stderr",
     "output_type": "stream",
     "text": [
      "\r",
      "Evaluating test data for each side-effect:  68%|█████████████████████████▏           | 654/963 [32:51<14:12,  2.76s/it]"
     ]
    },
    {
     "name": "stdout",
     "output_type": "stream",
     "text": [
      "AP: 0.9236 - AUC-ROC: 0.9480 - AUC-PR: 0.9236 - P@50: 0.9200 > C0029882: otitis media\n"
     ]
    },
    {
     "name": "stderr",
     "output_type": "stream",
     "text": [
      "\r",
      "Evaluating test data for each side-effect:  68%|█████████████████████████▏           | 655/963 [32:54<14:20,  2.79s/it]"
     ]
    },
    {
     "name": "stdout",
     "output_type": "stream",
     "text": [
      "AP: 0.9380 - AUC-ROC: 0.9600 - AUC-PR: 0.9380 - P@50: 0.9600 > C0178428: sinus arrest\n"
     ]
    },
    {
     "name": "stderr",
     "output_type": "stream",
     "text": [
      "\r",
      "Evaluating test data for each side-effect:  68%|█████████████████████████▏           | 656/963 [32:57<14:31,  2.84s/it]"
     ]
    },
    {
     "name": "stdout",
     "output_type": "stream",
     "text": [
      "AP: 0.8952 - AUC-ROC: 0.9329 - AUC-PR: 0.8952 - P@50: 0.9200 > C0878544: Cardiomyopathy\n"
     ]
    },
    {
     "name": "stderr",
     "output_type": "stream",
     "text": [
      "\r",
      "Evaluating test data for each side-effect:  68%|█████████████████████████▏           | 657/963 [32:59<14:37,  2.87s/it]"
     ]
    },
    {
     "name": "stdout",
     "output_type": "stream",
     "text": [
      "AP: 0.9703 - AUC-ROC: 0.9764 - AUC-PR: 0.9703 - P@50: 0.9400 > C1261473: sarcoma\n"
     ]
    },
    {
     "name": "stderr",
     "output_type": "stream",
     "text": [
      "\r",
      "Evaluating test data for each side-effect:  68%|█████████████████████████▎           | 658/963 [33:02<14:06,  2.78s/it]"
     ]
    },
    {
     "name": "stdout",
     "output_type": "stream",
     "text": [
      "AP: 0.9237 - AUC-ROC: 0.9481 - AUC-PR: 0.9237 - P@50: 0.9600 > C0699744: ear infection\n"
     ]
    },
    {
     "name": "stderr",
     "output_type": "stream",
     "text": [
      "\r",
      "Evaluating test data for each side-effect:  68%|█████████████████████████▎           | 659/963 [33:05<14:12,  2.81s/it]"
     ]
    },
    {
     "name": "stdout",
     "output_type": "stream",
     "text": [
      "AP: 0.9470 - AUC-ROC: 0.9626 - AUC-PR: 0.9470 - P@50: 0.9800 > C0019196: Hepatitis C\n"
     ]
    },
    {
     "name": "stderr",
     "output_type": "stream",
     "text": [
      "\r",
      "Evaluating test data for each side-effect:  69%|█████████████████████████▎           | 660/963 [33:08<14:17,  2.83s/it]"
     ]
    },
    {
     "name": "stdout",
     "output_type": "stream",
     "text": [
      "AP: 0.9476 - AUC-ROC: 0.9586 - AUC-PR: 0.9476 - P@50: 0.9200 > C0267716: incisional hernia\n"
     ]
    },
    {
     "name": "stderr",
     "output_type": "stream",
     "text": [
      "\r",
      "Evaluating test data for each side-effect:  69%|█████████████████████████▍           | 661/963 [33:11<15:13,  3.03s/it]"
     ]
    },
    {
     "name": "stdout",
     "output_type": "stream",
     "text": [
      "AP: 0.9035 - AUC-ROC: 0.9393 - AUC-PR: 0.9035 - P@50: 0.9400 > C0162529: colitis ischemic\n"
     ]
    },
    {
     "name": "stderr",
     "output_type": "stream",
     "text": [
      "\r",
      "Evaluating test data for each side-effect:  69%|█████████████████████████▍           | 662/963 [33:14<14:56,  2.98s/it]"
     ]
    },
    {
     "name": "stdout",
     "output_type": "stream",
     "text": [
      "AP: 0.9355 - AUC-ROC: 0.9613 - AUC-PR: 0.9355 - P@50: 0.9400 > C0019322: umbilical hernia\n"
     ]
    },
    {
     "name": "stderr",
     "output_type": "stream",
     "text": [
      "\r",
      "Evaluating test data for each side-effect:  69%|█████████████████████████▍           | 663/963 [33:17<14:14,  2.85s/it]"
     ]
    },
    {
     "name": "stdout",
     "output_type": "stream",
     "text": [
      "AP: 0.9361 - AUC-ROC: 0.9550 - AUC-PR: 0.9361 - P@50: 0.9600 > C0024050: lower GI bleeding\n"
     ]
    },
    {
     "name": "stderr",
     "output_type": "stream",
     "text": [
      "\r",
      "Evaluating test data for each side-effect:  69%|█████████████████████████▌           | 664/963 [33:20<14:41,  2.95s/it]"
     ]
    },
    {
     "name": "stdout",
     "output_type": "stream",
     "text": [
      "AP: 0.9744 - AUC-ROC: 0.9806 - AUC-PR: 0.9744 - P@50: 0.9800 > C0014488: epicondylitis\n"
     ]
    },
    {
     "name": "stderr",
     "output_type": "stream",
     "text": [
      "\r",
      "Evaluating test data for each side-effect:  69%|█████████████████████████▌           | 665/963 [33:22<14:03,  2.83s/it]"
     ]
    },
    {
     "name": "stdout",
     "output_type": "stream",
     "text": [
      "AP: 0.9681 - AUC-ROC: 0.9801 - AUC-PR: 0.9681 - P@50: 0.9600 > C0019825: Hoarseness\n"
     ]
    },
    {
     "name": "stderr",
     "output_type": "stream",
     "text": [
      "\r",
      "Evaluating test data for each side-effect:  69%|█████████████████████████▌           | 666/963 [33:26<14:31,  2.94s/it]"
     ]
    },
    {
     "name": "stdout",
     "output_type": "stream",
     "text": [
      "AP: 0.9203 - AUC-ROC: 0.9447 - AUC-PR: 0.9203 - P@50: 0.9600 > C0003873: Arthritis rheumatoid\n"
     ]
    },
    {
     "name": "stderr",
     "output_type": "stream",
     "text": [
      "\r",
      "Evaluating test data for each side-effect:  69%|█████████████████████████▋           | 667/963 [33:28<14:00,  2.84s/it]"
     ]
    },
    {
     "name": "stdout",
     "output_type": "stream",
     "text": [
      "AP: 0.9120 - AUC-ROC: 0.9394 - AUC-PR: 0.9120 - P@50: 0.9200 > C0013491: ecchymoses\n"
     ]
    },
    {
     "name": "stderr",
     "output_type": "stream",
     "text": [
      "\r",
      "Evaluating test data for each side-effect:  69%|█████████████████████████▋           | 668/963 [33:31<14:03,  2.86s/it]"
     ]
    },
    {
     "name": "stdout",
     "output_type": "stream",
     "text": [
      "AP: 0.9322 - AUC-ROC: 0.9530 - AUC-PR: 0.9322 - P@50: 0.9400 > C0032305: Pneumocystis carinii pneumonia\n"
     ]
    },
    {
     "name": "stderr",
     "output_type": "stream",
     "text": [
      "\r",
      "Evaluating test data for each side-effect:  69%|█████████████████████████▋           | 669/963 [33:34<13:35,  2.78s/it]"
     ]
    },
    {
     "name": "stdout",
     "output_type": "stream",
     "text": [
      "AP: 0.9897 - AUC-ROC: 0.9899 - AUC-PR: 0.9897 - P@50: 1.0000 > C0085652: pyoderma gangrenosum\n"
     ]
    },
    {
     "name": "stderr",
     "output_type": "stream",
     "text": [
      "\r",
      "Evaluating test data for each side-effect:  70%|█████████████████████████▋           | 670/963 [33:37<13:41,  2.80s/it]"
     ]
    },
    {
     "name": "stdout",
     "output_type": "stream",
     "text": [
      "AP: 0.8934 - AUC-ROC: 0.9355 - AUC-PR: 0.8934 - P@50: 0.8600 > C0011168: deglutition disorder\n"
     ]
    },
    {
     "name": "stderr",
     "output_type": "stream",
     "text": [
      "\r",
      "Evaluating test data for each side-effect:  70%|█████████████████████████▊           | 671/963 [33:39<13:35,  2.79s/it]"
     ]
    },
    {
     "name": "stdout",
     "output_type": "stream",
     "text": [
      "AP: 0.9354 - AUC-ROC: 0.9503 - AUC-PR: 0.9354 - P@50: 0.9600 > C0024523: malabsorption\n"
     ]
    },
    {
     "name": "stderr",
     "output_type": "stream",
     "text": [
      "\r",
      "Evaluating test data for each side-effect:  70%|█████████████████████████▊           | 672/963 [33:42<14:04,  2.90s/it]"
     ]
    },
    {
     "name": "stdout",
     "output_type": "stream",
     "text": [
      "AP: 0.9279 - AUC-ROC: 0.9526 - AUC-PR: 0.9279 - P@50: 0.9600 > C0009144: coated tongue\n"
     ]
    },
    {
     "name": "stderr",
     "output_type": "stream",
     "text": [
      "\r",
      "Evaluating test data for each side-effect:  70%|█████████████████████████▊           | 673/963 [33:45<13:55,  2.88s/it]"
     ]
    },
    {
     "name": "stdout",
     "output_type": "stream",
     "text": [
      "AP: 0.9010 - AUC-ROC: 0.9421 - AUC-PR: 0.9010 - P@50: 0.9200 > C0235946: cerebral atrophy\n"
     ]
    },
    {
     "name": "stderr",
     "output_type": "stream",
     "text": [
      "\r",
      "Evaluating test data for each side-effect:  70%|█████████████████████████▉           | 674/963 [33:48<13:54,  2.89s/it]"
     ]
    },
    {
     "name": "stdout",
     "output_type": "stream",
     "text": [
      "AP: 0.9627 - AUC-ROC: 0.9761 - AUC-PR: 0.9627 - P@50: 0.9600 > C0149736: neck mass\n"
     ]
    },
    {
     "name": "stderr",
     "output_type": "stream",
     "text": [
      "\r",
      "Evaluating test data for each side-effect:  70%|█████████████████████████▉           | 675/963 [33:51<13:24,  2.79s/it]"
     ]
    },
    {
     "name": "stdout",
     "output_type": "stream",
     "text": [
      "AP: 0.9097 - AUC-ROC: 0.9411 - AUC-PR: 0.9097 - P@50: 0.9000 > C0011849: Diabetes\n"
     ]
    },
    {
     "name": "stderr",
     "output_type": "stream",
     "text": [
      "\r",
      "Evaluating test data for each side-effect:  70%|█████████████████████████▉           | 676/963 [33:54<13:38,  2.85s/it]"
     ]
    },
    {
     "name": "stdout",
     "output_type": "stream",
     "text": [
      "AP: 0.9466 - AUC-ROC: 0.9619 - AUC-PR: 0.9466 - P@50: 0.9600 > C1253936: joint effusion\n"
     ]
    },
    {
     "name": "stderr",
     "output_type": "stream",
     "text": [
      "\r",
      "Evaluating test data for each side-effect:  70%|██████████████████████████           | 677/963 [33:57<13:33,  2.85s/it]"
     ]
    },
    {
     "name": "stdout",
     "output_type": "stream",
     "text": [
      "AP: 0.8730 - AUC-ROC: 0.9264 - AUC-PR: 0.8730 - P@50: 0.8400 > C0018926: haematemesis\n"
     ]
    },
    {
     "name": "stderr",
     "output_type": "stream",
     "text": [
      "\r",
      "Evaluating test data for each side-effect:  70%|██████████████████████████           | 678/963 [33:59<13:34,  2.86s/it]"
     ]
    },
    {
     "name": "stdout",
     "output_type": "stream",
     "text": [
      "AP: 0.8968 - AUC-ROC: 0.9475 - AUC-PR: 0.8968 - P@50: 0.9000 > C0027092: myopia\n"
     ]
    },
    {
     "name": "stderr",
     "output_type": "stream",
     "text": [
      "\r",
      "Evaluating test data for each side-effect:  71%|██████████████████████████           | 679/963 [34:03<14:03,  2.97s/it]"
     ]
    },
    {
     "name": "stdout",
     "output_type": "stream",
     "text": [
      "AP: 0.9122 - AUC-ROC: 0.9438 - AUC-PR: 0.9122 - P@50: 0.9200 > C0033975: psychoses\n"
     ]
    },
    {
     "name": "stderr",
     "output_type": "stream",
     "text": [
      "\r",
      "Evaluating test data for each side-effect:  71%|██████████████████████████▏          | 680/963 [34:06<13:51,  2.94s/it]"
     ]
    },
    {
     "name": "stdout",
     "output_type": "stream",
     "text": [
      "AP: 0.9288 - AUC-ROC: 0.9547 - AUC-PR: 0.9288 - P@50: 0.9400 > C0038395: streptococcal infection\n"
     ]
    },
    {
     "name": "stderr",
     "output_type": "stream",
     "text": [
      "\r",
      "Evaluating test data for each side-effect:  71%|██████████████████████████▏          | 681/963 [34:08<13:45,  2.93s/it]"
     ]
    },
    {
     "name": "stdout",
     "output_type": "stream",
     "text": [
      "AP: 0.9436 - AUC-ROC: 0.9586 - AUC-PR: 0.9436 - P@50: 0.9600 > C0032231: pleurisy\n"
     ]
    },
    {
     "name": "stderr",
     "output_type": "stream",
     "text": [
      "\r",
      "Evaluating test data for each side-effect:  71%|██████████████████████████▏          | 682/963 [34:11<13:11,  2.82s/it]"
     ]
    },
    {
     "name": "stdout",
     "output_type": "stream",
     "text": [
      "AP: 0.9578 - AUC-ROC: 0.9759 - AUC-PR: 0.9578 - P@50: 0.9600 > C0750876: phlebitis superficial\n"
     ]
    },
    {
     "name": "stderr",
     "output_type": "stream",
     "text": [
      "\r",
      "Evaluating test data for each side-effect:  71%|██████████████████████████▏          | 683/963 [34:14<13:38,  2.92s/it]"
     ]
    },
    {
     "name": "stdout",
     "output_type": "stream",
     "text": [
      "AP: 0.9863 - AUC-ROC: 0.9867 - AUC-PR: 0.9863 - P@50: 0.9800 > C0476427: abnormal cervical smear\n"
     ]
    },
    {
     "name": "stderr",
     "output_type": "stream",
     "text": [
      "\r",
      "Evaluating test data for each side-effect:  71%|██████████████████████████▎          | 684/963 [34:17<13:07,  2.82s/it]"
     ]
    },
    {
     "name": "stdout",
     "output_type": "stream",
     "text": [
      "AP: 0.9164 - AUC-ROC: 0.9424 - AUC-PR: 0.9164 - P@50: 0.9400 > C0006267: bronchiectasis\n"
     ]
    },
    {
     "name": "stderr",
     "output_type": "stream",
     "text": [
      "\r",
      "Evaluating test data for each side-effect:  71%|██████████████████████████▎          | 685/963 [34:20<13:08,  2.84s/it]"
     ]
    },
    {
     "name": "stdout",
     "output_type": "stream",
     "text": [
      "AP: 0.8977 - AUC-ROC: 0.9513 - AUC-PR: 0.8977 - P@50: 0.9400 > C0162283: Nephrogenic diabetes insipidus\n"
     ]
    },
    {
     "name": "stderr",
     "output_type": "stream",
     "text": [
      "\r",
      "Evaluating test data for each side-effect:  71%|██████████████████████████▎          | 686/963 [34:23<13:33,  2.94s/it]"
     ]
    },
    {
     "name": "stdout",
     "output_type": "stream",
     "text": [
      "AP: 0.9101 - AUC-ROC: 0.9342 - AUC-PR: 0.9101 - P@50: 0.9600 > C0014518: Lyell\n"
     ]
    },
    {
     "name": "stderr",
     "output_type": "stream",
     "text": [
      "\r",
      "Evaluating test data for each side-effect:  71%|██████████████████████████▍          | 687/963 [34:25<12:59,  2.83s/it]"
     ]
    },
    {
     "name": "stdout",
     "output_type": "stream",
     "text": [
      "AP: 0.8890 - AUC-ROC: 0.9326 - AUC-PR: 0.8890 - P@50: 0.9000 > C0026650: movement disorder\n"
     ]
    },
    {
     "name": "stderr",
     "output_type": "stream",
     "text": [
      "\r",
      "Evaluating test data for each side-effect:  71%|██████████████████████████▍          | 688/963 [34:28<13:00,  2.84s/it]"
     ]
    },
    {
     "name": "stdout",
     "output_type": "stream",
     "text": [
      "AP: 0.9005 - AUC-ROC: 0.9360 - AUC-PR: 0.9005 - P@50: 0.9000 > C0037299: cutaneous ulcer\n"
     ]
    },
    {
     "name": "stderr",
     "output_type": "stream",
     "text": [
      "\r",
      "Evaluating test data for each side-effect:  72%|██████████████████████████▍          | 689/963 [34:32<13:52,  3.04s/it]"
     ]
    },
    {
     "name": "stdout",
     "output_type": "stream",
     "text": [
      "AP: 0.9228 - AUC-ROC: 0.9556 - AUC-PR: 0.9228 - P@50: 0.9000 > C0036439: Scoliosis\n"
     ]
    },
    {
     "name": "stderr",
     "output_type": "stream",
     "text": [
      "\r",
      "Evaluating test data for each side-effect:  72%|██████████████████████████▌          | 690/963 [34:35<13:36,  2.99s/it]"
     ]
    },
    {
     "name": "stdout",
     "output_type": "stream",
     "text": [
      "AP: 0.9429 - AUC-ROC: 0.9745 - AUC-PR: 0.9429 - P@50: 0.9400 > C0085580: essential hypertension\n"
     ]
    },
    {
     "name": "stderr",
     "output_type": "stream",
     "text": [
      "\r",
      "Evaluating test data for each side-effect:  72%|██████████████████████████▌          | 691/963 [34:38<13:26,  2.97s/it]"
     ]
    },
    {
     "name": "stdout",
     "output_type": "stream",
     "text": [
      "AP: 0.9259 - AUC-ROC: 0.9658 - AUC-PR: 0.9259 - P@50: 0.9600 > C0151971: intestinal ulcer\n"
     ]
    },
    {
     "name": "stderr",
     "output_type": "stream",
     "text": [
      "\r",
      "Evaluating test data for each side-effect:  72%|██████████████████████████▌          | 692/963 [34:41<13:30,  2.99s/it]"
     ]
    },
    {
     "name": "stdout",
     "output_type": "stream",
     "text": [
      "AP: 0.9764 - AUC-ROC: 0.9775 - AUC-PR: 0.9764 - P@50: 0.9400 > C0015300: exophthalmos\n"
     ]
    },
    {
     "name": "stderr",
     "output_type": "stream",
     "text": [
      "\r",
      "Evaluating test data for each side-effect:  72%|██████████████████████████▋          | 693/963 [34:44<13:36,  3.02s/it]"
     ]
    },
    {
     "name": "stdout",
     "output_type": "stream",
     "text": [
      "AP: 0.9263 - AUC-ROC: 0.9522 - AUC-PR: 0.9263 - P@50: 0.9600 > C0023890: cirrhosis\n"
     ]
    },
    {
     "name": "stderr",
     "output_type": "stream",
     "text": [
      "\r",
      "Evaluating test data for each side-effect:  72%|██████████████████████████▋          | 694/963 [34:47<13:21,  2.98s/it]"
     ]
    },
    {
     "name": "stdout",
     "output_type": "stream",
     "text": [
      "AP: 0.9066 - AUC-ROC: 0.9418 - AUC-PR: 0.9066 - P@50: 0.9000 > C0020676: hypothyroid\n"
     ]
    },
    {
     "name": "stderr",
     "output_type": "stream",
     "text": [
      "\r",
      "Evaluating test data for each side-effect:  72%|██████████████████████████▋          | 695/963 [34:50<14:02,  3.15s/it]"
     ]
    },
    {
     "name": "stdout",
     "output_type": "stream",
     "text": [
      "AP: 0.8714 - AUC-ROC: 0.9268 - AUC-PR: 0.8714 - P@50: 0.8200 > C0220981: metabolic acidosis\n"
     ]
    },
    {
     "name": "stderr",
     "output_type": "stream",
     "text": [
      "\r",
      "Evaluating test data for each side-effect:  72%|██████████████████████████▋          | 696/963 [34:53<13:21,  3.00s/it]"
     ]
    },
    {
     "name": "stdout",
     "output_type": "stream",
     "text": [
      "AP: 0.9854 - AUC-ROC: 0.9853 - AUC-PR: 0.9854 - P@50: 1.0000 > C0270629: epidural abscess\n"
     ]
    },
    {
     "name": "stderr",
     "output_type": "stream",
     "text": [
      "\r",
      "Evaluating test data for each side-effect:  72%|██████████████████████████▊          | 697/963 [34:56<13:33,  3.06s/it]"
     ]
    },
    {
     "name": "stdout",
     "output_type": "stream",
     "text": [
      "AP: 0.9116 - AUC-ROC: 0.9564 - AUC-PR: 0.9116 - P@50: 0.9400 > C0025297: Meningitis Viral\n"
     ]
    },
    {
     "name": "stderr",
     "output_type": "stream",
     "text": [
      "\r",
      "Evaluating test data for each side-effect:  72%|██████████████████████████▊          | 698/963 [34:59<13:38,  3.09s/it]"
     ]
    },
    {
     "name": "stdout",
     "output_type": "stream",
     "text": [
      "AP: 0.9638 - AUC-ROC: 0.9661 - AUC-PR: 0.9638 - P@50: 1.0000 > C0037023: salivary gland inflammation\n"
     ]
    },
    {
     "name": "stderr",
     "output_type": "stream",
     "text": [
      "\r",
      "Evaluating test data for each side-effect:  73%|██████████████████████████▊          | 699/963 [35:02<12:56,  2.94s/it]"
     ]
    },
    {
     "name": "stdout",
     "output_type": "stream",
     "text": [
      "AP: 0.9191 - AUC-ROC: 0.9457 - AUC-PR: 0.9191 - P@50: 0.9600 > C0013362: dysarthria\n"
     ]
    },
    {
     "name": "stderr",
     "output_type": "stream",
     "text": [
      "\r",
      "Evaluating test data for each side-effect:  73%|██████████████████████████▉          | 700/963 [35:05<12:51,  2.93s/it]"
     ]
    },
    {
     "name": "stdout",
     "output_type": "stream",
     "text": [
      "AP: 0.9210 - AUC-ROC: 0.9425 - AUC-PR: 0.9210 - P@50: 0.9600 > C0007859: cervicalgia\n"
     ]
    },
    {
     "name": "stderr",
     "output_type": "stream",
     "text": [
      "\r",
      "Evaluating test data for each side-effect:  73%|██████████████████████████▉          | 701/963 [35:08<12:56,  2.96s/it]"
     ]
    },
    {
     "name": "stdout",
     "output_type": "stream",
     "text": [
      "AP: 0.8879 - AUC-ROC: 0.9268 - AUC-PR: 0.8879 - P@50: 0.9200 > C0311394: difficulty in walking\n"
     ]
    },
    {
     "name": "stderr",
     "output_type": "stream",
     "text": [
      "\r",
      "Evaluating test data for each side-effect:  73%|██████████████████████████▉          | 702/963 [35:10<12:31,  2.88s/it]"
     ]
    },
    {
     "name": "stdout",
     "output_type": "stream",
     "text": [
      "AP: 0.9402 - AUC-ROC: 0.9624 - AUC-PR: 0.9402 - P@50: 0.9800 > C0085635: flashing lights\n"
     ]
    },
    {
     "name": "stderr",
     "output_type": "stream",
     "text": [
      "\r",
      "Evaluating test data for each side-effect:  73%|███████████████████████████          | 703/963 [35:14<12:52,  2.97s/it]"
     ]
    },
    {
     "name": "stdout",
     "output_type": "stream",
     "text": [
      "AP: 0.8963 - AUC-ROC: 0.9336 - AUC-PR: 0.8963 - P@50: 0.8600 > C0497156: Adenopathy\n"
     ]
    },
    {
     "name": "stderr",
     "output_type": "stream",
     "text": [
      "\r",
      "Evaluating test data for each side-effect:  73%|███████████████████████████          | 704/963 [35:16<12:22,  2.87s/it]"
     ]
    },
    {
     "name": "stdout",
     "output_type": "stream",
     "text": [
      "AP: 0.8629 - AUC-ROC: 0.9200 - AUC-PR: 0.8629 - P@50: 0.7600 > C0043096: loss of weight\n"
     ]
    },
    {
     "name": "stderr",
     "output_type": "stream",
     "text": [
      "\r",
      "Evaluating test data for each side-effect:  73%|███████████████████████████          | 705/963 [35:19<12:26,  2.89s/it]"
     ]
    },
    {
     "name": "stdout",
     "output_type": "stream",
     "text": [
      "AP: 0.8581 - AUC-ROC: 0.9087 - AUC-PR: 0.8581 - P@50: 0.9000 > C0019080: Bleeding\n"
     ]
    },
    {
     "name": "stderr",
     "output_type": "stream",
     "text": [
      "\r",
      "Evaluating test data for each side-effect:  73%|███████████████████████████▏         | 706/963 [35:22<12:36,  2.94s/it]"
     ]
    },
    {
     "name": "stdout",
     "output_type": "stream",
     "text": [
      "AP: 0.9304 - AUC-ROC: 0.9571 - AUC-PR: 0.9304 - P@50: 0.9600 > C0028734: nocturia\n"
     ]
    },
    {
     "name": "stderr",
     "output_type": "stream",
     "text": [
      "\r",
      "Evaluating test data for each side-effect:  73%|███████████████████████████▏         | 707/963 [35:25<12:27,  2.92s/it]"
     ]
    },
    {
     "name": "stdout",
     "output_type": "stream",
     "text": [
      "AP: 0.9251 - AUC-ROC: 0.9546 - AUC-PR: 0.9251 - P@50: 0.9400 > C0017160: gastroenteritis\n"
     ]
    },
    {
     "name": "stderr",
     "output_type": "stream",
     "text": [
      "\r",
      "Evaluating test data for each side-effect:  74%|███████████████████████████▏         | 708/963 [35:29<13:08,  3.09s/it]"
     ]
    },
    {
     "name": "stdout",
     "output_type": "stream",
     "text": [
      "AP: 0.9867 - AUC-ROC: 0.9875 - AUC-PR: 0.9867 - P@50: 1.0000 > C0262627: Seroma\n"
     ]
    },
    {
     "name": "stderr",
     "output_type": "stream",
     "text": [
      "\r",
      "Evaluating test data for each side-effect:  74%|███████████████████████████▏         | 709/963 [35:31<12:24,  2.93s/it]"
     ]
    },
    {
     "name": "stdout",
     "output_type": "stream",
     "text": [
      "AP: 0.9000 - AUC-ROC: 0.9254 - AUC-PR: 0.9000 - P@50: 0.9800 > C0001824: agranulocytoses\n"
     ]
    },
    {
     "name": "stderr",
     "output_type": "stream",
     "text": [
      "\r",
      "Evaluating test data for each side-effect:  74%|███████████████████████████▎         | 710/963 [35:34<12:38,  3.00s/it]"
     ]
    },
    {
     "name": "stdout",
     "output_type": "stream",
     "text": [
      "AP: 0.9487 - AUC-ROC: 0.9552 - AUC-PR: 0.9487 - P@50: 1.0000 > C0017979: glucosuria\n"
     ]
    },
    {
     "name": "stderr",
     "output_type": "stream",
     "text": [
      "\r",
      "Evaluating test data for each side-effect:  74%|███████████████████████████▎         | 711/963 [35:37<12:02,  2.87s/it]"
     ]
    },
    {
     "name": "stdout",
     "output_type": "stream",
     "text": [
      "AP: 0.8822 - AUC-ROC: 0.9465 - AUC-PR: 0.8822 - P@50: 0.9400 > C0149925: SCLC\n"
     ]
    },
    {
     "name": "stderr",
     "output_type": "stream",
     "text": [
      "\r",
      "Evaluating test data for each side-effect:  74%|███████████████████████████▎         | 712/963 [35:40<12:00,  2.87s/it]"
     ]
    },
    {
     "name": "stdout",
     "output_type": "stream",
     "text": [
      "AP: 0.9455 - AUC-ROC: 0.9638 - AUC-PR: 0.9455 - P@50: 0.9400 > C0011881: Diabetic Nephropathy\n"
     ]
    },
    {
     "name": "stderr",
     "output_type": "stream",
     "text": [
      "\r",
      "Evaluating test data for each side-effect:  74%|███████████████████████████▍         | 713/963 [35:43<11:56,  2.86s/it]"
     ]
    },
    {
     "name": "stdout",
     "output_type": "stream",
     "text": [
      "AP: 0.9226 - AUC-ROC: 0.9511 - AUC-PR: 0.9226 - P@50: 0.9400 > C0013922: embolism\n"
     ]
    },
    {
     "name": "stderr",
     "output_type": "stream",
     "text": [
      "\r",
      "Evaluating test data for each side-effect:  74%|███████████████████████████▍         | 714/963 [35:46<12:15,  2.95s/it]"
     ]
    },
    {
     "name": "stdout",
     "output_type": "stream",
     "text": [
      "AP: 0.9235 - AUC-ROC: 0.9557 - AUC-PR: 0.9235 - P@50: 0.9200 > C0149514: acute bronchitis\n"
     ]
    },
    {
     "name": "stderr",
     "output_type": "stream",
     "text": [
      "\r",
      "Evaluating test data for each side-effect:  74%|███████████████████████████▍         | 715/963 [35:48<11:44,  2.84s/it]"
     ]
    },
    {
     "name": "stdout",
     "output_type": "stream",
     "text": [
      "AP: 0.9666 - AUC-ROC: 0.9692 - AUC-PR: 0.9666 - P@50: 0.9800 > C0038131: dysphemia\n"
     ]
    },
    {
     "name": "stderr",
     "output_type": "stream",
     "text": [
      "\r",
      "Evaluating test data for each side-effect:  74%|███████████████████████████▌         | 716/963 [35:51<11:43,  2.85s/it]"
     ]
    },
    {
     "name": "stdout",
     "output_type": "stream",
     "text": [
      "AP: 0.9026 - AUC-ROC: 0.9407 - AUC-PR: 0.9026 - P@50: 0.9000 > C0017574: gingivitis\n"
     ]
    },
    {
     "name": "stderr",
     "output_type": "stream",
     "text": [
      "\r",
      "Evaluating test data for each side-effect:  74%|███████████████████████████▌         | 717/963 [35:54<12:04,  2.94s/it]"
     ]
    },
    {
     "name": "stdout",
     "output_type": "stream",
     "text": [
      "AP: 0.9629 - AUC-ROC: 0.9688 - AUC-PR: 0.9629 - P@50: 0.9400 > C0019917: hordeolum\n"
     ]
    },
    {
     "name": "stderr",
     "output_type": "stream",
     "text": [
      "\r",
      "Evaluating test data for each side-effect:  75%|███████████████████████████▌         | 718/963 [35:57<11:32,  2.83s/it]"
     ]
    },
    {
     "name": "stdout",
     "output_type": "stream",
     "text": [
      "AP: 0.9390 - AUC-ROC: 0.9509 - AUC-PR: 0.9390 - P@50: 0.9600 > C1136085: monoclonal gammopathy\n"
     ]
    },
    {
     "name": "stderr",
     "output_type": "stream",
     "text": [
      "\r",
      "Evaluating test data for each side-effect:  75%|███████████████████████████▋         | 719/963 [36:00<11:57,  2.94s/it]"
     ]
    },
    {
     "name": "stdout",
     "output_type": "stream",
     "text": [
      "AP: 0.9539 - AUC-ROC: 0.9596 - AUC-PR: 0.9539 - P@50: 0.9800 > C0023903: hepatic neoplasia\n"
     ]
    },
    {
     "name": "stderr",
     "output_type": "stream",
     "text": [
      "\r",
      "Evaluating test data for each side-effect:  75%|███████████████████████████▋         | 720/963 [36:03<11:47,  2.91s/it]"
     ]
    },
    {
     "name": "stdout",
     "output_type": "stream",
     "text": [
      "AP: 0.9144 - AUC-ROC: 0.9517 - AUC-PR: 0.9144 - P@50: 0.9200 > C0162834: hyperpigmentation\n"
     ]
    },
    {
     "name": "stderr",
     "output_type": "stream",
     "text": [
      "\r",
      "Evaluating test data for each side-effect:  75%|███████████████████████████▋         | 721/963 [36:06<11:41,  2.90s/it]"
     ]
    },
    {
     "name": "stdout",
     "output_type": "stream",
     "text": [
      "AP: 0.9009 - AUC-ROC: 0.9385 - AUC-PR: 0.9009 - P@50: 0.9000 > C0037763: muscle spasm\n"
     ]
    },
    {
     "name": "stderr",
     "output_type": "stream",
     "text": [
      "\r",
      "Evaluating test data for each side-effect:  75%|███████████████████████████▋         | 722/963 [36:09<11:41,  2.91s/it]"
     ]
    },
    {
     "name": "stdout",
     "output_type": "stream",
     "text": [
      "AP: 0.9286 - AUC-ROC: 0.9655 - AUC-PR: 0.9286 - P@50: 0.9600 > C0032533: polymyalgia rheumatica\n"
     ]
    },
    {
     "name": "stderr",
     "output_type": "stream",
     "text": [
      "\r",
      "Evaluating test data for each side-effect:  75%|███████████████████████████▊         | 723/963 [36:12<11:35,  2.90s/it]"
     ]
    },
    {
     "name": "stdout",
     "output_type": "stream",
     "text": [
      "AP: 0.8991 - AUC-ROC: 0.9333 - AUC-PR: 0.8991 - P@50: 0.9200 > C0027051: heart attack\n"
     ]
    },
    {
     "name": "stderr",
     "output_type": "stream",
     "text": [
      "\r",
      "Evaluating test data for each side-effect:  75%|███████████████████████████▊         | 724/963 [36:15<11:33,  2.90s/it]"
     ]
    },
    {
     "name": "stdout",
     "output_type": "stream",
     "text": [
      "AP: 0.9127 - AUC-ROC: 0.9407 - AUC-PR: 0.9127 - P@50: 0.9600 > C0010709: cyst\n"
     ]
    },
    {
     "name": "stderr",
     "output_type": "stream",
     "text": [
      "\r",
      "Evaluating test data for each side-effect:  75%|███████████████████████████▊         | 725/963 [36:17<11:31,  2.90s/it]"
     ]
    },
    {
     "name": "stdout",
     "output_type": "stream",
     "text": [
      "AP: 0.9636 - AUC-ROC: 0.9653 - AUC-PR: 0.9636 - P@50: 0.9600 > C0553723: squamous cell carcinoma of skin\n"
     ]
    },
    {
     "name": "stderr",
     "output_type": "stream",
     "text": [
      "\r",
      "Evaluating test data for each side-effect:  75%|███████████████████████████▉         | 726/963 [36:21<11:48,  2.99s/it]"
     ]
    },
    {
     "name": "stdout",
     "output_type": "stream",
     "text": [
      "AP: 0.9296 - AUC-ROC: 0.9563 - AUC-PR: 0.9296 - P@50: 0.9400 > C0519030: pneumonia Klebsiella\n"
     ]
    },
    {
     "name": "stderr",
     "output_type": "stream",
     "text": [
      "\r",
      "Evaluating test data for each side-effect:  75%|███████████████████████████▉         | 727/963 [36:23<11:14,  2.86s/it]"
     ]
    },
    {
     "name": "stdout",
     "output_type": "stream",
     "text": [
      "AP: 0.9115 - AUC-ROC: 0.9380 - AUC-PR: 0.9115 - P@50: 0.9200 > C0302592: carcinoma of the cervix\n"
     ]
    },
    {
     "name": "stderr",
     "output_type": "stream",
     "text": [
      "\r",
      "Evaluating test data for each side-effect:  76%|███████████████████████████▉         | 728/963 [36:26<11:11,  2.86s/it]"
     ]
    },
    {
     "name": "stdout",
     "output_type": "stream",
     "text": [
      "AP: 0.9381 - AUC-ROC: 0.9563 - AUC-PR: 0.9381 - P@50: 0.9600 > C0024141: disseminated lupus erythematosus\n"
     ]
    },
    {
     "name": "stderr",
     "output_type": "stream",
     "text": [
      "\r",
      "Evaluating test data for each side-effect:  76%|████████████████████████████         | 729/963 [36:29<11:09,  2.86s/it]"
     ]
    },
    {
     "name": "stdout",
     "output_type": "stream",
     "text": [
      "AP: 0.9225 - AUC-ROC: 0.9522 - AUC-PR: 0.9225 - P@50: 0.9200 > C0038663: attempted suicide\n"
     ]
    },
    {
     "name": "stderr",
     "output_type": "stream",
     "text": [
      "\r",
      "Evaluating test data for each side-effect:  76%|████████████████████████████         | 730/963 [36:32<11:09,  2.87s/it]"
     ]
    },
    {
     "name": "stdout",
     "output_type": "stream",
     "text": [
      "AP: 0.9272 - AUC-ROC: 0.9631 - AUC-PR: 0.9272 - P@50: 0.9600 > C0039483: temporal arteritis\n"
     ]
    },
    {
     "name": "stderr",
     "output_type": "stream",
     "text": [
      "\r",
      "Evaluating test data for each side-effect:  76%|████████████████████████████         | 731/963 [36:34<10:45,  2.78s/it]"
     ]
    },
    {
     "name": "stdout",
     "output_type": "stream",
     "text": [
      "AP: 0.8479 - AUC-ROC: 0.9265 - AUC-PR: 0.8479 - P@50: 0.8800 > C0042928: vocal cord paralysis\n"
     ]
    },
    {
     "name": "stderr",
     "output_type": "stream",
     "text": [
      "\r",
      "Evaluating test data for each side-effect:  76%|████████████████████████████         | 732/963 [36:37<10:48,  2.81s/it]"
     ]
    },
    {
     "name": "stdout",
     "output_type": "stream",
     "text": [
      "AP: 0.9936 - AUC-ROC: 0.9939 - AUC-PR: 0.9936 - P@50: 0.9800 > C0029936: oophorectomy\n"
     ]
    },
    {
     "name": "stderr",
     "output_type": "stream",
     "text": [
      "\r",
      "Evaluating test data for each side-effect:  76%|████████████████████████████▏        | 733/963 [36:40<11:14,  2.93s/it]"
     ]
    },
    {
     "name": "stdout",
     "output_type": "stream",
     "text": [
      "AP: 0.9884 - AUC-ROC: 0.9893 - AUC-PR: 0.9884 - P@50: 1.0000 > C0039504: tendon injury\n"
     ]
    },
    {
     "name": "stderr",
     "output_type": "stream",
     "text": [
      "\r",
      "Evaluating test data for each side-effect:  76%|████████████████████████████▏        | 734/963 [36:43<11:03,  2.90s/it]"
     ]
    },
    {
     "name": "stdout",
     "output_type": "stream",
     "text": [
      "AP: 0.9034 - AUC-ROC: 0.9432 - AUC-PR: 0.9034 - P@50: 0.8800 > C0023518: leucocytosis\n"
     ]
    },
    {
     "name": "stderr",
     "output_type": "stream",
     "text": [
      "\r",
      "Evaluating test data for each side-effect:  76%|████████████████████████████▏        | 735/963 [36:47<11:28,  3.02s/it]"
     ]
    },
    {
     "name": "stdout",
     "output_type": "stream",
     "text": [
      "AP: 0.8965 - AUC-ROC: 0.9354 - AUC-PR: 0.8965 - P@50: 0.8800 > C0004144: atelectasis\n"
     ]
    },
    {
     "name": "stderr",
     "output_type": "stream",
     "text": [
      "\r",
      "Evaluating test data for each side-effect:  76%|████████████████████████████▎        | 736/963 [36:50<11:28,  3.03s/it]"
     ]
    },
    {
     "name": "stdout",
     "output_type": "stream",
     "text": [
      "AP: 0.9547 - AUC-ROC: 0.9588 - AUC-PR: 0.9547 - P@50: 0.9400 > C0024198: Lyme Disease\n"
     ]
    },
    {
     "name": "stderr",
     "output_type": "stream",
     "text": [
      "\r",
      "Evaluating test data for each side-effect:  77%|████████████████████████████▎        | 737/963 [36:52<10:49,  2.88s/it]"
     ]
    },
    {
     "name": "stdout",
     "output_type": "stream",
     "text": [
      "AP: 0.8662 - AUC-ROC: 0.9183 - AUC-PR: 0.8662 - P@50: 0.8000 > C0035078: kidney failure\n"
     ]
    },
    {
     "name": "stderr",
     "output_type": "stream",
     "text": [
      "\r",
      "Evaluating test data for each side-effect:  77%|████████████████████████████▎        | 738/963 [36:56<11:33,  3.08s/it]"
     ]
    },
    {
     "name": "stdout",
     "output_type": "stream",
     "text": [
      "AP: 0.9393 - AUC-ROC: 0.9564 - AUC-PR: 0.9393 - P@50: 0.9400 > C0040136: thyroid neoplasia\n"
     ]
    },
    {
     "name": "stderr",
     "output_type": "stream",
     "text": [
      "\r",
      "Evaluating test data for each side-effect:  77%|████████████████████████████▍        | 739/963 [36:59<11:32,  3.09s/it]"
     ]
    },
    {
     "name": "stdout",
     "output_type": "stream",
     "text": [
      "AP: 0.9583 - AUC-ROC: 0.9719 - AUC-PR: 0.9583 - P@50: 0.9600 > C0236048: gastric polyps\n"
     ]
    },
    {
     "name": "stderr",
     "output_type": "stream",
     "text": [
      "\r",
      "Evaluating test data for each side-effect:  77%|████████████████████████████▍        | 740/963 [37:03<12:29,  3.36s/it]"
     ]
    },
    {
     "name": "stdout",
     "output_type": "stream",
     "text": [
      "AP: 0.8706 - AUC-ROC: 0.9215 - AUC-PR: 0.8706 - P@50: 0.8200 > C0020456: hyperglycaemia\n"
     ]
    },
    {
     "name": "stderr",
     "output_type": "stream",
     "text": [
      "\r",
      "Evaluating test data for each side-effect:  77%|████████████████████████████▍        | 741/963 [37:07<13:15,  3.58s/it]"
     ]
    },
    {
     "name": "stdout",
     "output_type": "stream",
     "text": [
      "AP: 0.8720 - AUC-ROC: 0.9379 - AUC-PR: 0.8720 - P@50: 0.8200 > C0600139: Carcinoma of Prostate\n"
     ]
    },
    {
     "name": "stderr",
     "output_type": "stream",
     "text": [
      "\r",
      "Evaluating test data for each side-effect:  77%|████████████████████████████▌        | 742/963 [37:10<12:57,  3.52s/it]"
     ]
    },
    {
     "name": "stdout",
     "output_type": "stream",
     "text": [
      "AP: 0.9582 - AUC-ROC: 0.9608 - AUC-PR: 0.9582 - P@50: 0.9600 > C0235328: colonic obstruction\n"
     ]
    },
    {
     "name": "stderr",
     "output_type": "stream",
     "text": [
      "\r",
      "Evaluating test data for each side-effect:  77%|████████████████████████████▌        | 743/963 [37:13<12:24,  3.39s/it]"
     ]
    },
    {
     "name": "stdout",
     "output_type": "stream",
     "text": [
      "AP: 0.9063 - AUC-ROC: 0.9426 - AUC-PR: 0.9063 - P@50: 0.9200 > C0039240: Supraventricular tachycardia\n"
     ]
    },
    {
     "name": "stderr",
     "output_type": "stream",
     "text": [
      "\r",
      "Evaluating test data for each side-effect:  77%|████████████████████████████▌        | 744/963 [37:17<12:30,  3.43s/it]"
     ]
    },
    {
     "name": "stdout",
     "output_type": "stream",
     "text": [
      "AP: 0.9782 - AUC-ROC: 0.9816 - AUC-PR: 0.9782 - P@50: 0.9800 > C0030583: parotitis\n"
     ]
    },
    {
     "name": "stderr",
     "output_type": "stream",
     "text": [
      "\r",
      "Evaluating test data for each side-effect:  77%|████████████████████████████▌        | 745/963 [37:21<12:41,  3.49s/it]"
     ]
    },
    {
     "name": "stdout",
     "output_type": "stream",
     "text": [
      "AP: 0.8451 - AUC-ROC: 0.9058 - AUC-PR: 0.8451 - P@50: 0.8600 > C0002994: angioedema\n"
     ]
    },
    {
     "name": "stderr",
     "output_type": "stream",
     "text": [
      "\r",
      "Evaluating test data for each side-effect:  77%|████████████████████████████▋        | 746/963 [37:24<12:34,  3.48s/it]"
     ]
    },
    {
     "name": "stdout",
     "output_type": "stream",
     "text": [
      "AP: 0.9102 - AUC-ROC: 0.9312 - AUC-PR: 0.9102 - P@50: 0.9200 > C0001126: renal tubular acidosis\n"
     ]
    },
    {
     "name": "stderr",
     "output_type": "stream",
     "text": [
      "\r",
      "Evaluating test data for each side-effect:  78%|████████████████████████████▋        | 747/963 [37:28<12:40,  3.52s/it]"
     ]
    },
    {
     "name": "stdout",
     "output_type": "stream",
     "text": [
      "AP: 0.9660 - AUC-ROC: 0.9726 - AUC-PR: 0.9660 - P@50: 0.9600 > C0021345: infectious mononucleosis\n"
     ]
    },
    {
     "name": "stderr",
     "output_type": "stream",
     "text": [
      "\r",
      "Evaluating test data for each side-effect:  78%|████████████████████████████▋        | 748/963 [37:31<12:03,  3.36s/it]"
     ]
    },
    {
     "name": "stdout",
     "output_type": "stream",
     "text": [
      "AP: 0.9458 - AUC-ROC: 0.9490 - AUC-PR: 0.9458 - P@50: 0.9400 > C0014534: epididymitis\n"
     ]
    },
    {
     "name": "stderr",
     "output_type": "stream",
     "text": [
      "\r",
      "Evaluating test data for each side-effect:  78%|████████████████████████████▊        | 749/963 [37:34<12:04,  3.39s/it]"
     ]
    },
    {
     "name": "stdout",
     "output_type": "stream",
     "text": [
      "AP: 0.8454 - AUC-ROC: 0.9050 - AUC-PR: 0.8454 - P@50: 0.8400 > C0595939: still birth\n"
     ]
    },
    {
     "name": "stderr",
     "output_type": "stream",
     "text": [
      "\r",
      "Evaluating test data for each side-effect:  78%|████████████████████████████▊        | 750/963 [37:38<12:23,  3.49s/it]"
     ]
    },
    {
     "name": "stdout",
     "output_type": "stream",
     "text": [
      "AP: 0.8679 - AUC-ROC: 0.9159 - AUC-PR: 0.8679 - P@50: 0.8600 > C0020538: High blood pressure\n"
     ]
    },
    {
     "name": "stderr",
     "output_type": "stream",
     "text": [
      "\r",
      "Evaluating test data for each side-effect:  78%|████████████████████████████▊        | 751/963 [37:41<12:32,  3.55s/it]"
     ]
    },
    {
     "name": "stdout",
     "output_type": "stream",
     "text": [
      "AP: 0.8806 - AUC-ROC: 0.9352 - AUC-PR: 0.8806 - P@50: 0.8200 > C0151723: Hypomagnesaemia\n"
     ]
    },
    {
     "name": "stderr",
     "output_type": "stream",
     "text": [
      "\r",
      "Evaluating test data for each side-effect:  78%|████████████████████████████▉        | 752/963 [37:45<12:06,  3.44s/it]"
     ]
    },
    {
     "name": "stdout",
     "output_type": "stream",
     "text": [
      "AP: 0.9694 - AUC-ROC: 0.9774 - AUC-PR: 0.9694 - P@50: 0.9600 > C0029400: bone inflammation\n"
     ]
    },
    {
     "name": "stderr",
     "output_type": "stream",
     "text": [
      "\r",
      "Evaluating test data for each side-effect:  78%|████████████████████████████▉        | 753/963 [37:48<12:15,  3.50s/it]"
     ]
    },
    {
     "name": "stdout",
     "output_type": "stream",
     "text": [
      "AP: 0.9263 - AUC-ROC: 0.9455 - AUC-PR: 0.9263 - P@50: 0.9200 > C0270996: eye swelling\n"
     ]
    },
    {
     "name": "stderr",
     "output_type": "stream",
     "text": [
      "\r",
      "Evaluating test data for each side-effect:  78%|████████████████████████████▉        | 754/963 [37:51<11:45,  3.38s/it]"
     ]
    },
    {
     "name": "stdout",
     "output_type": "stream",
     "text": [
      "AP: 0.9171 - AUC-ROC: 0.9522 - AUC-PR: 0.9171 - P@50: 0.9000 > C0035455: Rhinitis\n"
     ]
    },
    {
     "name": "stderr",
     "output_type": "stream",
     "text": [
      "\r",
      "Evaluating test data for each side-effect:  78%|█████████████████████████████        | 755/963 [37:55<11:33,  3.33s/it]"
     ]
    },
    {
     "name": "stdout",
     "output_type": "stream",
     "text": [
      "AP: 0.9058 - AUC-ROC: 0.9486 - AUC-PR: 0.9058 - P@50: 0.8800 > C0018021: goiter\n"
     ]
    },
    {
     "name": "stderr",
     "output_type": "stream",
     "text": [
      "\r",
      "Evaluating test data for each side-effect:  79%|█████████████████████████████        | 756/963 [37:58<11:22,  3.30s/it]"
     ]
    },
    {
     "name": "stdout",
     "output_type": "stream",
     "text": [
      "AP: 0.8827 - AUC-ROC: 0.9298 - AUC-PR: 0.8827 - P@50: 0.8800 > C0151827: eye pain\n"
     ]
    },
    {
     "name": "stderr",
     "output_type": "stream",
     "text": [
      "\r",
      "Evaluating test data for each side-effect:  79%|█████████████████████████████        | 757/963 [38:01<10:54,  3.18s/it]"
     ]
    },
    {
     "name": "stdout",
     "output_type": "stream",
     "text": [
      "AP: 0.9015 - AUC-ROC: 0.9497 - AUC-PR: 0.9015 - P@50: 0.9200 > C0085786: fibrosing alveolitis\n"
     ]
    },
    {
     "name": "stderr",
     "output_type": "stream",
     "text": [
      "\r",
      "Evaluating test data for each side-effect:  79%|█████████████████████████████        | 758/963 [38:04<10:50,  3.17s/it]"
     ]
    },
    {
     "name": "stdout",
     "output_type": "stream",
     "text": [
      "AP: 0.8993 - AUC-ROC: 0.9392 - AUC-PR: 0.8993 - P@50: 0.8200 > C0013428: dysuria\n"
     ]
    },
    {
     "name": "stderr",
     "output_type": "stream",
     "text": [
      "\r",
      "Evaluating test data for each side-effect:  79%|█████████████████████████████▏       | 759/963 [38:07<10:57,  3.22s/it]"
     ]
    },
    {
     "name": "stdout",
     "output_type": "stream",
     "text": [
      "AP: 0.9309 - AUC-ROC: 0.9627 - AUC-PR: 0.9309 - P@50: 0.9200 > C0006145: Breast disorder\n"
     ]
    },
    {
     "name": "stderr",
     "output_type": "stream",
     "text": [
      "\r",
      "Evaluating test data for each side-effect:  79%|█████████████████████████████▏       | 760/963 [38:11<11:00,  3.25s/it]"
     ]
    },
    {
     "name": "stdout",
     "output_type": "stream",
     "text": [
      "AP: 0.9425 - AUC-ROC: 0.9612 - AUC-PR: 0.9425 - P@50: 0.9400 > C0013390: dysmenorrhea\n"
     ]
    },
    {
     "name": "stderr",
     "output_type": "stream",
     "text": [
      "\r",
      "Evaluating test data for each side-effect:  79%|█████████████████████████████▏       | 761/963 [38:14<10:59,  3.26s/it]"
     ]
    },
    {
     "name": "stdout",
     "output_type": "stream",
     "text": [
      "AP: 0.9752 - AUC-ROC: 0.9776 - AUC-PR: 0.9752 - P@50: 1.0000 > C0029878: external ear infection\n"
     ]
    },
    {
     "name": "stderr",
     "output_type": "stream",
     "text": [
      "\r",
      "Evaluating test data for each side-effect:  79%|█████████████████████████████▎       | 762/963 [38:17<11:09,  3.33s/it]"
     ]
    },
    {
     "name": "stdout",
     "output_type": "stream",
     "text": [
      "AP: 0.8863 - AUC-ROC: 0.9295 - AUC-PR: 0.8863 - P@50: 0.8200 > C0000737: abdominal pain\n"
     ]
    },
    {
     "name": "stderr",
     "output_type": "stream",
     "text": [
      "\r",
      "Evaluating test data for each side-effect:  79%|█████████████████████████████▎       | 763/963 [38:21<11:37,  3.49s/it]"
     ]
    },
    {
     "name": "stdout",
     "output_type": "stream",
     "text": [
      "AP: 0.9415 - AUC-ROC: 0.9535 - AUC-PR: 0.9415 - P@50: 0.9400 > C0699885: bladder cancer\n"
     ]
    },
    {
     "name": "stderr",
     "output_type": "stream",
     "text": [
      "\r",
      "Evaluating test data for each side-effect:  79%|█████████████████████████████▎       | 764/963 [38:25<11:52,  3.58s/it]"
     ]
    },
    {
     "name": "stdout",
     "output_type": "stream",
     "text": [
      "AP: 0.9167 - AUC-ROC: 0.9360 - AUC-PR: 0.9167 - P@50: 0.9400 > C0025290: Aseptic meningitis\n"
     ]
    },
    {
     "name": "stderr",
     "output_type": "stream",
     "text": [
      "\r",
      "Evaluating test data for each side-effect:  79%|█████████████████████████████▍       | 765/963 [38:29<12:08,  3.68s/it]"
     ]
    },
    {
     "name": "stdout",
     "output_type": "stream",
     "text": [
      "AP: 0.8846 - AUC-ROC: 0.9331 - AUC-PR: 0.8846 - P@50: 0.9000 > C0011609: dermatitis medicamentosa\n"
     ]
    },
    {
     "name": "stderr",
     "output_type": "stream",
     "text": [
      "\r",
      "Evaluating test data for each side-effect:  80%|█████████████████████████████▍       | 766/963 [38:32<11:23,  3.47s/it]"
     ]
    },
    {
     "name": "stdout",
     "output_type": "stream",
     "text": [
      "AP: 0.9236 - AUC-ROC: 0.9532 - AUC-PR: 0.9236 - P@50: 0.9200 > C0152128: drug withdrawal\n"
     ]
    },
    {
     "name": "stderr",
     "output_type": "stream",
     "text": [
      "\r",
      "Evaluating test data for each side-effect:  80%|█████████████████████████████▍       | 767/963 [38:36<11:34,  3.54s/it]"
     ]
    },
    {
     "name": "stdout",
     "output_type": "stream",
     "text": [
      "AP: 0.9307 - AUC-ROC: 0.9547 - AUC-PR: 0.9307 - P@50: 0.9200 > C0426636: defaecation urgency\n"
     ]
    },
    {
     "name": "stderr",
     "output_type": "stream",
     "text": [
      "\r",
      "Evaluating test data for each side-effect:  80%|█████████████████████████████▌       | 768/963 [38:39<11:14,  3.46s/it]"
     ]
    },
    {
     "name": "stdout",
     "output_type": "stream",
     "text": [
      "AP: 0.9083 - AUC-ROC: 0.9437 - AUC-PR: 0.9083 - P@50: 0.9200 > C0262613: renal mass\n"
     ]
    },
    {
     "name": "stderr",
     "output_type": "stream",
     "text": [
      "\r",
      "Evaluating test data for each side-effect:  80%|█████████████████████████████▌       | 769/963 [38:43<11:43,  3.63s/it]"
     ]
    },
    {
     "name": "stdout",
     "output_type": "stream",
     "text": [
      "AP: 0.8763 - AUC-ROC: 0.9259 - AUC-PR: 0.8763 - P@50: 0.8200 > C0012833: dizziness\n"
     ]
    },
    {
     "name": "stderr",
     "output_type": "stream",
     "text": [
      "\r",
      "Evaluating test data for each side-effect:  80%|█████████████████████████████▌       | 770/963 [38:46<11:27,  3.56s/it]"
     ]
    },
    {
     "name": "stdout",
     "output_type": "stream",
     "text": [
      "AP: 0.9704 - AUC-ROC: 0.9758 - AUC-PR: 0.9704 - P@50: 0.9800 > C0016034: breast dysplasia\n"
     ]
    },
    {
     "name": "stderr",
     "output_type": "stream",
     "text": [
      "\r",
      "Evaluating test data for each side-effect:  80%|█████████████████████████████▌       | 771/963 [38:50<11:15,  3.52s/it]"
     ]
    },
    {
     "name": "stdout",
     "output_type": "stream",
     "text": [
      "AP: 0.8505 - AUC-ROC: 0.9106 - AUC-PR: 0.8505 - P@50: 0.8600 > C0034150: peliosis\n"
     ]
    },
    {
     "name": "stderr",
     "output_type": "stream",
     "text": [
      "\r",
      "Evaluating test data for each side-effect:  80%|█████████████████████████████▋       | 772/963 [38:53<11:08,  3.50s/it]"
     ]
    },
    {
     "name": "stdout",
     "output_type": "stream",
     "text": [
      "AP: 0.9090 - AUC-ROC: 0.9499 - AUC-PR: 0.9090 - P@50: 0.9000 > C0266813: fecal occult blood\n"
     ]
    },
    {
     "name": "stderr",
     "output_type": "stream",
     "text": [
      "\r",
      "Evaluating test data for each side-effect:  80%|█████████████████████████████▋       | 773/963 [38:56<10:45,  3.40s/it]"
     ]
    },
    {
     "name": "stdout",
     "output_type": "stream",
     "text": [
      "AP: 0.9062 - AUC-ROC: 0.9264 - AUC-PR: 0.9062 - P@50: 0.8800 > C0006271: bronchiolitis\n"
     ]
    },
    {
     "name": "stderr",
     "output_type": "stream",
     "text": [
      "\r",
      "Evaluating test data for each side-effect:  80%|█████████████████████████████▋       | 774/963 [39:00<10:38,  3.38s/it]"
     ]
    },
    {
     "name": "stdout",
     "output_type": "stream",
     "text": [
      "AP: 0.8818 - AUC-ROC: 0.9347 - AUC-PR: 0.8818 - P@50: 0.8800 > C0017658: glomerulonephritis\n"
     ]
    },
    {
     "name": "stderr",
     "output_type": "stream",
     "text": [
      "\r",
      "Evaluating test data for each side-effect:  80%|█████████████████████████████▊       | 775/963 [39:03<10:28,  3.34s/it]"
     ]
    },
    {
     "name": "stdout",
     "output_type": "stream",
     "text": [
      "AP: 0.9632 - AUC-ROC: 0.9690 - AUC-PR: 0.9632 - P@50: 0.9800 > C0039103: synovitis\n"
     ]
    },
    {
     "name": "stderr",
     "output_type": "stream",
     "text": [
      "\r",
      "Evaluating test data for each side-effect:  81%|█████████████████████████████▊       | 776/963 [39:06<10:26,  3.35s/it]"
     ]
    },
    {
     "name": "stdout",
     "output_type": "stream",
     "text": [
      "AP: 0.9445 - AUC-ROC: 0.9523 - AUC-PR: 0.9445 - P@50: 0.9000 > C0025637: methaemoglobinaemia\n"
     ]
    },
    {
     "name": "stderr",
     "output_type": "stream",
     "text": [
      "\r",
      "Evaluating test data for each side-effect:  81%|█████████████████████████████▊       | 777/963 [39:10<10:18,  3.33s/it]"
     ]
    },
    {
     "name": "stdout",
     "output_type": "stream",
     "text": [
      "AP: 0.9731 - AUC-ROC: 0.9782 - AUC-PR: 0.9731 - P@50: 0.9800 > C0019693: HIV disease\n"
     ]
    },
    {
     "name": "stderr",
     "output_type": "stream",
     "text": [
      "\r",
      "Evaluating test data for each side-effect:  81%|█████████████████████████████▉       | 778/963 [39:13<10:18,  3.34s/it]"
     ]
    },
    {
     "name": "stdout",
     "output_type": "stream",
     "text": [
      "AP: 0.9486 - AUC-ROC: 0.9695 - AUC-PR: 0.9486 - P@50: 0.9600 > C0003708: Arachnoiditis\n"
     ]
    },
    {
     "name": "stderr",
     "output_type": "stream",
     "text": [
      "\r",
      "Evaluating test data for each side-effect:  81%|█████████████████████████████▉       | 779/963 [39:16<10:09,  3.31s/it]"
     ]
    },
    {
     "name": "stdout",
     "output_type": "stream",
     "text": [
      "AP: 0.9706 - AUC-ROC: 0.9690 - AUC-PR: 0.9706 - P@50: 0.9600 > C0034888: rectal prolapse\n"
     ]
    },
    {
     "name": "stderr",
     "output_type": "stream",
     "text": [
      "\r",
      "Evaluating test data for each side-effect:  81%|█████████████████████████████▉       | 780/963 [39:20<10:22,  3.40s/it]"
     ]
    },
    {
     "name": "stdout",
     "output_type": "stream",
     "text": [
      "AP: 0.9826 - AUC-ROC: 0.9839 - AUC-PR: 0.9826 - P@50: 1.0000 > C0027343: ingrowing nail\n"
     ]
    },
    {
     "name": "stderr",
     "output_type": "stream",
     "text": [
      "\r",
      "Evaluating test data for each side-effect:  81%|██████████████████████████████       | 781/963 [39:24<11:11,  3.69s/it]"
     ]
    },
    {
     "name": "stdout",
     "output_type": "stream",
     "text": [
      "AP: 0.8878 - AUC-ROC: 0.9333 - AUC-PR: 0.8878 - P@50: 0.8600 > C0039239: sinus tachycardia\n"
     ]
    },
    {
     "name": "stderr",
     "output_type": "stream",
     "text": [
      "\r",
      "Evaluating test data for each side-effect:  81%|██████████████████████████████       | 782/963 [39:27<10:44,  3.56s/it]"
     ]
    },
    {
     "name": "stdout",
     "output_type": "stream",
     "text": [
      "AP: 0.9140 - AUC-ROC: 0.9471 - AUC-PR: 0.9140 - P@50: 0.9000 > C0019112: haemorrhoids\n"
     ]
    },
    {
     "name": "stderr",
     "output_type": "stream",
     "text": [
      "\r",
      "Evaluating test data for each side-effect:  81%|██████████████████████████████       | 783/963 [39:31<10:35,  3.53s/it]"
     ]
    },
    {
     "name": "stdout",
     "output_type": "stream",
     "text": [
      "AP: 0.8808 - AUC-ROC: 0.9306 - AUC-PR: 0.8808 - P@50: 0.7600 > C0018681: Head ache\n"
     ]
    },
    {
     "name": "stderr",
     "output_type": "stream",
     "text": [
      "\r",
      "Evaluating test data for each side-effect:  81%|██████████████████████████████       | 784/963 [39:35<11:08,  3.73s/it]"
     ]
    },
    {
     "name": "stdout",
     "output_type": "stream",
     "text": [
      "AP: 0.9620 - AUC-ROC: 0.9708 - AUC-PR: 0.9620 - P@50: 0.9600 > C0033038: Ejaculation Premature\n"
     ]
    },
    {
     "name": "stderr",
     "output_type": "stream",
     "text": [
      "\r",
      "Evaluating test data for each side-effect:  82%|██████████████████████████████▏      | 785/963 [39:38<10:37,  3.58s/it]"
     ]
    },
    {
     "name": "stdout",
     "output_type": "stream",
     "text": [
      "AP: 0.9261 - AUC-ROC: 0.9511 - AUC-PR: 0.9261 - P@50: 0.9400 > C0020440: Hypercapnia\n"
     ]
    },
    {
     "name": "stderr",
     "output_type": "stream",
     "text": [
      "\r",
      "Evaluating test data for each side-effect:  82%|██████████████████████████████▏      | 786/963 [39:42<10:35,  3.59s/it]"
     ]
    },
    {
     "name": "stdout",
     "output_type": "stream",
     "text": [
      "AP: 0.8554 - AUC-ROC: 0.9152 - AUC-PR: 0.8554 - P@50: 0.8000 > C0019158: hepatitis\n"
     ]
    },
    {
     "name": "stderr",
     "output_type": "stream",
     "text": [
      "\r",
      "Evaluating test data for each side-effect:  82%|██████████████████████████████▏      | 787/963 [39:45<10:28,  3.57s/it]"
     ]
    },
    {
     "name": "stdout",
     "output_type": "stream",
     "text": [
      "AP: 0.8887 - AUC-ROC: 0.9280 - AUC-PR: 0.8887 - P@50: 0.9000 > C0013144: drowsiness\n"
     ]
    },
    {
     "name": "stderr",
     "output_type": "stream",
     "text": [
      "\r",
      "Evaluating test data for each side-effect:  82%|██████████████████████████████▎      | 788/963 [39:50<10:55,  3.75s/it]"
     ]
    },
    {
     "name": "stdout",
     "output_type": "stream",
     "text": [
      "AP: 0.8991 - AUC-ROC: 0.9304 - AUC-PR: 0.8991 - P@50: 0.9200 > C0035410: rhabdomyolysis\n"
     ]
    },
    {
     "name": "stderr",
     "output_type": "stream",
     "text": [
      "\r",
      "Evaluating test data for each side-effect:  82%|██████████████████████████████▎      | 789/963 [39:54<11:09,  3.85s/it]"
     ]
    },
    {
     "name": "stdout",
     "output_type": "stream",
     "text": [
      "AP: 0.8977 - AUC-ROC: 0.9475 - AUC-PR: 0.8977 - P@50: 0.8800 > C0034902: aplasia pure red cell\n"
     ]
    },
    {
     "name": "stderr",
     "output_type": "stream",
     "text": [
      "\r",
      "Evaluating test data for each side-effect:  82%|██████████████████████████████▎      | 790/963 [39:57<10:31,  3.65s/it]"
     ]
    },
    {
     "name": "stdout",
     "output_type": "stream",
     "text": [
      "AP: 0.9304 - AUC-ROC: 0.9546 - AUC-PR: 0.9304 - P@50: 0.9200 > C0020040: hot flash\n"
     ]
    },
    {
     "name": "stderr",
     "output_type": "stream",
     "text": [
      "\r",
      "Evaluating test data for each side-effect:  82%|██████████████████████████████▍      | 791/963 [40:00<10:15,  3.58s/it]"
     ]
    },
    {
     "name": "stdout",
     "output_type": "stream",
     "text": [
      "AP: 0.8773 - AUC-ROC: 0.9147 - AUC-PR: 0.8773 - P@50: 0.9600 > C0042109: hive\n"
     ]
    },
    {
     "name": "stderr",
     "output_type": "stream",
     "text": [
      "\r",
      "Evaluating test data for each side-effect:  82%|██████████████████████████████▍      | 792/963 [40:04<10:27,  3.67s/it]"
     ]
    },
    {
     "name": "stdout",
     "output_type": "stream",
     "text": [
      "AP: 0.9347 - AUC-ROC: 0.9576 - AUC-PR: 0.9347 - P@50: 0.9600 > C0004134: Ataxia\n"
     ]
    },
    {
     "name": "stderr",
     "output_type": "stream",
     "text": [
      "\r",
      "Evaluating test data for each side-effect:  82%|██████████████████████████████▍      | 793/963 [40:08<10:20,  3.65s/it]"
     ]
    },
    {
     "name": "stdout",
     "output_type": "stream",
     "text": [
      "AP: 0.9130 - AUC-ROC: 0.9418 - AUC-PR: 0.9130 - P@50: 0.9400 > C1442903: bone spur\n"
     ]
    },
    {
     "name": "stderr",
     "output_type": "stream",
     "text": [
      "\r",
      "Evaluating test data for each side-effect:  82%|██████████████████████████████▌      | 794/963 [40:11<10:21,  3.68s/it]"
     ]
    },
    {
     "name": "stdout",
     "output_type": "stream",
     "text": [
      "AP: 0.9567 - AUC-ROC: 0.9637 - AUC-PR: 0.9567 - P@50: 0.9600 > C0026896: myasthenia gravis\n"
     ]
    },
    {
     "name": "stderr",
     "output_type": "stream",
     "text": [
      "\r",
      "Evaluating test data for each side-effect:  83%|██████████████████████████████▌      | 795/963 [40:15<10:01,  3.58s/it]"
     ]
    },
    {
     "name": "stdout",
     "output_type": "stream",
     "text": [
      "AP: 0.8875 - AUC-ROC: 0.9407 - AUC-PR: 0.8875 - P@50: 0.8800 > C0017672: glossodynia\n"
     ]
    },
    {
     "name": "stderr",
     "output_type": "stream",
     "text": [
      "\r",
      "Evaluating test data for each side-effect:  83%|██████████████████████████████▌      | 796/963 [40:18<09:42,  3.49s/it]"
     ]
    },
    {
     "name": "stdout",
     "output_type": "stream",
     "text": [
      "AP: 0.9529 - AUC-ROC: 0.9576 - AUC-PR: 0.9529 - P@50: 0.9800 > C0149696: food intolerance\n"
     ]
    },
    {
     "name": "stderr",
     "output_type": "stream",
     "text": [
      "\r",
      "Evaluating test data for each side-effect:  83%|██████████████████████████████▌      | 797/963 [40:21<09:20,  3.38s/it]"
     ]
    },
    {
     "name": "stdout",
     "output_type": "stream",
     "text": [
      "AP: 0.9057 - AUC-ROC: 0.9350 - AUC-PR: 0.9057 - P@50: 0.9400 > C0018946: hematoma subdural\n"
     ]
    },
    {
     "name": "stderr",
     "output_type": "stream",
     "text": [
      "\r",
      "Evaluating test data for each side-effect:  83%|██████████████████████████████▋      | 798/963 [40:25<09:27,  3.44s/it]"
     ]
    },
    {
     "name": "stdout",
     "output_type": "stream",
     "text": [
      "AP: 0.9296 - AUC-ROC: 0.9513 - AUC-PR: 0.9296 - P@50: 0.9400 > C0041582: ulcer\n"
     ]
    },
    {
     "name": "stderr",
     "output_type": "stream",
     "text": [
      "\r",
      "Evaluating test data for each side-effect:  83%|██████████████████████████████▋      | 799/963 [40:28<09:00,  3.30s/it]"
     ]
    },
    {
     "name": "stdout",
     "output_type": "stream",
     "text": [
      "AP: 0.9193 - AUC-ROC: 0.9484 - AUC-PR: 0.9193 - P@50: 0.9200 > C0032290: aspiration pneumonia\n"
     ]
    },
    {
     "name": "stderr",
     "output_type": "stream",
     "text": [
      "\r",
      "Evaluating test data for each side-effect:  83%|██████████████████████████████▋      | 800/963 [40:32<09:30,  3.50s/it]"
     ]
    },
    {
     "name": "stdout",
     "output_type": "stream",
     "text": [
      "AP: 0.8983 - AUC-ROC: 0.9422 - AUC-PR: 0.8983 - P@50: 0.9400 > C0008301: choking\n"
     ]
    },
    {
     "name": "stderr",
     "output_type": "stream",
     "text": [
      "\r",
      "Evaluating test data for each side-effect:  83%|██████████████████████████████▊      | 801/963 [40:35<08:59,  3.33s/it]"
     ]
    },
    {
     "name": "stdout",
     "output_type": "stream",
     "text": [
      "AP: 0.9554 - AUC-ROC: 0.9675 - AUC-PR: 0.9554 - P@50: 0.9800 > C0002103: allergic rhinitis\n"
     ]
    },
    {
     "name": "stderr",
     "output_type": "stream",
     "text": [
      "\r",
      "Evaluating test data for each side-effect:  83%|██████████████████████████████▊      | 802/963 [40:38<09:09,  3.41s/it]"
     ]
    },
    {
     "name": "stdout",
     "output_type": "stream",
     "text": [
      "AP: 0.8975 - AUC-ROC: 0.9364 - AUC-PR: 0.8975 - P@50: 0.9200 > C0151744: Cardiac ischemia\n"
     ]
    },
    {
     "name": "stderr",
     "output_type": "stream",
     "text": [
      "\r",
      "Evaluating test data for each side-effect:  83%|██████████████████████████████▊      | 803/963 [40:41<08:51,  3.32s/it]"
     ]
    },
    {
     "name": "stdout",
     "output_type": "stream",
     "text": [
      "AP: 0.9307 - AUC-ROC: 0.9541 - AUC-PR: 0.9307 - P@50: 0.9400 > C0029408: Osteoarthritis\n"
     ]
    },
    {
     "name": "stderr",
     "output_type": "stream",
     "text": [
      "\r",
      "Evaluating test data for each side-effect:  83%|██████████████████████████████▉      | 804/963 [40:45<08:50,  3.33s/it]"
     ]
    },
    {
     "name": "stdout",
     "output_type": "stream",
     "text": [
      "AP: 0.9291 - AUC-ROC: 0.9516 - AUC-PR: 0.9291 - P@50: 0.9600 > C0011616: contact dermatitis\n"
     ]
    },
    {
     "name": "stderr",
     "output_type": "stream",
     "text": [
      "\r",
      "Evaluating test data for each side-effect:  84%|██████████████████████████████▉      | 805/963 [40:48<08:26,  3.20s/it]"
     ]
    },
    {
     "name": "stdout",
     "output_type": "stream",
     "text": [
      "AP: 0.8957 - AUC-ROC: 0.9354 - AUC-PR: 0.8957 - P@50: 0.8200 > C0015672: Fatigue\n"
     ]
    },
    {
     "name": "stderr",
     "output_type": "stream",
     "text": [
      "\r",
      "Evaluating test data for each side-effect:  84%|██████████████████████████████▉      | 806/963 [40:52<09:12,  3.52s/it]"
     ]
    },
    {
     "name": "stdout",
     "output_type": "stream",
     "text": [
      "AP: 0.8754 - AUC-ROC: 0.9287 - AUC-PR: 0.8754 - P@50: 0.9200 > C0221264: cheilosis\n"
     ]
    },
    {
     "name": "stderr",
     "output_type": "stream",
     "text": [
      "\r",
      "Evaluating test data for each side-effect:  84%|███████████████████████████████      | 807/963 [40:55<08:55,  3.43s/it]"
     ]
    },
    {
     "name": "stdout",
     "output_type": "stream",
     "text": [
      "AP: 0.9424 - AUC-ROC: 0.9571 - AUC-PR: 0.9424 - P@50: 0.9800 > C0003615: appendicitis\n"
     ]
    },
    {
     "name": "stderr",
     "output_type": "stream",
     "text": [
      "\r",
      "Evaluating test data for each side-effect:  84%|███████████████████████████████      | 808/963 [40:59<08:55,  3.46s/it]"
     ]
    },
    {
     "name": "stdout",
     "output_type": "stream",
     "text": [
      "AP: 0.8906 - AUC-ROC: 0.9353 - AUC-PR: 0.8906 - P@50: 0.8200 > C0008033: pleural pain\n"
     ]
    },
    {
     "name": "stderr",
     "output_type": "stream",
     "text": [
      "\r",
      "Evaluating test data for each side-effect:  84%|███████████████████████████████      | 809/963 [41:03<09:26,  3.68s/it]"
     ]
    },
    {
     "name": "stdout",
     "output_type": "stream",
     "text": [
      "AP: 0.9076 - AUC-ROC: 0.9346 - AUC-PR: 0.9076 - P@50: 0.9600 > C0002170: alopecia\n"
     ]
    },
    {
     "name": "stderr",
     "output_type": "stream",
     "text": [
      "\r",
      "Evaluating test data for each side-effect:  84%|███████████████████████████████      | 810/963 [41:06<09:18,  3.65s/it]"
     ]
    },
    {
     "name": "stdout",
     "output_type": "stream",
     "text": [
      "AP: 0.9241 - AUC-ROC: 0.9525 - AUC-PR: 0.9241 - P@50: 0.9800 > C0264906: atrioventricular block second degree\n"
     ]
    },
    {
     "name": "stderr",
     "output_type": "stream",
     "text": [
      "\r",
      "Evaluating test data for each side-effect:  84%|███████████████████████████████▏     | 811/963 [41:10<09:02,  3.57s/it]"
     ]
    },
    {
     "name": "stdout",
     "output_type": "stream",
     "text": [
      "AP: 0.9635 - AUC-ROC: 0.9767 - AUC-PR: 0.9635 - P@50: 0.9600 > C0259749: autonomic neuropathy\n"
     ]
    },
    {
     "name": "stderr",
     "output_type": "stream",
     "text": [
      "\r",
      "Evaluating test data for each side-effect:  84%|███████████████████████████████▏     | 812/963 [41:14<09:20,  3.71s/it]"
     ]
    },
    {
     "name": "stdout",
     "output_type": "stream",
     "text": [
      "AP: 0.9144 - AUC-ROC: 0.9528 - AUC-PR: 0.9144 - P@50: 0.9200 > C0008311: Cholangitis\n"
     ]
    },
    {
     "name": "stderr",
     "output_type": "stream",
     "text": [
      "\r",
      "Evaluating test data for each side-effect:  84%|███████████████████████████████▏     | 813/963 [41:17<08:57,  3.58s/it]"
     ]
    },
    {
     "name": "stdout",
     "output_type": "stream",
     "text": [
      "AP: 0.8724 - AUC-ROC: 0.9126 - AUC-PR: 0.8724 - P@50: 0.9200 > C0036974: cardiovascular collapse\n"
     ]
    },
    {
     "name": "stderr",
     "output_type": "stream",
     "text": [
      "\r",
      "Evaluating test data for each side-effect:  85%|███████████████████████████████▎     | 814/963 [41:21<09:14,  3.72s/it]"
     ]
    },
    {
     "name": "stdout",
     "output_type": "stream",
     "text": [
      "AP: 0.9153 - AUC-ROC: 0.9477 - AUC-PR: 0.9153 - P@50: 0.9400 > C0262397: breast tenderness\n"
     ]
    },
    {
     "name": "stderr",
     "output_type": "stream",
     "text": [
      "\r",
      "Evaluating test data for each side-effect:  85%|███████████████████████████████▎     | 815/963 [41:24<08:46,  3.56s/it]"
     ]
    },
    {
     "name": "stdout",
     "output_type": "stream",
     "text": [
      "AP: 0.9588 - AUC-ROC: 0.9653 - AUC-PR: 0.9588 - P@50: 0.9400 > C0006846: cutaneous candidiasis\n"
     ]
    },
    {
     "name": "stderr",
     "output_type": "stream",
     "text": [
      "\r",
      "Evaluating test data for each side-effect:  85%|███████████████████████████████▎     | 816/963 [41:28<08:32,  3.49s/it]"
     ]
    },
    {
     "name": "stdout",
     "output_type": "stream",
     "text": [
      "AP: 0.9476 - AUC-ROC: 0.9592 - AUC-PR: 0.9476 - P@50: 0.9800 > C0558489: kidney pain\n"
     ]
    },
    {
     "name": "stderr",
     "output_type": "stream",
     "text": [
      "\r",
      "Evaluating test data for each side-effect:  85%|███████████████████████████████▍     | 817/963 [41:31<08:13,  3.38s/it]"
     ]
    },
    {
     "name": "stdout",
     "output_type": "stream",
     "text": [
      "AP: 0.9112 - AUC-ROC: 0.9430 - AUC-PR: 0.9112 - P@50: 0.9200 > C0085615: bundle branch block right\n"
     ]
    },
    {
     "name": "stderr",
     "output_type": "stream",
     "text": [
      "\r",
      "Evaluating test data for each side-effect:  85%|███████████████████████████████▍     | 818/963 [41:34<08:17,  3.43s/it]"
     ]
    },
    {
     "name": "stdout",
     "output_type": "stream",
     "text": [
      "AP: 0.9763 - AUC-ROC: 0.9820 - AUC-PR: 0.9763 - P@50: 0.9600 > C0025061: mediastinal disorder\n"
     ]
    },
    {
     "name": "stderr",
     "output_type": "stream",
     "text": [
      "\r",
      "Evaluating test data for each side-effect:  85%|███████████████████████████████▍     | 819/963 [41:38<08:31,  3.55s/it]"
     ]
    },
    {
     "name": "stdout",
     "output_type": "stream",
     "text": [
      "AP: 0.9343 - AUC-ROC: 0.9617 - AUC-PR: 0.9343 - P@50: 0.9400 > C0007286: carpal tunnel\n"
     ]
    },
    {
     "name": "stderr",
     "output_type": "stream",
     "text": [
      "\r",
      "Evaluating test data for each side-effect:  85%|███████████████████████████████▌     | 820/963 [41:42<08:30,  3.57s/it]"
     ]
    },
    {
     "name": "stdout",
     "output_type": "stream",
     "text": [
      "AP: 0.9725 - AUC-ROC: 0.9777 - AUC-PR: 0.9725 - P@50: 0.9800 > C0032768: Postherpetic Neuralgia\n"
     ]
    },
    {
     "name": "stderr",
     "output_type": "stream",
     "text": [
      "\r",
      "Evaluating test data for each side-effect:  85%|███████████████████████████████▌     | 821/963 [41:45<08:17,  3.50s/it]"
     ]
    },
    {
     "name": "stdout",
     "output_type": "stream",
     "text": [
      "AP: 0.9195 - AUC-ROC: 0.9425 - AUC-PR: 0.9195 - P@50: 0.9600 > C0018808: cardiac murmur\n"
     ]
    },
    {
     "name": "stderr",
     "output_type": "stream",
     "text": [
      "\r",
      "Evaluating test data for each side-effect:  85%|███████████████████████████████▌     | 822/963 [41:49<08:17,  3.53s/it]"
     ]
    },
    {
     "name": "stdout",
     "output_type": "stream",
     "text": [
      "AP: 0.9327 - AUC-ROC: 0.9516 - AUC-PR: 0.9327 - P@50: 0.9400 > C0002453: amenorrhea\n"
     ]
    },
    {
     "name": "stderr",
     "output_type": "stream",
     "text": [
      "\r",
      "Evaluating test data for each side-effect:  85%|███████████████████████████████▌     | 823/963 [41:52<07:47,  3.34s/it]"
     ]
    },
    {
     "name": "stdout",
     "output_type": "stream",
     "text": [
      "AP: 0.9039 - AUC-ROC: 0.9482 - AUC-PR: 0.9039 - P@50: 0.9000 > C0678222: Breast cancer\n"
     ]
    },
    {
     "name": "stderr",
     "output_type": "stream",
     "text": [
      "\r",
      "Evaluating test data for each side-effect:  86%|███████████████████████████████▋     | 824/963 [41:55<07:42,  3.32s/it]"
     ]
    },
    {
     "name": "stdout",
     "output_type": "stream",
     "text": [
      "AP: 0.9787 - AUC-ROC: 0.9783 - AUC-PR: 0.9787 - P@50: 1.0000 > C0424230: motor retardation\n"
     ]
    },
    {
     "name": "stderr",
     "output_type": "stream",
     "text": [
      "\r",
      "Evaluating test data for each side-effect:  86%|███████████████████████████████▋     | 825/963 [41:58<07:19,  3.18s/it]"
     ]
    },
    {
     "name": "stdout",
     "output_type": "stream",
     "text": [
      "AP: 0.9409 - AUC-ROC: 0.9672 - AUC-PR: 0.9409 - P@50: 0.9400 > C0151480: antinuclear antibody positive\n"
     ]
    },
    {
     "name": "stderr",
     "output_type": "stream",
     "text": [
      "\r",
      "Evaluating test data for each side-effect:  86%|███████████████████████████████▋     | 826/963 [42:01<07:31,  3.30s/it]"
     ]
    },
    {
     "name": "stdout",
     "output_type": "stream",
     "text": [
      "AP: 0.8860 - AUC-ROC: 0.9298 - AUC-PR: 0.8860 - P@50: 0.8200 > C0442874: neuropathy\n"
     ]
    },
    {
     "name": "stderr",
     "output_type": "stream",
     "text": [
      "\r",
      "Evaluating test data for each side-effect:  86%|███████████████████████████████▊     | 827/963 [42:05<07:27,  3.29s/it]"
     ]
    },
    {
     "name": "stdout",
     "output_type": "stream",
     "text": [
      "AP: 0.9465 - AUC-ROC: 0.9624 - AUC-PR: 0.9465 - P@50: 0.9400 > C0015468: face pain\n"
     ]
    },
    {
     "name": "stderr",
     "output_type": "stream",
     "text": [
      "\r",
      "Evaluating test data for each side-effect:  86%|███████████████████████████████▊     | 828/963 [42:08<07:37,  3.39s/it]"
     ]
    },
    {
     "name": "stdout",
     "output_type": "stream",
     "text": [
      "AP: 0.9459 - AUC-ROC: 0.9581 - AUC-PR: 0.9459 - P@50: 0.9400 > C0007868: cervical dysplasia\n"
     ]
    },
    {
     "name": "stderr",
     "output_type": "stream",
     "text": [
      "\r",
      "Evaluating test data for each side-effect:  86%|███████████████████████████████▊     | 829/963 [42:12<07:40,  3.43s/it]"
     ]
    },
    {
     "name": "stdout",
     "output_type": "stream",
     "text": [
      "AP: 0.9818 - AUC-ROC: 0.9833 - AUC-PR: 0.9818 - P@50: 0.9600 > C1384606: dyspareunia\n"
     ]
    },
    {
     "name": "stderr",
     "output_type": "stream",
     "text": [
      "\r",
      "Evaluating test data for each side-effect:  86%|███████████████████████████████▉     | 830/963 [42:15<07:33,  3.41s/it]"
     ]
    },
    {
     "name": "stdout",
     "output_type": "stream",
     "text": [
      "AP: 0.9126 - AUC-ROC: 0.9504 - AUC-PR: 0.9126 - P@50: 0.9200 > C0014733: erysipelas\n"
     ]
    },
    {
     "name": "stderr",
     "output_type": "stream",
     "text": [
      "\r",
      "Evaluating test data for each side-effect:  86%|███████████████████████████████▉     | 831/963 [42:18<07:23,  3.36s/it]"
     ]
    },
    {
     "name": "stdout",
     "output_type": "stream",
     "text": [
      "AP: 0.8693 - AUC-ROC: 0.9272 - AUC-PR: 0.8693 - P@50: 0.8200 > C0034212: pyoderma\n"
     ]
    },
    {
     "name": "stderr",
     "output_type": "stream",
     "text": [
      "\r",
      "Evaluating test data for each side-effect:  86%|███████████████████████████████▉     | 832/963 [42:21<07:04,  3.24s/it]"
     ]
    },
    {
     "name": "stdout",
     "output_type": "stream",
     "text": [
      "AP: 0.9161 - AUC-ROC: 0.9438 - AUC-PR: 0.9161 - P@50: 0.9400 > C0018802: Cardiac decompensation\n"
     ]
    },
    {
     "name": "stderr",
     "output_type": "stream",
     "text": [
      "\r",
      "Evaluating test data for each side-effect:  87%|████████████████████████████████     | 833/963 [42:25<07:17,  3.36s/it]"
     ]
    },
    {
     "name": "stdout",
     "output_type": "stream",
     "text": [
      "AP: 0.9513 - AUC-ROC: 0.9640 - AUC-PR: 0.9513 - P@50: 0.9600 > C0022602: actinic keratosis\n"
     ]
    },
    {
     "name": "stderr",
     "output_type": "stream",
     "text": [
      "\r",
      "Evaluating test data for each side-effect:  87%|████████████████████████████████     | 834/963 [42:28<07:10,  3.34s/it]"
     ]
    },
    {
     "name": "stdout",
     "output_type": "stream",
     "text": [
      "AP: 0.9157 - AUC-ROC: 0.9368 - AUC-PR: 0.9157 - P@50: 0.9800 > C0026265: mitral valve disease NOS\n"
     ]
    },
    {
     "name": "stderr",
     "output_type": "stream",
     "text": [
      "\r",
      "Evaluating test data for each side-effect:  87%|████████████████████████████████     | 835/963 [42:31<06:58,  3.27s/it]"
     ]
    },
    {
     "name": "stdout",
     "output_type": "stream",
     "text": [
      "AP: 0.9053 - AUC-ROC: 0.9362 - AUC-PR: 0.9053 - P@50: 0.9400 > C0027651: neoplasia\n"
     ]
    },
    {
     "name": "stderr",
     "output_type": "stream",
     "text": [
      "\r",
      "Evaluating test data for each side-effect:  87%|████████████████████████████████     | 836/963 [42:35<07:13,  3.41s/it]"
     ]
    },
    {
     "name": "stdout",
     "output_type": "stream",
     "text": [
      "AP: 0.9200 - AUC-ROC: 0.9570 - AUC-PR: 0.9200 - P@50: 0.9200 > C0003486: aortic aneurysm\n"
     ]
    },
    {
     "name": "stderr",
     "output_type": "stream",
     "text": [
      "\r",
      "Evaluating test data for each side-effect:  87%|████████████████████████████████▏    | 837/963 [42:38<06:58,  3.32s/it]"
     ]
    },
    {
     "name": "stdout",
     "output_type": "stream",
     "text": [
      "AP: 0.8947 - AUC-ROC: 0.9365 - AUC-PR: 0.8947 - P@50: 0.8200 > C0009938: bruise\n"
     ]
    },
    {
     "name": "stderr",
     "output_type": "stream",
     "text": [
      "\r",
      "Evaluating test data for each side-effect:  87%|████████████████████████████████▏    | 838/963 [42:42<07:14,  3.47s/it]"
     ]
    },
    {
     "name": "stdout",
     "output_type": "stream",
     "text": [
      "AP: 0.9336 - AUC-ROC: 0.9418 - AUC-PR: 0.9336 - P@50: 0.9200 > C0038833: superior vena cava syndrome\n"
     ]
    },
    {
     "name": "stderr",
     "output_type": "stream",
     "text": [
      "\r",
      "Evaluating test data for each side-effect:  87%|████████████████████████████████▏    | 839/963 [42:45<07:04,  3.42s/it]"
     ]
    },
    {
     "name": "stdout",
     "output_type": "stream",
     "text": [
      "AP: 0.9471 - AUC-ROC: 0.9647 - AUC-PR: 0.9471 - P@50: 0.9600 > C0011882: Diabetic neuropathy\n"
     ]
    },
    {
     "name": "stderr",
     "output_type": "stream",
     "text": [
      "\r",
      "Evaluating test data for each side-effect:  87%|████████████████████████████████▎    | 840/963 [42:49<07:13,  3.53s/it]"
     ]
    },
    {
     "name": "stdout",
     "output_type": "stream",
     "text": [
      "AP: 0.9100 - AUC-ROC: 0.9324 - AUC-PR: 0.9100 - P@50: 0.9600 > C0014553: petit mal\n"
     ]
    },
    {
     "name": "stderr",
     "output_type": "stream",
     "text": [
      "\r",
      "Evaluating test data for each side-effect:  87%|████████████████████████████████▎    | 841/963 [42:52<06:52,  3.38s/it]"
     ]
    },
    {
     "name": "stdout",
     "output_type": "stream",
     "text": [
      "AP: 0.9720 - AUC-ROC: 0.9755 - AUC-PR: 0.9720 - P@50: 0.9800 > C0036341: schizophrenia\n"
     ]
    },
    {
     "name": "stderr",
     "output_type": "stream",
     "text": [
      "\r",
      "Evaluating test data for each side-effect:  87%|████████████████████████████████▎    | 842/963 [42:55<06:36,  3.27s/it]"
     ]
    },
    {
     "name": "stdout",
     "output_type": "stream",
     "text": [
      "AP: 0.9602 - AUC-ROC: 0.9671 - AUC-PR: 0.9602 - P@50: 1.0000 > C0870082: hyperkeratosis\n"
     ]
    },
    {
     "name": "stderr",
     "output_type": "stream",
     "text": [
      "\r",
      "Evaluating test data for each side-effect:  88%|████████████████████████████████▍    | 843/963 [42:58<06:15,  3.13s/it]"
     ]
    },
    {
     "name": "stdout",
     "output_type": "stream",
     "text": [
      "AP: 0.9269 - AUC-ROC: 0.9477 - AUC-PR: 0.9269 - P@50: 0.8800 > C0020258: normal pressure hydrocephalus\n"
     ]
    },
    {
     "name": "stderr",
     "output_type": "stream",
     "text": [
      "\r",
      "Evaluating test data for each side-effect:  88%|████████████████████████████████▍    | 844/963 [43:01<06:08,  3.10s/it]"
     ]
    },
    {
     "name": "stdout",
     "output_type": "stream",
     "text": [
      "AP: 0.8999 - AUC-ROC: 0.9372 - AUC-PR: 0.8999 - P@50: 0.9000 > C0027080: myoglobinuria\n"
     ]
    },
    {
     "name": "stderr",
     "output_type": "stream",
     "text": [
      "\r",
      "Evaluating test data for each side-effect:  88%|████████████████████████████████▍    | 845/963 [43:04<05:44,  2.92s/it]"
     ]
    },
    {
     "name": "stdout",
     "output_type": "stream",
     "text": [
      "AP: 0.9164 - AUC-ROC: 0.9420 - AUC-PR: 0.9164 - P@50: 0.9800 > C0035522: rib fracture\n"
     ]
    },
    {
     "name": "stderr",
     "output_type": "stream",
     "text": [
      "\r",
      "Evaluating test data for each side-effect:  88%|████████████████████████████████▌    | 846/963 [43:06<05:39,  2.90s/it]"
     ]
    },
    {
     "name": "stdout",
     "output_type": "stream",
     "text": [
      "AP: 0.9198 - AUC-ROC: 0.9456 - AUC-PR: 0.9198 - P@50: 0.9600 > C0017168: acid reflux\n"
     ]
    },
    {
     "name": "stderr",
     "output_type": "stream",
     "text": [
      "\r",
      "Evaluating test data for each side-effect:  88%|████████████████████████████████▌    | 847/963 [43:09<05:39,  2.92s/it]"
     ]
    },
    {
     "name": "stdout",
     "output_type": "stream",
     "text": [
      "AP: 0.9593 - AUC-ROC: 0.9680 - AUC-PR: 0.9593 - P@50: 0.9800 > C0034072: Cor pulmonale\n"
     ]
    },
    {
     "name": "stderr",
     "output_type": "stream",
     "text": [
      "\r",
      "Evaluating test data for each side-effect:  88%|████████████████████████████████▌    | 848/963 [43:13<05:46,  3.01s/it]"
     ]
    },
    {
     "name": "stdout",
     "output_type": "stream",
     "text": [
      "AP: 0.8773 - AUC-ROC: 0.9229 - AUC-PR: 0.8773 - P@50: 0.8800 > C0014457: Eosinophil Count Increased\n"
     ]
    },
    {
     "name": "stderr",
     "output_type": "stream",
     "text": [
      "\r",
      "Evaluating test data for each side-effect:  88%|████████████████████████████████▌    | 849/963 [43:15<05:27,  2.87s/it]"
     ]
    },
    {
     "name": "stdout",
     "output_type": "stream",
     "text": [
      "AP: 0.9544 - AUC-ROC: 0.9550 - AUC-PR: 0.9544 - P@50: 1.0000 > C0155773: portal vein thrombosis\n"
     ]
    },
    {
     "name": "stderr",
     "output_type": "stream",
     "text": [
      "\r",
      "Evaluating test data for each side-effect:  88%|████████████████████████████████▋    | 850/963 [43:18<05:33,  2.95s/it]"
     ]
    },
    {
     "name": "stdout",
     "output_type": "stream",
     "text": [
      "AP: 0.8785 - AUC-ROC: 0.9225 - AUC-PR: 0.8785 - P@50: 0.8800 > C0035222: Acute Respiratory Distress Syndrome\n"
     ]
    },
    {
     "name": "stderr",
     "output_type": "stream",
     "text": [
      "\r",
      "Evaluating test data for each side-effect:  88%|████████████████████████████████▋    | 851/963 [43:21<05:30,  2.95s/it]"
     ]
    },
    {
     "name": "stdout",
     "output_type": "stream",
     "text": [
      "AP: 0.8663 - AUC-ROC: 0.9194 - AUC-PR: 0.8663 - P@50: 0.8800 > C0030326: panniculitis\n"
     ]
    },
    {
     "name": "stderr",
     "output_type": "stream",
     "text": [
      "\r",
      "Evaluating test data for each side-effect:  88%|████████████████████████████████▋    | 852/963 [43:24<05:22,  2.91s/it]"
     ]
    },
    {
     "name": "stdout",
     "output_type": "stream",
     "text": [
      "AP: 0.9083 - AUC-ROC: 0.9437 - AUC-PR: 0.9083 - P@50: 0.8800 > C0003862: Aching joints\n"
     ]
    },
    {
     "name": "stderr",
     "output_type": "stream",
     "text": [
      "\r",
      "Evaluating test data for each side-effect:  89%|████████████████████████████████▊    | 853/963 [43:27<05:28,  2.99s/it]"
     ]
    },
    {
     "name": "stdout",
     "output_type": "stream",
     "text": [
      "AP: 0.9074 - AUC-ROC: 0.9336 - AUC-PR: 0.9074 - P@50: 0.9400 > C0023530: leucopenia\n"
     ]
    },
    {
     "name": "stderr",
     "output_type": "stream",
     "text": [
      "\r",
      "Evaluating test data for each side-effect:  89%|████████████████████████████████▊    | 854/963 [43:31<05:37,  3.09s/it]"
     ]
    },
    {
     "name": "stdout",
     "output_type": "stream",
     "text": [
      "AP: 0.9291 - AUC-ROC: 0.9543 - AUC-PR: 0.9291 - P@50: 0.9400 > C0006266: bronchial spasm\n"
     ]
    },
    {
     "name": "stderr",
     "output_type": "stream",
     "text": [
      "\r",
      "Evaluating test data for each side-effect:  89%|████████████████████████████████▊    | 855/963 [43:33<05:20,  2.97s/it]"
     ]
    },
    {
     "name": "stdout",
     "output_type": "stream",
     "text": [
      "AP: 0.9148 - AUC-ROC: 0.9427 - AUC-PR: 0.9148 - P@50: 0.9600 > C0015802: femur fracture\n"
     ]
    },
    {
     "name": "stderr",
     "output_type": "stream",
     "text": [
      "\r",
      "Evaluating test data for each side-effect:  89%|████████████████████████████████▉    | 856/963 [43:36<05:24,  3.03s/it]"
     ]
    },
    {
     "name": "stdout",
     "output_type": "stream",
     "text": [
      "AP: 0.9639 - AUC-ROC: 0.9680 - AUC-PR: 0.9639 - P@50: 0.9200 > C0238154: epidural hematoma\n"
     ]
    },
    {
     "name": "stderr",
     "output_type": "stream",
     "text": [
      "\r",
      "Evaluating test data for each side-effect:  89%|████████████████████████████████▉    | 857/963 [43:39<05:17,  2.99s/it]"
     ]
    },
    {
     "name": "stdout",
     "output_type": "stream",
     "text": [
      "AP: 0.8978 - AUC-ROC: 0.9377 - AUC-PR: 0.8978 - P@50: 0.9000 > C0014130: endocrine disorder\n"
     ]
    },
    {
     "name": "stderr",
     "output_type": "stream",
     "text": [
      "\r",
      "Evaluating test data for each side-effect:  89%|████████████████████████████████▉    | 858/963 [43:42<05:01,  2.87s/it]"
     ]
    },
    {
     "name": "stdout",
     "output_type": "stream",
     "text": [
      "AP: 0.9426 - AUC-ROC: 0.9637 - AUC-PR: 0.9426 - P@50: 0.9400 > C0040456: Tooth Impacted\n"
     ]
    },
    {
     "name": "stderr",
     "output_type": "stream",
     "text": [
      "\r",
      "Evaluating test data for each side-effect:  89%|█████████████████████████████████    | 859/963 [43:45<05:05,  2.94s/it]"
     ]
    },
    {
     "name": "stdout",
     "output_type": "stream",
     "text": [
      "AP: 0.9221 - AUC-ROC: 0.9495 - AUC-PR: 0.9221 - P@50: 0.9400 > C0034886: proctalgia\n"
     ]
    },
    {
     "name": "stderr",
     "output_type": "stream",
     "text": [
      "\r",
      "Evaluating test data for each side-effect:  89%|█████████████████████████████████    | 860/963 [43:48<05:00,  2.91s/it]"
     ]
    },
    {
     "name": "stdout",
     "output_type": "stream",
     "text": [
      "AP: 0.8616 - AUC-ROC: 0.9159 - AUC-PR: 0.8616 - P@50: 0.9000 > C0011606: dermatitis exfoliative\n"
     ]
    },
    {
     "name": "stderr",
     "output_type": "stream",
     "text": [
      "\r",
      "Evaluating test data for each side-effect:  89%|█████████████████████████████████    | 861/963 [43:51<04:54,  2.88s/it]"
     ]
    },
    {
     "name": "stdout",
     "output_type": "stream",
     "text": [
      "AP: 0.9406 - AUC-ROC: 0.9642 - AUC-PR: 0.9406 - P@50: 0.9200 > C0318712: gastroenteritis viral\n"
     ]
    },
    {
     "name": "stderr",
     "output_type": "stream",
     "text": [
      "\r",
      "Evaluating test data for each side-effect:  90%|█████████████████████████████████    | 862/963 [43:53<04:50,  2.87s/it]"
     ]
    },
    {
     "name": "stdout",
     "output_type": "stream",
     "text": [
      "AP: 0.8562 - AUC-ROC: 0.9117 - AUC-PR: 0.8562 - P@50: 0.8600 > C0033774: itch\n"
     ]
    },
    {
     "name": "stderr",
     "output_type": "stream",
     "text": [
      "\r",
      "Evaluating test data for each side-effect:  90%|█████████████████████████████████▏   | 863/963 [43:57<04:54,  2.94s/it]"
     ]
    },
    {
     "name": "stdout",
     "output_type": "stream",
     "text": [
      "AP: 0.9556 - AUC-ROC: 0.9633 - AUC-PR: 0.9556 - P@50: 0.9800 > C0042594: Vestibular disorder\n"
     ]
    },
    {
     "name": "stderr",
     "output_type": "stream",
     "text": [
      "\r",
      "Evaluating test data for each side-effect:  90%|█████████████████████████████████▏   | 864/963 [44:00<04:52,  2.95s/it]"
     ]
    },
    {
     "name": "stdout",
     "output_type": "stream",
     "text": [
      "AP: 0.9002 - AUC-ROC: 0.9388 - AUC-PR: 0.9002 - P@50: 0.8400 > C0016204: flatulence\n"
     ]
    },
    {
     "name": "stderr",
     "output_type": "stream",
     "text": [
      "\r",
      "Evaluating test data for each side-effect:  90%|█████████████████████████████████▏   | 865/963 [44:02<04:39,  2.85s/it]"
     ]
    },
    {
     "name": "stdout",
     "output_type": "stream",
     "text": [
      "AP: 0.9178 - AUC-ROC: 0.9461 - AUC-PR: 0.9178 - P@50: 0.9400 > C0026764: Multiple Myeloma\n"
     ]
    },
    {
     "name": "stderr",
     "output_type": "stream",
     "text": [
      "\r",
      "Evaluating test data for each side-effect:  90%|█████████████████████████████████▎   | 866/963 [44:05<04:49,  2.99s/it]"
     ]
    },
    {
     "name": "stdout",
     "output_type": "stream",
     "text": [
      "AP: 0.9704 - AUC-ROC: 0.9778 - AUC-PR: 0.9704 - P@50: 0.9800 > C0025345: Menstrual Disorder\n"
     ]
    },
    {
     "name": "stderr",
     "output_type": "stream",
     "text": [
      "\r",
      "Evaluating test data for each side-effect:  90%|█████████████████████████████████▎   | 867/963 [44:08<04:36,  2.88s/it]"
     ]
    },
    {
     "name": "stdout",
     "output_type": "stream",
     "text": [
      "AP: 0.9447 - AUC-ROC: 0.9635 - AUC-PR: 0.9447 - P@50: 0.9600 > C0008320: cholecystectomies\n"
     ]
    },
    {
     "name": "stderr",
     "output_type": "stream",
     "text": [
      "\r",
      "Evaluating test data for each side-effect:  90%|█████████████████████████████████▎   | 868/963 [44:11<04:32,  2.87s/it]"
     ]
    },
    {
     "name": "stdout",
     "output_type": "stream",
     "text": [
      "AP: 0.9019 - AUC-ROC: 0.9401 - AUC-PR: 0.9019 - P@50: 0.9400 > C0001623: adrenal insufficiency\n"
     ]
    },
    {
     "name": "stderr",
     "output_type": "stream",
     "text": [
      "\r",
      "Evaluating test data for each side-effect:  90%|█████████████████████████████████▍   | 869/963 [44:14<04:30,  2.88s/it]"
     ]
    },
    {
     "name": "stdout",
     "output_type": "stream",
     "text": [
      "AP: 0.9015 - AUC-ROC: 0.9343 - AUC-PR: 0.9015 - P@50: 0.8800 > C1384666: Decreased hearing\n"
     ]
    },
    {
     "name": "stderr",
     "output_type": "stream",
     "text": [
      "\r",
      "Evaluating test data for each side-effect:  90%|█████████████████████████████████▍   | 870/963 [44:17<04:26,  2.86s/it]"
     ]
    },
    {
     "name": "stdout",
     "output_type": "stream",
     "text": [
      "AP: 0.8937 - AUC-ROC: 0.9430 - AUC-PR: 0.8937 - P@50: 0.9000 > C0032273: pneumoconiosis\n"
     ]
    },
    {
     "name": "stderr",
     "output_type": "stream",
     "text": [
      "\r",
      "Evaluating test data for each side-effect:  90%|█████████████████████████████████▍   | 871/963 [44:19<04:13,  2.76s/it]"
     ]
    },
    {
     "name": "stdout",
     "output_type": "stream",
     "text": [
      "AP: 0.8976 - AUC-ROC: 0.9321 - AUC-PR: 0.8976 - P@50: 0.9400 > C0267596: haemorrhage rectum\n"
     ]
    },
    {
     "name": "stderr",
     "output_type": "stream",
     "text": [
      "\r",
      "Evaluating test data for each side-effect:  91%|█████████████████████████████████▌   | 872/963 [44:22<04:21,  2.87s/it]"
     ]
    },
    {
     "name": "stdout",
     "output_type": "stream",
     "text": [
      "AP: 0.8788 - AUC-ROC: 0.9359 - AUC-PR: 0.8788 - P@50: 0.9000 > C0009324: chronic ulcerative colitis\n"
     ]
    },
    {
     "name": "stderr",
     "output_type": "stream",
     "text": [
      "\r",
      "Evaluating test data for each side-effect:  91%|█████████████████████████████████▌   | 873/963 [44:25<04:07,  2.75s/it]"
     ]
    },
    {
     "name": "stdout",
     "output_type": "stream",
     "text": [
      "AP: 0.9020 - AUC-ROC: 0.9468 - AUC-PR: 0.9020 - P@50: 0.9000 > C0014869: reflux esophagitis\n"
     ]
    },
    {
     "name": "stderr",
     "output_type": "stream",
     "text": [
      "\r",
      "Evaluating test data for each side-effect:  91%|█████████████████████████████████▌   | 874/963 [44:28<04:09,  2.81s/it]"
     ]
    },
    {
     "name": "stdout",
     "output_type": "stream",
     "text": [
      "AP: 0.9177 - AUC-ROC: 0.9458 - AUC-PR: 0.9177 - P@50: 0.9600 > C0012691: dislocation\n"
     ]
    },
    {
     "name": "stderr",
     "output_type": "stream",
     "text": [
      "\r",
      "Evaluating test data for each side-effect:  91%|█████████████████████████████████▌   | 875/963 [44:31<04:11,  2.86s/it]"
     ]
    },
    {
     "name": "stdout",
     "output_type": "stream",
     "text": [
      "AP: 0.8952 - AUC-ROC: 0.9314 - AUC-PR: 0.8952 - P@50: 0.9400 > C0034063: lung edema\n"
     ]
    },
    {
     "name": "stderr",
     "output_type": "stream",
     "text": [
      "\r",
      "Evaluating test data for each side-effect:  91%|█████████████████████████████████▋   | 876/963 [44:34<04:14,  2.92s/it]"
     ]
    },
    {
     "name": "stdout",
     "output_type": "stream",
     "text": [
      "AP: 0.9236 - AUC-ROC: 0.9523 - AUC-PR: 0.9236 - P@50: 0.9200 > C0037011: shoulder pain\n"
     ]
    },
    {
     "name": "stderr",
     "output_type": "stream",
     "text": [
      "\r",
      "Evaluating test data for each side-effect:  91%|█████████████████████████████████▋   | 877/963 [44:37<04:12,  2.94s/it]"
     ]
    },
    {
     "name": "stdout",
     "output_type": "stream",
     "text": [
      "AP: 0.8970 - AUC-ROC: 0.9353 - AUC-PR: 0.8970 - P@50: 0.9200 > C0080179: Spinal fracture\n"
     ]
    },
    {
     "name": "stderr",
     "output_type": "stream",
     "text": [
      "\r",
      "Evaluating test data for each side-effect:  91%|█████████████████████████████████▋   | 878/963 [44:39<04:03,  2.87s/it]"
     ]
    },
    {
     "name": "stdout",
     "output_type": "stream",
     "text": [
      "AP: 0.9426 - AUC-ROC: 0.9641 - AUC-PR: 0.9426 - P@50: 0.9600 > C0158252: intervertebral disc disorder\n"
     ]
    },
    {
     "name": "stderr",
     "output_type": "stream",
     "text": [
      "\r",
      "Evaluating test data for each side-effect:  91%|█████████████████████████████████▊   | 879/963 [44:42<04:04,  2.91s/it]"
     ]
    },
    {
     "name": "stdout",
     "output_type": "stream",
     "text": [
      "AP: 0.8942 - AUC-ROC: 0.9286 - AUC-PR: 0.8942 - P@50: 0.9200 > C0032584: polyp\n"
     ]
    },
    {
     "name": "stderr",
     "output_type": "stream",
     "text": [
      "\r",
      "Evaluating test data for each side-effect:  91%|█████████████████████████████████▊   | 880/963 [44:45<04:00,  2.89s/it]"
     ]
    },
    {
     "name": "stdout",
     "output_type": "stream",
     "text": [
      "AP: 0.9640 - AUC-ROC: 0.9660 - AUC-PR: 0.9640 - P@50: 0.9600 > C0276143: Viral Pharyngitis\n"
     ]
    },
    {
     "name": "stderr",
     "output_type": "stream",
     "text": [
      "\r",
      "Evaluating test data for each side-effect:  91%|█████████████████████████████████▊   | 881/963 [44:48<03:57,  2.89s/it]"
     ]
    },
    {
     "name": "stdout",
     "output_type": "stream",
     "text": [
      "AP: 0.8977 - AUC-ROC: 0.9385 - AUC-PR: 0.8977 - P@50: 0.8800 > C0239739: gingival pain\n"
     ]
    },
    {
     "name": "stderr",
     "output_type": "stream",
     "text": [
      "\r",
      "Evaluating test data for each side-effect:  92%|█████████████████████████████████▉   | 882/963 [44:51<03:53,  2.88s/it]"
     ]
    },
    {
     "name": "stdout",
     "output_type": "stream",
     "text": [
      "AP: 0.9495 - AUC-ROC: 0.9642 - AUC-PR: 0.9495 - P@50: 0.9800 > C0263912: rotator cuff syndrome\n"
     ]
    },
    {
     "name": "stderr",
     "output_type": "stream",
     "text": [
      "\r",
      "Evaluating test data for each side-effect:  92%|█████████████████████████████████▉   | 883/963 [44:54<03:49,  2.87s/it]"
     ]
    },
    {
     "name": "stdout",
     "output_type": "stream",
     "text": [
      "AP: 0.8895 - AUC-ROC: 0.9255 - AUC-PR: 0.8895 - P@50: 0.9200 > C0027947: Neutropenia\n"
     ]
    },
    {
     "name": "stderr",
     "output_type": "stream",
     "text": [
      "\r",
      "Evaluating test data for each side-effect:  92%|█████████████████████████████████▉   | 884/963 [44:57<03:57,  3.01s/it]"
     ]
    },
    {
     "name": "stdout",
     "output_type": "stream",
     "text": [
      "AP: 0.8879 - AUC-ROC: 0.9358 - AUC-PR: 0.8879 - P@50: 0.8800 > C0917798: cerebral ischaemia\n"
     ]
    },
    {
     "name": "stderr",
     "output_type": "stream",
     "text": [
      "\r",
      "Evaluating test data for each side-effect:  92%|██████████████████████████████████   | 885/963 [45:00<03:43,  2.86s/it]"
     ]
    },
    {
     "name": "stdout",
     "output_type": "stream",
     "text": [
      "AP: 0.8831 - AUC-ROC: 0.9351 - AUC-PR: 0.8831 - P@50: 0.8800 > C0699790: carcinoma of the colon\n"
     ]
    },
    {
     "name": "stderr",
     "output_type": "stream",
     "text": [
      "\r",
      "Evaluating test data for each side-effect:  92%|██████████████████████████████████   | 886/963 [45:03<03:41,  2.87s/it]"
     ]
    },
    {
     "name": "stdout",
     "output_type": "stream",
     "text": [
      "AP: 0.8781 - AUC-ROC: 0.9244 - AUC-PR: 0.8781 - P@50: 0.8600 > C0152021: congenital heart disease\n"
     ]
    },
    {
     "name": "stderr",
     "output_type": "stream",
     "text": [
      "\r",
      "Evaluating test data for each side-effect:  92%|██████████████████████████████████   | 887/963 [45:06<03:42,  2.93s/it]"
     ]
    },
    {
     "name": "stdout",
     "output_type": "stream",
     "text": [
      "AP: 0.9450 - AUC-ROC: 0.9580 - AUC-PR: 0.9450 - P@50: 0.9800 > C0005424: biliary tract disorder\n"
     ]
    },
    {
     "name": "stderr",
     "output_type": "stream",
     "text": [
      "\r",
      "Evaluating test data for each side-effect:  92%|██████████████████████████████████   | 888/963 [45:09<03:41,  2.95s/it]"
     ]
    },
    {
     "name": "stdout",
     "output_type": "stream",
     "text": [
      "AP: 0.9539 - AUC-ROC: 0.9639 - AUC-PR: 0.9539 - P@50: 0.9400 > C0010043: corneal ulcer\n"
     ]
    },
    {
     "name": "stderr",
     "output_type": "stream",
     "text": [
      "\r",
      "Evaluating test data for each side-effect:  92%|██████████████████████████████████▏  | 889/963 [45:12<03:36,  2.93s/it]"
     ]
    },
    {
     "name": "stdout",
     "output_type": "stream",
     "text": [
      "AP: 0.9838 - AUC-ROC: 0.9842 - AUC-PR: 0.9838 - P@50: 1.0000 > C0034359: pyuria\n"
     ]
    },
    {
     "name": "stderr",
     "output_type": "stream",
     "text": [
      "\r",
      "Evaluating test data for each side-effect:  92%|██████████████████████████████████▏  | 890/963 [45:14<03:24,  2.80s/it]"
     ]
    },
    {
     "name": "stdout",
     "output_type": "stream",
     "text": [
      "AP: 0.8770 - AUC-ROC: 0.9293 - AUC-PR: 0.8770 - P@50: 0.8400 > C0149745: mouth ulcer\n"
     ]
    },
    {
     "name": "stderr",
     "output_type": "stream",
     "text": [
      "\r",
      "Evaluating test data for each side-effect:  93%|██████████████████████████████████▏  | 891/963 [45:17<03:22,  2.82s/it]"
     ]
    },
    {
     "name": "stdout",
     "output_type": "stream",
     "text": [
      "AP: 0.9967 - AUC-ROC: 0.9968 - AUC-PR: 0.9967 - P@50: 1.0000 > C0036337: schizoaffective disorder\n"
     ]
    },
    {
     "name": "stderr",
     "output_type": "stream",
     "text": [
      "\r",
      "Evaluating test data for each side-effect:  93%|██████████████████████████████████▎  | 892/963 [45:20<03:21,  2.84s/it]"
     ]
    },
    {
     "name": "stdout",
     "output_type": "stream",
     "text": [
      "AP: 0.9820 - AUC-ROC: 0.9826 - AUC-PR: 0.9820 - P@50: 0.9200 > C0085166: bacterial vaginitis\n"
     ]
    },
    {
     "name": "stderr",
     "output_type": "stream",
     "text": [
      "\r",
      "Evaluating test data for each side-effect:  93%|██████████████████████████████████▎  | 893/963 [45:23<03:17,  2.82s/it]"
     ]
    },
    {
     "name": "stdout",
     "output_type": "stream",
     "text": [
      "AP: 0.8946 - AUC-ROC: 0.9368 - AUC-PR: 0.8946 - P@50: 0.9200 > C0041909: upper gastrointestinal bleeding\n"
     ]
    },
    {
     "name": "stderr",
     "output_type": "stream",
     "text": [
      "\r",
      "Evaluating test data for each side-effect:  93%|██████████████████████████████████▎  | 894/963 [45:26<03:19,  2.89s/it]"
     ]
    },
    {
     "name": "stdout",
     "output_type": "stream",
     "text": [
      "AP: 0.8963 - AUC-ROC: 0.9329 - AUC-PR: 0.8963 - P@50: 0.9000 > C0016382: facial flushing\n"
     ]
    },
    {
     "name": "stderr",
     "output_type": "stream",
     "text": [
      "\r",
      "Evaluating test data for each side-effect:  93%|██████████████████████████████████▍  | 895/963 [45:29<03:16,  2.89s/it]"
     ]
    },
    {
     "name": "stdout",
     "output_type": "stream",
     "text": [
      "AP: 0.8644 - AUC-ROC: 0.9121 - AUC-PR: 0.8644 - P@50: 0.9000 > C0497247: arterial pressure NOS increased\n"
     ]
    },
    {
     "name": "stderr",
     "output_type": "stream",
     "text": [
      "\r",
      "Evaluating test data for each side-effect:  93%|██████████████████████████████████▍  | 896/963 [45:32<03:15,  2.91s/it]"
     ]
    },
    {
     "name": "stdout",
     "output_type": "stream",
     "text": [
      "AP: 0.8697 - AUC-ROC: 0.9226 - AUC-PR: 0.8697 - P@50: 0.8600 > C0014591: epistaxis\n"
     ]
    },
    {
     "name": "stderr",
     "output_type": "stream",
     "text": [
      "\r",
      "Evaluating test data for each side-effect:  93%|██████████████████████████████████▍  | 897/963 [45:34<03:06,  2.82s/it]"
     ]
    },
    {
     "name": "stdout",
     "output_type": "stream",
     "text": [
      "AP: 0.9175 - AUC-ROC: 0.9488 - AUC-PR: 0.9175 - P@50: 0.9200 > C0221706: road traffic accident\n"
     ]
    },
    {
     "name": "stderr",
     "output_type": "stream",
     "text": [
      "\r",
      "Evaluating test data for each side-effect:  93%|██████████████████████████████████▌  | 898/963 [45:37<03:04,  2.83s/it]"
     ]
    },
    {
     "name": "stdout",
     "output_type": "stream",
     "text": [
      "AP: 0.9327 - AUC-ROC: 0.9617 - AUC-PR: 0.9327 - P@50: 0.9600 > C0027531: injury of neck\n"
     ]
    },
    {
     "name": "stderr",
     "output_type": "stream",
     "text": [
      "\r",
      "Evaluating test data for each side-effect:  93%|██████████████████████████████████▌  | 899/963 [45:39<02:54,  2.73s/it]"
     ]
    },
    {
     "name": "stdout",
     "output_type": "stream",
     "text": [
      "AP: 0.9664 - AUC-ROC: 0.9724 - AUC-PR: 0.9664 - P@50: 0.9600 > C0019655: histoplasmosis\n"
     ]
    },
    {
     "name": "stderr",
     "output_type": "stream",
     "text": [
      "\r",
      "Evaluating test data for each side-effect:  93%|██████████████████████████████████▌  | 900/963 [45:42<02:53,  2.76s/it]"
     ]
    },
    {
     "name": "stdout",
     "output_type": "stream",
     "text": [
      "AP: 0.9228 - AUC-ROC: 0.9420 - AUC-PR: 0.9228 - P@50: 0.9400 > C0035854: acne rosacea\n"
     ]
    },
    {
     "name": "stderr",
     "output_type": "stream",
     "text": [
      "\r",
      "Evaluating test data for each side-effect:  94%|██████████████████████████████████▌  | 901/963 [45:45<02:52,  2.78s/it]"
     ]
    },
    {
     "name": "stdout",
     "output_type": "stream",
     "text": [
      "AP: 0.9401 - AUC-ROC: 0.9468 - AUC-PR: 0.9401 - P@50: 0.8600 > C0035220: neonatal respiratory distress syndrome\n"
     ]
    },
    {
     "name": "stderr",
     "output_type": "stream",
     "text": [
      "\r",
      "Evaluating test data for each side-effect:  94%|██████████████████████████████████▋  | 902/963 [45:48<02:59,  2.94s/it]"
     ]
    },
    {
     "name": "stdout",
     "output_type": "stream",
     "text": [
      "AP: 0.9494 - AUC-ROC: 0.9614 - AUC-PR: 0.9494 - P@50: 0.9800 > C0518988: dental abscess\n"
     ]
    },
    {
     "name": "stderr",
     "output_type": "stream",
     "text": [
      "\r",
      "Evaluating test data for each side-effect:  94%|██████████████████████████████████▋  | 903/963 [45:51<02:49,  2.82s/it]"
     ]
    },
    {
     "name": "stdout",
     "output_type": "stream",
     "text": [
      "AP: 0.9451 - AUC-ROC: 0.9631 - AUC-PR: 0.9451 - P@50: 0.9800 > C0037998: Splenic infarction\n"
     ]
    },
    {
     "name": "stderr",
     "output_type": "stream",
     "text": [
      "\r",
      "Evaluating test data for each side-effect:  94%|██████████████████████████████████▋  | 904/963 [45:54<02:51,  2.91s/it]"
     ]
    },
    {
     "name": "stdout",
     "output_type": "stream",
     "text": [
      "AP: 0.9535 - AUC-ROC: 0.9546 - AUC-PR: 0.9535 - P@50: 0.9800 > C0040590: tracheostomy\n"
     ]
    },
    {
     "name": "stderr",
     "output_type": "stream",
     "text": [
      "\r",
      "Evaluating test data for each side-effect:  94%|██████████████████████████████████▊  | 905/963 [45:57<02:42,  2.81s/it]"
     ]
    },
    {
     "name": "stdout",
     "output_type": "stream",
     "text": [
      "AP: 0.9220 - AUC-ROC: 0.9577 - AUC-PR: 0.9220 - P@50: 0.9400 > C0006107: brain concussion\n"
     ]
    },
    {
     "name": "stderr",
     "output_type": "stream",
     "text": [
      "\r",
      "Evaluating test data for each side-effect:  94%|██████████████████████████████████▊  | 906/963 [46:00<02:41,  2.84s/it]"
     ]
    },
    {
     "name": "stdout",
     "output_type": "stream",
     "text": [
      "AP: 0.9657 - AUC-ROC: 0.9743 - AUC-PR: 0.9657 - P@50: 0.9800 > C0036202: sarcoidosis\n"
     ]
    },
    {
     "name": "stderr",
     "output_type": "stream",
     "text": [
      "\r",
      "Evaluating test data for each side-effect:  94%|██████████████████████████████████▊  | 907/963 [46:02<02:33,  2.74s/it]"
     ]
    },
    {
     "name": "stdout",
     "output_type": "stream",
     "text": [
      "AP: 0.9520 - AUC-ROC: 0.9759 - AUC-PR: 0.9520 - P@50: 0.9800 > C0235660: galactorrhea\n"
     ]
    },
    {
     "name": "stderr",
     "output_type": "stream",
     "text": [
      "\r",
      "Evaluating test data for each side-effect:  94%|██████████████████████████████████▉  | 908/963 [46:05<02:33,  2.80s/it]"
     ]
    },
    {
     "name": "stdout",
     "output_type": "stream",
     "text": [
      "AP: 0.9110 - AUC-ROC: 0.9430 - AUC-PR: 0.9110 - P@50: 0.9200 > C0031039: pericardial effusion\n"
     ]
    },
    {
     "name": "stderr",
     "output_type": "stream",
     "text": [
      "\r",
      "Evaluating test data for each side-effect:  94%|██████████████████████████████████▉  | 909/963 [46:08<02:36,  2.89s/it]"
     ]
    },
    {
     "name": "stdout",
     "output_type": "stream",
     "text": [
      "AP: 0.9003 - AUC-ROC: 0.9379 - AUC-PR: 0.9003 - P@50: 0.9600 > C0011334: dental caries\n"
     ]
    },
    {
     "name": "stderr",
     "output_type": "stream",
     "text": [
      "\r",
      "Evaluating test data for each side-effect:  94%|██████████████████████████████████▉  | 910/963 [46:11<02:32,  2.88s/it]"
     ]
    },
    {
     "name": "stdout",
     "output_type": "stream",
     "text": [
      "AP: 0.9567 - AUC-ROC: 0.9707 - AUC-PR: 0.9567 - P@50: 0.9600 > C0007860: cervicitis\n"
     ]
    },
    {
     "name": "stderr",
     "output_type": "stream",
     "text": [
      "\r",
      "Evaluating test data for each side-effect:  95%|███████████████████████████████████  | 911/963 [46:14<02:30,  2.90s/it]"
     ]
    },
    {
     "name": "stdout",
     "output_type": "stream",
     "text": [
      "AP: 0.9091 - AUC-ROC: 0.9446 - AUC-PR: 0.9091 - P@50: 0.9000 > C1260880: rhinorrhea\n"
     ]
    },
    {
     "name": "stderr",
     "output_type": "stream",
     "text": [
      "\r",
      "Evaluating test data for each side-effect:  95%|███████████████████████████████████  | 912/963 [46:17<02:28,  2.91s/it]"
     ]
    },
    {
     "name": "stdout",
     "output_type": "stream",
     "text": [
      "AP: 0.9484 - AUC-ROC: 0.9758 - AUC-PR: 0.9484 - P@50: 0.9600 > C0007462: causalgia\n"
     ]
    },
    {
     "name": "stderr",
     "output_type": "stream",
     "text": [
      "\r",
      "Evaluating test data for each side-effect:  95%|███████████████████████████████████  | 913/963 [46:19<02:21,  2.82s/it]"
     ]
    },
    {
     "name": "stdout",
     "output_type": "stream",
     "text": [
      "AP: 0.9071 - AUC-ROC: 0.9466 - AUC-PR: 0.9071 - P@50: 0.9200 > C0005747: Blepharospasm\n"
     ]
    },
    {
     "name": "stderr",
     "output_type": "stream",
     "text": [
      "\r",
      "Evaluating test data for each side-effect:  95%|███████████████████████████████████  | 914/963 [46:22<02:18,  2.83s/it]"
     ]
    },
    {
     "name": "stdout",
     "output_type": "stream",
     "text": [
      "AP: 0.9465 - AUC-ROC: 0.9579 - AUC-PR: 0.9465 - P@50: 0.9800 > C0699791: Gastric Cancer\n"
     ]
    },
    {
     "name": "stderr",
     "output_type": "stream",
     "text": [
      "\r",
      "Evaluating test data for each side-effect:  95%|███████████████████████████████████▏ | 915/963 [46:25<02:11,  2.74s/it]"
     ]
    },
    {
     "name": "stdout",
     "output_type": "stream",
     "text": [
      "AP: 0.9068 - AUC-ROC: 0.9417 - AUC-PR: 0.9068 - P@50: 0.9400 > C0011630: Cutaneous mycosis\n"
     ]
    },
    {
     "name": "stderr",
     "output_type": "stream",
     "text": [
      "\r",
      "Evaluating test data for each side-effect:  95%|███████████████████████████████████▏ | 916/963 [46:28<02:17,  2.92s/it]"
     ]
    },
    {
     "name": "stdout",
     "output_type": "stream",
     "text": [
      "AP: 0.9116 - AUC-ROC: 0.9538 - AUC-PR: 0.9116 - P@50: 0.9200 > C0036830: serum sickness\n"
     ]
    },
    {
     "name": "stderr",
     "output_type": "stream",
     "text": [
      "\r",
      "Evaluating test data for each side-effect:  95%|███████████████████████████████████▏ | 917/963 [46:31<02:10,  2.83s/it]"
     ]
    },
    {
     "name": "stdout",
     "output_type": "stream",
     "text": [
      "AP: 0.9189 - AUC-ROC: 0.9527 - AUC-PR: 0.9189 - P@50: 0.9200 > C0259768: wound dehiscence\n"
     ]
    },
    {
     "name": "stderr",
     "output_type": "stream",
     "text": [
      "\r",
      "Evaluating test data for each side-effect:  95%|███████████████████████████████████▎ | 918/963 [46:34<02:08,  2.85s/it]"
     ]
    },
    {
     "name": "stdout",
     "output_type": "stream",
     "text": [
      "AP: 0.9778 - AUC-ROC: 0.9815 - AUC-PR: 0.9778 - P@50: 1.0000 > C1510431: Superficial thrombophlebitis\n"
     ]
    },
    {
     "name": "stderr",
     "output_type": "stream",
     "text": [
      "\r",
      "Evaluating test data for each side-effect:  95%|███████████████████████████████████▎ | 919/963 [46:36<02:01,  2.76s/it]"
     ]
    },
    {
     "name": "stdout",
     "output_type": "stream",
     "text": [
      "AP: 0.9286 - AUC-ROC: 0.9534 - AUC-PR: 0.9286 - P@50: 0.9600 > C0024110: lung abscess\n"
     ]
    },
    {
     "name": "stderr",
     "output_type": "stream",
     "text": [
      "\r",
      "Evaluating test data for each side-effect:  96%|███████████████████████████████████▎ | 920/963 [46:39<02:00,  2.80s/it]"
     ]
    },
    {
     "name": "stdout",
     "output_type": "stream",
     "text": [
      "AP: 0.9246 - AUC-ROC: 0.9458 - AUC-PR: 0.9246 - P@50: 0.9600 > C0037199: Sinusitis\n"
     ]
    },
    {
     "name": "stderr",
     "output_type": "stream",
     "text": [
      "\r",
      "Evaluating test data for each side-effect:  96%|███████████████████████████████████▍ | 921/963 [46:42<01:56,  2.78s/it]"
     ]
    },
    {
     "name": "stdout",
     "output_type": "stream",
     "text": [
      "AP: 0.9343 - AUC-ROC: 0.9590 - AUC-PR: 0.9343 - P@50: 0.9800 > C0040460: dental pain\n"
     ]
    },
    {
     "name": "stderr",
     "output_type": "stream",
     "text": [
      "\r",
      "Evaluating test data for each side-effect:  96%|███████████████████████████████████▍ | 922/963 [46:45<01:55,  2.81s/it]"
     ]
    },
    {
     "name": "stdout",
     "output_type": "stream",
     "text": [
      "AP: 0.8613 - AUC-ROC: 0.9253 - AUC-PR: 0.8613 - P@50: 0.8800 > C0043117: idiopathic thrombocytopenic purpura\n"
     ]
    },
    {
     "name": "stderr",
     "output_type": "stream",
     "text": [
      "\r",
      "Evaluating test data for each side-effect:  96%|███████████████████████████████████▍ | 923/963 [46:48<01:54,  2.85s/it]"
     ]
    },
    {
     "name": "stdout",
     "output_type": "stream",
     "text": [
      "AP: 0.9447 - AUC-ROC: 0.9613 - AUC-PR: 0.9447 - P@50: 0.9400 > C0005586: bipolar disorder\n"
     ]
    },
    {
     "name": "stderr",
     "output_type": "stream",
     "text": [
      "\r",
      "Evaluating test data for each side-effect:  96%|███████████████████████████████████▌ | 924/963 [46:50<01:48,  2.78s/it]"
     ]
    },
    {
     "name": "stdout",
     "output_type": "stream",
     "text": [
      "AP: 0.9271 - AUC-ROC: 0.9570 - AUC-PR: 0.9271 - P@50: 0.9400 > C0085614: Atrioventricular block first degree\n"
     ]
    },
    {
     "name": "stderr",
     "output_type": "stream",
     "text": [
      "\r",
      "Evaluating test data for each side-effect:  96%|███████████████████████████████████▌ | 925/963 [46:53<01:49,  2.88s/it]"
     ]
    },
    {
     "name": "stdout",
     "output_type": "stream",
     "text": [
      "AP: 0.8910 - AUC-ROC: 0.9401 - AUC-PR: 0.8910 - P@50: 0.8600 > C0021400: flu\n"
     ]
    },
    {
     "name": "stderr",
     "output_type": "stream",
     "text": [
      "\r",
      "Evaluating test data for each side-effect:  96%|███████████████████████████████████▌ | 926/963 [46:57<01:49,  2.95s/it]"
     ]
    },
    {
     "name": "stdout",
     "output_type": "stream",
     "text": [
      "AP: 0.8931 - AUC-ROC: 0.9354 - AUC-PR: 0.8931 - P@50: 0.9000 > C0020437: Blood Calcium Increased\n"
     ]
    },
    {
     "name": "stderr",
     "output_type": "stream",
     "text": [
      "\r",
      "Evaluating test data for each side-effect:  96%|███████████████████████████████████▌ | 927/963 [46:59<01:44,  2.91s/it]"
     ]
    },
    {
     "name": "stdout",
     "output_type": "stream",
     "text": [
      "AP: 0.9005 - AUC-ROC: 0.9372 - AUC-PR: 0.9005 - P@50: 0.8800 > C0024115: Disorder Lung\n"
     ]
    },
    {
     "name": "stderr",
     "output_type": "stream",
     "text": [
      "\r",
      "Evaluating test data for each side-effect:  96%|███████████████████████████████████▋ | 928/963 [47:03<01:44,  2.97s/it]"
     ]
    },
    {
     "name": "stdout",
     "output_type": "stream",
     "text": [
      "AP: 0.9057 - AUC-ROC: 0.9434 - AUC-PR: 0.9057 - P@50: 0.8400 > C0038358: gastric ulcer\n"
     ]
    },
    {
     "name": "stderr",
     "output_type": "stream",
     "text": [
      "\r",
      "Evaluating test data for each side-effect:  96%|███████████████████████████████████▋ | 929/963 [47:06<01:42,  3.00s/it]"
     ]
    },
    {
     "name": "stdout",
     "output_type": "stream",
     "text": [
      "AP: 0.8975 - AUC-ROC: 0.9335 - AUC-PR: 0.8975 - P@50: 0.9400 > C0009319: colitis\n"
     ]
    },
    {
     "name": "stderr",
     "output_type": "stream",
     "text": [
      "\r",
      "Evaluating test data for each side-effect:  97%|███████████████████████████████████▋ | 930/963 [47:08<01:35,  2.91s/it]"
     ]
    },
    {
     "name": "stdout",
     "output_type": "stream",
     "text": [
      "AP: 0.8715 - AUC-ROC: 0.9259 - AUC-PR: 0.8715 - P@50: 0.8600 > C0011603: dermatitides\n"
     ]
    },
    {
     "name": "stderr",
     "output_type": "stream",
     "text": [
      "\r",
      "Evaluating test data for each side-effect:  97%|███████████████████████████████████▊ | 931/963 [47:11<01:33,  2.92s/it]"
     ]
    },
    {
     "name": "stdout",
     "output_type": "stream",
     "text": [
      "AP: 0.9555 - AUC-ROC: 0.9644 - AUC-PR: 0.9555 - P@50: 0.9800 > C0014866: esophageal stenosis\n"
     ]
    },
    {
     "name": "stderr",
     "output_type": "stream",
     "text": [
      "\r",
      "Evaluating test data for each side-effect:  97%|███████████████████████████████████▊ | 932/963 [47:15<01:36,  3.11s/it]"
     ]
    },
    {
     "name": "stdout",
     "output_type": "stream",
     "text": [
      "AP: 0.9672 - AUC-ROC: 0.9735 - AUC-PR: 0.9672 - P@50: 0.9800 > C0039520: Tenosynovitis\n"
     ]
    },
    {
     "name": "stderr",
     "output_type": "stream",
     "text": [
      "\r",
      "Evaluating test data for each side-effect:  97%|███████████████████████████████████▊ | 933/963 [47:18<01:31,  3.04s/it]"
     ]
    },
    {
     "name": "stdout",
     "output_type": "stream",
     "text": [
      "AP: 0.8797 - AUC-ROC: 0.9248 - AUC-PR: 0.8797 - P@50: 0.8800 > C0015967: body temperature increased\n"
     ]
    },
    {
     "name": "stderr",
     "output_type": "stream",
     "text": [
      "\r",
      "Evaluating test data for each side-effect:  97%|███████████████████████████████████▉ | 934/963 [47:21<01:31,  3.16s/it]"
     ]
    },
    {
     "name": "stdout",
     "output_type": "stream",
     "text": [
      "AP: 0.9173 - AUC-ROC: 0.9430 - AUC-PR: 0.9173 - P@50: 0.9600 > C0456909: blindness\n"
     ]
    },
    {
     "name": "stderr",
     "output_type": "stream",
     "text": [
      "\r",
      "Evaluating test data for each side-effect:  97%|███████████████████████████████████▉ | 935/963 [47:24<01:27,  3.13s/it]"
     ]
    },
    {
     "name": "stdout",
     "output_type": "stream",
     "text": [
      "AP: 0.9207 - AUC-ROC: 0.9403 - AUC-PR: 0.9207 - P@50: 0.9600 > C0836924: increased platelet count\n"
     ]
    },
    {
     "name": "stderr",
     "output_type": "stream",
     "text": [
      "\r",
      "Evaluating test data for each side-effect:  97%|███████████████████████████████████▉ | 936/963 [47:27<01:20,  2.98s/it]"
     ]
    },
    {
     "name": "stdout",
     "output_type": "stream",
     "text": [
      "AP: 0.9156 - AUC-ROC: 0.9401 - AUC-PR: 0.9156 - P@50: 0.9400 > C0022661: Chronic Kidney Disease\n"
     ]
    },
    {
     "name": "stderr",
     "output_type": "stream",
     "text": [
      "\r",
      "Evaluating test data for each side-effect:  97%|████████████████████████████████████ | 937/963 [47:30<01:17,  2.97s/it]"
     ]
    },
    {
     "name": "stdout",
     "output_type": "stream",
     "text": [
      "AP: 0.9273 - AUC-ROC: 0.9405 - AUC-PR: 0.9273 - P@50: 1.0000 > C0019193: hepatitis toxic\n"
     ]
    },
    {
     "name": "stderr",
     "output_type": "stream",
     "text": [
      "\r",
      "Evaluating test data for each side-effect:  97%|████████████████████████████████████ | 938/963 [47:33<01:14,  2.97s/it]"
     ]
    },
    {
     "name": "stdout",
     "output_type": "stream",
     "text": [
      "AP: 0.9294 - AUC-ROC: 0.9552 - AUC-PR: 0.9294 - P@50: 0.9400 > C0028754: obesity\n"
     ]
    },
    {
     "name": "stderr",
     "output_type": "stream",
     "text": [
      "\r",
      "Evaluating test data for each side-effect:  98%|████████████████████████████████████ | 939/963 [47:35<01:09,  2.90s/it]"
     ]
    },
    {
     "name": "stdout",
     "output_type": "stream",
     "text": [
      "AP: 0.9916 - AUC-ROC: 0.9927 - AUC-PR: 0.9916 - P@50: 0.9800 > C0009375: colon neoplasm\n"
     ]
    },
    {
     "name": "stderr",
     "output_type": "stream",
     "text": [
      "\r",
      "Evaluating test data for each side-effect:  98%|████████████████████████████████████ | 940/963 [47:38<01:07,  2.94s/it]"
     ]
    },
    {
     "name": "stdout",
     "output_type": "stream",
     "text": [
      "AP: 0.8983 - AUC-ROC: 0.9368 - AUC-PR: 0.8983 - P@50: 0.9200 > C0013295: duodenal ulcer\n"
     ]
    },
    {
     "name": "stderr",
     "output_type": "stream",
     "text": [
      "\r",
      "Evaluating test data for each side-effect:  98%|████████████████████████████████████▏| 941/963 [47:42<01:06,  3.02s/it]"
     ]
    },
    {
     "name": "stdout",
     "output_type": "stream",
     "text": [
      "AP: 0.9252 - AUC-ROC: 0.9531 - AUC-PR: 0.9252 - P@50: 0.9400 > C0036689: Pharyngitis Streptococcal\n"
     ]
    },
    {
     "name": "stderr",
     "output_type": "stream",
     "text": [
      "\r",
      "Evaluating test data for each side-effect:  98%|████████████████████████████████████▏| 942/963 [47:44<01:01,  2.93s/it]"
     ]
    },
    {
     "name": "stdout",
     "output_type": "stream",
     "text": [
      "AP: 0.9046 - AUC-ROC: 0.9351 - AUC-PR: 0.9046 - P@50: 0.9400 > C0020433: Bilirubinaemia\n"
     ]
    },
    {
     "name": "stderr",
     "output_type": "stream",
     "text": [
      "\r",
      "Evaluating test data for each side-effect:  98%|████████████████████████████████████▏| 943/963 [47:47<00:59,  2.98s/it]"
     ]
    },
    {
     "name": "stdout",
     "output_type": "stream",
     "text": [
      "AP: 0.8847 - AUC-ROC: 0.9272 - AUC-PR: 0.8847 - P@50: 0.9600 > C0027497: nausea\n"
     ]
    },
    {
     "name": "stderr",
     "output_type": "stream",
     "text": [
      "\r",
      "Evaluating test data for each side-effect:  98%|████████████████████████████████████▎| 944/963 [47:52<01:03,  3.34s/it]"
     ]
    },
    {
     "name": "stdout",
     "output_type": "stream",
     "text": [
      "AP: 0.9589 - AUC-ROC: 0.9676 - AUC-PR: 0.9589 - P@50: 0.9600 > C0014009: empyema\n"
     ]
    },
    {
     "name": "stderr",
     "output_type": "stream",
     "text": [
      "\r",
      "Evaluating test data for each side-effect:  98%|████████████████████████████████████▎| 945/963 [47:55<01:02,  3.48s/it]"
     ]
    },
    {
     "name": "stdout",
     "output_type": "stream",
     "text": [
      "AP: 0.9385 - AUC-ROC: 0.9653 - AUC-PR: 0.9385 - P@50: 0.9400 > C0152029: nasal sinus congestion\n"
     ]
    },
    {
     "name": "stderr",
     "output_type": "stream",
     "text": [
      "\r",
      "Evaluating test data for each side-effect:  98%|████████████████████████████████████▎| 946/963 [47:59<01:00,  3.54s/it]"
     ]
    },
    {
     "name": "stdout",
     "output_type": "stream",
     "text": [
      "AP: 0.9016 - AUC-ROC: 0.9468 - AUC-PR: 0.9016 - P@50: 0.9000 > C0085606: micturition urgency\n"
     ]
    },
    {
     "name": "stderr",
     "output_type": "stream",
     "text": [
      "\r",
      "Evaluating test data for each side-effect:  98%|████████████████████████████████████▍| 947/963 [48:03<00:55,  3.50s/it]"
     ]
    },
    {
     "name": "stdout",
     "output_type": "stream",
     "text": [
      "AP: 0.9477 - AUC-ROC: 0.9602 - AUC-PR: 0.9477 - P@50: 0.9800 > C0003869: Arthritis infective\n"
     ]
    },
    {
     "name": "stderr",
     "output_type": "stream",
     "text": [
      "\r",
      "Evaluating test data for each side-effect:  98%|████████████████████████████████████▍| 948/963 [48:05<00:49,  3.28s/it]"
     ]
    },
    {
     "name": "stdout",
     "output_type": "stream",
     "text": [
      "AP: 0.9201 - AUC-ROC: 0.9488 - AUC-PR: 0.9201 - P@50: 0.9600 > C0011124: Decreased Libido\n"
     ]
    },
    {
     "name": "stderr",
     "output_type": "stream",
     "text": [
      "\r",
      "Evaluating test data for each side-effect:  99%|████████████████████████████████████▍| 949/963 [48:08<00:45,  3.23s/it]"
     ]
    },
    {
     "name": "stdout",
     "output_type": "stream",
     "text": [
      "AP: 0.9023 - AUC-ROC: 0.9337 - AUC-PR: 0.9023 - P@50: 0.9400 > C0006112: metabolic encephalopathy\n"
     ]
    },
    {
     "name": "stderr",
     "output_type": "stream",
     "text": [
      "\r",
      "Evaluating test data for each side-effect:  99%|████████████████████████████████████▌| 950/963 [48:12<00:42,  3.29s/it]"
     ]
    },
    {
     "name": "stdout",
     "output_type": "stream",
     "text": [
      "AP: 0.9168 - AUC-ROC: 0.9399 - AUC-PR: 0.9168 - P@50: 0.9800 > C0242528: azotaemia\n"
     ]
    },
    {
     "name": "stderr",
     "output_type": "stream",
     "text": [
      "\r",
      "Evaluating test data for each side-effect:  99%|████████████████████████████████████▌| 951/963 [48:16<00:42,  3.55s/it]"
     ]
    },
    {
     "name": "stdout",
     "output_type": "stream",
     "text": [
      "AP: 0.9622 - AUC-ROC: 0.9705 - AUC-PR: 0.9622 - P@50: 0.9600 > C0085681: hyperphosphatemia\n"
     ]
    },
    {
     "name": "stderr",
     "output_type": "stream",
     "text": [
      "\r",
      "Evaluating test data for each side-effect:  99%|████████████████████████████████████▌| 952/963 [48:20<00:39,  3.56s/it]"
     ]
    },
    {
     "name": "stdout",
     "output_type": "stream",
     "text": [
      "AP: 0.9030 - AUC-ROC: 0.9344 - AUC-PR: 0.9030 - P@50: 0.9200 > C0242184: hypoxia\n"
     ]
    },
    {
     "name": "stderr",
     "output_type": "stream",
     "text": [
      "\r",
      "Evaluating test data for each side-effect:  99%|████████████████████████████████████▌| 953/963 [48:23<00:36,  3.61s/it]"
     ]
    },
    {
     "name": "stdout",
     "output_type": "stream",
     "text": [
      "AP: 0.8982 - AUC-ROC: 0.9332 - AUC-PR: 0.8982 - P@50: 0.9600 > C0344232: blurred vision\n"
     ]
    },
    {
     "name": "stderr",
     "output_type": "stream",
     "text": [
      "\r",
      "Evaluating test data for each side-effect:  99%|████████████████████████████████████▋| 954/963 [48:27<00:32,  3.59s/it]"
     ]
    },
    {
     "name": "stdout",
     "output_type": "stream",
     "text": [
      "AP: 0.9282 - AUC-ROC: 0.9405 - AUC-PR: 0.9282 - P@50: 0.9400 > C0085662: macrocytosis\n"
     ]
    },
    {
     "name": "stderr",
     "output_type": "stream",
     "text": [
      "\r",
      "Evaluating test data for each side-effect:  99%|████████████████████████████████████▋| 955/963 [48:30<00:28,  3.52s/it]"
     ]
    },
    {
     "name": "stdout",
     "output_type": "stream",
     "text": [
      "AP: 0.9340 - AUC-ROC: 0.9578 - AUC-PR: 0.9340 - P@50: 0.9400 > C0016169: fistula\n"
     ]
    },
    {
     "name": "stderr",
     "output_type": "stream",
     "text": [
      "\r",
      "Evaluating test data for each side-effect:  99%|████████████████████████████████████▋| 956/963 [48:34<00:24,  3.49s/it]"
     ]
    },
    {
     "name": "stdout",
     "output_type": "stream",
     "text": [
      "AP: 0.9649 - AUC-ROC: 0.9775 - AUC-PR: 0.9649 - P@50: 0.9600 > C0003044: animal bite\n"
     ]
    },
    {
     "name": "stderr",
     "output_type": "stream",
     "text": [
      "\r",
      "Evaluating test data for each side-effect:  99%|████████████████████████████████████▊| 957/963 [48:37<00:20,  3.48s/it]"
     ]
    },
    {
     "name": "stdout",
     "output_type": "stream",
     "text": [
      "AP: 0.9427 - AUC-ROC: 0.9628 - AUC-PR: 0.9427 - P@50: 0.9400 > C1269683: major depression\n"
     ]
    },
    {
     "name": "stderr",
     "output_type": "stream",
     "text": [
      "\r",
      "Evaluating test data for each side-effect:  99%|████████████████████████████████████▊| 958/963 [48:40<00:16,  3.30s/it]"
     ]
    },
    {
     "name": "stdout",
     "output_type": "stream",
     "text": [
      "AP: 0.9289 - AUC-ROC: 0.9541 - AUC-PR: 0.9289 - P@50: 0.9600 > C0085096: Disorder Peripheral Vascular\n"
     ]
    },
    {
     "name": "stderr",
     "output_type": "stream",
     "text": [
      "\r",
      "Evaluating test data for each side-effect: 100%|████████████████████████████████████▊| 959/963 [48:43<00:12,  3.19s/it]"
     ]
    },
    {
     "name": "stdout",
     "output_type": "stream",
     "text": [
      "AP: 0.9394 - AUC-ROC: 0.9548 - AUC-PR: 0.9394 - P@50: 0.9600 > C0271650: Glucose intolerance\n"
     ]
    },
    {
     "name": "stderr",
     "output_type": "stream",
     "text": [
      "\r",
      "Evaluating test data for each side-effect: 100%|████████████████████████████████████▉| 960/963 [48:46<00:09,  3.10s/it]"
     ]
    },
    {
     "name": "stdout",
     "output_type": "stream",
     "text": [
      "AP: 0.9124 - AUC-ROC: 0.9420 - AUC-PR: 0.9124 - P@50: 0.9200 > C0522055: abnormal ECG\n"
     ]
    },
    {
     "name": "stderr",
     "output_type": "stream",
     "text": [
      "\r",
      "Evaluating test data for each side-effect: 100%|████████████████████████████████████▉| 961/963 [48:49<00:06,  3.05s/it]"
     ]
    },
    {
     "name": "stdout",
     "output_type": "stream",
     "text": [
      "AP: 0.9274 - AUC-ROC: 0.9540 - AUC-PR: 0.9274 - P@50: 0.9200 > C0001948: alcohol consumption\n"
     ]
    },
    {
     "name": "stderr",
     "output_type": "stream",
     "text": [
      "\r",
      "Evaluating test data for each side-effect: 100%|████████████████████████████████████▉| 962/963 [48:52<00:03,  3.08s/it]"
     ]
    },
    {
     "name": "stdout",
     "output_type": "stream",
     "text": [
      "AP: 0.8890 - AUC-ROC: 0.9300 - AUC-PR: 0.8890 - P@50: 0.8600 > C0020625: blood sodium decreased\n"
     ]
    },
    {
     "name": "stderr",
     "output_type": "stream",
     "text": [
      "Evaluating test data for each side-effect: 100%|█████████████████████████████████████| 963/963 [48:55<00:00,  3.05s/it]"
     ]
    },
    {
     "name": "stdout",
     "output_type": "stream",
     "text": [
      "================================================================================\n",
      "[AVERAGE] AP: 0.9218 - AUC-ROC: 0.9493 - AUC-PR: 0.9218 - P@50: 0.9304\n",
      "================================================================================\n"
     ]
    },
    {
     "name": "stderr",
     "output_type": "stream",
     "text": [
      "\n"
     ]
    }
   ],
   "source": [
    " # Compute the predictive scores of the model\n",
    "    metrics_per_se = {se_idx: {\"ap\": .0, \"auc-roc\": .0, \"auc-pr\": .0, \"p@50\": .0} for se_idx in pse_indices}\n",
    "\n",
    "    se_ap_list = []\n",
    "    se_auc_roc_list = []\n",
    "    se_auc_pr_list = []\n",
    "    se_p50_list = []\n",
    "    print(\"================================================================================\")\n",
    "    for se in tqdm(pse_indices, desc=\"Evaluating test data for each side-effect\"):\n",
    "        se_name = dataset.get_rel_labels([se])[0]\n",
    "        se_all_facts_set = se_facts_full_dict[se]\n",
    "        se_test_facts_pos = np.array([[s, p, o] for s, p, o in test_data if p == se])\n",
    "        se_test_facts_pos_size = len(se_test_facts_pos)\n",
    "\n",
    "        se_test_facts_neg = np.array([[d1, se, d2] for d1, d2 in drug_combinations\n",
    "                                      if (d1, se, d2) not in se_all_facts_set\n",
    "                                      and (d2, se, d1) not in se_all_facts_set])\n",
    "\n",
    "        # shuffle and keep negatives with size equal to positive instances so positive to negative ratio is 1:1\n",
    "        np.random.shuffle(se_test_facts_neg)\n",
    "        se_test_facts_neg = se_test_facts_neg[:se_test_facts_pos_size, :]\n",
    "\n",
    "        set_test_facts_all = np.concatenate([se_test_facts_pos, se_test_facts_neg])\n",
    "        se_test_facts_labels = np.concatenate([np.ones([len(se_test_facts_pos)]), np.zeros([len(se_test_facts_neg)])])\n",
    "        se_test_facts_scores = model.predict(set_test_facts_all)\n",
    "\n",
    "        se_ap = average_precision(se_test_facts_labels, se_test_facts_scores)\n",
    "        se_p50 = precision_at_k(se_test_facts_labels, se_test_facts_scores, k=50)\n",
    "        se_auc_pr = auc_pr(se_test_facts_labels, se_test_facts_scores)\n",
    "        se_auc_roc = auc_roc(se_test_facts_labels, se_test_facts_scores)\n",
    "\n",
    "        se_ap_list.append(se_ap)\n",
    "        se_auc_roc_list.append(se_auc_roc)\n",
    "        se_auc_pr_list.append(se_auc_pr)\n",
    "        se_p50_list.append(se_p50)\n",
    "\n",
    "        se_code = se_name.replace(\"SE:\", \"\")\n",
    "        metrics_per_se[se] = {\"ap\": se_ap, \"auc-roc\": se_auc_roc, \"auc-pr\": se_auc_pr, \"p@50\": se_p50}\n",
    "        print(\"AP: %1.4f - AUC-ROC: %1.4f - AUC-PR: %1.4f - P@50: %1.4f > %s: %s\" %\n",
    "              (se_ap, se_auc_roc, se_auc_pr, se_p50, se_code, se_mapping[se_code]), flush=True)\n",
    "\n",
    "    se_ap_list_avg = np.average(se_ap_list)\n",
    "    se_auc_roc_list_avg = np.average(se_auc_roc_list)\n",
    "    se_auc_pr_list_avg = np.average(se_auc_pr_list)\n",
    "    se_p50_list_avg = np.average(se_p50_list)\n",
    "\n",
    "    print(\"================================================================================\")\n",
    "    print(\"[AVERAGE] AP: %1.4f - AUC-ROC: %1.4f - AUC-PR: %1.4f - P@50: %1.4f\" %\n",
    "          (se_ap_list_avg, se_auc_roc_list_avg, se_auc_pr_list_avg, se_p50_list_avg), flush=True)\n",
    "    print(\"================================================================================\")"
   ]
  },
  {
   "cell_type": "code",
   "execution_count": 117,
   "id": "f3aba190",
   "metadata": {},
   "outputs": [],
   "source": [
    "facts = np.array([[d1,d2] for d1, se, d2 in bench_idx_data])\n",
    "pre_list = []\n",
    "drug_comb = drug_combinations[:10, :]\n",
    "for d1, d2 in drug_comb:\n",
    "    if [d1, d2] not in facts:\n",
    "        new_set = np.array([[d1, r, d2] for r in range(0,964)\n",
    "                            ])\n",
    "        if len(new_set) != 0:\n",
    "                inde = np.argmax(model.predict(new_set))\n",
    "                pre_list.append(new_set[inde])\n",
    "pre_list = np.array([pre_list])"
   ]
  },
  {
   "cell_type": "code",
   "execution_count": 232,
   "id": "a8d76f1e",
   "metadata": {},
   "outputs": [],
   "source": [
    "def aurc_score(data, model, pseindices): \n",
    "    metrics_per_se = {se_idx: {\"auc-roc\": .0} for se_idx in pseindices}\n",
    "\n",
    "    se_auc_roc_list = []\n",
    "\n",
    "    print(\"================================================================================\")\n",
    "    for se in tqdm(pseindices, desc=\"Evaluating test data for each side-effect\"):\n",
    "        se_name = dataset.get_rel_labels([se])[0]\n",
    "        se_all_facts_set = se_facts_full_dict[se]\n",
    "        se_test_facts_pos = np.array([[s, p, o] for s, p, o in data if p == se])\n",
    "        se_test_facts_pos_size = len(se_test_facts_pos)\n",
    "\n",
    "        se_test_facts_neg = np.array([[d1, se, d2] for d1, d2 in drug_combinations\n",
    "                                      if (d1, se, d2) not in se_all_facts_set\n",
    "                                      and (d2, se, d1) not in se_all_facts_set])\n",
    "\n",
    "        # shuffle and keep negatives with size equal to positive instances so positive to negative ratio is 1:1\n",
    "        np.random.shuffle(se_test_facts_neg)\n",
    "        se_test_facts_neg = se_test_facts_neg[:se_test_facts_pos_size, :]\n",
    "\n",
    "        set_test_facts_all = np.concatenate([se_test_facts_pos, se_test_facts_neg])\n",
    "        se_test_facts_labels = np.concatenate([np.ones([len(se_test_facts_pos)]), np.zeros([len(se_test_facts_neg)])])\n",
    "        se_test_facts_scores = model.predict(set_test_facts_all)\n",
    "\n",
    "        se_ap = average_precision(se_test_facts_labels, se_test_facts_scores)\n",
    "        se_auc_pr = auc_pr(se_test_facts_labels, se_test_facts_scores)\n",
    "        se_auc_roc = auc_roc(se_test_facts_labels, se_test_facts_scores)\n",
    "\n",
    "        se_auc_roc_list.append(se_auc_roc)\n",
    "        \n",
    "        se_code = se_name.replace(\"SE:\", \"\")\n",
    "        metrics_per_se[se] = {\"auc-roc\": se_auc_roc}\n",
    "        print(\"AUC-ROC: %1.4f > %s: %s\" %\n",
    "              (se_auc_roc, se_code, se_mapping[se_code]), flush=True)\n",
    "\n",
    "    se_auc_roc_list_avg = np.average(se_auc_roc_list)\n",
    "    return se_auc_roc_list_avg\n"
   ]
  },
  {
   "cell_type": "code",
   "execution_count": 205,
   "id": "3beda4d8",
   "metadata": {},
   "outputs": [
    {
     "name": "stdout",
     "output_type": "stream",
     "text": [
      "[[  4   0  85]\n",
      " [  9   0  46]\n",
      " [159   0  19]\n",
      " ...\n",
      " [ 49 962  19]\n",
      " [ 95 962  47]\n",
      " [ 44 962 241]]\n"
     ]
    }
   ],
   "source": [
    "length = len(valid_data)\n",
    "n = int(length/5)\n",
    "\n",
    "valid_data1 = valid_data[0:n-1]\n",
    "valid_data2 = valid_data[n:2*n-1]\n",
    "valid_data3 = valid_data[2*n:3*n-1]\n",
    "valid_data4 = valid_data[3*n:4*n-1]\n",
    "valid_data5 = valid_data[4*n:]\n",
    "print(valid_data)"
   ]
  },
  {
   "cell_type": "code",
   "execution_count": 206,
   "id": "c7a9a0af",
   "metadata": {},
   "outputs": [],
   "source": [
    "    benchmark_valid_fd = gzip.open(os.path.join(kg_dp_path, \"ploypharmacy_facts_valid.txt.gz\"), \"rt\")\n",
    "    benchmark_valid = np.array([l.strip().split() for l in benchmark_valid_fd.readlines()])\n",
    "    benchmark_valid1 = benchmark_valid[0:n-1]\n",
    "    benchmark_valid2 = benchmark_valid[n:2*n-1]\n",
    "    benchmark_valid3 = benchmark_valid[2*n:3*n-1]\n",
    "    benchmark_valid4 = benchmark_valid[3*n:4*n-1]\n",
    "    benchmark_valid5 = benchmark_valid[4*n:]\n",
    "    benchmark_triples1 = np.array([[d1, se, d2] for d1, se, d2 in benchmark_valid1])\n",
    "    pse_list1 = set(list(benchmark_triples1[:, 1]))\n",
    "    pse_indices1 = dataset.get_rel_indices(list(pse_list1))\n",
    "    benchmark_triples2 = np.array([[d1, se, d2] for d1, se, d2 in benchmark_valid2])\n",
    "    pse_list2 = set(list(benchmark_triples2[:, 1]))\n",
    "    pse_indices2 = dataset.get_rel_indices(list(pse_list2))\n",
    "    benchmark_triples3 = np.array([[d1, se, d2] for d1, se, d2 in benchmark_valid3])\n",
    "    pse_list3 = set(list(benchmark_triples3[:, 1]))\n",
    "    pse_indices3 = dataset.get_rel_indices(list(pse_list3))\n",
    "    benchmark_triples4 = np.array([[d1, se, d2] for d1, se, d2 in benchmark_valid4])\n",
    "    pse_list4 = set(list(benchmark_triples4[:, 1]))\n",
    "    pse_indices4 = dataset.get_rel_indices(list(pse_list4))\n",
    "    benchmark_triples5 = np.array([[d1, se, d2] for d1, se, d2 in benchmark_valid5])\n",
    "    pse_list5 = set(list(benchmark_triples5[:, 1]))\n",
    "    pse_indices5 = dataset.get_rel_indices(list(pse_list5))\n",
    "    "
   ]
  },
  {
   "cell_type": "code",
   "execution_count": 136,
   "id": "54589b22",
   "metadata": {},
   "outputs": [
    {
     "name": "stdout",
     "output_type": "stream",
     "text": [
      "TriModel(batch_size=5000, log_interval=10, nb_ents=645, nb_epochs=40, nb_negs=6,\n",
      "         nb_rels=963, optimiser='AMSgrad', verbose=2)\n"
     ]
    }
   ],
   "source": [
    "model_valid = TriModel(seed=seed, verbose=2)\n",
    "pipe_model = Pipeline([('kge_model', model_valid)])\n",
    "model_params = {\n",
    "        'kge_model__em_size': 100,\n",
    "        'kge_model__lr': 0.01,\n",
    "        'kge_model__optimiser': \"AMSgrad\",\n",
    "        'kge_model__log_interval': 10,\n",
    "        'kge_model__nb_epochs': 40,\n",
    "        'kge_model__nb_negs': 6,\n",
    "        'kge_model__batch_size': 5000,\n",
    "        'kge_model__initialiser': 'xavier_uniform',\n",
    "        'kge_model__nb_ents': nb_entities,\n",
    "        'kge_model__nb_rels': nb_relations\n",
    "    }\n",
    "\n",
    "pipe_model.set_params(**model_params)\n",
    "print(model_valid)"
   ]
  },
  {
   "cell_type": "code",
   "execution_count": null,
   "id": "fd651c24",
   "metadata": {},
   "outputs": [],
   "source": [
    "# Run the 5-fold cross validation evaluation on the validation set\n",
    "print(\"Training ... \")\n",
    "pipe_model.fit(X=np.concatenate([valid_data1, valid_data[2*n:]]), y=None)\n",
    "aurc_score1 = aurc_score(valid_data1, model_valid, pse_indices1)\n",
    "pipe_model.fit(X=np.concatenate([valid_data[0:2*n-1], valid_data[3*n:]]), y=None)\n",
    "aurc_score2 = aurc_score(valid_data2, model_valid, pse_indices2)\n",
    "pipe_model.fit(X=np.concatenate([valid_data[0:3*n-1], valid_data[4*n:]]), y=None)\n",
    "aurc_score3 = aurc_score(valid_data3, model_valid, pse_indices3)\n",
    "pipe_model.fit(X=valid_data[0:4*n-1], y=None)\n",
    "aurc_score4 = aurc_score(valid_data4, model_valid, pse_indices4)\n",
    "pipe_model.fit(X=valid_data[n:], y=None)\n",
    "aurc_score5 = aurc_score(valid_data5, model_valid, pse_indices5)\n",
    "print(\"================================================================================\")\n",
    "print(\"[ALL] AUC-ROC1: %1.4f - AUC-ROC2: %1.4f - AUC-ROC3: %1.4f - AUC-ROC4: %1.4f - AUC-ROC5: %1.4f\" %\n",
    "      (aurc_score1, aurc_score2, aurc_score3), aurc_score4, aurc_score5, flush=True)\n",
    "print(\"================================================================================\")"
   ]
  },
  {
   "cell_type": "code",
   "execution_count": 245,
   "id": "f35b1da0",
   "metadata": {},
   "outputs": [
    {
     "name": "stdout",
     "output_type": "stream",
     "text": [
      "=====================5-fold-cross-validation-evaluation=========================\n",
      "[ALL] AUC-ROC1: 0.9895 - AUC-ROC2: 0.9893 - AUC-ROC3: 0.9894 - AUC-ROC4: 0.9893 - AUC-ROC5: 0.9884\n",
      "================================================================================\n"
     ]
    }
   ],
   "source": [
    "aurc_score5 = se_auc_roc_list_avg\n",
    "print(\"=====================5-fold-cross-validation-evaluation=========================\")\n",
    "print(\"[ALL] AUC-ROC1: %1.4f - AUC-ROC2: %1.4f - AUC-ROC3: %1.4f - AUC-ROC4: %1.4f - AUC-ROC5: %1.4f\" %\n",
    "      (aurc_score1, aurc_score2, aurc_score3, aurc_score4, aurc_score5), flush=True)\n",
    "print(\"================================================================================\")"
   ]
  }
 ],
 "metadata": {
  "kernelspec": {
   "display_name": "Python 3",
   "language": "python",
   "name": "python3"
  },
  "language_info": {
   "codemirror_mode": {
    "name": "ipython",
    "version": 3
   },
   "file_extension": ".py",
   "mimetype": "text/x-python",
   "name": "python",
   "nbconvert_exporter": "python",
   "pygments_lexer": "ipython3",
   "version": "3.8.11"
  }
 },
 "nbformat": 4,
 "nbformat_minor": 5
}
