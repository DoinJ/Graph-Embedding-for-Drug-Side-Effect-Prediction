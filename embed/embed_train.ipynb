{
 "cells": [
  {
   "cell_type": "code",
   "execution_count": 1,
   "id": "2709e261",
   "metadata": {},
   "outputs": [
    {
     "name": "stderr",
     "output_type": "stream",
     "text": [
      "H:\\anaconda\\envs\\tensorflow_gpu\\lib\\site-packages\\gensim\\similarities\\__init__.py:15: UserWarning: The gensim.similarities.levenshtein submodule is disabled, because the optional Levenshtein package <https://pypi.org/project/python-Levenshtein/> is unavailable. Install Levenhstein (e.g. `pip install python-Levenshtein`) to suppress this warning.\n",
      "  warnings.warn(msg)\n"
     ]
    },
    {
     "name": "stdout",
     "output_type": "stream",
     "text": [
      "importing Jupyter notebook from node2vec.ipynb\n",
      "importing Jupyter notebook from walker.ipynb\n",
      "importing Jupyter notebook from utils.ipynb\n",
      "importing Jupyter notebook from graph.ipynb\n"
     ]
    }
   ],
   "source": [
    "import ast\n",
    "import logging\n",
    "import os\n",
    "\n",
    "from gensim.models import Word2Vec\n",
    "from gensim.models.word2vec import LineSentence\n",
    "import Ipynb_importer\n",
    "from node2vec import *\n",
    "\n",
    "from utils import *\n",
    "\n"
   ]
  },
  {
   "cell_type": "code",
   "execution_count": 2,
   "id": "baf411b8",
   "metadata": {},
   "outputs": [],
   "source": [
    "def embedding_training(args, train_graph_filename):\n",
    "    if args.method == 'node2vec':\n",
    "        g = read_for_OpenNE(train_graph_filename, weighted=args.weighted)\n",
    "    else:\n",
    "        g = read_for_OpenNE(train_graph_filename, weighted=args.weighted)\n",
    "    \n",
    "    _embedding_training(args, G_=g)\n",
    "\n",
    "    return\n",
    "\n",
    "\n",
    "def _embedding_training(args, G_=None):\n",
    "    seed=args.seed\n",
    "\n",
    "    if args.method == 'node2vec':\n",
    "        model = Node2vec(graph=G_, path_length=args.walk_length,\n",
    "                                num_paths=args.number_walks, dim=args.dimensions,\n",
    "                                workers=args.workers, p=args.p, q=args.q, window=args.window_size)\n",
    "    elif args.method == 'DeepWalk':\n",
    "        model = Node2vec(graph=G_, path_length=args.walk_length,\n",
    "                                num_paths=args.number_walks, dim=args.dimensions,\n",
    "                                workers=args.workers, window=args.window_size, dw=True)\n",
    "    else:\n",
    "        raise ValueError(f'Invalid method: {args.method}')\n",
    "\n",
    "    print(\"Saving embeddings...\")\n",
    "    model.save_embeddings(args.output)\n",
    "\n",
    "    return"
   ]
  }
 ],
 "metadata": {
  "kernelspec": {
   "display_name": "Python 3",
   "language": "python",
   "name": "python3"
  },
  "language_info": {
   "codemirror_mode": {
    "name": "ipython",
    "version": 3
   },
   "file_extension": ".py",
   "mimetype": "text/x-python",
   "name": "python",
   "nbconvert_exporter": "python",
   "pygments_lexer": "ipython3",
   "version": "3.8.11"
  }
 },
 "nbformat": 4,
 "nbformat_minor": 5
}
