{
 "cells": [
  {
   "cell_type": "code",
   "execution_count": 2,
   "id": "d7a3e26c",
   "metadata": {},
   "outputs": [
    {
     "name": "stderr",
     "output_type": "stream",
     "text": [
      "H:\\anaconda\\envs\\tensorflow_gpu\\lib\\site-packages\\gensim\\similarities\\__init__.py:15: UserWarning: The gensim.similarities.levenshtein submodule is disabled, because the optional Levenshtein package <https://pypi.org/project/python-Levenshtein/> is unavailable. Install Levenhstein (e.g. `pip install python-Levenshtein`) to suppress this warning.\n",
      "  warnings.warn(msg)\n"
     ]
    },
    {
     "name": "stdout",
     "output_type": "stream",
     "text": [
      "importing Jupyter notebook from walker.ipynb\n"
     ]
    }
   ],
   "source": [
    "from gensim.models import Word2Vec\n",
    "import Ipynb_importer\n",
    "from walker import *\n"
   ]
  },
  {
   "cell_type": "code",
   "execution_count": 1,
   "id": "dbab61cc",
   "metadata": {},
   "outputs": [],
   "source": [
    "class Node2vec(object):\n",
    "    def __init__(self, graph, path_length, num_paths, dim, p=1.0, q=1.0, dw=False, **kwargs):\n",
    "\n",
    "        kwargs[\"workers\"] = kwargs.get(\"workers\", 1)\n",
    "        if dw:\n",
    "            kwargs[\"hs\"] = 1\n",
    "            p = 1.0\n",
    "            q = 1.0\n",
    "\n",
    "        self.graph = graph\n",
    "        if dw:\n",
    "            self.walker = BasicWalker(graph, workers=kwargs[\"workers\"])\n",
    "        else:\n",
    "            self.walker = Walker(\n",
    "                graph, p=p, q=q, workers=kwargs[\"workers\"])\n",
    "            print(\"Preprocess transition probs...\")\n",
    "            self.walker.preprocess_transition_probs()\n",
    "        sentences = self.walker.simulate_walks(\n",
    "            num_walks=num_paths, walk_length=path_length)\n",
    "        kwargs[\"sentences\"] = sentences\n",
    "        kwargs[\"min_count\"] = kwargs.get(\"min_count\", 0)\n",
    "        kwargs[\"vector_size\"] = kwargs.get(\"size\", dim)\n",
    "        kwargs[\"sg\"] = 1\n",
    "\n",
    "        self.size = kwargs[\"vector_size\"]\n",
    "        print(\"Learning representation...\")\n",
    "        word2vec = Word2Vec(**kwargs)\n",
    "        self.vectors = {}\n",
    "        for word in graph.G.nodes():\n",
    "            self.vectors[word] = word2vec.wv[word]\n",
    "        del word2vec\n",
    "\n",
    "    def save_embeddings(self, filename):\n",
    "        fout = open(filename, 'w')\n",
    "        node_num = len(self.vectors.keys())\n",
    "        fout.write(\"{} {}\\n\".format(node_num, self.size))\n",
    "        for node, vec in self.vectors.items():\n",
    "            fout.write(\"{} {}\\n\".format(node,\n",
    "                                        ' '.join([str(x) for x in vec])))\n",
    "        fout.close()"
   ]
  }
 ],
 "metadata": {
  "kernelspec": {
   "display_name": "Python 3",
   "language": "python",
   "name": "python3"
  },
  "language_info": {
   "codemirror_mode": {
    "name": "ipython",
    "version": 3
   },
   "file_extension": ".py",
   "mimetype": "text/x-python",
   "name": "python",
   "nbconvert_exporter": "python",
   "pygments_lexer": "ipython3",
   "version": "3.8.11"
  }
 },
 "nbformat": 4,
 "nbformat_minor": 5
}
